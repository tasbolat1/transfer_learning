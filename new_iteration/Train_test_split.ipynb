{
 "cells": [
  {
   "cell_type": "markdown",
   "metadata": {},
   "source": [
    "# Split data into train and test sets"
   ]
  },
  {
   "cell_type": "markdown",
   "metadata": {},
   "source": [
    "Total data: 20*50 = 1000\n",
    "    \n",
    "Test data: 20*10 = 200\n",
    "\n",
    "Train (include validation) data: 20*40 = 800\n",
    "\n",
    "Validation: 20*10 = 200"
   ]
  },
  {
   "cell_type": "markdown",
   "metadata": {},
   "source": [
    "## Step 1\n",
    "Get test set"
   ]
  },
  {
   "cell_type": "code",
   "execution_count": 97,
   "metadata": {},
   "outputs": [
    {
     "data": {
      "text/plain": [
       "<torch._C.Generator at 0x7f4e23d81650>"
      ]
     },
     "execution_count": 97,
     "metadata": {},
     "output_type": "execute_result"
    }
   ],
   "source": [
    "import torch\n",
    "import numpy as np\n",
    "from sklearn.model_selection import train_test_split\n",
    "from torch.utils.data import Dataset\n",
    "\n",
    "np.random.seed(1)\n",
    "torch.manual_seed(1)"
   ]
  },
  {
   "cell_type": "code",
   "execution_count": 98,
   "metadata": {},
   "outputs": [],
   "source": [
    "data_save_dir = '../../new_data_folder/'"
   ]
  },
  {
   "cell_type": "code",
   "execution_count": 99,
   "metadata": {},
   "outputs": [],
   "source": [
    "# read data\n",
    "X_icub = torch.load('../../BioTac_Icub_data/ICUB_all.pt').numpy()\n",
    "X_bio = torch.load('../../BioTac_Icub_data/Bio_all.pt').permute(0,2,1).numpy()\n",
    "Y = np.load('../../BioTac_Icub_data/ICUB_all_labels.npy')\n",
    "indices = np.arange(X_icub.shape[0])"
   ]
  },
  {
   "cell_type": "code",
   "execution_count": 100,
   "metadata": {},
   "outputs": [
    {
     "data": {
      "text/plain": [
       "((1000, 6, 10, 75), (1000, 19, 400))"
      ]
     },
     "execution_count": 100,
     "metadata": {},
     "output_type": "execute_result"
    }
   ],
   "source": [
    "X_icub.shape, X_bio.shape"
   ]
  },
  {
   "cell_type": "code",
   "execution_count": 101,
   "metadata": {},
   "outputs": [],
   "source": [
    "X_train_icub, X_test_icub, y_train, y_test, ind_train, ind_test = train_test_split(X_icub, Y, indices, test_size=0.20, random_state=42, stratify=Y)"
   ]
  },
  {
   "cell_type": "code",
   "execution_count": 102,
   "metadata": {},
   "outputs": [],
   "source": [
    "X_train_bio = X_bio[ind_train]\n",
    "X_test_bio = X_bio[ind_test]"
   ]
  },
  {
   "cell_type": "code",
   "execution_count": 103,
   "metadata": {},
   "outputs": [
    {
     "data": {
      "text/plain": [
       "((800, 19, 400), (200, 19, 400), (800, 6, 10, 75), (200, 6, 10, 75))"
      ]
     },
     "execution_count": 103,
     "metadata": {},
     "output_type": "execute_result"
    }
   ],
   "source": [
    "X_train_bio.shape, X_test_bio.shape, X_train_icub.shape, X_test_icub.shape"
   ]
  },
  {
   "cell_type": "code",
   "execution_count": 104,
   "metadata": {},
   "outputs": [],
   "source": [
    "# save these datas\n",
    "np.save(data_save_dir + 'icub_trainAll', X_train_icub)\n",
    "np.save(data_save_dir + 'icub_test', X_test_icub)\n",
    "\n",
    "np.save(data_save_dir + 'bio_trainAll', X_train_bio)\n",
    "np.save(data_save_dir + 'bio_test', X_test_bio)\n",
    "\n",
    "np.save(data_save_dir + 'labels_trainAll', y_train)\n",
    "np.save(data_save_dir + 'labels_test', y_test)"
   ]
  },
  {
   "cell_type": "markdown",
   "metadata": {},
   "source": [
    "## Step 2 \n",
    "\n",
    "4-fold division for validation set"
   ]
  },
  {
   "cell_type": "code",
   "execution_count": 105,
   "metadata": {},
   "outputs": [],
   "source": [
    "from sklearn.model_selection import StratifiedKFold"
   ]
  },
  {
   "cell_type": "code",
   "execution_count": 106,
   "metadata": {},
   "outputs": [],
   "source": [
    "skf = StratifiedKFold(n_splits=4, random_state=42, shuffle=True)"
   ]
  },
  {
   "cell_type": "code",
   "execution_count": 107,
   "metadata": {},
   "outputs": [],
   "source": [
    "count = 0\n",
    "for train_index, test_index in skf.split(X_train_bio, y_train):\n",
    "    # save biotac\n",
    "    train_ = X_train_bio[train_index]\n",
    "    val_ = X_train_bio[test_index]\n",
    "    np.save(data_save_dir + 'bio_train_' + str(count), train_)\n",
    "    np.save(data_save_dir + 'bio_val_' + str(count), val_)\n",
    "    \n",
    "    # save icub\n",
    "    train_ = X_train_icub[train_index]\n",
    "    val_ = X_train_icub[test_index]\n",
    "    np.save(data_save_dir + 'icub_train_' + str(count), train_)\n",
    "    np.save(data_save_dir + 'icub_val_' + str(count), val_)\n",
    "    \n",
    "    # save labels\n",
    "    np.save(data_save_dir + 'labels_train_' + str(count), y_train[train_index])\n",
    "    np.save(data_save_dir + 'labels_val_' + str(count), y_train[test_index])\n",
    "    \n",
    "    count+=1"
   ]
  },
  {
   "cell_type": "markdown",
   "metadata": {},
   "source": [
    "## Step 3\n",
    "\n",
    "prepare utils function"
   ]
  },
  {
   "cell_type": "code",
   "execution_count": 70,
   "metadata": {},
   "outputs": [],
   "source": [
    "# create utilis here\n",
    "data_save_dir = '../../new_data_folder/'\n",
    "\n",
    "def get_ohe(_Y, num_class = 20):\n",
    "\n",
    "    target_class = np.zeros([_Y.shape[0], num_class])\n",
    "\n",
    "    for i in range(target_class.shape[0]):\n",
    "\n",
    "        target_class[i, int(_Y[i])] = 1\n",
    "\n",
    "    return target_class\n",
    "\n",
    "def get_trainValData(path, k=0, spike_ready=True):\n",
    "    num_class = 20\n",
    "    # read data\n",
    "    X_train_icub = torch.FloatTensor(np.load(data_save_dir + 'icub_train_' + str(k) + '.npy'))\n",
    "    X_val_icub = torch.FloatTensor(np.load(data_save_dir + 'icub_val_' + str(k) + '.npy'))\n",
    "    X_train_bio = torch.FloatTensor(np.load(data_save_dir + 'bio_train_' + str(k) + '.npy'))\n",
    "    X_val_bio = torch.FloatTensor(np.load(data_save_dir + 'bio_val_' + str(k) + '.npy'))\n",
    "    y_train = torch.FloatTensor(np.load(data_save_dir + 'labels_train_' + str(k) + '.npy'))\n",
    "    y_val = torch.FloatTensor(np.load(data_save_dir + 'labels_val_' + str(k) + '.npy'))\n",
    "    \n",
    "    if spike_ready == False:\n",
    "        return X_train_icub, X_val_icub, X_train_bio, X_val_bio, y_train, y_val\n",
    "        \n",
    "    target_class_train = torch.FloatTensor(get_ohe(y_train).reshape(-1, num_class, 1, 1, 1))\n",
    "    target_class_val = torch.FloatTensor(get_ohe(y_val).reshape(-1, num_class, 1, 1, 1))\n",
    "    \n",
    "    X_train_icub = X_train_icub.reshape(X_train_icub.shape[0], 60, 1, 1, X_train_icub.shape[-1])\n",
    "    X_val_icub = X_val_icub.reshape(X_val_icub.shape[0], 60, 1, 1, X_val_icub.shape[-1])\n",
    "    \n",
    "    X_train_bio = X_train_bio.reshape(X_train_bio.shape[0], X_train_bio.shape[1], 1, 1, X_train_bio.shape[-1])\n",
    "    X_val_bio = X_val_bio.reshape(X_val_bio.shape[0], X_val_bio.shape[1], 1, 1, X_val_bio.shape[-1])\n",
    "        \n",
    "    return X_train_icub, X_val_icub,  X_train_bio, X_val_bio, target_class_train, target_class_val, y_train, y_val"
   ]
  },
  {
   "cell_type": "code",
   "execution_count": 71,
   "metadata": {},
   "outputs": [],
   "source": [
    "def get_testData(path, spike_ready=True):\n",
    "    num_class = 20\n",
    "    X_test_icub = torch.FloatTensor(np.load(path + 'icub_test_' + str(count) + '.npy'))\n",
    "    X_test_bio = torch.FloatTensor(np.load(path + 'bio_test_' + str(count) + '.npy'))\n",
    "    y_test = torch.FloatTensor(np.load(data_save_dir + 'labels_test_' + str(k) + '.npy'))\n",
    "    if spike_ready == False:\n",
    "        return X_test_icub, X_test_bio, y_test\n",
    "    \n",
    "    X_test_icub = X_test_icub.reshape(X_test_icub.shape[0], 60, 1, 1, X_test_icub.shape[-1])\n",
    "    X_test_bio = X_test_bio.reshape(X_test_bio.shape[0], X_test_bio.shape[1], 1, 1, X_test_bio.shape[-1])\n",
    "    target_class_test = torch.FloatTensor(get_ohe(y_test).reshape(-1, num_class, 1, 1, 1))\n",
    "    \n",
    "    return X_test_icub, X_test_bio, target_class_test, y_test"
   ]
  },
  {
   "cell_type": "code",
   "execution_count": 73,
   "metadata": {},
   "outputs": [],
   "source": [
    "def get_trainValLoader(path, k=0):\n",
    "    X_train_icub, X_val_icub,  X_train_bio, X_val_bio, target_class_train, target_class_val, y_train, y_val = get_trainValData(path, k)\n",
    "    \n",
    "    train_dataset = torch.utils.data.TensorDataset(X_train_icub, X_train_bio, target_class_train, y_train)\n",
    "    train_loader = torch.utils.data.DataLoader(train_dataset,shuffle=True,batch_size=8)\n",
    "    \n",
    "    val_dataset = torch.utils.data.TensorDataset(X_val_icub, X_val_bio, target_class_train, y_val)\n",
    "    val_loader = torch.utils.data.DataLoader(val_dataset,shuffle=True,batch_size=8)\n",
    "\n",
    "    X_test_icub, X_test_bio, target_class_test, y_test = get_testData(path, k)\n",
    "    \n",
    "    test_dataset = torch.utils.data.TensorDataset(X_test_icub, X_test_bio, target_class_test, y_test)\n",
    "    test_loader = torch.utils.data.DataLoader(test_dataset,shuffle=True,batch_size=8)\n",
    "    \n",
    "    return train_loader, val_loader, train_dataset, val_dataset\n",
    "\n",
    "def get_testLoader(path):\n",
    "\n",
    "    X_test_icub, X_test_bio, target_class_test, y_test = get_testData(path)\n",
    "    \n",
    "    test_dataset = torch.utils.data.TensorDataset(X_test_icub, X_test_bio, target_class_test, y_test)\n",
    "    test_loader = torch.utils.data.DataLoader(test_dataset,shuffle=True,batch_size=8)\n",
    "   \n",
    "    return test_loader, test_dataset"
   ]
  }
 ],
 "metadata": {
  "kernelspec": {
   "display_name": "Python 3",
   "language": "python",
   "name": "python3"
  },
  "language_info": {
   "codemirror_mode": {
    "name": "ipython",
    "version": 3
   },
   "file_extension": ".py",
   "mimetype": "text/x-python",
   "name": "python",
   "nbconvert_exporter": "python",
   "pygments_lexer": "ipython3",
   "version": "3.7.6"
  }
 },
 "nbformat": 4,
 "nbformat_minor": 2
}
