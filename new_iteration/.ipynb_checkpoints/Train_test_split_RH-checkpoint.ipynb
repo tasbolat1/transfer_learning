{
 "cells": [
  {
   "cell_type": "markdown",
   "metadata": {},
   "source": [
    "# Split data into train and test sets"
   ]
  },
  {
   "cell_type": "markdown",
   "metadata": {},
   "source": [
    "Total data: 20*50 = 1000\n",
    "    \n",
    "Test data: 20*10 = 200\n",
    "\n",
    "Train (include validation) data: 20*40 = 800\n",
    "\n",
    "Validation: 20*10 = 200"
   ]
  },
  {
   "cell_type": "markdown",
   "metadata": {},
   "source": [
    "## Step 1\n",
    "Get test set"
   ]
  },
  {
   "cell_type": "code",
   "execution_count": 1,
   "metadata": {},
   "outputs": [
    {
     "data": {
      "text/plain": [
       "<torch._C.Generator at 0x7f314c02c130>"
      ]
     },
     "execution_count": 1,
     "metadata": {},
     "output_type": "execute_result"
    }
   ],
   "source": [
    "import torch\n",
    "import numpy as np\n",
    "from sklearn.model_selection import train_test_split\n",
    "from torch.utils.data import Dataset\n",
    "\n",
    "np.random.seed(1)\n",
    "torch.manual_seed(1)"
   ]
  },
  {
   "cell_type": "code",
   "execution_count": 2,
   "metadata": {},
   "outputs": [],
   "source": [
    "all_data_dir = '../../data_folder_ruihan/'\n",
    "data_save_dir = '../../data_folder_split/'"
   ]
  },
  {
   "cell_type": "code",
   "execution_count": 3,
   "metadata": {},
   "outputs": [
    {
     "ename": "FileNotFoundError",
     "evalue": "[Errno 2] No such file or directory: '../../data_folder_ruihan//Bio_all.pt'",
     "output_type": "error",
     "traceback": [
      "\u001b[0;31m---------------------------------------------------------------------------\u001b[0m",
      "\u001b[0;31mFileNotFoundError\u001b[0m                         Traceback (most recent call last)",
      "\u001b[0;32m<ipython-input-3-6979e6efdbf5>\u001b[0m in \u001b[0;36m<module>\u001b[0;34m\u001b[0m\n\u001b[1;32m      1\u001b[0m \u001b[0;31m# read data\u001b[0m\u001b[0;34m\u001b[0m\u001b[0;34m\u001b[0m\u001b[0;34m\u001b[0m\u001b[0m\n\u001b[1;32m      2\u001b[0m \u001b[0mX_icub\u001b[0m \u001b[0;34m=\u001b[0m \u001b[0mtorch\u001b[0m\u001b[0;34m.\u001b[0m\u001b[0mload\u001b[0m\u001b[0;34m(\u001b[0m\u001b[0mall_data_dir\u001b[0m\u001b[0;34m+\u001b[0m\u001b[0;34m'ICUB_all.pt'\u001b[0m\u001b[0;34m)\u001b[0m\u001b[0;34m.\u001b[0m\u001b[0mnumpy\u001b[0m\u001b[0;34m(\u001b[0m\u001b[0;34m)\u001b[0m\u001b[0;34m\u001b[0m\u001b[0;34m\u001b[0m\u001b[0m\n\u001b[0;32m----> 3\u001b[0;31m \u001b[0mX_bio\u001b[0m \u001b[0;34m=\u001b[0m \u001b[0mtorch\u001b[0m\u001b[0;34m.\u001b[0m\u001b[0mload\u001b[0m\u001b[0;34m(\u001b[0m\u001b[0mall_data_dir\u001b[0m\u001b[0;34m+\u001b[0m\u001b[0;34m'/Bio_all.pt'\u001b[0m\u001b[0;34m)\u001b[0m\u001b[0;34m.\u001b[0m\u001b[0mnumpy\u001b[0m\u001b[0;34m(\u001b[0m\u001b[0;34m)\u001b[0m\u001b[0;34m\u001b[0m\u001b[0;34m\u001b[0m\u001b[0m\n\u001b[0m\u001b[1;32m      4\u001b[0m \u001b[0mY\u001b[0m \u001b[0;34m=\u001b[0m \u001b[0mnp\u001b[0m\u001b[0;34m.\u001b[0m\u001b[0mload\u001b[0m\u001b[0;34m(\u001b[0m\u001b[0mall_data_dir\u001b[0m\u001b[0;34m+\u001b[0m\u001b[0;34m'all_labels.npy'\u001b[0m\u001b[0;34m)\u001b[0m\u001b[0;34m\u001b[0m\u001b[0;34m\u001b[0m\u001b[0m\n\u001b[1;32m      5\u001b[0m \u001b[0mindices\u001b[0m \u001b[0;34m=\u001b[0m \u001b[0mnp\u001b[0m\u001b[0;34m.\u001b[0m\u001b[0marange\u001b[0m\u001b[0;34m(\u001b[0m\u001b[0mX_icub\u001b[0m\u001b[0;34m.\u001b[0m\u001b[0mshape\u001b[0m\u001b[0;34m[\u001b[0m\u001b[0;36m0\u001b[0m\u001b[0;34m]\u001b[0m\u001b[0;34m)\u001b[0m\u001b[0;34m\u001b[0m\u001b[0;34m\u001b[0m\u001b[0m\n",
      "\u001b[0;32m~/anaconda3/lib/python3.7/site-packages/torch/serialization.py\u001b[0m in \u001b[0;36mload\u001b[0;34m(f, map_location, pickle_module, **pickle_load_args)\u001b[0m\n\u001b[1;32m    523\u001b[0m         \u001b[0mpickle_load_args\u001b[0m\u001b[0;34m[\u001b[0m\u001b[0;34m'encoding'\u001b[0m\u001b[0;34m]\u001b[0m \u001b[0;34m=\u001b[0m \u001b[0;34m'utf-8'\u001b[0m\u001b[0;34m\u001b[0m\u001b[0;34m\u001b[0m\u001b[0m\n\u001b[1;32m    524\u001b[0m \u001b[0;34m\u001b[0m\u001b[0m\n\u001b[0;32m--> 525\u001b[0;31m     \u001b[0;32mwith\u001b[0m \u001b[0m_open_file_like\u001b[0m\u001b[0;34m(\u001b[0m\u001b[0mf\u001b[0m\u001b[0;34m,\u001b[0m \u001b[0;34m'rb'\u001b[0m\u001b[0;34m)\u001b[0m \u001b[0;32mas\u001b[0m \u001b[0mopened_file\u001b[0m\u001b[0;34m:\u001b[0m\u001b[0;34m\u001b[0m\u001b[0;34m\u001b[0m\u001b[0m\n\u001b[0m\u001b[1;32m    526\u001b[0m         \u001b[0;32mif\u001b[0m \u001b[0m_is_zipfile\u001b[0m\u001b[0;34m(\u001b[0m\u001b[0mopened_file\u001b[0m\u001b[0;34m)\u001b[0m\u001b[0;34m:\u001b[0m\u001b[0;34m\u001b[0m\u001b[0;34m\u001b[0m\u001b[0m\n\u001b[1;32m    527\u001b[0m             \u001b[0;32mwith\u001b[0m \u001b[0m_open_zipfile_reader\u001b[0m\u001b[0;34m(\u001b[0m\u001b[0mf\u001b[0m\u001b[0;34m)\u001b[0m \u001b[0;32mas\u001b[0m \u001b[0mopened_zipfile\u001b[0m\u001b[0;34m:\u001b[0m\u001b[0;34m\u001b[0m\u001b[0;34m\u001b[0m\u001b[0m\n",
      "\u001b[0;32m~/anaconda3/lib/python3.7/site-packages/torch/serialization.py\u001b[0m in \u001b[0;36m_open_file_like\u001b[0;34m(name_or_buffer, mode)\u001b[0m\n\u001b[1;32m    210\u001b[0m \u001b[0;32mdef\u001b[0m \u001b[0m_open_file_like\u001b[0m\u001b[0;34m(\u001b[0m\u001b[0mname_or_buffer\u001b[0m\u001b[0;34m,\u001b[0m \u001b[0mmode\u001b[0m\u001b[0;34m)\u001b[0m\u001b[0;34m:\u001b[0m\u001b[0;34m\u001b[0m\u001b[0;34m\u001b[0m\u001b[0m\n\u001b[1;32m    211\u001b[0m     \u001b[0;32mif\u001b[0m \u001b[0m_is_path\u001b[0m\u001b[0;34m(\u001b[0m\u001b[0mname_or_buffer\u001b[0m\u001b[0;34m)\u001b[0m\u001b[0;34m:\u001b[0m\u001b[0;34m\u001b[0m\u001b[0;34m\u001b[0m\u001b[0m\n\u001b[0;32m--> 212\u001b[0;31m         \u001b[0;32mreturn\u001b[0m \u001b[0m_open_file\u001b[0m\u001b[0;34m(\u001b[0m\u001b[0mname_or_buffer\u001b[0m\u001b[0;34m,\u001b[0m \u001b[0mmode\u001b[0m\u001b[0;34m)\u001b[0m\u001b[0;34m\u001b[0m\u001b[0;34m\u001b[0m\u001b[0m\n\u001b[0m\u001b[1;32m    213\u001b[0m     \u001b[0;32melse\u001b[0m\u001b[0;34m:\u001b[0m\u001b[0;34m\u001b[0m\u001b[0;34m\u001b[0m\u001b[0m\n\u001b[1;32m    214\u001b[0m         \u001b[0;32mif\u001b[0m \u001b[0;34m'w'\u001b[0m \u001b[0;32min\u001b[0m \u001b[0mmode\u001b[0m\u001b[0;34m:\u001b[0m\u001b[0;34m\u001b[0m\u001b[0;34m\u001b[0m\u001b[0m\n",
      "\u001b[0;32m~/anaconda3/lib/python3.7/site-packages/torch/serialization.py\u001b[0m in \u001b[0;36m__init__\u001b[0;34m(self, name, mode)\u001b[0m\n\u001b[1;32m    191\u001b[0m \u001b[0;32mclass\u001b[0m \u001b[0m_open_file\u001b[0m\u001b[0;34m(\u001b[0m\u001b[0m_opener\u001b[0m\u001b[0;34m)\u001b[0m\u001b[0;34m:\u001b[0m\u001b[0;34m\u001b[0m\u001b[0;34m\u001b[0m\u001b[0m\n\u001b[1;32m    192\u001b[0m     \u001b[0;32mdef\u001b[0m \u001b[0m__init__\u001b[0m\u001b[0;34m(\u001b[0m\u001b[0mself\u001b[0m\u001b[0;34m,\u001b[0m \u001b[0mname\u001b[0m\u001b[0;34m,\u001b[0m \u001b[0mmode\u001b[0m\u001b[0;34m)\u001b[0m\u001b[0;34m:\u001b[0m\u001b[0;34m\u001b[0m\u001b[0;34m\u001b[0m\u001b[0m\n\u001b[0;32m--> 193\u001b[0;31m         \u001b[0msuper\u001b[0m\u001b[0;34m(\u001b[0m\u001b[0m_open_file\u001b[0m\u001b[0;34m,\u001b[0m \u001b[0mself\u001b[0m\u001b[0;34m)\u001b[0m\u001b[0;34m.\u001b[0m\u001b[0m__init__\u001b[0m\u001b[0;34m(\u001b[0m\u001b[0mopen\u001b[0m\u001b[0;34m(\u001b[0m\u001b[0mname\u001b[0m\u001b[0;34m,\u001b[0m \u001b[0mmode\u001b[0m\u001b[0;34m)\u001b[0m\u001b[0;34m)\u001b[0m\u001b[0;34m\u001b[0m\u001b[0;34m\u001b[0m\u001b[0m\n\u001b[0m\u001b[1;32m    194\u001b[0m \u001b[0;34m\u001b[0m\u001b[0m\n\u001b[1;32m    195\u001b[0m     \u001b[0;32mdef\u001b[0m \u001b[0m__exit__\u001b[0m\u001b[0;34m(\u001b[0m\u001b[0mself\u001b[0m\u001b[0;34m,\u001b[0m \u001b[0;34m*\u001b[0m\u001b[0margs\u001b[0m\u001b[0;34m)\u001b[0m\u001b[0;34m:\u001b[0m\u001b[0;34m\u001b[0m\u001b[0;34m\u001b[0m\u001b[0m\n",
      "\u001b[0;31mFileNotFoundError\u001b[0m: [Errno 2] No such file or directory: '../../data_folder_ruihan//Bio_all.pt'"
     ]
    }
   ],
   "source": [
    "# read data\n",
    "X_icub = torch.load(all_data_dir+'ICUB_all.pt').numpy()\n",
    "X_bio = torch.load(all_data_dir+'Bio_all.pt').numpy()\n",
    "Y = np.load(all_data_dir+'all_labels.npy')\n",
    "indices = np.arange(X_icub.shape[0])"
   ]
  },
  {
   "cell_type": "code",
   "execution_count": null,
   "metadata": {},
   "outputs": [],
   "source": [
    "X_icub.shape, X_bio.shape"
   ]
  },
  {
   "cell_type": "code",
   "execution_count": null,
   "metadata": {},
   "outputs": [],
   "source": [
    "X_train_icub, X_test_icub, y_train, y_test, ind_train, ind_test = train_test_split(X_icub, Y, indices, test_size=0.20, random_state=42, stratify=Y)"
   ]
  },
  {
   "cell_type": "code",
   "execution_count": null,
   "metadata": {},
   "outputs": [],
   "source": [
    "X_train_bio = X_bio[ind_train]\n",
    "X_test_bio = X_bio[ind_test]"
   ]
  },
  {
   "cell_type": "code",
   "execution_count": null,
   "metadata": {},
   "outputs": [],
   "source": [
    "X_train_bio.shape, X_test_bio.shape, X_train_icub.shape, X_test_icub.shape"
   ]
  },
  {
   "cell_type": "code",
   "execution_count": null,
   "metadata": {},
   "outputs": [],
   "source": [
    "# save these datas\n",
    "np.save(data_save_dir + 'icub_trainAll', X_train_icub)\n",
    "np.save(data_save_dir + 'icub_test', X_test_icub)\n",
    "\n",
    "np.save(data_save_dir + 'bio_trainAll', X_train_bio)\n",
    "np.save(data_save_dir + 'bio_test', X_test_bio)\n",
    "\n",
    "np.save(data_save_dir + 'labels_trainAll', y_train)\n",
    "np.save(data_save_dir + 'labels_test', y_test)"
   ]
  },
  {
   "cell_type": "markdown",
   "metadata": {},
   "source": [
    "## Step 2 \n",
    "\n",
    "4-fold division for validation set"
   ]
  },
  {
   "cell_type": "code",
   "execution_count": null,
   "metadata": {},
   "outputs": [],
   "source": [
    "from sklearn.model_selection import StratifiedKFold"
   ]
  },
  {
   "cell_type": "code",
   "execution_count": null,
   "metadata": {},
   "outputs": [],
   "source": [
    "skf = StratifiedKFold(n_splits=4, random_state=42, shuffle=True)"
   ]
  },
  {
   "cell_type": "code",
   "execution_count": null,
   "metadata": {},
   "outputs": [],
   "source": [
    "count = 0\n",
    "for train_index, test_index in skf.split(X_train_bio, y_train):\n",
    "    # save biotac\n",
    "    train_ = X_train_bio[train_index]\n",
    "    val_ = X_train_bio[test_index]\n",
    "    np.save(data_save_dir + 'bio_train_' + str(count), train_)\n",
    "    np.save(data_save_dir + 'bio_val_' + str(count), val_)\n",
    "    \n",
    "    # save icub\n",
    "    train_ = X_train_icub[train_index]\n",
    "    val_ = X_train_icub[test_index]\n",
    "    np.save(data_save_dir + 'icub_train_' + str(count), train_)\n",
    "    np.save(data_save_dir + 'icub_val_' + str(count), val_)\n",
    "    \n",
    "    # save labels\n",
    "    np.save(data_save_dir + 'labels_train_' + str(count), y_train[train_index])\n",
    "    np.save(data_save_dir + 'labels_val_' + str(count), y_train[test_index])\n",
    "    \n",
    "    count+=1"
   ]
  },
  {
   "cell_type": "markdown",
   "metadata": {},
   "source": [
    "## Step 3\n",
    "\n",
    "prepare utils function"
   ]
  },
  {
   "cell_type": "code",
   "execution_count": null,
   "metadata": {},
   "outputs": [],
   "source": [
    "# create utilis here\n",
    "data_save_dir = '../../data_folder_split/'\n",
    "\n",
    "def get_ohe(_Y, num_class = 20):\n",
    "\n",
    "    target_class = np.zeros([_Y.shape[0], num_class])\n",
    "\n",
    "    for i in range(target_class.shape[0]):\n",
    "\n",
    "        target_class[i, int(_Y[i])] = 1\n",
    "\n",
    "    return target_class\n",
    "\n",
    "def get_trainValData(path, k=0, spike_ready=True):\n",
    "    num_class = 20\n",
    "    # read data\n",
    "    X_train_icub = torch.FloatTensor(np.load(data_save_dir + 'icub_train_' + str(k) + '.npy'))\n",
    "    X_val_icub = torch.FloatTensor(np.load(data_save_dir + 'icub_val_' + str(k) + '.npy'))\n",
    "    X_train_bio = torch.FloatTensor(np.load(data_save_dir + 'bio_train_' + str(k) + '.npy'))\n",
    "    X_val_bio = torch.FloatTensor(np.load(data_save_dir + 'bio_val_' + str(k) + '.npy'))\n",
    "    y_train = torch.FloatTensor(np.load(data_save_dir + 'labels_train_' + str(k) + '.npy'))\n",
    "    y_val = torch.FloatTensor(np.load(data_save_dir + 'labels_val_' + str(k) + '.npy'))\n",
    "    \n",
    "    if spike_ready == False:\n",
    "        return X_train_icub, X_val_icub, X_train_bio, X_val_bio, y_train, y_val\n",
    "        \n",
    "    target_class_train = torch.FloatTensor(get_ohe(y_train).reshape(-1, num_class, 1, 1, 1))\n",
    "    target_class_val = torch.FloatTensor(get_ohe(y_val).reshape(-1, num_class, 1, 1, 1))\n",
    "    \n",
    "    X_train_icub = X_train_icub.reshape(X_train_icub.shape[0], 60, 1, 1, X_train_icub.shape[-1])\n",
    "    X_val_icub = X_val_icub.reshape(X_val_icub.shape[0], 60, 1, 1, X_val_icub.shape[-1])\n",
    "    \n",
    "    X_train_bio = X_train_bio.reshape(X_train_bio.shape[0], X_train_bio.shape[1], 1, 1, X_train_bio.shape[-1])\n",
    "    X_val_bio = X_val_bio.reshape(X_val_bio.shape[0], X_val_bio.shape[1], 1, 1, X_val_bio.shape[-1])\n",
    "        \n",
    "    return X_train_icub, X_val_icub,  X_train_bio, X_val_bio, target_class_train, target_class_val, y_train, y_val"
   ]
  },
  {
   "cell_type": "code",
   "execution_count": null,
   "metadata": {},
   "outputs": [],
   "source": [
    "def get_testData(path, spike_ready=True):\n",
    "    num_class = 20\n",
    "    X_test_icub = torch.FloatTensor(np.load(path + 'icub_test_' + str(count) + '.npy'))\n",
    "    X_test_bio = torch.FloatTensor(np.load(path + 'bio_test_' + str(count) + '.npy'))\n",
    "    y_test = torch.FloatTensor(np.load(data_save_dir + 'labels_test_' + str(k) + '.npy'))\n",
    "    if spike_ready == False:\n",
    "        return X_test_icub, X_test_bio, y_test\n",
    "    \n",
    "    X_test_icub = X_test_icub.reshape(X_test_icub.shape[0], 60, 1, 1, X_test_icub.shape[-1])\n",
    "    X_test_bio = X_test_bio.reshape(X_test_bio.shape[0], X_test_bio.shape[1], 1, 1, X_test_bio.shape[-1])\n",
    "    target_class_test = torch.FloatTensor(get_ohe(y_test).reshape(-1, num_class, 1, 1, 1))\n",
    "    \n",
    "    return X_test_icub, X_test_bio, target_class_test, y_test"
   ]
  },
  {
   "cell_type": "code",
   "execution_count": null,
   "metadata": {},
   "outputs": [],
   "source": [
    "def get_trainValLoader(path, k=0):\n",
    "    X_train_icub, X_val_icub,  X_train_bio, X_val_bio, target_class_train, target_class_val, y_train, y_val = get_trainValData(path, k)\n",
    "    \n",
    "    train_dataset = torch.utils.data.TensorDataset(X_train_icub, X_train_bio, target_class_train, y_train)\n",
    "    train_loader = torch.utils.data.DataLoader(train_dataset,shuffle=True,batch_size=8)\n",
    "    \n",
    "    val_dataset = torch.utils.data.TensorDataset(X_val_icub, X_val_bio, target_class_train, y_val)\n",
    "    val_loader = torch.utils.data.DataLoader(val_dataset,shuffle=True,batch_size=8)\n",
    "\n",
    "    X_test_icub, X_test_bio, target_class_test, y_test = get_testData(path, k)\n",
    "    \n",
    "    test_dataset = torch.utils.data.TensorDataset(X_test_icub, X_test_bio, target_class_test, y_test)\n",
    "    test_loader = torch.utils.data.DataLoader(test_dataset,shuffle=True,batch_size=8)\n",
    "    \n",
    "    return train_loader, val_loader, train_dataset, val_dataset\n",
    "\n",
    "def get_testLoader(path):\n",
    "\n",
    "    X_test_icub, X_test_bio, target_class_test, y_test = get_testData(path)\n",
    "    \n",
    "    test_dataset = torch.utils.data.TensorDataset(X_test_icub, X_test_bio, target_class_test, y_test)\n",
    "    test_loader = torch.utils.data.DataLoader(test_dataset,shuffle=True,batch_size=8)\n",
    "   \n",
    "    return test_loader, test_dataset"
   ]
  }
 ],
 "metadata": {
  "kernelspec": {
   "display_name": "Python 3",
   "language": "python",
   "name": "python3"
  },
  "language_info": {
   "codemirror_mode": {
    "name": "ipython",
    "version": 3
   },
   "file_extension": ".py",
   "mimetype": "text/x-python",
   "name": "python",
   "nbconvert_exporter": "python",
   "pygments_lexer": "ipython3",
   "version": "3.7.6"
  }
 },
 "nbformat": 4,
 "nbformat_minor": 2
}
