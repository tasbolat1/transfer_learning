{
 "cells": [
  {
   "cell_type": "code",
   "execution_count": 1,
   "metadata": {},
   "outputs": [],
   "source": [
    "import sys, os\n",
    "CURRENT_TEST_DIR = os.getcwd()\n",
    "sys.path.append(CURRENT_TEST_DIR + \"/../../../slayerPytorch/src\")"
   ]
  },
  {
   "cell_type": "code",
   "execution_count": 2,
   "metadata": {},
   "outputs": [
    {
     "data": {
      "text/plain": [
       "<torch._C.Generator at 0x7f4aebb656d0>"
      ]
     },
     "execution_count": 2,
     "metadata": {},
     "output_type": "execute_result"
    }
   ],
   "source": [
    "import slayerSNN as snn\n",
    "import pandas as pd\n",
    "import numpy as np\n",
    "import matplotlib.pyplot as plt\n",
    "from dtw import dtw, accelerated_dtw\n",
    "from numpy.linalg import norm\n",
    "from joblib import Parallel, delayed\n",
    "import torch\n",
    "import copy\n",
    "from torch.utils.data import Dataset\n",
    "from sklearn.model_selection import train_test_split\n",
    "\n",
    "np.random.seed(1)\n",
    "torch.manual_seed(1)"
   ]
  },
  {
   "cell_type": "code",
   "execution_count": 6,
   "metadata": {},
   "outputs": [],
   "source": [
    "X = torch.load('../BioTac_Icub_data/ICUB_all.pt').reshape([1000, 60, 75]).numpy()\n",
    "Y = np.load('../BioTac_Icub_data/ICUB_all_labels.npy')"
   ]
  },
  {
   "cell_type": "code",
   "execution_count": 8,
   "metadata": {},
   "outputs": [
    {
     "data": {
      "text/plain": [
       "((1000, 60, 75), (1000,))"
      ]
     },
     "execution_count": 8,
     "metadata": {},
     "output_type": "execute_result"
    }
   ],
   "source": [
    "X.shape, Y.shape"
   ]
  },
  {
   "cell_type": "code",
   "execution_count": 9,
   "metadata": {},
   "outputs": [],
   "source": [
    "def get_ohe(_Y):\n",
    "    target_class = np.zeros([_Y.shape[0], 20])\n",
    "    for i in range(target_class.shape[0]):\n",
    "        target_class[i, int(_Y[i])] = 1\n",
    "    return target_class"
   ]
  },
  {
   "cell_type": "code",
   "execution_count": 10,
   "metadata": {},
   "outputs": [],
   "source": [
    "X = X.reshape(X.shape[0], X.shape[1], 1, 1, X.shape[-1])\n",
    "# Y = Y.reshape(Y.shape[0], Y.shape[1], 1, 1, Y.shape[-1])"
   ]
  },
  {
   "cell_type": "code",
   "execution_count": 11,
   "metadata": {},
   "outputs": [],
   "source": [
    "X_train, X_test, y_train, y_test = train_test_split(X, Y, test_size=0.30, random_state=42, stratify=Y)"
   ]
  },
  {
   "cell_type": "code",
   "execution_count": 12,
   "metadata": {},
   "outputs": [
    {
     "data": {
      "text/plain": [
       "(torch.Size([700, 60, 1, 1, 75]),\n",
       " torch.Size([700]),\n",
       " torch.Size([700, 20, 1, 1, 1]))"
      ]
     },
     "execution_count": 12,
     "metadata": {},
     "output_type": "execute_result"
    }
   ],
   "source": [
    "X_train = torch.FloatTensor(X_train)\n",
    "y_train = torch.FloatTensor(y_train)\n",
    "\n",
    "target_class_train = torch.FloatTensor(get_ohe(y_train).reshape(-1, 20, 1, 1, 1))\n",
    "    \n",
    "X_test = torch.FloatTensor(X_test)\n",
    "y_test = torch.FloatTensor(y_test)\n",
    "target_class_test= torch.FloatTensor(get_ohe(y_test).reshape(-1, 20, 1, 1, 1))\n",
    "\n",
    "\n",
    "X_train.shape, y_train.shape, target_class_train.shape"
   ]
  },
  {
   "cell_type": "code",
   "execution_count": 20,
   "metadata": {},
   "outputs": [],
   "source": [
    "params = {\n",
    "    \"neuron\": {\n",
    "        \"type\": \"SRMALPHA\",\n",
    "        \"theta\": 5, # 10\n",
    "        \"tauSr\": 10.0,\n",
    "        \"tauRef\": 2.0,\n",
    "        \"scaleRef\": 2,\n",
    "        \"tauRho\": 1,\n",
    "        \"scaleRho\": 1,\n",
    "    },\n",
    "    \"simulation\": {\"Ts\": 1.0, \"tSample\": 150, \"nSample\": 1},\n",
    "    \"training\": {\n",
    "        \"error\": {\n",
    "            \"type\": \"NumSpikes\",  # \"NumSpikes\" or \"ProbSpikes\"\n",
    "            \"probSlidingWin\": 20,  # only valid for ProbSpikes\n",
    "            \"tgtSpikeRegion\": {  # valid for NumSpikes and ProbSpikes\n",
    "                \"start\": 0,\n",
    "                \"stop\": 150,\n",
    "            },\n",
    "            \"tgtSpikeCount\": {True: 120, False: 20},\n",
    "        }\n",
    "    },\n",
    "}\n",
    "\n",
    "params2 = {\n",
    "    \"neuron\": {\n",
    "        \"type\": \"SRMALPHA\",\n",
    "        \"theta\": 5, # 10\n",
    "        \"tauSr\": 10.0,\n",
    "        \"tauRef\": 2.0,\n",
    "        \"scaleRef\": 2,\n",
    "        \"tauRho\": 1,\n",
    "        \"scaleRho\": 1,\n",
    "    },\n",
    "    \"simulation\": {\"Ts\": 1.0, \"tSample\": 150, \"nSample\": 1},\n",
    "    \"training\": {\n",
    "        \"error\": {\n",
    "            \"type\": \"SpikeTime\",  # \"NumSpikes\" or \"ProbSpikes\"\n",
    "            \"probSlidingWin\": 20,  # only valid for ProbSpikes\n",
    "            \"tgtSpikeRegion\": {  # valid for NumSpikes and ProbSpikes\n",
    "                \"start\": 0,\n",
    "                \"stop\": 150,\n",
    "            },\n",
    "            \"tgtSpikeCount\": {True: 120, False: 20},\n",
    "        }\n",
    "    },\n",
    "}"
   ]
  },
  {
   "cell_type": "code",
   "execution_count": 21,
   "metadata": {},
   "outputs": [],
   "source": [
    "train_dataset = torch.utils.data.TensorDataset(X_train, target_class_train, y_train)\n",
    "train_loader = torch.utils.data.DataLoader(train_dataset,shuffle=True,batch_size=8)\n",
    "\n",
    "test_dataset = torch.utils.data.TensorDataset(X_test, target_class_test, y_test)\n",
    "test_loader = torch.utils.data.DataLoader(test_dataset,shuffle=True,batch_size=8)"
   ]
  },
  {
   "cell_type": "code",
   "execution_count": 16,
   "metadata": {},
   "outputs": [],
   "source": [
    "class SlayerMLP(torch.nn.Module):\n",
    "    def __init__(self, params, input_size, hidden_size1, hidden_size2, output_size):\n",
    "        super(SlayerMLP, self).__init__()\n",
    "        self.output_size = output_size\n",
    "        self.slayer = snn.layer(params[\"neuron\"], params[\"simulation\"])\n",
    "        self.fc1 = self.slayer.dense(input_size, hidden_size1)\n",
    "        self.fc2 = self.slayer.dense(hidden_size1, hidden_size2)\n",
    "        self.fc3 = self.slayer.dense(hidden_size2, output_size)\n",
    "        \n",
    "        self.fc_decoder1 = self.slayer.dense(hidden_size2, 30)\n",
    "        self.fc_decoder2 = self.slayer.dense(30, input_size)\n",
    "\n",
    "    def get_spike(self, inp):\n",
    "        return self.slayer.spike(inp)\n",
    "    \n",
    "    def forward(self, spike_input):\n",
    "        spike_1 = self.slayer.spike(self.slayer.psp(self.fc1(spike_input)))\n",
    "        spike_2 = self.slayer.spike(self.slayer.psp(self.fc2(spike_1)))\n",
    "        spike_output = self.slayer.spike(self.slayer.psp(self.fc3(spike_2)))\n",
    "        \n",
    "        spike_hat1 = self.slayer.spike(self.slayer.psp(self.fc_decoder1(spike_2)))\n",
    "        spike_hat2 = self.slayer.spike(self.slayer.psp(self.fc_decoder2(spike_hat1)))\n",
    "        \n",
    "        return spike_output, spike_hat2, spike_2, spike_hat1"
   ]
  },
  {
   "cell_type": "code",
   "execution_count": 17,
   "metadata": {},
   "outputs": [],
   "source": [
    "device = torch.device(\"cuda:1\")\n",
    "net = SlayerMLP(params, 60, 50, 40, 20).to(device)"
   ]
  },
  {
   "cell_type": "code",
   "execution_count": 18,
   "metadata": {},
   "outputs": [],
   "source": [
    "error = snn.loss(params).to(device)\n",
    "error2 = snn.loss(params2).to(device)\n",
    "optimizer = torch.optim.RMSprop(net.parameters(), lr=0.001, weight_decay=0.5)"
   ]
  },
  {
   "cell_type": "code",
   "execution_count": 19,
   "metadata": {},
   "outputs": [
    {
     "data": {
      "text/plain": [
       "0.21142857142857144"
      ]
     },
     "execution_count": 19,
     "metadata": {},
     "output_type": "execute_result"
    }
   ],
   "source": [
    "148/len(train_dataset)"
   ]
  },
  {
   "cell_type": "code",
   "execution_count": 22,
   "metadata": {},
   "outputs": [
    {
     "name": "stdout",
     "output_type": "stream",
     "text": [
      "Epoch:  0  --------------------------\n",
      "Train loss (all, class, reg): 92.68191855294364 0.26641904558454244 0.11196146205357142\n",
      "Train accuracy: 0.05714285714285714\n",
      "Test loss (all, class, reg): 69.51741475423177 0.6149000040690105 0.3975152604166667\n",
      "Test accuracy: 0.05333333333333334\n",
      "Epoch:  10  --------------------------\n",
      "Train loss (all, class, reg): 37.45167277744838 0.1614190455845424 0.04839035714285714\n",
      "Train accuracy: 0.48\n",
      "Test loss (all, class, reg): 37.941288757324216 0.3914777628580729 0.11243962239583333\n",
      "Test accuracy: 0.49\n",
      "Epoch:  20  --------------------------\n",
      "Train loss (all, class, reg): 29.275141841343473 0.1396190425327846 0.049527851562499996\n",
      "Train accuracy: 0.6957142857142857\n",
      "Test loss (all, class, reg): 30.721294911702476 0.20433333079020183 0.1358026171875\n",
      "Test accuracy: 0.6233333333333333\n",
      "Epoch:  30  --------------------------\n",
      "Train loss (all, class, reg): 25.22998288835798 0.12711429050990514 0.03641534319196429\n",
      "Train accuracy: 0.7428571428571429\n",
      "Test loss (all, class, reg): 27.166443227132163 0.1969777806599935 0.11995820312500001\n",
      "Test accuracy: 0.6633333333333333\n",
      "Epoch:  40  --------------------------\n",
      "Train loss (all, class, reg): 22.656983707972934 0.08376666477748326 0.02991142299107143\n",
      "Train accuracy: 0.7628571428571429\n",
      "Test loss (all, class, reg): 24.775425516764322 0.4565555826822917 0.04020803059895834\n",
      "Test accuracy: 0.6833333333333333\n",
      "Epoch:  50  --------------------------\n",
      "Train loss (all, class, reg): 21.030178440638952 0.07102857317243304 0.03819663783482143\n",
      "Train accuracy: 0.7871428571428571\n",
      "Test loss (all, class, reg): 23.442532806396486 0.21135555267333983 0.06283787109375001\n",
      "Test accuracy: 0.7\n",
      "Epoch:  60  --------------------------\n",
      "Train loss (all, class, reg): 19.8491419001988 0.06405237470354352 0.03084184709821429\n",
      "Train accuracy: 0.8171428571428572\n",
      "Test loss (all, class, reg): 22.451998341878255 0.18975555419921875 0.11288453125000002\n",
      "Test accuracy: 0.7166666666666667\n",
      "Epoch:  70  --------------------------\n",
      "Train loss (all, class, reg): 18.89855220249721 0.1307857186453683 0.02212632254464286\n",
      "Train accuracy: 0.8271428571428572\n",
      "Test loss (all, class, reg): 21.36429776509603 0.33941113789876304 0.059280976562500004\n",
      "Test accuracy: 0.74\n",
      "Epoch:  80  --------------------------\n",
      "Train loss (all, class, reg): 18.14362577710833 0.035747620718819755 0.028652952008928572\n",
      "Train accuracy: 0.8314285714285714\n",
      "Test loss (all, class, reg): 20.870412826538086 0.18401111602783204 0.057363359375000006\n",
      "Test accuracy: 0.7733333333333333\n",
      "Epoch:  90  --------------------------\n",
      "Train loss (all, class, reg): 17.51668433053153 0.02601904732840402 0.031969235491071425\n",
      "Train accuracy: 0.8314285714285714\n",
      "Test loss (all, class, reg): 20.194372634887696 0.2613777669270833 0.0873494921875\n",
      "Test accuracy: 0.76\n",
      "Epoch:  100  --------------------------\n",
      "Train loss (all, class, reg): 16.88027356828962 0.11268095833914621 0.02202284877232143\n",
      "Train accuracy: 0.8471428571428572\n",
      "Test loss (all, class, reg): 19.842390925089518 0.12928888956705728 0.05601483072916667\n",
      "Test accuracy: 0.7633333333333333\n",
      "Epoch:  110  --------------------------\n",
      "Train loss (all, class, reg): 16.49886980329241 0.04899524143763951 0.027606453683035714\n",
      "Train accuracy: 0.8457142857142858\n",
      "Test loss (all, class, reg): 19.237957750956216 0.13541112263997396 0.059726953124999996\n",
      "Test accuracy: 0.7833333333333333\n",
      "Epoch:  120  --------------------------\n",
      "Train loss (all, class, reg): 16.072238518851144 0.0333952386038644 0.025966138392857146\n",
      "Train accuracy: 0.8528571428571429\n",
      "Test loss (all, class, reg): 18.807266222635906 0.10966667175292968 0.0831162109375\n",
      "Test accuracy: 0.7833333333333333\n",
      "Epoch:  130  --------------------------\n",
      "Train loss (all, class, reg): 15.84211533682687 0.11589523315429688 0.026651880580357144\n",
      "Train accuracy: 0.8585714285714285\n",
      "Test loss (all, class, reg): 18.43783114115397 0.15834444681803386 0.06683680989583334\n",
      "Test accuracy: 0.7966666666666666\n",
      "Epoch:  140  --------------------------\n",
      "Train loss (all, class, reg): 15.551616205487932 0.05471428462437221 0.02517943080357143\n",
      "Train accuracy: 0.8642857142857143\n",
      "Test loss (all, class, reg): 18.404135920206706 0.40817779541015625 0.03899079752604167\n",
      "Test accuracy: 0.8\n",
      "Epoch:  150  --------------------------\n",
      "Train loss (all, class, reg): 15.285380238124302 0.04120476313999721 0.027116068638392856\n",
      "Train accuracy: 0.8642857142857143\n",
      "Test loss (all, class, reg): 18.027093556722004 0.06287777582804362 0.09084170572916667\n",
      "Test accuracy: 0.7966666666666666\n",
      "Epoch:  160  --------------------------\n",
      "Train loss (all, class, reg): 15.0318017578125 0.035819048200334824 0.03270440848214286\n",
      "Train accuracy: 0.8685714285714285\n",
      "Test loss (all, class, reg): 17.879935201009115 0.3498000335693359 0.06274589192708334\n",
      "Test accuracy: 0.8066666666666666\n",
      "Epoch:  170  --------------------------\n",
      "Train loss (all, class, reg): 14.860557790483748 0.0438999993460519 0.019396240234375\n",
      "Train accuracy: 0.8642857142857143\n",
      "Test loss (all, class, reg): 17.701066970825195 0.22889999389648438 0.03763488606770833\n",
      "Test accuracy: 0.81\n",
      "Epoch:  180  --------------------------\n",
      "Train loss (all, class, reg): 14.641495775495256 0.08057141985212053 0.022141749441964287\n",
      "Train accuracy: 0.8742857142857143\n",
      "Test loss (all, class, reg): 17.55091328938802 0.06826666514078776 0.054033717447916664\n",
      "Test accuracy: 0.8166666666666667\n",
      "Epoch:  190  --------------------------\n",
      "Train loss (all, class, reg): 14.431247716631209 0.01616666793823242 0.03276525111607143\n",
      "Train accuracy: 0.8842857142857142\n",
      "Test loss (all, class, reg): 17.548854319254556 0.19446666717529296 0.04458275390625\n",
      "Test accuracy: 0.8166666666666667\n",
      "Epoch:  200  --------------------------\n",
      "Train loss (all, class, reg): 14.356606881277902 0.18656666346958706 0.019240239955357143\n",
      "Train accuracy: 0.88\n",
      "Test loss (all, class, reg): 17.3109300104777 0.12012222290039062 0.042921708984375\n",
      "Test accuracy: 0.8233333333333334\n",
      "Epoch:  210  --------------------------\n",
      "Train loss (all, class, reg): 14.131069483075823 0.08805238451276506 0.021274017857142856\n",
      "Train accuracy: 0.8857142857142857\n",
      "Test loss (all, class, reg): 17.193938573201496 0.23492223103841145 0.03909080078125\n",
      "Test accuracy: 0.8366666666666667\n",
      "Epoch:  220  --------------------------\n",
      "Train loss (all, class, reg): 13.988653542654855 0.04142380850655692 0.02742427455357143\n",
      "Train accuracy: 0.8828571428571429\n",
      "Test loss (all, class, reg): 16.929368286132814 0.11564445495605469 0.10764453125000001\n",
      "Test accuracy: 0.8333333333333334\n",
      "Epoch:  230  --------------------------\n",
      "Train loss (all, class, reg): 13.800199764796666 0.04261904852730887 0.018340577566964285\n",
      "Train accuracy: 0.8871428571428571\n",
      "Test loss (all, class, reg): 16.71901840209961 0.2333111063639323 0.04247842122395833\n",
      "Test accuracy: 0.8266666666666667\n",
      "Epoch:  240  --------------------------\n",
      "Train loss (all, class, reg): 13.654116358075823 0.07340476444789341 0.029908546316964286\n",
      "Train accuracy: 0.8928571428571429\n",
      "Test loss (all, class, reg): 16.835722478230796 0.3876999918619792 0.05987006510416666\n",
      "Test accuracy: 0.8366666666666667\n",
      "Epoch:  250  --------------------------\n",
      "Train loss (all, class, reg): 13.462550593784878 0.06362856183733259 0.022652564174107142\n",
      "Train accuracy: 0.8985714285714286\n",
      "Test loss (all, class, reg): 16.908332799275716 0.19966665903727213 0.039765839843750005\n",
      "Test accuracy: 0.8433333333333334\n",
      "Epoch:  260  --------------------------\n",
      "Train loss (all, class, reg): 13.33640288216727 0.03164285659790039 0.026243465401785713\n",
      "Train accuracy: 0.8928571428571429\n",
      "Test loss (all, class, reg): 16.393737182617187 0.2377222188313802 0.06031510416666666\n",
      "Test accuracy: 0.85\n",
      "Epoch:  270  --------------------------\n",
      "Train loss (all, class, reg): 13.171455742972238 0.12851429530552455 0.019151163504464285\n",
      "Train accuracy: 0.8985714285714286\n",
      "Test loss (all, class, reg): 16.360736033121746 0.18866666158040366 0.048885576171875\n",
      "Test accuracy: 0.8466666666666667\n",
      "Epoch:  280  --------------------------\n",
      "Train loss (all, class, reg): 13.049588426862444 0.07450951712472098 0.016671782924107145\n",
      "Train accuracy: 0.8957142857142857\n",
      "Test loss (all, class, reg): 16.245331904093426 0.13897777557373048 0.054550273437500005\n",
      "Test accuracy: 0.8433333333333334\n",
      "Epoch:  290  --------------------------\n",
      "Train loss (all, class, reg): 12.900292260306221 0.07900951930454798 0.021752287946428573\n",
      "Train accuracy: 0.8971428571428571\n",
      "Test loss (all, class, reg): 16.138343607584634 0.2171777852376302 0.06510279947916667\n",
      "Test accuracy: 0.8433333333333334\n"
     ]
    },
    {
     "name": "stdout",
     "output_type": "stream",
     "text": [
      "Epoch:  300  --------------------------\n",
      "Train loss (all, class, reg): 12.72458075932094 0.07329047611781529 0.016367140066964287\n",
      "Train accuracy: 0.9014285714285715\n",
      "Test loss (all, class, reg): 16.027914911905924 0.23232223510742187 0.03500607421875\n",
      "Test accuracy: 0.84\n",
      "Epoch:  310  --------------------------\n",
      "Train loss (all, class, reg): 12.608995007106236 0.017233333587646484 0.03736595703125\n",
      "Train accuracy: 0.8985714285714286\n",
      "Test loss (all, class, reg): 15.91888921101888 0.11014443715413412 0.047383232421875005\n",
      "Test accuracy: 0.8533333333333334\n",
      "Epoch:  320  --------------------------\n",
      "Train loss (all, class, reg): 12.419360681261335 0.011057142530168805 0.020662622767857144\n",
      "Train accuracy: 0.9\n",
      "Test loss (all, class, reg): 15.786821200052897 0.10719998677571614 0.07742986979166668\n",
      "Test accuracy: 0.8566666666666667\n",
      "Epoch:  330  --------------------------\n",
      "Train loss (all, class, reg): 12.199678050449917 0.028799999782017298 0.03194205915178571\n",
      "Train accuracy: 0.9057142857142857\n",
      "Test loss (all, class, reg): 15.628696505228678 0.14970001220703125 0.04864209635416667\n",
      "Test accuracy: 0.8533333333333334\n",
      "Epoch:  340  --------------------------\n",
      "Train loss (all, class, reg): 12.115023035321917 0.07899524143763952 0.012219319196428572\n",
      "Train accuracy: 0.9028571428571428\n",
      "Test loss (all, class, reg): 15.641251881917318 0.11542222340901692 0.04974253580729167\n",
      "Test accuracy: 0.8366666666666667\n",
      "Epoch:  350  --------------------------\n",
      "Train loss (all, class, reg): 11.936213558741978 0.08242380959647043 0.0238801953125\n",
      "Train accuracy: 0.9071428571428571\n",
      "Test loss (all, class, reg): 15.531367263793946 0.07650000254313151 0.08369985677083334\n",
      "Test accuracy: 0.85\n",
      "Epoch:  360  --------------------------\n",
      "Train loss (all, class, reg): 11.818756702968052 0.01991428647722517 0.0379313671875\n",
      "Train accuracy: 0.8971428571428571\n",
      "Test loss (all, class, reg): 15.474879506429037 0.15550000508626302 0.03069342447916667\n",
      "Test accuracy: 0.8433333333333334\n",
      "Epoch:  370  --------------------------\n",
      "Train loss (all, class, reg): 11.681186403547015 0.04368095397949219 0.023617109374999997\n",
      "Train accuracy: 0.9\n",
      "Test loss (all, class, reg): 15.472705586751301 0.06606666564941406 0.050538782552083335\n",
      "Test accuracy: 0.8566666666666667\n",
      "Epoch:  380  --------------------------\n",
      "Train loss (all, class, reg): 11.654526601518903 0.030909521920340403 0.02684331752232143\n",
      "Train accuracy: 0.9042857142857142\n",
      "Test loss (all, class, reg): 15.341322962443034 0.08068889617919922 0.15218890625\n",
      "Test accuracy: 0.85\n",
      "Epoch:  390  --------------------------\n",
      "Train loss (all, class, reg): 11.538362802777971 0.050761904035295756 0.017107211216517856\n",
      "Train accuracy: 0.9071428571428571\n",
      "Test loss (all, class, reg): 15.37722890218099 0.23637776692708334 0.036860670572916664\n",
      "Test accuracy: 0.85\n",
      "Epoch:  400  --------------------------\n",
      "Train loss (all, class, reg): 11.443586545671735 0.049609522138323106 0.02204314174107143\n",
      "Train accuracy: 0.9042857142857142\n",
      "Test loss (all, class, reg): 15.102459411621094 0.1362999979654948 0.04178051432291667\n",
      "Test accuracy: 0.8466666666666667\n",
      "Epoch:  410  --------------------------\n",
      "Train loss (all, class, reg): 11.325531621660504 0.011295238222394671 0.024861824776785717\n",
      "Train accuracy: 0.9142857142857143\n",
      "Test loss (all, class, reg): 15.241957855224609 0.20454444885253906 0.03269667643229167\n",
      "Test accuracy: 0.85\n",
      "Epoch:  420  --------------------------\n",
      "Train loss (all, class, reg): 11.292131047930036 0.03610476357596261 0.013435959821428572\n",
      "Train accuracy: 0.9114285714285715\n",
      "Test loss (all, class, reg): 15.191142959594726 0.0721333376566569 0.08872463541666667\n",
      "Test accuracy: 0.85\n",
      "Epoch:  430  --------------------------\n",
      "Train loss (all, class, reg): 11.217331488473075 0.05496666499546596 0.018549976283482143\n",
      "Train accuracy: 0.9071428571428571\n",
      "Test loss (all, class, reg): 15.105837211608886 0.2613110860188802 0.0440994140625\n",
      "Test accuracy: 0.86\n",
      "Epoch:  440  --------------------------\n",
      "Train loss (all, class, reg): 11.12843952178955 0.043276190076555525 0.022667202845982143\n",
      "Train accuracy: 0.9\n",
      "Test loss (all, class, reg): 14.969617487589518 0.20808888753255209 0.029761520182291664\n",
      "Test accuracy: 0.85\n",
      "Epoch:  450  --------------------------\n",
      "Train loss (all, class, reg): 11.083864402770995 0.05991904667445592 0.028441782924107144\n",
      "Train accuracy: 0.9071428571428571\n",
      "Test loss (all, class, reg): 15.023283513387044 0.10294445037841797 0.023511414388020836\n",
      "Test accuracy: 0.8533333333333334\n",
      "Epoch:  460  --------------------------\n",
      "Train loss (all, class, reg): 10.929150101797921 0.043152381352015906 0.018195611049107142\n",
      "Train accuracy: 0.9071428571428571\n",
      "Test loss (all, class, reg): 15.066165517171225 0.2912444559733073 0.044809179687500006\n",
      "Test accuracy: 0.8466666666666667\n",
      "Epoch:  470  --------------------------\n",
      "Train loss (all, class, reg): 10.935395436968122 0.024571429661342077 0.02272341796875\n",
      "Train accuracy: 0.9114285714285715\n",
      "Test loss (all, class, reg): 14.961647720336915 0.09434444427490235 0.05322685546875\n",
      "Test accuracy: 0.85\n",
      "Epoch:  480  --------------------------\n",
      "Train loss (all, class, reg): 10.910639310564314 0.03680000032697405 0.020269718191964287\n",
      "Train accuracy: 0.91\n",
      "Test loss (all, class, reg): 14.758594360351562 0.09802221934000652 0.09064963541666667\n",
      "Test accuracy: 0.8533333333333334\n",
      "Epoch:  490  --------------------------\n",
      "Train loss (all, class, reg): 10.82822083064488 0.01720952442714146 0.019131248604910715\n",
      "Train accuracy: 0.9071428571428571\n",
      "Test loss (all, class, reg): 14.831975758870442 0.1186444346110026 0.06349916015625\n",
      "Test accuracy: 0.8466666666666667\n",
      "Epoch:  500  --------------------------\n",
      "Train loss (all, class, reg): 10.78296443939209 0.07105238233293806 0.025380731026785713\n",
      "Train accuracy: 0.9085714285714286\n",
      "Test loss (all, class, reg): 14.953132044474284 0.21555557250976562 0.04761994466145833\n",
      "Test accuracy: 0.8733333333333333\n",
      "Epoch:  510  --------------------------\n",
      "Train loss (all, class, reg): 10.70625046321324 0.06222857339041574 0.018655838448660717\n",
      "Train accuracy: 0.9014285714285715\n",
      "Test loss (all, class, reg): 14.799909655253092 0.09920000076293946 0.047844150390625\n",
      "Test accuracy: 0.8733333333333333\n",
      "Epoch:  520  --------------------------\n",
      "Train loss (all, class, reg): 10.673329383305141 0.016252381461007253 0.020659089006696427\n",
      "Train accuracy: 0.9085714285714286\n",
      "Test loss (all, class, reg): 14.87135976155599 0.033411111831665036 0.058682799479166665\n",
      "Test accuracy: 0.8633333333333333\n",
      "Epoch:  530  --------------------------\n",
      "Train loss (all, class, reg): 10.612382229396275 0.008366666521344867 0.020562472098214286\n",
      "Train accuracy: 0.9057142857142857\n",
      "Test loss (all, class, reg): 14.557410202026368 0.25779998779296875 0.04119873046875\n",
      "Test accuracy: 0.8533333333333334\n",
      "Epoch:  540  --------------------------\n",
      "Train loss (all, class, reg): 10.622547013419014 0.019766667229788645 0.017293736049107142\n",
      "Train accuracy: 0.9171428571428571\n",
      "Test loss (all, class, reg): 14.810284423828126 0.309433339436849 0.032624189453125\n",
      "Test accuracy: 0.8633333333333333\n",
      "Epoch:  550  --------------------------\n",
      "Train loss (all, class, reg): 10.534663429260254 0.02183333260672433 0.025416958705357144\n",
      "Train accuracy: 0.9114285714285715\n",
      "Test loss (all, class, reg): 14.623767217000326 0.16406665802001952 0.07426897135416667\n",
      "Test accuracy: 0.86\n",
      "Epoch:  560  --------------------------\n",
      "Train loss (all, class, reg): 10.468040665217808 0.021599998474121095 0.0203409375\n",
      "Train accuracy: 0.9057142857142857\n",
      "Test loss (all, class, reg): 14.517766888936361 0.04622222264607748 0.047115345052083334\n",
      "Test accuracy: 0.85\n",
      "Epoch:  570  --------------------------\n",
      "Train loss (all, class, reg): 10.471872613089426 0.02642857142857143 0.02345091238839286\n",
      "Train accuracy: 0.9157142857142857\n",
      "Test loss (all, class, reg): 14.51252374013265 0.2750555674235026 0.028701621093750004\n",
      "Test accuracy: 0.8566666666666667\n",
      "Epoch:  580  --------------------------\n",
      "Train loss (all, class, reg): 10.420073689052037 0.016647619519914898 0.018670412946428572\n",
      "Train accuracy: 0.9228571428571428\n",
      "Test loss (all, class, reg): 14.37312245686849 0.2664222208658854 0.08309225260416668\n",
      "Test accuracy: 0.85\n",
      "Epoch:  590  --------------------------\n",
      "Train loss (all, class, reg): 10.377580451965333 0.03446190425327846 0.022786261160714288\n",
      "Train accuracy: 0.9185714285714286\n",
      "Test loss (all, class, reg): 14.374667065938313 0.11424444834391276 0.032984622395833336\n",
      "Test accuracy: 0.8566666666666667\n"
     ]
    },
    {
     "name": "stdout",
     "output_type": "stream",
     "text": [
      "Epoch:  600  --------------------------\n",
      "Train loss (all, class, reg): 10.22543006352016 0.02418571472167969 0.016436974051339287\n",
      "Train accuracy: 0.9214285714285714\n",
      "Test loss (all, class, reg): 14.272600911458333 0.07079999923706054 0.04602448567708333\n",
      "Test accuracy: 0.8533333333333334\n"
     ]
    }
   ],
   "source": [
    "train_total_losses=[]\n",
    "train_class_losses=[]\n",
    "train_regres_losses=[]\n",
    "\n",
    "test_total_losses=[]\n",
    "test_class_losses=[]\n",
    "test_regres_losses=[]\n",
    "\n",
    "train_accs = []\n",
    "test_accs = []\n",
    "\n",
    "alpha = 1\n",
    "beta = 0.001\n",
    "for epoch in range(601):\n",
    "    net.train()\n",
    "    correct = 0\n",
    "    loss_train = 0\n",
    "    loss_class = 0\n",
    "    loss_reg = 0\n",
    "    for i, (tact, target, label) in enumerate(train_loader):\n",
    "        \n",
    "        tact = tact.to(device)\n",
    "        target = target.to(device)\n",
    "        tact = net.get_spike(tact)\n",
    "        \n",
    "        tact_new = torch.zeros((tact.shape[0],tact.shape[1],1,1,tact.shape[-1]*2)).to(device)\n",
    "        tact_new[...,::2]  = tact\n",
    "        tact = tact_new\n",
    "        \n",
    "        \n",
    "        output, out_input, _, _ = net.forward(tact)\n",
    "        \n",
    "        correct += torch.sum(snn.predict.getClass(output) == label).data.item()\n",
    "        loss_class = error.numSpikes(output, target)\n",
    "        \n",
    "        loss_reg = error2.spikeTime(out_input, tact)\n",
    "        \n",
    "        loss = alpha*loss_class + beta*loss_reg\n",
    "        \n",
    "        loss_train += loss.item()\n",
    "        loss_class = alpha*loss_class.item()\n",
    "        loss_reg = beta*loss_reg.item()\n",
    "        \n",
    "        optimizer.zero_grad()\n",
    "        loss.backward()\n",
    "        optimizer.step()\n",
    "                \n",
    "    if epoch%10 == 0:\n",
    "        print('Epoch: ', epoch, ' --------------------------')\n",
    "        print('Train loss (all, class, reg):', \n",
    "              loss_train/len(train_dataset),\n",
    "              loss_class/len(train_dataset),\n",
    "              loss_reg/len(train_dataset))\n",
    "        print('Train accuracy:', correct/len(train_dataset))\n",
    "    train_accs.append(correct/len(train_dataset))\n",
    "    train_total_losses.append(loss_train/len(train_dataset))\n",
    "    train_class_losses.append(loss_class/len(train_dataset))\n",
    "    train_regres_losses.append(loss_reg/len(train_dataset))\n",
    "        \n",
    "    net.eval()\n",
    "    correct = 0\n",
    "    loss_test = 0\n",
    "    loss_class = 0\n",
    "    loss_reg = 0\n",
    "    with torch.no_grad():\n",
    "        for i, (tact, target, label) in enumerate(test_loader):\n",
    "\n",
    "            tact = tact.to(device)\n",
    "            target = target.to(device)\n",
    "            tact = net.get_spike(tact)\n",
    "            \n",
    "            tact_new = torch.zeros((tact.shape[0],tact.shape[1],1,1,tact.shape[-1]*2)).to(device)\n",
    "            tact_new[...,::2]  = tact\n",
    "            tact = tact_new\n",
    "            \n",
    "            output, out_input, _, _ = net.forward(tact)\n",
    "        \n",
    "            correct += torch.sum(snn.predict.getClass(output) == label).data.item()\n",
    "            loss_class = error.numSpikes(output, target)\n",
    "\n",
    "            loss_reg = error2.spikeTime(out_input, tact)\n",
    "\n",
    "            loss = alpha*loss_class + beta*loss_reg\n",
    "\n",
    "            loss_test += loss.item()\n",
    "            loss_class = alpha*loss_class.item()\n",
    "            loss_reg = beta*loss_reg.item()\n",
    "            \n",
    "#     if epoch%10 == 0:\n",
    "#         print('Test loss:', loss_test/len(test_dataset))\n",
    "#         print('Test accuracy:', correct/len(test_dataset))\n",
    "#     test_accs.append(correct/len(test_dataset))\n",
    "#     test_losses.append(loss_test/len(test_dataset))\n",
    "    \n",
    "    if epoch%10 == 0:\n",
    "        print('Test loss (all, class, reg):', \n",
    "              loss_test/len(test_dataset),\n",
    "              loss_class/len(test_dataset),\n",
    "              loss_reg/len(test_dataset))\n",
    "        print('Test accuracy:', correct/len(test_dataset))\n",
    "    test_accs.append(correct/len(test_dataset))\n",
    "    test_total_losses.append(loss_test/len(test_dataset))\n",
    "    test_class_losses.append(loss_class/len(test_dataset))\n",
    "    test_regres_losses.append(loss_reg/len(test_dataset))"
   ]
  },
  {
   "cell_type": "code",
   "execution_count": 23,
   "metadata": {},
   "outputs": [
    {
     "data": {
      "image/png": "[encoded data removed]",
      "text/plain": [
       "<Figure size 1080x504 with 2 Axes>"
      ]
     },
     "metadata": {
      "needs_background": "light"
     },
     "output_type": "display_data"
    }
   ],
   "source": [
    "fig, ax = plt.subplots(2, figsize=(15,7))\n",
    "\n",
    "ax[0].plot(train_total_losses, 'b')\n",
    "ax[0].plot(500*np.array(train_class_losses), 'r')\n",
    "ax[0].plot(500*np.array(train_regres_losses), 'g')\n",
    "\n",
    "# ax[0].plot(test_losses)\n",
    "ax[0].set_xlabel('Epoch')\n",
    "ax[0].set_ylabel('Loss')\n",
    "\n",
    "ax[1].plot(train_accs)\n",
    "ax[1].plot(test_accs)\n",
    "ax[1].set_xlabel('Epoch')\n",
    "ax[1].set_ylabel('Accuracy')\n",
    "ax[1].legend(['Train', 'Test'])\n",
    "\n",
    "plt.show()"
   ]
  },
  {
   "cell_type": "code",
   "execution_count": 24,
   "metadata": {},
   "outputs": [
    {
     "data": {
      "text/plain": [
       "0.8766666666666667"
      ]
     },
     "execution_count": 24,
     "metadata": {},
     "output_type": "execute_result"
    }
   ],
   "source": [
    "np.max(test_accs)"
   ]
  },
  {
   "cell_type": "code",
   "execution_count": 25,
   "metadata": {},
   "outputs": [
    {
     "data": {
      "text/plain": [
       "0.9328571428571428"
      ]
     },
     "execution_count": 25,
     "metadata": {},
     "output_type": "execute_result"
    }
   ],
   "source": [
    "np.max(train_accs)"
   ]
  },
  {
   "cell_type": "code",
   "execution_count": 35,
   "metadata": {},
   "outputs": [],
   "source": [
    "net.eval()\n",
    "big_list = []\n",
    "label_list=[]\n",
    "with torch.no_grad():\n",
    "    for i, (tact, target, label) in enumerate(test_loader):\n",
    "\n",
    "        tact = tact.to(device)\n",
    "        target = target.to(device)\n",
    "        tact = net.get_spike(tact)\n",
    "        tact_new = torch.zeros((tact.shape[0],tact.shape[1],1,1,tact.shape[-1]*2)).to(device)\n",
    "        tact_new[...,::2]  = tact\n",
    "        tact = tact_new\n",
    "        _, _, rep, _ = net.forward(tact)\n",
    "        big_list.append(rep)\n",
    "        label_list.append(label)"
   ]
  },
  {
   "cell_type": "code",
   "execution_count": 44,
   "metadata": {},
   "outputs": [
    {
     "data": {
      "text/plain": [
       "torch.Size([4, 60, 1, 1, 150])"
      ]
     },
     "execution_count": 44,
     "metadata": {},
     "output_type": "execute_result"
    }
   ],
   "source": [
    "tact_new.shape"
   ]
  },
  {
   "cell_type": "code",
   "execution_count": 36,
   "metadata": {},
   "outputs": [
    {
     "data": {
      "text/plain": [
       "torch.Size([300, 40, 1, 1, 150])"
      ]
     },
     "execution_count": 36,
     "metadata": {},
     "output_type": "execute_result"
    }
   ],
   "source": [
    "test_representation = torch.cat(big_list,0)\n",
    "test_representation.shape"
   ]
  },
  {
   "cell_type": "code",
   "execution_count": 37,
   "metadata": {},
   "outputs": [],
   "source": [
    "label_all = torch.cat(label_list, 0)"
   ]
  },
  {
   "cell_type": "code",
   "execution_count": 38,
   "metadata": {},
   "outputs": [],
   "source": [
    "label_all = label_all.cpu().numpy()"
   ]
  },
  {
   "cell_type": "code",
   "execution_count": 67,
   "metadata": {},
   "outputs": [
    {
     "name": "stdout",
     "output_type": "stream",
     "text": [
      "CPU times: user 10.7 s, sys: 148 ms, total: 10.9 s\n",
      "Wall time: 10.9 s\n"
     ]
    }
   ],
   "source": [
    "%%time\n",
    "dist_mat = torch.zeros([300,300])\n",
    "for i in range(300):\n",
    "    for j in range(300):\n",
    "        if i == j:\n",
    "            dist_mat[i, j] = 0.0\n",
    "        else:\n",
    "            dist_mat[i,j] = error2.spikeTime(test_representation[i], test_representation[j])"
   ]
  },
  {
   "cell_type": "code",
   "execution_count": 68,
   "metadata": {},
   "outputs": [],
   "source": [
    "dist_mat = dist_mat.detach().cpu().numpy()"
   ]
  },
  {
   "cell_type": "code",
   "execution_count": 69,
   "metadata": {},
   "outputs": [],
   "source": [
    "from sklearn.manifold import TSNE\n",
    "X_embedded = TSNE(n_components=2,perplexity=16, metric='precomputed').fit_transform(dist_mat)"
   ]
  },
  {
   "cell_type": "code",
   "execution_count": 70,
   "metadata": {},
   "outputs": [
    {
     "data": {
      "image/png": "[encoded data removed]",
      "text/plain": [
       "<Figure size 432x288 with 1 Axes>"
      ]
     },
     "metadata": {
      "needs_background": "light"
     },
     "output_type": "display_data"
    }
   ],
   "source": [
    "fig, ax = plt.subplots()\n",
    "ax.scatter(X_embedded[:, 0], X_embedded[:, 1], c=label_all, cmap=plt.cm.Spectral)\n",
    "plt.show()"
   ]
  },
  {
   "cell_type": "code",
   "execution_count": null,
   "metadata": {},
   "outputs": [],
   "source": []
  }
 ],
 "metadata": {
  "kernelspec": {
   "display_name": "Python 3",
   "language": "python",
   "name": "python3"
  },
  "language_info": {
   "codemirror_mode": {
    "name": "ipython",
    "version": 3
   },
   "file_extension": ".py",
   "mimetype": "text/x-python",
   "name": "python",
   "nbconvert_exporter": "python",
   "pygments_lexer": "ipython3",
   "version": "3.5.2"
  }
 },
 "nbformat": 4,
 "nbformat_minor": 2
}
