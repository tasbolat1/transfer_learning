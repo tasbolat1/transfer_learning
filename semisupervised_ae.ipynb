{
 "cells": [
  {
   "cell_type": "markdown",
   "metadata": {},
   "source": [
    "# AE style for both data"
   ]
  },
  {
   "cell_type": "code",
   "execution_count": 1,
   "metadata": {},
   "outputs": [],
   "source": [
    "import sys, os\n",
    "CURRENT_TEST_DIR = os.getcwd()\n",
    "sys.path.append(CURRENT_TEST_DIR + \"/../../../slayerPytorch/src\")"
   ]
  },
  {
   "cell_type": "code",
   "execution_count": 2,
   "metadata": {},
   "outputs": [
    {
     "data": {
      "text/plain": [
       "<torch._C.Generator at 0x7fc4363116d0>"
      ]
     },
     "execution_count": 2,
     "metadata": {},
     "output_type": "execute_result"
    }
   ],
   "source": [
    "import slayerSNN as snn\n",
    "import pandas as pd\n",
    "import numpy as np\n",
    "import matplotlib.pyplot as plt\n",
    "from dtw import dtw, accelerated_dtw\n",
    "from numpy.linalg import norm\n",
    "from joblib import Parallel, delayed\n",
    "import torch\n",
    "import copy\n",
    "from torch.utils.data import Dataset\n",
    "from sklearn.model_selection import train_test_split\n",
    "\n",
    "np.random.seed(1)\n",
    "torch.manual_seed(1)"
   ]
  },
  {
   "cell_type": "code",
   "execution_count": 3,
   "metadata": {},
   "outputs": [],
   "source": [
    "def get_ohe(_Y):\n",
    "\n",
    "    target_class = np.zeros([_Y.shape[0], 20])\n",
    "\n",
    "    for i in range(target_class.shape[0]):\n",
    "\n",
    "        target_class[i, int(_Y[i])] = 1\n",
    "\n",
    "    return target_class"
   ]
  },
  {
   "cell_type": "code",
   "execution_count": 4,
   "metadata": {},
   "outputs": [
    {
     "data": {
      "text/plain": [
       "((1000, 6, 10, 75), (1000, 19, 75), (1000,))"
      ]
     },
     "execution_count": 4,
     "metadata": {},
     "output_type": "execute_result"
    }
   ],
   "source": [
    "X_icub = torch.load('../BioTac_Icub_data/ICUB_all.pt').numpy()\n",
    "X_bio = torch.load('../BioTac_Icub_data/Bio_all.pt').numpy()\n",
    "X_bio = np.swapaxes(X_bio, 2,1)\n",
    "indices = np.arange(X_icub.shape[0])\n",
    "\n",
    "Y = np.load('../BioTac_Icub_data/ICUB_all_labels.npy')\n",
    "X_icub.shape, X_bio.shape, Y.shape"
   ]
  },
  {
   "cell_type": "code",
   "execution_count": 5,
   "metadata": {},
   "outputs": [],
   "source": [
    "X_icub = X_icub.reshape(X_icub.shape[0], 60, 1, 1, X_icub.shape[-1])\n",
    "X_bio = X_bio.reshape(X_bio.shape[0], X_bio.shape[1], 1, 1, X_bio.shape[-1])\n",
    "X_train_icub, X_test_icub, y_train, y_test, ind_train, ind_test = train_test_split(X_icub, Y, indices, test_size=0.30, random_state=42, stratify=Y)"
   ]
  },
  {
   "cell_type": "code",
   "execution_count": 6,
   "metadata": {},
   "outputs": [
    {
     "data": {
      "text/plain": [
       "(torch.Size([700, 60, 1, 1, 75]),\n",
       " torch.Size([700]),\n",
       " torch.Size([700, 20, 1, 1, 1]),\n",
       " torch.Size([700, 19, 1, 1, 75]),\n",
       " torch.Size([300, 19, 1, 1, 75]))"
      ]
     },
     "execution_count": 6,
     "metadata": {},
     "output_type": "execute_result"
    }
   ],
   "source": [
    "X_train_icub = torch.FloatTensor(X_train_icub)\n",
    "y_train = torch.FloatTensor(y_train)\n",
    "target_class_train = torch.FloatTensor(get_ohe(y_train).reshape(-1, 20, 1, 1, 1))\n",
    "    \n",
    "X_test_icub = torch.FloatTensor(X_test_icub)\n",
    "y_test = torch.FloatTensor(y_test)\n",
    "target_class_test= torch.FloatTensor(get_ohe(y_test).reshape(-1, 20, 1, 1, 1))\n",
    "\n",
    "X_train_bio = torch.FloatTensor(X_bio[ind_train])\n",
    "X_test_bio = torch.FloatTensor(X_bio[ind_test])\n",
    "\n",
    "X_train_icub.shape, y_train.shape, target_class_train.shape, X_train_bio.shape, X_test_bio.shape"
   ]
  },
  {
   "cell_type": "code",
   "execution_count": 7,
   "metadata": {},
   "outputs": [],
   "source": [
    "train_dataset = torch.utils.data.TensorDataset(X_train_icub, X_train_bio, target_class_train, y_train)\n",
    "train_loader = torch.utils.data.DataLoader(train_dataset,shuffle=True,batch_size=8)\n",
    "\n",
    "test_dataset = torch.utils.data.TensorDataset(X_test_icub, X_test_bio, target_class_test, y_test)\n",
    "test_loader = torch.utils.data.DataLoader(test_dataset,shuffle=True,batch_size=8)"
   ]
  },
  {
   "cell_type": "code",
   "execution_count": 14,
   "metadata": {},
   "outputs": [],
   "source": [
    "params = {\n",
    "    \"neuron\": {\n",
    "        \"type\": \"SRMALPHA\",\n",
    "        \"theta\": 10, # 10\n",
    "        \"tauSr\": 10.0,\n",
    "        \"tauRef\": 1.0,\n",
    "        \"scaleRef\": 2,\n",
    "        \"tauRho\": 1,\n",
    "        \"scaleRho\": 1,\n",
    "    },\n",
    "    \"simulation\": {\"Ts\": 1.0, \"tSample\": 75, \"nSample\": 1},\n",
    "    \"training\": {\n",
    "        \"error\": {\n",
    "            \"type\": \"SpikeTime\",  # \"NumSpikes\" or \"ProbSpikes\"\n",
    "            \"probSlidingWin\": 20,  # only valid for ProbSpikes\n",
    "            \"tgtSpikeRegion\": {  # valid for NumSpikes and ProbSpikes\n",
    "                \"start\": 0,\n",
    "                \"stop\": 75,\n",
    "            },\n",
    "            \"tgtSpikeCount\": {True: 250, False: 60},\n",
    "        }\n",
    "    },\n",
    "}\n",
    "\n",
    "params2 = {\n",
    "    \"neuron\": {\n",
    "        \"type\": \"SRMALPHA\",\n",
    "        \"theta\": 10, # 10\n",
    "        \"tauSr\": 10.0,\n",
    "        \"tauRef\": 1.0,\n",
    "        \"scaleRef\": 2,\n",
    "        \"tauRho\": 1,\n",
    "        \"scaleRho\": 1,\n",
    "    },\n",
    "    \"simulation\": {\"Ts\": 1.0, \"tSample\": 75, \"nSample\": 1},\n",
    "    \"training\": {\n",
    "        \"error\": {\n",
    "            \"type\": \"NumSpikes\",  # \"NumSpikes\" or \"ProbSpikes\"\n",
    "            \"probSlidingWin\": 20,  # only valid for ProbSpikes\n",
    "            \"tgtSpikeRegion\": {  # valid for NumSpikes and ProbSpikes\n",
    "                \"start\": 0,\n",
    "                \"stop\": 75,\n",
    "            },\n",
    "            \"tgtSpikeCount\": {True: 250, False: 60},\n",
    "        }\n",
    "    },\n",
    "}"
   ]
  },
  {
   "cell_type": "code",
   "execution_count": 15,
   "metadata": {},
   "outputs": [],
   "source": [
    "class EncoderDecoderMLP(torch.nn.Module):\n",
    "    def __init__(self, params, input_size, hidden_size, output_size):\n",
    "        super(EncoderDecoderMLP, self).__init__()\n",
    "        self.output_size = output_size\n",
    "        self.slayer = snn.layer(params[\"neuron\"], params[\"simulation\"])\n",
    "        self.fc1 = self.slayer.dense(input_size, hidden_size)\n",
    "        self.fc2 = self.slayer.dense(hidden_size, output_size)\n",
    "\n",
    "    def forward(self, spike_input):\n",
    "        spike_1 = self.slayer.spike(self.slayer.psp(self.fc1(spike_input)))\n",
    "        spike_output = self.slayer.spike(self.slayer.psp(self.fc2(spike_1)))\n",
    "        return spike_output"
   ]
  },
  {
   "cell_type": "code",
   "execution_count": 29,
   "metadata": {},
   "outputs": [],
   "source": [
    "class AE(torch.nn.Module):\n",
    "    def __init__(self, params):\n",
    "        super(AE, self).__init__()\n",
    "        self.slayer = snn.layer(params[\"neuron\"], params[\"simulation\"])\n",
    "        \n",
    "        self.encoder_bio = EncoderDecoderMLP(params, 19, 128, 30)\n",
    "        self.encoder_icub = EncoderDecoderMLP(params, 60, 128, 30)\n",
    "        \n",
    "        self.fc = self.slayer.dense(60, 30)\n",
    "        \n",
    "        self.decoder_bio = EncoderDecoderMLP(params, 30, 128, 19)\n",
    "        self.decoder_icub = EncoderDecoderMLP(params, 30, 128, 60)\n",
    "        \n",
    "        self.fc_bio = self.slayer.dense(30, 20)\n",
    "        self.fc_icub = self.slayer.dense(30, 20)\n",
    "        \n",
    "    def get_spike(self, input_bio, input_icub):\n",
    "        return self.slayer.spike(input_bio), self.slayer.spike(input_icub)\n",
    "\n",
    "    def forward(self, input_bio, input_icub):\n",
    "        \n",
    "        encoded_bio = self.encoder_bio(input_bio)\n",
    "        encoded_icub = self.encoder_icub(input_icub)\n",
    "        \n",
    "        merged_both = torch.cat([encoded_bio, encoded_icub], 1)\n",
    "        merged_rep = self.slayer.spike(self.slayer.psp(self.fc(merged_both)))\n",
    "        \n",
    "        decoded_bio = self.decoder_bio(merged_rep)\n",
    "        decoded_icub = self.decoder_icub(merged_rep)\n",
    "        \n",
    "        output_bio = self.slayer.spike(self.slayer.psp(self.fc_bio(encoded_bio)))\n",
    "        output_icub = self.slayer.spike(self.slayer.psp(self.fc_icub(encoded_icub)))\n",
    "        \n",
    "        return decoded_bio, decoded_icub, output_bio, output_icub"
   ]
  },
  {
   "cell_type": "code",
   "execution_count": 40,
   "metadata": {},
   "outputs": [],
   "source": [
    "device = torch.device(\"cuda:1\")\n",
    "net = AE(params).to(device)"
   ]
  },
  {
   "cell_type": "code",
   "execution_count": 43,
   "metadata": {},
   "outputs": [],
   "source": [
    "error = snn.loss(params).to(device)\n",
    "error2 = snn.loss(params2).to(device)\n",
    "\n",
    "optimizer = torch.optim.RMSprop(net.parameters(), lr=0.001, weight_decay=0.5)"
   ]
  },
  {
   "cell_type": "code",
   "execution_count": 44,
   "metadata": {},
   "outputs": [
    {
     "name": "stdout",
     "output_type": "stream",
     "text": [
      "Epoch:  0  --------------------------\n",
      "Train loss: 243.72989275251115\n",
      "Train accuracy bio: 0.06\n",
      "Train loss bio: 685.9492585100446\n",
      "Train accuracy icub: 0.04285714285714286\n",
      "Train loss icub: 243.72989275251115\n",
      "Epoch:  10  --------------------------\n",
      "Train loss: 241.9421418108259\n",
      "Train accuracy bio: 0.06\n",
      "Train loss bio: 685.9492585100446\n",
      "Train accuracy icub: 0.06285714285714286\n",
      "Train loss icub: 241.9421418108259\n"
     ]
    },
    {
     "ename": "KeyboardInterrupt",
     "evalue": "",
     "output_type": "error",
     "traceback": [
      "\u001b[0;31m---------------------------------------------------------------------------\u001b[0m",
      "\u001b[0;31mKeyboardInterrupt\u001b[0m                         Traceback (most recent call last)",
      "\u001b[0;32m<ipython-input-44-792cc616f32b>\u001b[0m in \u001b[0;36m<module>\u001b[0;34m\u001b[0m\n\u001b[1;32m     28\u001b[0m         \u001b[0moutput_bio\u001b[0m\u001b[0;34m,\u001b[0m \u001b[0moutput_icub\u001b[0m\u001b[0;34m,\u001b[0m \u001b[0mbio\u001b[0m\u001b[0;34m,\u001b[0m \u001b[0micub\u001b[0m \u001b[0;34m=\u001b[0m \u001b[0mnet\u001b[0m\u001b[0;34m.\u001b[0m\u001b[0mforward\u001b[0m\u001b[0;34m(\u001b[0m\u001b[0mtact_bio\u001b[0m\u001b[0;34m,\u001b[0m \u001b[0mtact_icub\u001b[0m\u001b[0;34m)\u001b[0m\u001b[0;34m\u001b[0m\u001b[0m\n\u001b[1;32m     29\u001b[0m \u001b[0;34m\u001b[0m\u001b[0m\n\u001b[0;32m---> 30\u001b[0;31m         \u001b[0mloss_bio\u001b[0m \u001b[0;34m=\u001b[0m \u001b[0merror\u001b[0m\u001b[0;34m.\u001b[0m\u001b[0mspikeTime\u001b[0m\u001b[0;34m(\u001b[0m\u001b[0moutput_bio\u001b[0m\u001b[0;34m,\u001b[0m \u001b[0mtact_bio\u001b[0m\u001b[0;34m)\u001b[0m\u001b[0;34m\u001b[0m\u001b[0m\n\u001b[0m\u001b[1;32m     31\u001b[0m         \u001b[0mloss_icub\u001b[0m \u001b[0;34m=\u001b[0m \u001b[0merror\u001b[0m\u001b[0;34m.\u001b[0m\u001b[0mspikeTime\u001b[0m\u001b[0;34m(\u001b[0m\u001b[0moutput_icub\u001b[0m\u001b[0;34m,\u001b[0m \u001b[0mtact_icub\u001b[0m\u001b[0;34m)\u001b[0m\u001b[0;34m\u001b[0m\u001b[0m\n\u001b[1;32m     32\u001b[0m \u001b[0;34m\u001b[0m\u001b[0m\n",
      "\u001b[0;32m~/tas_python_env/lib/python3.5/site-packages/slayerSNN-0.0.0-py3.5.egg/slayerSNN/spikeLoss.py\u001b[0m in \u001b[0;36mspikeTime\u001b[0;34m(self, spikeOut, spikeDesired)\u001b[0m\n\u001b[1;32m     56\u001b[0m         \u001b[0;31m# error = self.psp(spikeOut - spikeDesired)\u001b[0m\u001b[0;34m\u001b[0m\u001b[0;34m\u001b[0m\u001b[0m\n\u001b[1;32m     57\u001b[0m         \u001b[0merror\u001b[0m \u001b[0;34m=\u001b[0m \u001b[0mself\u001b[0m\u001b[0;34m.\u001b[0m\u001b[0mslayer\u001b[0m\u001b[0;34m.\u001b[0m\u001b[0mpsp\u001b[0m\u001b[0;34m(\u001b[0m\u001b[0mspikeOut\u001b[0m \u001b[0;34m-\u001b[0m \u001b[0mspikeDesired\u001b[0m\u001b[0;34m)\u001b[0m\u001b[0;34m\u001b[0m\u001b[0m\n\u001b[0;32m---> 58\u001b[0;31m         \u001b[0;32mreturn\u001b[0m \u001b[0;36m1\u001b[0m\u001b[0;34m/\u001b[0m\u001b[0;36m2\u001b[0m \u001b[0;34m*\u001b[0m \u001b[0mtorch\u001b[0m\u001b[0;34m.\u001b[0m\u001b[0msum\u001b[0m\u001b[0;34m(\u001b[0m\u001b[0merror\u001b[0m\u001b[0;34m**\u001b[0m\u001b[0;36m2\u001b[0m\u001b[0;34m)\u001b[0m \u001b[0;34m*\u001b[0m \u001b[0mself\u001b[0m\u001b[0;34m.\u001b[0m\u001b[0msimulation\u001b[0m\u001b[0;34m[\u001b[0m\u001b[0;34m'Ts'\u001b[0m\u001b[0;34m]\u001b[0m\u001b[0;34m\u001b[0m\u001b[0m\n\u001b[0m\u001b[1;32m     59\u001b[0m \u001b[0;34m\u001b[0m\u001b[0m\n\u001b[1;32m     60\u001b[0m     \u001b[0;32mdef\u001b[0m \u001b[0mnumSpikes\u001b[0m\u001b[0;34m(\u001b[0m\u001b[0mself\u001b[0m\u001b[0;34m,\u001b[0m \u001b[0mspikeOut\u001b[0m\u001b[0;34m,\u001b[0m \u001b[0mdesiredClass\u001b[0m\u001b[0;34m,\u001b[0m \u001b[0mnumSpikesScale\u001b[0m\u001b[0;34m=\u001b[0m\u001b[0;36m1\u001b[0m\u001b[0;34m)\u001b[0m\u001b[0;34m:\u001b[0m\u001b[0;34m\u001b[0m\u001b[0m\n",
      "\u001b[0;31mKeyboardInterrupt\u001b[0m: "
     ]
    }
   ],
   "source": [
    "train_losses=[]\n",
    "test_losses = []\n",
    "\n",
    "train_losses_bio=[]\n",
    "test_losses_bio = []\n",
    "train_accs_bio = []\n",
    "test_accs_bio = []\n",
    "\n",
    "train_losses_icub=[]\n",
    "test_losses_icub = []\n",
    "train_accs_icub = []\n",
    "test_accs_icub = []\n",
    "\n",
    "for epoch in range(301):\n",
    "    net.train()\n",
    "    correct_bio = 0\n",
    "    correct_icub = 0\n",
    "    loss_train = 0\n",
    "    loss_train_bio = 0\n",
    "    loss_train_icub = 0\n",
    "    for i, (tact_icub, tact_bio, target, label) in enumerate(train_loader):\n",
    "        \n",
    "        tact_icub = tact_icub.to(device)\n",
    "        tact_bio = tact_bio.to(device)\n",
    "        tact_bio, tact_icub = net.get_spike(tact_bio, tact_icub)\n",
    "        \n",
    "#         print(tact_icub.shape, tact_bio.shape)\n",
    "        output_bio, output_icub, bio, icub = net.forward(tact_bio, tact_icub)\n",
    "    \n",
    "        loss_bio = error.spikeTime(output_bio, tact_bio)\n",
    "        loss_icub = error.spikeTime(output_icub, tact_icub)\n",
    "        \n",
    "        loss_bio_class = error2.numSpikes(bio, target)\n",
    "        loss_icub_class = error2.numSpikes(icub, target)\n",
    "        \n",
    "        correct_bio += torch.sum(snn.predict.getClass(bio) == label).data.item()\n",
    "        correct_icub += torch.sum(snn.predict.getClass(icub) == label).data.item()\n",
    "        \n",
    "        loss1 = loss_bio + loss_icub\n",
    "#         loss = 0.000001*loss1 + loss_bio_class + loss_icub_class\n",
    "        loss = loss_icub_class\n",
    "        loss_train_bio += loss_bio_class.item()\n",
    "        loss_train_icub += loss_icub_class.item()\n",
    "        \n",
    "        loss_train += loss.item()\n",
    "        optimizer.zero_grad()\n",
    "        loss.backward()\n",
    "        optimizer.step()\n",
    "                \n",
    "    if epoch%10 == 0:\n",
    "        print('Epoch: ', epoch, ' --------------------------')\n",
    "        print('Train loss:', loss_train/len(train_dataset))\n",
    "        print('Train accuracy bio:', correct_bio/len(train_dataset))\n",
    "        print('Train loss bio:', loss_train_bio/len(train_dataset))\n",
    "        print('Train accuracy icub:', correct_icub/len(train_dataset))\n",
    "        print('Train loss icub:', loss_train_icub/len(train_dataset))\n",
    "        \n",
    "    train_losses.append(loss_train/len(train_dataset))\n",
    "    \n",
    "    train_accs_bio.append(correct_bio/len(train_dataset))\n",
    "    train_losses_bio.append(loss_train_bio/len(train_dataset))\n",
    "    train_accs_icub.append(correct_icub/len(train_dataset))\n",
    "    train_losses_icub.append(loss_train_icub/len(train_dataset))\n",
    "        \n",
    "#     net.eval()\n",
    "#     correct = 0\n",
    "#     loss_test = 0\n",
    "#     with torch.no_grad():\n",
    "#         for i, (tact_icub, tact_bio, target, label) in enumerate(test_loader):\n",
    "\n",
    "#             tact_icub = tact_icub.to(device)\n",
    "#             tact_bio = tact_bio.to(device)\n",
    "#             tact_bio, tact_icub = net.get_spike(tact_bio, tact_icub)\n",
    "#             output_bio, output_icub = net.forward(tact_bio, tact_icub)\n",
    "#             loss_bio = error.spikeTime(output_bio, tact_bio)\n",
    "#             loss_icub = error.spikeTime(output_icub, tact_icub)\n",
    "#             loss = loss_bio + loss_icub\n",
    "#             loss_test += loss.item()\n",
    "            \n",
    "#     if epoch%1 == 0:\n",
    "#         print('Test loss:', loss_test/len(test_dataset))\n",
    "#     test_accs.append(correct/len(test_dataset))\n",
    "#     test_losses.append(loss_test/len(test_dataset))"
   ]
  },
  {
   "cell_type": "code",
   "execution_count": 45,
   "metadata": {},
   "outputs": [
    {
     "data": {
      "image/png": "[encoded data removed]",
      "text/plain": [
       "<Figure size 1080x504 with 1 Axes>"
      ]
     },
     "metadata": {
      "needs_background": "light"
     },
     "output_type": "display_data"
    }
   ],
   "source": [
    "fig, ax = plt.subplots(figsize=(15,7))\n",
    "\n",
    "ax.plot(train_losses)\n",
    "ax.plot(test_losses)\n",
    "ax.set_xlabel('Epoch')\n",
    "ax.set_ylabel('Loss')\n",
    "ax.legend(['Train', 'Test'])\n",
    "\n",
    "plt.show()"
   ]
  },
  {
   "cell_type": "code",
   "execution_count": 36,
   "metadata": {},
   "outputs": [],
   "source": [
    "# let's train each"
   ]
  },
  {
   "cell_type": "code",
   "execution_count": 46,
   "metadata": {},
   "outputs": [],
   "source": [
    "params_2 = {\n",
    "    \"neuron\": {\n",
    "        \"type\": \"SRMALPHA\",\n",
    "        \"theta\": 10, # 10\n",
    "        \"tauSr\": 10.0,\n",
    "        \"tauRef\": 1.0,\n",
    "        \"scaleRef\": 2,\n",
    "        \"tauRho\": 1,\n",
    "        \"scaleRho\": 1,\n",
    "    },\n",
    "    \"simulation\": {\"Ts\": 1.0, \"tSample\": 75, \"nSample\": 1},\n",
    "    \"training\": {\n",
    "        \"error\": {\n",
    "            \"type\": \"NumSpikes\",  # \"NumSpikes\", SpikeTime or \"ProbSpikes\"\n",
    "            \"probSlidingWin\": 20,  # only valid for ProbSpikes\n",
    "            \"tgtSpikeRegion\": {  # valid for NumSpikes and ProbSpikes\n",
    "                \"start\": 0,\n",
    "                \"stop\": 75,\n",
    "            },\n",
    "            \"tgtSpikeCount\": {True: 250, False: 60},\n",
    "        }\n",
    "    },\n",
    "}"
   ]
  },
  {
   "cell_type": "code",
   "execution_count": 52,
   "metadata": {},
   "outputs": [],
   "source": [
    "class OneLayerMLP(torch.nn.Module):\n",
    "    def __init__(self, params, input_size, output_size):\n",
    "        super(OneLayerMLP, self).__init__()\n",
    "        self.slayer = snn.layer(params[\"neuron\"], params[\"simulation\"])\n",
    "        self.fc1 = self.slayer.dense(input_size, output_size)\n",
    "\n",
    "    def forward(self, spike_input):\n",
    "        spike_1 = self.slayer.spike(self.slayer.psp(self.fc1(spike_input)))\n",
    "        return spike_1"
   ]
  },
  {
   "cell_type": "code",
   "execution_count": 53,
   "metadata": {},
   "outputs": [],
   "source": [
    "net_bio = OneLayerMLP(params_2, 30, 20).to(device)\n",
    "net_icub = OneLayerMLP(params_2, 30, 20).to(device)"
   ]
  },
  {
   "cell_type": "code",
   "execution_count": 54,
   "metadata": {},
   "outputs": [],
   "source": [
    "error_bio = snn.loss(params_2).to(device)\n",
    "error_icub = snn.loss(params_2).to(device)\n",
    "\n",
    "optimizer_bio = torch.optim.RMSprop(net_bio.parameters(), lr=0.001, weight_decay=0.5)\n",
    "optimizer_icub = torch.optim.RMSprop(net_icub.parameters(), lr=0.001, weight_decay=0.5)"
   ]
  },
  {
   "cell_type": "code",
   "execution_count": 56,
   "metadata": {},
   "outputs": [
    {
     "name": "stdout",
     "output_type": "stream",
     "text": [
      "Epoch:  0  --------------------------\n",
      "Train loss bio: 540.415269077846\n",
      "Train accuracy bio: 0.04428571428571428\n",
      "Train loss icub: 523.1946240234375\n",
      "Train accuracy icub: 0.05714285714285714\n",
      "Epoch:  10  --------------------------\n",
      "Train loss bio: 240.21042027064732\n",
      "Train accuracy bio: 0.05142857142857143\n",
      "Train loss icub: 264.6132980782645\n",
      "Train accuracy icub: 0.07714285714285714\n",
      "Epoch:  20  --------------------------\n",
      "Train loss bio: 233.73751708984375\n",
      "Train accuracy bio: 0.05714285714285714\n",
      "Train loss icub: 255.76316973005024\n",
      "Train accuracy icub: 0.05285714285714286\n",
      "Epoch:  30  --------------------------\n",
      "Train loss bio: 231.79367379324776\n",
      "Train accuracy bio: 0.06\n",
      "Train loss icub: 252.14847691127233\n",
      "Train accuracy icub: 0.07714285714285714\n",
      "Epoch:  40  --------------------------\n",
      "Train loss bio: 230.75150861467634\n",
      "Train accuracy bio: 0.05857142857142857\n",
      "Train loss icub: 250.28398106166296\n",
      "Train accuracy icub: 0.04285714285714286\n",
      "Epoch:  50  --------------------------\n",
      "Train loss bio: 230.35440865652902\n",
      "Train accuracy bio: 0.037142857142857144\n",
      "Train loss icub: 249.12284075055803\n",
      "Train accuracy icub: 0.07571428571428572\n",
      "Epoch:  60  --------------------------\n",
      "Train loss bio: 229.9307835170201\n",
      "Train accuracy bio: 0.055714285714285716\n",
      "Train loss icub: 248.2574417550223\n",
      "Train accuracy icub: 0.10142857142857142\n",
      "Epoch:  70  --------------------------\n",
      "Train loss bio: 229.67157052176339\n",
      "Train accuracy bio: 0.05285714285714286\n",
      "Train loss icub: 247.76880571637835\n",
      "Train accuracy icub: 0.11571428571428571\n",
      "Epoch:  80  --------------------------\n",
      "Train loss bio: 229.50490827287948\n",
      "Train accuracy bio: 0.05285714285714286\n",
      "Train loss icub: 247.28887677873885\n",
      "Train accuracy icub: 0.12285714285714286\n",
      "Epoch:  90  --------------------------\n",
      "Train loss bio: 229.49621564592633\n",
      "Train accuracy bio: 0.047142857142857146\n",
      "Train loss icub: 247.00621023995535\n",
      "Train accuracy icub: 0.1442857142857143\n",
      "Epoch:  100  --------------------------\n",
      "Train loss bio: 229.43540649414064\n",
      "Train accuracy bio: 0.032857142857142856\n",
      "Train loss icub: 246.78178379603796\n",
      "Train accuracy icub: 0.11857142857142858\n",
      "Epoch:  110  --------------------------\n",
      "Train loss bio: 229.36202898297992\n",
      "Train accuracy bio: 0.03857142857142857\n",
      "Train loss icub: 246.44988133021764\n",
      "Train accuracy icub: 0.14\n",
      "Epoch:  120  --------------------------\n",
      "Train loss bio: 229.23201224190848\n",
      "Train accuracy bio: 0.04857142857142857\n",
      "Train loss icub: 246.3653337751116\n",
      "Train accuracy icub: 0.12285714285714286\n",
      "Epoch:  130  --------------------------\n",
      "Train loss bio: 229.10680010114396\n",
      "Train accuracy bio: 0.05857142857142857\n",
      "Train loss icub: 246.15933628627232\n",
      "Train accuracy icub: 0.14714285714285713\n",
      "Epoch:  140  --------------------------\n",
      "Train loss bio: 229.09351196289063\n",
      "Train accuracy bio: 0.05142857142857143\n",
      "Train loss icub: 246.0871745954241\n",
      "Train accuracy icub: 0.1442857142857143\n",
      "Epoch:  150  --------------------------\n",
      "Train loss bio: 229.03165457589284\n",
      "Train accuracy bio: 0.06142857142857143\n",
      "Train loss icub: 245.99916451590403\n",
      "Train accuracy icub: 0.15428571428571428\n",
      "Epoch:  160  --------------------------\n",
      "Train loss bio: 229.01544468470982\n",
      "Train accuracy bio: 0.06142857142857143\n",
      "Train loss icub: 245.91365225655693\n",
      "Train accuracy icub: 0.14714285714285713\n",
      "Epoch:  170  --------------------------\n",
      "Train loss bio: 229.00744611467633\n",
      "Train accuracy bio: 0.06\n",
      "Train loss icub: 245.81385271344865\n",
      "Train accuracy icub: 0.13428571428571429\n",
      "Epoch:  180  --------------------------\n",
      "Train loss bio: 229.03049194335938\n",
      "Train accuracy bio: 0.055714285714285716\n",
      "Train loss icub: 245.75777640206474\n",
      "Train accuracy icub: 0.12571428571428572\n",
      "Epoch:  190  --------------------------\n",
      "Train loss bio: 229.0173038155692\n",
      "Train accuracy bio: 0.05142857142857143\n",
      "Train loss icub: 245.68481270926338\n",
      "Train accuracy icub: 0.13857142857142857\n",
      "Epoch:  200  --------------------------\n",
      "Train loss bio: 229.01954040527343\n",
      "Train accuracy bio: 0.05142857142857143\n",
      "Train loss icub: 245.58947160993304\n",
      "Train accuracy icub: 0.14\n"
     ]
    },
    {
     "ename": "KeyboardInterrupt",
     "evalue": "",
     "output_type": "error",
     "traceback": [
      "\u001b[0;31m---------------------------------------------------------------------------\u001b[0m",
      "\u001b[0;31mKeyboardInterrupt\u001b[0m                         Traceback (most recent call last)",
      "\u001b[0;32m<ipython-input-56-9c79fdc3d960>\u001b[0m in \u001b[0;36m<module>\u001b[0;34m\u001b[0m\n\u001b[1;32m     23\u001b[0m         \u001b[0;32mwith\u001b[0m \u001b[0mtorch\u001b[0m\u001b[0;34m.\u001b[0m\u001b[0mno_grad\u001b[0m\u001b[0;34m(\u001b[0m\u001b[0;34m)\u001b[0m\u001b[0;34m:\u001b[0m\u001b[0;34m\u001b[0m\u001b[0m\n\u001b[1;32m     24\u001b[0m             \u001b[0mtact_bio\u001b[0m\u001b[0;34m,\u001b[0m \u001b[0mtact_icub\u001b[0m \u001b[0;34m=\u001b[0m \u001b[0mnet\u001b[0m\u001b[0;34m.\u001b[0m\u001b[0mget_spike\u001b[0m\u001b[0;34m(\u001b[0m\u001b[0mtact_bio\u001b[0m\u001b[0;34m,\u001b[0m \u001b[0mtact_icub\u001b[0m\u001b[0;34m)\u001b[0m\u001b[0;34m\u001b[0m\u001b[0m\n\u001b[0;32m---> 25\u001b[0;31m             \u001b[0mdecoded_bio\u001b[0m \u001b[0;34m=\u001b[0m \u001b[0mnet\u001b[0m\u001b[0;34m.\u001b[0m\u001b[0mencoder_bio\u001b[0m\u001b[0;34m(\u001b[0m\u001b[0mtact_bio\u001b[0m\u001b[0;34m)\u001b[0m\u001b[0;34m\u001b[0m\u001b[0m\n\u001b[0m\u001b[1;32m     26\u001b[0m             \u001b[0mdecoded_icub\u001b[0m \u001b[0;34m=\u001b[0m \u001b[0mnet\u001b[0m\u001b[0;34m.\u001b[0m\u001b[0mencoder_icub\u001b[0m\u001b[0;34m(\u001b[0m\u001b[0mtact_icub\u001b[0m\u001b[0;34m)\u001b[0m\u001b[0;34m\u001b[0m\u001b[0m\n\u001b[1;32m     27\u001b[0m \u001b[0;34m\u001b[0m\u001b[0m\n",
      "\u001b[0;32m~/tas_python_env/lib/python3.5/site-packages/torch/nn/modules/module.py\u001b[0m in \u001b[0;36m__call__\u001b[0;34m(self, *input, **kwargs)\u001b[0m\n\u001b[1;32m    539\u001b[0m             \u001b[0mresult\u001b[0m \u001b[0;34m=\u001b[0m \u001b[0mself\u001b[0m\u001b[0;34m.\u001b[0m\u001b[0m_slow_forward\u001b[0m\u001b[0;34m(\u001b[0m\u001b[0;34m*\u001b[0m\u001b[0minput\u001b[0m\u001b[0;34m,\u001b[0m \u001b[0;34m**\u001b[0m\u001b[0mkwargs\u001b[0m\u001b[0;34m)\u001b[0m\u001b[0;34m\u001b[0m\u001b[0m\n\u001b[1;32m    540\u001b[0m         \u001b[0;32melse\u001b[0m\u001b[0;34m:\u001b[0m\u001b[0;34m\u001b[0m\u001b[0m\n\u001b[0;32m--> 541\u001b[0;31m             \u001b[0mresult\u001b[0m \u001b[0;34m=\u001b[0m \u001b[0mself\u001b[0m\u001b[0;34m.\u001b[0m\u001b[0mforward\u001b[0m\u001b[0;34m(\u001b[0m\u001b[0;34m*\u001b[0m\u001b[0minput\u001b[0m\u001b[0;34m,\u001b[0m \u001b[0;34m**\u001b[0m\u001b[0mkwargs\u001b[0m\u001b[0;34m)\u001b[0m\u001b[0;34m\u001b[0m\u001b[0m\n\u001b[0m\u001b[1;32m    542\u001b[0m         \u001b[0;32mfor\u001b[0m \u001b[0mhook\u001b[0m \u001b[0;32min\u001b[0m \u001b[0mself\u001b[0m\u001b[0;34m.\u001b[0m\u001b[0m_forward_hooks\u001b[0m\u001b[0;34m.\u001b[0m\u001b[0mvalues\u001b[0m\u001b[0;34m(\u001b[0m\u001b[0;34m)\u001b[0m\u001b[0;34m:\u001b[0m\u001b[0;34m\u001b[0m\u001b[0m\n\u001b[1;32m    543\u001b[0m             \u001b[0mhook_result\u001b[0m \u001b[0;34m=\u001b[0m \u001b[0mhook\u001b[0m\u001b[0;34m(\u001b[0m\u001b[0mself\u001b[0m\u001b[0;34m,\u001b[0m \u001b[0minput\u001b[0m\u001b[0;34m,\u001b[0m \u001b[0mresult\u001b[0m\u001b[0;34m)\u001b[0m\u001b[0;34m\u001b[0m\u001b[0m\n",
      "\u001b[0;32m<ipython-input-38-b066e21fb710>\u001b[0m in \u001b[0;36mforward\u001b[0;34m(self, spike_input)\u001b[0m\n\u001b[1;32m      9\u001b[0m     \u001b[0;32mdef\u001b[0m \u001b[0mforward\u001b[0m\u001b[0;34m(\u001b[0m\u001b[0mself\u001b[0m\u001b[0;34m,\u001b[0m \u001b[0mspike_input\u001b[0m\u001b[0;34m)\u001b[0m\u001b[0;34m:\u001b[0m\u001b[0;34m\u001b[0m\u001b[0m\n\u001b[1;32m     10\u001b[0m         \u001b[0mspike_1\u001b[0m \u001b[0;34m=\u001b[0m \u001b[0mself\u001b[0m\u001b[0;34m.\u001b[0m\u001b[0mslayer\u001b[0m\u001b[0;34m.\u001b[0m\u001b[0mspike\u001b[0m\u001b[0;34m(\u001b[0m\u001b[0mself\u001b[0m\u001b[0;34m.\u001b[0m\u001b[0mslayer\u001b[0m\u001b[0;34m.\u001b[0m\u001b[0mpsp\u001b[0m\u001b[0;34m(\u001b[0m\u001b[0mself\u001b[0m\u001b[0;34m.\u001b[0m\u001b[0mfc1\u001b[0m\u001b[0;34m(\u001b[0m\u001b[0mspike_input\u001b[0m\u001b[0;34m)\u001b[0m\u001b[0;34m)\u001b[0m\u001b[0;34m)\u001b[0m\u001b[0;34m\u001b[0m\u001b[0m\n\u001b[0;32m---> 11\u001b[0;31m         \u001b[0mspike_output\u001b[0m \u001b[0;34m=\u001b[0m \u001b[0mself\u001b[0m\u001b[0;34m.\u001b[0m\u001b[0mslayer\u001b[0m\u001b[0;34m.\u001b[0m\u001b[0mspike\u001b[0m\u001b[0;34m(\u001b[0m\u001b[0mself\u001b[0m\u001b[0;34m.\u001b[0m\u001b[0mslayer\u001b[0m\u001b[0;34m.\u001b[0m\u001b[0mpsp\u001b[0m\u001b[0;34m(\u001b[0m\u001b[0mself\u001b[0m\u001b[0;34m.\u001b[0m\u001b[0mfc2\u001b[0m\u001b[0;34m(\u001b[0m\u001b[0mspike_1\u001b[0m\u001b[0;34m)\u001b[0m\u001b[0;34m)\u001b[0m\u001b[0;34m)\u001b[0m\u001b[0;34m\u001b[0m\u001b[0m\n\u001b[0m\u001b[1;32m     12\u001b[0m         \u001b[0;32mreturn\u001b[0m \u001b[0mspike_output\u001b[0m\u001b[0;34m\u001b[0m\u001b[0m\n",
      "\u001b[0;32m~/tas_python_env/lib/python3.5/site-packages/torch/nn/modules/module.py\u001b[0m in \u001b[0;36m__call__\u001b[0;34m(self, *input, **kwargs)\u001b[0m\n\u001b[1;32m    544\u001b[0m             \u001b[0;32mif\u001b[0m \u001b[0mhook_result\u001b[0m \u001b[0;32mis\u001b[0m \u001b[0;32mnot\u001b[0m \u001b[0;32mNone\u001b[0m\u001b[0;34m:\u001b[0m\u001b[0;34m\u001b[0m\u001b[0m\n\u001b[1;32m    545\u001b[0m                 \u001b[0mresult\u001b[0m \u001b[0;34m=\u001b[0m \u001b[0mhook_result\u001b[0m\u001b[0;34m\u001b[0m\u001b[0m\n\u001b[0;32m--> 546\u001b[0;31m         \u001b[0;32mif\u001b[0m \u001b[0mlen\u001b[0m\u001b[0;34m(\u001b[0m\u001b[0mself\u001b[0m\u001b[0;34m.\u001b[0m\u001b[0m_backward_hooks\u001b[0m\u001b[0;34m)\u001b[0m \u001b[0;34m>\u001b[0m \u001b[0;36m0\u001b[0m\u001b[0;34m:\u001b[0m\u001b[0;34m\u001b[0m\u001b[0m\n\u001b[0m\u001b[1;32m    547\u001b[0m             \u001b[0mvar\u001b[0m \u001b[0;34m=\u001b[0m \u001b[0mresult\u001b[0m\u001b[0;34m\u001b[0m\u001b[0m\n\u001b[1;32m    548\u001b[0m             \u001b[0;32mwhile\u001b[0m \u001b[0;32mnot\u001b[0m \u001b[0misinstance\u001b[0m\u001b[0;34m(\u001b[0m\u001b[0mvar\u001b[0m\u001b[0;34m,\u001b[0m \u001b[0mtorch\u001b[0m\u001b[0;34m.\u001b[0m\u001b[0mTensor\u001b[0m\u001b[0;34m)\u001b[0m\u001b[0;34m:\u001b[0m\u001b[0;34m\u001b[0m\u001b[0m\n",
      "\u001b[0;31mKeyboardInterrupt\u001b[0m: "
     ]
    }
   ],
   "source": [
    "train_losses_bio=[]\n",
    "test_losses_bio = []\n",
    "train_accs_bio = []\n",
    "test_accs_bio = []\n",
    "\n",
    "train_losses_icub=[]\n",
    "test_losses_icub = []\n",
    "train_accs_icub = []\n",
    "test_accs_icub = []\n",
    "\n",
    "for epoch in range(301):\n",
    "    net.train()\n",
    "    correct = 0\n",
    "    loss_train_bio = 0\n",
    "    loss_train_icub = 0\n",
    "    correct_bio = 0\n",
    "    correct_icub = 0\n",
    "    for i, (tact_icub, tact_bio, target, label) in enumerate(train_loader):\n",
    "        \n",
    "        tact_icub = tact_icub.to(device)\n",
    "        tact_bio = tact_bio.to(device)\n",
    "        \n",
    "        with torch.no_grad():\n",
    "            tact_bio, tact_icub = net.get_spike(tact_bio, tact_icub)\n",
    "            decoded_bio = net.encoder_bio(tact_bio)\n",
    "            decoded_icub = net.encoder_icub(tact_icub)\n",
    "            \n",
    "        output_bio = net_bio.forward(decoded_bio)\n",
    "        output_icub = net_icub.forward(decoded_icub)\n",
    "        loss_bio = error_bio.numSpikes(output_bio, target)\n",
    "        loss_icub = error_icub.numSpikes(output_icub, target)\n",
    "\n",
    "\n",
    "        loss_train_bio += loss_bio.item()\n",
    "        loss_train_icub += loss_icub.item()\n",
    "        \n",
    "        correct_bio += torch.sum(snn.predict.getClass(output_bio) == label).data.item()\n",
    "        correct_icub += torch.sum(snn.predict.getClass(output_icub) == label).data.item()\n",
    "        \n",
    "        optimizer_bio.zero_grad()\n",
    "        optimizer_icub.zero_grad()\n",
    "        loss_bio.backward()\n",
    "        loss_icub.backward()\n",
    "        optimizer_bio.step()\n",
    "        optimizer_icub.step()\n",
    "                \n",
    "    if epoch%10 == 0:\n",
    "        print('Epoch: ', epoch, ' --------------------------')\n",
    "        print('Train loss bio:', loss_train_bio/len(train_dataset))\n",
    "        print('Train accuracy bio:', correct_bio/len(train_dataset))\n",
    "        print('Train loss icub:', loss_train_icub/len(train_dataset))\n",
    "        print('Train accuracy icub:', correct_icub/len(train_dataset))\n",
    "        \n",
    "    train_accs_bio.append(correct_bio/len(train_dataset))\n",
    "    train_losses_bio.append(loss_train_bio/len(train_dataset))\n",
    "    train_accs_icub.append(correct_icub/len(train_dataset))\n",
    "    train_losses_icub.append(loss_train_icub/len(train_dataset))\n",
    "        \n",
    "#     net.eval()\n",
    "#     correct = 0\n",
    "#     loss_test = 0\n",
    "#     with torch.no_grad():\n",
    "#         for i, (tact_icub, tact_bio, target, label) in enumerate(test_loader):\n",
    "\n",
    "#             tact_icub = tact_icub.to(device)\n",
    "#             tact_bio = tact_bio.to(device)\n",
    "#             tact_bio, tact_icub = net.get_spike(tact_bio, tact_icub)\n",
    "#             output_bio, output_icub = net.forward(tact_bio, tact_icub)\n",
    "#             loss_bio = error.spikeTime(output_bio, tact_bio)\n",
    "#             loss_icub = error.spikeTime(output_icub, tact_icub)\n",
    "#             loss = loss_bio + loss_icub\n",
    "#             loss_test += loss.item()\n",
    "            \n",
    "#     if epoch%1 == 0:\n",
    "#         print('Test loss:', loss_test/len(test_dataset))\n",
    "#     test_accs.append(correct/len(test_dataset))\n",
    "#     test_losses.append(loss_test/len(test_dataset))"
   ]
  },
  {
   "cell_type": "code",
   "execution_count": null,
   "metadata": {},
   "outputs": [],
   "source": []
  }
 ],
 "metadata": {
  "kernelspec": {
   "display_name": "Python 3",
   "language": "python",
   "name": "python3"
  },
  "language_info": {
   "codemirror_mode": {
    "name": "ipython",
    "version": 3
   },
   "file_extension": ".py",
   "mimetype": "text/x-python",
   "name": "python",
   "nbconvert_exporter": "python",
   "pygments_lexer": "ipython3",
   "version": "3.5.2"
  }
 },
 "nbformat": 4,
 "nbformat_minor": 2
}
