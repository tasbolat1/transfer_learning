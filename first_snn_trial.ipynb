{
 "cells": [
  {
   "cell_type": "code",
   "execution_count": 19,
   "metadata": {},
   "outputs": [],
   "source": [
    "import sys, os\n",
    "CURRENT_TEST_DIR = os.getcwd()\n",
    "sys.path.append(CURRENT_TEST_DIR + \"/../../../slayerPytorch/src\")"
   ]
  },
  {
   "cell_type": "code",
   "execution_count": 20,
   "metadata": {},
   "outputs": [
    {
     "data": {
      "text/plain": [
       "<torch._C.Generator at 0x7f95f83aa6d0>"
      ]
     },
     "execution_count": 20,
     "metadata": {},
     "output_type": "execute_result"
    }
   ],
   "source": [
    "import slayerSNN as snn\n",
    "import pandas as pd\n",
    "import numpy as np\n",
    "import matplotlib.pyplot as plt\n",
    "from dtw import dtw, accelerated_dtw\n",
    "from numpy.linalg import norm\n",
    "from joblib import Parallel, delayed\n",
    "import torch\n",
    "import copy\n",
    "from torch.utils.data import Dataset\n",
    "from sklearn.model_selection import train_test_split\n",
    "\n",
    "np.random.seed(1)\n",
    "torch.manual_seed(1)"
   ]
  },
  {
   "cell_type": "code",
   "execution_count": 21,
   "metadata": {},
   "outputs": [],
   "source": [
    "#X = np.load('auxiliaries/electrodes.npy')\n",
    "X = torch.load('../BioTac_Icub_data/Bio_all.pt').permute(0,2,1).numpy()\n",
    "#Y = np.load('auxiliaries/labels.npy')\n",
    "Y = np.load('../BioTac_Icub_data/ICUB_all_labels.npy')"
   ]
  },
  {
   "cell_type": "code",
   "execution_count": 22,
   "metadata": {},
   "outputs": [
    {
     "data": {
      "text/plain": [
       "((1000, 19, 150), (1000,))"
      ]
     },
     "execution_count": 22,
     "metadata": {},
     "output_type": "execute_result"
    }
   ],
   "source": [
    "X.shape, Y.shape"
   ]
  },
  {
   "cell_type": "code",
   "execution_count": 23,
   "metadata": {},
   "outputs": [],
   "source": [
    "def get_ohe(_Y):\n",
    "    target_class = np.zeros([_Y.shape[0], 20])\n",
    "    for i in range(target_class.shape[0]):\n",
    "        target_class[i, int(_Y[i])] = 1\n",
    "    return target_class"
   ]
  },
  {
   "cell_type": "code",
   "execution_count": 24,
   "metadata": {},
   "outputs": [],
   "source": [
    "X = X.reshape(X.shape[0], X.shape[1], 1, 1, X.shape[-1])\n",
    "# Y = Y.reshape(Y.shape[0], Y.shape[1], 1, 1, Y.shape[-1])"
   ]
  },
  {
   "cell_type": "code",
   "execution_count": 25,
   "metadata": {},
   "outputs": [],
   "source": [
    "X_train, X_test, y_train, y_test = train_test_split(X, Y, test_size=0.30, random_state=42, stratify=Y)"
   ]
  },
  {
   "cell_type": "code",
   "execution_count": 26,
   "metadata": {},
   "outputs": [
    {
     "data": {
      "text/plain": [
       "(torch.Size([700, 19, 1, 1, 150]),\n",
       " torch.Size([700]),\n",
       " torch.Size([700, 20, 1, 1, 1]))"
      ]
     },
     "execution_count": 26,
     "metadata": {},
     "output_type": "execute_result"
    }
   ],
   "source": [
    "X_train = torch.FloatTensor(X_train)\n",
    "y_train = torch.FloatTensor(y_train)\n",
    "\n",
    "target_class_train = torch.FloatTensor(get_ohe(y_train).reshape(-1, 20, 1, 1, 1))\n",
    "    \n",
    "X_test = torch.FloatTensor(X_test)\n",
    "y_test = torch.FloatTensor(y_test)\n",
    "target_class_test= torch.FloatTensor(get_ohe(y_test).reshape(-1, 20, 1, 1, 1))\n",
    "\n",
    "\n",
    "X_train.shape, y_train.shape, target_class_train.shape"
   ]
  },
  {
   "cell_type": "code",
   "execution_count": 27,
   "metadata": {},
   "outputs": [],
   "source": [
    "params = {\n",
    "    \"neuron\": {\n",
    "        \"type\": \"SRMALPHA\",\n",
    "        \"theta\": 5, # 10\n",
    "        \"tauSr\": 10.0,\n",
    "        \"tauRef\": 2.0,\n",
    "        \"scaleRef\": 2,\n",
    "        \"tauRho\": 1,\n",
    "        \"scaleRho\": 1,\n",
    "    },\n",
    "    \"simulation\": {\"Ts\": 1.0, \"tSample\": 150, \"nSample\": 1},\n",
    "    \"training\": {\n",
    "        \"error\": {\n",
    "            \"type\": \"NumSpikes\",  # \"NumSpikes\" or \"ProbSpikes\"\n",
    "            \"probSlidingWin\": 20,  # only valid for ProbSpikes\n",
    "            \"tgtSpikeRegion\": {  # valid for NumSpikes and ProbSpikes\n",
    "                \"start\": 0,\n",
    "                \"stop\": 150,\n",
    "            },\n",
    "            \"tgtSpikeCount\": {True: 120, False: 20},\n",
    "        }\n",
    "    },\n",
    "}\n"
   ]
  },
  {
   "cell_type": "code",
   "execution_count": 28,
   "metadata": {},
   "outputs": [],
   "source": [
    "train_dataset = torch.utils.data.TensorDataset(X_train, target_class_train, y_train)\n",
    "train_loader = torch.utils.data.DataLoader(train_dataset,shuffle=True,batch_size=8)\n",
    "\n",
    "test_dataset = torch.utils.data.TensorDataset(X_test, target_class_test, y_test)\n",
    "test_loader = torch.utils.data.DataLoader(test_dataset,shuffle=True,batch_size=8)"
   ]
  },
  {
   "cell_type": "code",
   "execution_count": 29,
   "metadata": {},
   "outputs": [],
   "source": [
    "class SlayerMLP(torch.nn.Module):\n",
    "    def __init__(self, params, input_size, hidden_size1, hidden_size2, output_size):\n",
    "        super(SlayerMLP, self).__init__()\n",
    "        self.output_size = output_size\n",
    "        self.slayer = snn.layer(params[\"neuron\"], params[\"simulation\"])\n",
    "        self.fc1 = self.slayer.dense(input_size, hidden_size1)\n",
    "        self.fc2 = self.slayer.dense(hidden_size1, hidden_size2)\n",
    "        self.fc3 = self.slayer.dense(hidden_size2, output_size)\n",
    "\n",
    "    def get_spike(self, inp):\n",
    "        return self.slayer.spike(inp)\n",
    "    \n",
    "    def forward(self, spike_input):\n",
    "        spike_1 = self.slayer.spike(self.slayer.psp(self.fc1(spike_input)))\n",
    "        spike_2 = self.slayer.spike(self.slayer.psp(self.fc2(spike_1)))\n",
    "        spike_output = self.slayer.spike(self.slayer.psp(self.fc3(spike_2)))\n",
    "        return spike_output"
   ]
  },
  {
   "cell_type": "code",
   "execution_count": 30,
   "metadata": {},
   "outputs": [],
   "source": [
    "device = torch.device(\"cuda:1\")\n",
    "net = SlayerMLP(params, 19, 50, 40, 20).to(device)"
   ]
  },
  {
   "cell_type": "code",
   "execution_count": 31,
   "metadata": {},
   "outputs": [],
   "source": [
    "error = snn.loss(params).to(device)\n",
    "optimizer = torch.optim.RMSprop(net.parameters(), lr=0.001, weight_decay=0.5)"
   ]
  },
  {
   "cell_type": "code",
   "execution_count": 32,
   "metadata": {},
   "outputs": [
    {
     "name": "stdout",
     "output_type": "stream",
     "text": [
      "Epoch:  0  --------------------------\n",
      "Train loss: 58.81694776262556\n",
      "Train accuracy: 0.09142857142857143\n",
      "Test loss: 48.565624389648434\n",
      "Test accuracy: 0.13333333333333333\n",
      "Epoch:  10  --------------------------\n",
      "Train loss: 27.755971276419505\n",
      "Train accuracy: 0.4857142857142857\n",
      "Test loss: 26.841733322143554\n",
      "Test accuracy: 0.5033333333333333\n",
      "Epoch:  20  --------------------------\n",
      "Train loss: 23.11833315168108\n",
      "Train accuracy: 0.65\n",
      "Test loss: 22.382277806599934\n",
      "Test accuracy: 0.6833333333333333\n",
      "Epoch:  30  --------------------------\n",
      "Train loss: 20.233790544782366\n",
      "Train accuracy: 0.7571428571428571\n",
      "Test loss: 19.752477951049805\n",
      "Test accuracy: 0.7733333333333333\n",
      "Epoch:  40  --------------------------\n",
      "Train loss: 18.287376044137137\n",
      "Train accuracy: 0.7971428571428572\n",
      "Test loss: 18.124500249226887\n",
      "Test accuracy: 0.8233333333333334\n",
      "Epoch:  50  --------------------------\n",
      "Train loss: 16.949785673958914\n",
      "Train accuracy: 0.83\n",
      "Test loss: 16.81265561421712\n",
      "Test accuracy: 0.82\n",
      "Epoch:  60  --------------------------\n",
      "Train loss: 15.838476148332868\n",
      "Train accuracy: 0.8557142857142858\n",
      "Test loss: 15.911022364298503\n",
      "Test accuracy: 0.8266666666666667\n",
      "Epoch:  70  --------------------------\n",
      "Train loss: 15.02115225655692\n",
      "Train accuracy: 0.8585714285714285\n",
      "Test loss: 15.080333213806153\n",
      "Test accuracy: 0.84\n",
      "Epoch:  80  --------------------------\n",
      "Train loss: 14.226899953569685\n",
      "Train accuracy: 0.8742857142857143\n",
      "Test loss: 14.542822240193685\n",
      "Test accuracy: 0.8633333333333333\n",
      "Epoch:  90  --------------------------\n",
      "Train loss: 13.572371515546527\n",
      "Train accuracy: 0.8885714285714286\n",
      "Test loss: 13.902055562337239\n",
      "Test accuracy: 0.8733333333333333\n",
      "Epoch:  100  --------------------------\n",
      "Train loss: 13.075509496416364\n",
      "Train accuracy: 0.8814285714285715\n",
      "Test loss: 13.296766789754232\n",
      "Test accuracy: 0.8866666666666667\n",
      "Epoch:  110  --------------------------\n",
      "Train loss: 12.482271423339844\n",
      "Train accuracy: 0.9071428571428571\n",
      "Test loss: 12.993077761332193\n",
      "Test accuracy: 0.88\n",
      "Epoch:  120  --------------------------\n",
      "Train loss: 12.004947602408272\n",
      "Train accuracy: 0.9014285714285715\n",
      "Test loss: 12.543755302429199\n",
      "Test accuracy: 0.8766666666666667\n",
      "Epoch:  130  --------------------------\n",
      "Train loss: 11.527590457371304\n",
      "Train accuracy: 0.9057142857142857\n",
      "Test loss: 12.08933344523112\n",
      "Test accuracy: 0.8766666666666667\n",
      "Epoch:  140  --------------------------\n",
      "Train loss: 11.08634283883231\n",
      "Train accuracy: 0.9128571428571428\n",
      "Test loss: 11.60763313293457\n",
      "Test accuracy: 0.9033333333333333\n",
      "Epoch:  150  --------------------------\n",
      "Train loss: 10.687442915780204\n",
      "Train accuracy: 0.9257142857142857\n",
      "Test loss: 11.152744255065919\n",
      "Test accuracy: 0.9033333333333333\n",
      "Epoch:  160  --------------------------\n",
      "Train loss: 10.387328725542341\n",
      "Train accuracy: 0.9228571428571428\n",
      "Test loss: 10.85950003306071\n",
      "Test accuracy: 0.9033333333333333\n",
      "Epoch:  170  --------------------------\n",
      "Train loss: 9.918576213291713\n",
      "Train accuracy: 0.9342857142857143\n",
      "Test loss: 10.873211085001628\n",
      "Test accuracy: 0.89\n",
      "Epoch:  180  --------------------------\n",
      "Train loss: 9.665042888096401\n",
      "Train accuracy: 0.9285714285714286\n",
      "Test loss: 10.280599924723306\n",
      "Test accuracy: 0.9\n",
      "Epoch:  190  --------------------------\n",
      "Train loss: 9.397142827170235\n",
      "Train accuracy: 0.9271428571428572\n",
      "Test loss: 10.197655499776204\n",
      "Test accuracy: 0.9066666666666666\n",
      "Epoch:  200  --------------------------\n",
      "Train loss: 9.041033385140555\n",
      "Train accuracy: 0.9342857142857143\n",
      "Test loss: 9.777577883402506\n",
      "Test accuracy: 0.92\n",
      "Epoch:  210  --------------------------\n",
      "Train loss: 8.752233309064593\n",
      "Train accuracy: 0.94\n",
      "Test loss: 10.247955538431803\n",
      "Test accuracy: 0.89\n",
      "Epoch:  220  --------------------------\n",
      "Train loss: 8.557166644505092\n",
      "Train accuracy: 0.9428571428571428\n",
      "Test loss: 9.155855598449707\n",
      "Test accuracy: 0.9333333333333333\n",
      "Epoch:  230  --------------------------\n",
      "Train loss: 8.326242874690465\n",
      "Train accuracy: 0.9414285714285714\n",
      "Test loss: 9.29304443995158\n",
      "Test accuracy: 0.9066666666666666\n",
      "Epoch:  240  --------------------------\n",
      "Train loss: 8.100276227678572\n",
      "Train accuracy: 0.9414285714285714\n",
      "Test loss: 8.841755555470785\n",
      "Test accuracy: 0.9266666666666666\n",
      "Epoch:  250  --------------------------\n",
      "Train loss: 7.973761836460659\n",
      "Train accuracy: 0.9385714285714286\n",
      "Test loss: 8.692044334411621\n",
      "Test accuracy: 0.9266666666666666\n",
      "Epoch:  260  --------------------------\n",
      "Train loss: 7.759985727582659\n",
      "Train accuracy: 0.9371428571428572\n",
      "Test loss: 8.936011174519857\n",
      "Test accuracy: 0.9166666666666666\n",
      "Epoch:  270  --------------------------\n",
      "Train loss: 7.601899924959455\n",
      "Train accuracy: 0.9385714285714286\n",
      "Test loss: 8.429366505940756\n",
      "Test accuracy: 0.9333333333333333\n",
      "Epoch:  280  --------------------------\n",
      "Train loss: 7.4991618864876886\n",
      "Train accuracy: 0.94\n",
      "Test loss: 8.695811201731363\n",
      "Test accuracy: 0.9033333333333333\n",
      "Epoch:  290  --------------------------\n",
      "Train loss: 7.357771407536098\n",
      "Train accuracy: 0.94\n",
      "Test loss: 8.324266732533772\n",
      "Test accuracy: 0.9266666666666666\n",
      "Epoch:  300  --------------------------\n",
      "Train loss: 7.261742902483259\n",
      "Train accuracy: 0.9442857142857143\n",
      "Test loss: 8.228699957529704\n",
      "Test accuracy: 0.9233333333333333\n",
      "Epoch:  310  --------------------------\n",
      "Train loss: 7.082380973270961\n",
      "Train accuracy: 0.9485714285714286\n",
      "Test loss: 8.07271100362142\n",
      "Test accuracy: 0.9266666666666666\n",
      "Epoch:  320  --------------------------\n",
      "Train loss: 7.025880900791713\n",
      "Train accuracy: 0.9471428571428572\n",
      "Test loss: 8.069666620890299\n",
      "Test accuracy: 0.93\n",
      "Epoch:  330  --------------------------\n",
      "Train loss: 6.882709503173828\n",
      "Train accuracy: 0.9471428571428572\n",
      "Test loss: 7.974588864644368\n",
      "Test accuracy: 0.9266666666666666\n",
      "Epoch:  340  --------------------------\n",
      "Train loss: 6.757318981715611\n",
      "Train accuracy: 0.9471428571428572\n",
      "Test loss: 7.913933299382528\n",
      "Test accuracy: 0.9266666666666666\n",
      "Epoch:  350  --------------------------\n",
      "Train loss: 6.650552354540143\n",
      "Train accuracy: 0.9428571428571428\n",
      "Test loss: 7.708633429209391\n",
      "Test accuracy: 0.9266666666666666\n",
      "Epoch:  360  --------------------------\n",
      "Train loss: 6.521800016675677\n",
      "Train accuracy: 0.9557142857142857\n",
      "Test loss: 7.66984427134196\n",
      "Test accuracy: 0.93\n",
      "Epoch:  370  --------------------------\n",
      "Train loss: 6.4616048049926755\n",
      "Train accuracy: 0.9557142857142857\n",
      "Test loss: 7.747077814737955\n",
      "Test accuracy: 0.9266666666666666\n",
      "Epoch:  380  --------------------------\n",
      "Train loss: 6.334104728698731\n",
      "Train accuracy: 0.9514285714285714\n",
      "Test loss: 7.669077860514323\n",
      "Test accuracy: 0.9266666666666666\n",
      "Epoch:  390  --------------------------\n",
      "Train loss: 6.280285647256034\n",
      "Train accuracy: 0.9571428571428572\n",
      "Test loss: 7.5774331982930505\n",
      "Test accuracy: 0.93\n",
      "Epoch:  400  --------------------------\n",
      "Train loss: 6.250176151820591\n",
      "Train accuracy: 0.9542857142857143\n",
      "Test loss: 7.587110964457194\n",
      "Test accuracy: 0.9333333333333333\n",
      "Epoch:  410  --------------------------\n",
      "Train loss: 6.132761900765555\n",
      "Train accuracy: 0.9542857142857143\n",
      "Test loss: 7.34163330078125\n",
      "Test accuracy: 0.9233333333333333\n",
      "Epoch:  420  --------------------------\n",
      "Train loss: 6.0286190250941685\n",
      "Train accuracy: 0.9557142857142857\n",
      "Test loss: 7.5882222366333005\n",
      "Test accuracy: 0.9233333333333333\n",
      "Epoch:  430  --------------------------\n",
      "Train loss: 5.93986661366054\n",
      "Train accuracy: 0.9571428571428572\n",
      "Test loss: 7.32094440460205\n",
      "Test accuracy: 0.93\n",
      "Epoch:  440  --------------------------\n",
      "Train loss: 5.866876174381801\n",
      "Train accuracy: 0.9528571428571428\n",
      "Test loss: 7.2237776756286625\n",
      "Test accuracy: 0.9266666666666666\n",
      "Epoch:  450  --------------------------\n",
      "Train loss: 5.74935714176723\n",
      "Train accuracy: 0.9571428571428572\n",
      "Test loss: 7.485511169433594\n",
      "Test accuracy: 0.9266666666666666\n",
      "Epoch:  460  --------------------------\n",
      "Train loss: 5.7648285947527205\n",
      "Train accuracy: 0.9557142857142857\n",
      "Test loss: 7.23058879216512\n",
      "Test accuracy: 0.9266666666666666\n",
      "Epoch:  470  --------------------------\n",
      "Train loss: 5.657790464673724\n",
      "Train accuracy: 0.9628571428571429\n",
      "Test loss: 7.1941667048136395\n",
      "Test accuracy: 0.93\n",
      "Epoch:  480  --------------------------\n",
      "Train loss: 5.661242822919573\n",
      "Train accuracy: 0.9528571428571428\n",
      "Test loss: 7.073788763682048\n",
      "Test accuracy: 0.93\n",
      "Epoch:  490  --------------------------\n",
      "Train loss: 5.5607809066772464\n",
      "Train accuracy: 0.9571428571428572\n",
      "Test loss: 6.870355529785156\n",
      "Test accuracy: 0.9366666666666666\n",
      "Epoch:  500  --------------------------\n",
      "Train loss: 5.543823784419469\n",
      "Train accuracy: 0.9628571428571429\n",
      "Test loss: 6.884388910929362\n",
      "Test accuracy: 0.9266666666666666\n"
     ]
    },
    {
     "name": "stdout",
     "output_type": "stream",
     "text": [
      "Epoch:  510  --------------------------\n",
      "Train loss: 5.343580954415458\n",
      "Train accuracy: 0.9614285714285714\n",
      "Test loss: 6.970511004130046\n",
      "Test accuracy: 0.9266666666666666\n",
      "Epoch:  520  --------------------------\n",
      "Train loss: 5.292795218058995\n",
      "Train accuracy: 0.9642857142857143\n",
      "Test loss: 6.742177689870198\n",
      "Test accuracy: 0.9366666666666666\n",
      "Epoch:  530  --------------------------\n",
      "Train loss: 5.337618999481201\n",
      "Train accuracy: 0.9585714285714285\n",
      "Test loss: 6.728266735076904\n",
      "Test accuracy: 0.9366666666666666\n",
      "Epoch:  540  --------------------------\n",
      "Train loss: 5.20633337020874\n",
      "Train accuracy: 0.96\n",
      "Test loss: 6.563466561635336\n",
      "Test accuracy: 0.9266666666666666\n",
      "Epoch:  550  --------------------------\n",
      "Train loss: 5.163966653006417\n",
      "Train accuracy: 0.96\n",
      "Test loss: 6.523788916269938\n",
      "Test accuracy: 0.9333333333333333\n",
      "Epoch:  560  --------------------------\n",
      "Train loss: 5.093185735430036\n",
      "Train accuracy: 0.96\n",
      "Test loss: 6.768411070505778\n",
      "Test accuracy: 0.9366666666666666\n",
      "Epoch:  570  --------------------------\n",
      "Train loss: 5.026585717882429\n",
      "Train accuracy: 0.9642857142857143\n",
      "Test loss: 6.4948443412780765\n",
      "Test accuracy: 0.9366666666666666\n",
      "Epoch:  580  --------------------------\n",
      "Train loss: 4.846976182120187\n",
      "Train accuracy: 0.9657142857142857\n",
      "Test loss: 6.383722235361735\n",
      "Test accuracy: 0.9333333333333333\n",
      "Epoch:  590  --------------------------\n",
      "Train loss: 4.936609492983137\n",
      "Train accuracy: 0.9614285714285714\n",
      "Test loss: 6.3756222216288245\n",
      "Test accuracy: 0.9333333333333333\n",
      "Epoch:  600  --------------------------\n",
      "Train loss: 4.821771398271833\n",
      "Train accuracy: 0.9685714285714285\n",
      "Test loss: 6.223633298873901\n",
      "Test accuracy: 0.93\n"
     ]
    }
   ],
   "source": [
    "train_losses=[]\n",
    "train_accs = []\n",
    "test_losses = []\n",
    "test_accs = []\n",
    "for epoch in range(601):\n",
    "    net.train()\n",
    "    correct = 0\n",
    "    num_samples = 0\n",
    "    loss_train = 0\n",
    "    for i, (tact, target, label) in enumerate(train_loader):\n",
    "        \n",
    "        tact = tact.to(device)\n",
    "        target = target.to(device)\n",
    "        tact = net.get_spike(tact)\n",
    "        output = net.forward(tact)\n",
    "        correct += torch.sum(snn.predict.getClass(output) == label).data.item()\n",
    "        num_samples += len(label)\n",
    "        loss = error.numSpikes(output, target)\n",
    "        loss_train += loss.item()\n",
    "        optimizer.zero_grad()\n",
    "        loss.backward()\n",
    "        optimizer.step()\n",
    "                \n",
    "    if epoch%10 == 0:\n",
    "        print('Epoch: ', epoch, ' --------------------------')\n",
    "        print('Train loss:', loss_train/len(train_dataset))\n",
    "        print('Train accuracy:', correct/len(train_dataset))\n",
    "    train_accs.append(correct/len(train_dataset))\n",
    "    train_losses.append(loss_train/len(train_dataset))\n",
    "        \n",
    "    net.eval()\n",
    "    correct = 0\n",
    "    num_samples = 0\n",
    "    loss_test = 0\n",
    "    with torch.no_grad():\n",
    "        for i, (tact, target, label) in enumerate(test_loader):\n",
    "\n",
    "            tact = tact.to(device)\n",
    "            target = target.to(device)\n",
    "            tact = net.get_spike(tact)\n",
    "            output = net.forward(tact)\n",
    "            correct += torch.sum(snn.predict.getClass(output) == label).data.item()\n",
    "            num_samples += len(label)\n",
    "            loss = error.numSpikes(output, target)\n",
    "            loss_test += loss.item()\n",
    "            \n",
    "    if epoch%10 == 0:\n",
    "        print('Test loss:', loss_test/len(test_dataset))\n",
    "        print('Test accuracy:', correct/len(test_dataset))\n",
    "    test_accs.append(correct/len(test_dataset))\n",
    "    test_losses.append(loss_test/len(test_dataset))"
   ]
  },
  {
   "cell_type": "code",
   "execution_count": 15,
   "metadata": {},
   "outputs": [
    {
     "data": {
      "image/png": "[encoded data removed]",
      "text/plain": [
       "<Figure size 1080x504 with 2 Axes>"
      ]
     },
     "metadata": {
      "needs_background": "light"
     },
     "output_type": "display_data"
    }
   ],
   "source": [
    "fig, ax = plt.subplots(2, figsize=(15,7))\n",
    "\n",
    "ax[0].plot(train_losses)\n",
    "ax[0].plot(test_losses)\n",
    "ax[0].set_xlabel('Epoch')\n",
    "ax[0].set_ylabel('Loss')\n",
    "ax[0].legend(['Train', 'Test'])\n",
    "\n",
    "ax[1].plot(train_accs)\n",
    "ax[1].plot(test_accs)\n",
    "ax[1].set_xlabel('Epoch')\n",
    "ax[1].set_ylabel('Accuracy')\n",
    "ax[1].legend(['Train', 'Test'])\n",
    "\n",
    "plt.show()"
   ]
  },
  {
   "cell_type": "code",
   "execution_count": 16,
   "metadata": {},
   "outputs": [
    {
     "data": {
      "text/plain": [
       "0.9566666666666667"
      ]
     },
     "execution_count": 16,
     "metadata": {},
     "output_type": "execute_result"
    }
   ],
   "source": [
    "np.max(test_accs)"
   ]
  },
  {
   "cell_type": "code",
   "execution_count": 17,
   "metadata": {},
   "outputs": [
    {
     "data": {
      "text/plain": [
       "0.9771428571428571"
      ]
     },
     "execution_count": 17,
     "metadata": {},
     "output_type": "execute_result"
    }
   ],
   "source": [
    "np.max(train_accs)"
   ]
  },
  {
   "cell_type": "code",
   "execution_count": null,
   "metadata": {},
   "outputs": [],
   "source": []
  },
  {
   "cell_type": "code",
   "execution_count": null,
   "metadata": {},
   "outputs": [],
   "source": []
  }
 ],
 "metadata": {
  "kernelspec": {
   "display_name": "Python 3",
   "language": "python",
   "name": "python3"
  },
  "language_info": {
   "codemirror_mode": {
    "name": "ipython",
    "version": 3
   },
   "file_extension": ".py",
   "mimetype": "text/x-python",
   "name": "python",
   "nbconvert_exporter": "python",
   "pygments_lexer": "ipython3",
   "version": "3.5.2"
  }
 },
 "nbformat": 4,
 "nbformat_minor": 2
}
