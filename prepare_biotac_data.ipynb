{
 "cells": [
  {
   "cell_type": "code",
   "execution_count": 1,
   "metadata": {},
   "outputs": [],
   "source": [
    "import sys, os\n",
    "CURRENT_TEST_DIR = os.getcwd()\n",
    "sys.path.append(CURRENT_TEST_DIR + \"/../../../slayerPytorch/src\")"
   ]
  },
  {
   "cell_type": "code",
   "execution_count": 2,
   "metadata": {},
   "outputs": [],
   "source": [
    "import slayerSNN as snn\n",
    "import pandas as pd\n",
    "import numpy as np\n",
    "import matplotlib.pyplot as plt\n",
    "from dtw import dtw, accelerated_dtw\n",
    "from numpy.linalg import norm\n",
    "from joblib import Parallel, delayed\n",
    "import torch\n",
    "import copy"
   ]
  },
  {
   "cell_type": "code",
   "execution_count": 3,
   "metadata": {},
   "outputs": [],
   "source": [
    "class ProcessData:\n",
    "    def __init__(self, path, obj_name, obj_number):\n",
    "        self.path = path\n",
    "        self.obj_name = obj_name\n",
    "        self.obj_number = obj_number\n",
    "        self.WINDOW_SIZE = 4\n",
    "        \n",
    "        # prepare file names\n",
    "        fpath_bio  = self.path + self.obj_name + '/' + self.obj_name + '_' + str(self.obj_number) + '_bio.csv'\n",
    "        # read files\n",
    "        df_bio = pd.read_csv(fpath_bio, index_col=False)\n",
    "        df_bio.timestamp = df_bio.timestamp - df_bio.timestamp[0]\n",
    "        df_bio_temp = df_bio[ (df_bio.timestamp >= 1) & (df_bio.timestamp <= 1+self.WINDOW_SIZE) ]\n",
    "        # impute if small data\n",
    "        if df_bio_temp.shape[0] == 399:\n",
    "            df_bio_temp = df_bio_temp.append(df_bio.iloc[df_bio_temp.index[-1] + 1])\n",
    "        self.df_bio = df_bio_temp\n",
    "    def get_electrode_data(self):\n",
    "        elctrd_cols = []\n",
    "        for i in range(1,20):\n",
    "            elctrd_cols.append('ele' + str(i))\n",
    "        return self.df_bio[elctrd_cols].values\n",
    "    def get_pac_data(self):\n",
    "        pac_vals = []\n",
    "        for i in range(1,23):\n",
    "            pac_vals.append('pac' + str(i))\n",
    "            \n",
    "        count = 0\n",
    "        pac_values = np.zeros(self.WINDOW_SIZE*100*22)\n",
    "        for ind in self.df_bio[pac_vals].index:\n",
    "            pac_values[count:count+22] = self.df_bio.loc[ind, pac_vals].values\n",
    "            count += 22\n",
    "        return pac_values\n",
    "    def get_timestamp(self):\n",
    "        return self.df_bio.timestamp.values"
   ]
  },
  {
   "cell_type": "code",
   "execution_count": 4,
   "metadata": {},
   "outputs": [],
   "source": [
    "# electrodes\n",
    "fpath = '../material_data_Feb/'"
   ]
  },
  {
   "cell_type": "code",
   "execution_count": 18,
   "metadata": {},
   "outputs": [
    {
     "name": "stdout",
     "output_type": "stream",
     "text": [
      "mat1\n",
      "mat2\n",
      "mat3\n",
      "mat4\n",
      "mat5\n",
      "mat6\n",
      "mat7\n",
      "mat8\n",
      "mat9\n",
      "mat10\n",
      "mat11\n",
      "mat12\n",
      "mat13\n",
      "mat14\n",
      "mat15\n",
      "mat16\n",
      "mat17\n",
      "mat18\n",
      "mat19\n",
      "mat20\n",
      "mat21\n",
      "CPU times: user 11.3 s, sys: 323 ms, total: 11.7 s\n",
      "Wall time: 12.8 s\n"
     ]
    }
   ],
   "source": [
    "%%time\n",
    "big_pac_data = np.zeros([21*50, 19, 400])\n",
    "labels = []\n",
    "count = 0\n",
    "current_label = -1\n",
    "for i in range(1,22):\n",
    "    current_label += 1\n",
    "    mat_name='mat'+str(i)\n",
    "    print(mat_name)\n",
    "    for j in range(1,51):\n",
    "        mat_obj = ProcessData(fpath ,mat_name, j)\n",
    "        big_pac_data[count,:,:] = mat_obj.get_electrode_data().T\n",
    "        labels.append(current_label)\n",
    "        count += 1"
   ]
  },
  {
   "cell_type": "code",
   "execution_count": 20,
   "metadata": {},
   "outputs": [
    {
     "data": {
      "text/plain": [
       "(1050, 19, 400)"
      ]
     },
     "execution_count": 20,
     "metadata": {},
     "output_type": "execute_result"
    }
   ],
   "source": [
    "big_pac_data.shape"
   ]
  },
  {
   "cell_type": "code",
   "execution_count": 23,
   "metadata": {},
   "outputs": [],
   "source": [
    "np.save('auxiliaries/electrodes.npy',big_pac_data)"
   ]
  },
  {
   "cell_type": "code",
   "execution_count": 5,
   "metadata": {},
   "outputs": [],
   "source": [
    "# compute PAC"
   ]
  },
  {
   "cell_type": "code",
   "execution_count": 7,
   "metadata": {},
   "outputs": [
    {
     "name": "stdout",
     "output_type": "stream",
     "text": [
      "mat1\n",
      "mat2\n",
      "mat3\n",
      "mat4\n",
      "mat5\n",
      "mat6\n",
      "mat7\n",
      "mat8\n",
      "mat9\n",
      "mat10\n",
      "mat11\n",
      "mat12\n",
      "mat13\n",
      "mat14\n",
      "mat15\n",
      "mat16\n",
      "mat17\n",
      "mat18\n",
      "mat19\n",
      "mat20\n",
      "mat21\n",
      "CPU times: user 4min 3s, sys: 1.62 s, total: 4min 5s\n",
      "Wall time: 4min 5s\n"
     ]
    }
   ],
   "source": [
    "%%time\n",
    "big_pac_data = np.zeros([21*50, 8800])\n",
    "count = 0\n",
    "current_label = -1\n",
    "for i in range(1,22):\n",
    "    mat_name='mat'+str(i)\n",
    "    print(mat_name)\n",
    "    for j in range(1,51):\n",
    "        mat_obj = ProcessData(fpath ,mat_name, j)\n",
    "        big_pac_data[count,:] = mat_obj.get_pac_data()\n",
    "        count += 1"
   ]
  },
  {
   "cell_type": "code",
   "execution_count": 8,
   "metadata": {},
   "outputs": [],
   "source": [
    "np.save('auxiliaries/pac.npy',big_pac_data)"
   ]
  },
  {
   "cell_type": "code",
   "execution_count": null,
   "metadata": {},
   "outputs": [],
   "source": []
  }
 ],
 "metadata": {
  "kernelspec": {
   "display_name": "Python 3",
   "language": "python",
   "name": "python3"
  },
  "language_info": {
   "codemirror_mode": {
    "name": "ipython",
    "version": 3
   },
   "file_extension": ".py",
   "mimetype": "text/x-python",
   "name": "python",
   "nbconvert_exporter": "python",
   "pygments_lexer": "ipython3",
   "version": "3.7.6"
  }
 },
 "nbformat": 4,
 "nbformat_minor": 2
}
