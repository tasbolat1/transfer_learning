{
 "cells": [
  {
   "cell_type": "code",
   "execution_count": 39,
   "metadata": {},
   "outputs": [],
   "source": [
    "import sys, os\n",
    "CURRENT_TEST_DIR = os.getcwd()\n",
    "sys.path.append(CURRENT_TEST_DIR + \"/../../../slayerPytorch/src\")"
   ]
  },
  {
   "cell_type": "code",
   "execution_count": 40,
   "metadata": {},
   "outputs": [
    {
     "data": {
      "text/plain": [
       "<torch._C.Generator at 0x7f927bdbe6b0>"
      ]
     },
     "execution_count": 40,
     "metadata": {},
     "output_type": "execute_result"
    }
   ],
   "source": [
    "import slayerSNN as snn\n",
    "import pandas as pd\n",
    "import numpy as np\n",
    "import matplotlib.pyplot as plt\n",
    "from dtw import dtw, accelerated_dtw\n",
    "from numpy.linalg import norm\n",
    "from joblib import Parallel, delayed\n",
    "import torch\n",
    "import copy\n",
    "from torch.utils.data import Dataset\n",
    "from sklearn.model_selection import train_test_split\n",
    "\n",
    "np.random.seed(1)\n",
    "torch.manual_seed(1)"
   ]
  },
  {
   "cell_type": "code",
   "execution_count": 75,
   "metadata": {},
   "outputs": [],
   "source": [
    "params = {\n",
    "    \"neuron\": {\n",
    "        \"type\": \"SRMALPHA\",\n",
    "        \"theta\": 10, # 10\n",
    "        \"tauSr\": 10.0,\n",
    "        \"tauRef\": 1.0,\n",
    "        \"scaleRef\": 2,\n",
    "        \"tauRho\": 1,\n",
    "        \"scaleRho\": 1,\n",
    "    },\n",
    "    \"simulation\": {\"Ts\": 1.0, \"tSample\": 400, \"nSample\": 1},\n",
    "    \"training\": {\n",
    "        \"error\": {\n",
    "            \"type\": \"NumSpikes\",  # \"NumSpikes\" or \"ProbSpikes\"\n",
    "            \"probSlidingWin\": 20,  # only valid for ProbSpikes\n",
    "            \"tgtSpikeRegion\": {  # valid for NumSpikes and ProbSpikes\n",
    "                \"start\": 0,\n",
    "                \"stop\": 400,\n",
    "            },\n",
    "            \"tgtSpikeCount\": {True: 250, False: 60},\n",
    "        }\n",
    "    },\n",
    "}\n",
    "device = torch.device(\"cuda:1\")"
   ]
  },
  {
   "cell_type": "code",
   "execution_count": 41,
   "metadata": {},
   "outputs": [],
   "source": [
    "X_el = np.load('auxiliaries/electrodes.npy')\n",
    "X_pac = np.load('auxiliaries/pac.npy')\n",
    "Y = np.load('auxiliaries/labels.npy')\n",
    "indices = np.arange(X_el.shape[0])"
   ]
  },
  {
   "cell_type": "code",
   "execution_count": 42,
   "metadata": {},
   "outputs": [],
   "source": [
    "X_el = X_el.reshape(X_el.shape[0], X_el.shape[1], 1, 1, X_el.shape[-1])\n",
    "X_pac = X_pac.reshape(X_pac.shape[0], 1, 1, 1, X_pac.shape[-1])\n",
    "# Y = Y.reshape(Y.shape[0], Y.shape[1], 1, 1, Y.shape[-1])"
   ]
  },
  {
   "cell_type": "code",
   "execution_count": 43,
   "metadata": {},
   "outputs": [],
   "source": [
    "def get_ohe(_Y):\n",
    "    target_class = np.zeros([_Y.shape[0], 21])\n",
    "    for i in range(target_class.shape[0]):\n",
    "        target_class[i, int(_Y[i])] = 1\n",
    "    return target_class"
   ]
  },
  {
   "cell_type": "code",
   "execution_count": 44,
   "metadata": {},
   "outputs": [],
   "source": [
    "X_el_train, X_el_test, y_train, y_test, indx_train, indx_test = train_test_split(X_el, Y, indices, test_size=0.30, random_state=42, stratify=Y)"
   ]
  },
  {
   "cell_type": "code",
   "execution_count": 46,
   "metadata": {},
   "outputs": [
    {
     "data": {
      "text/plain": [
       "(torch.Size([735, 19, 1, 1, 400]),\n",
       " torch.Size([735]),\n",
       " torch.Size([735, 21, 1, 1, 1]),\n",
       " torch.Size([735, 1, 1, 1, 8800]),\n",
       " torch.Size([315, 1, 1, 1, 8800]))"
      ]
     },
     "execution_count": 46,
     "metadata": {},
     "output_type": "execute_result"
    }
   ],
   "source": [
    "X_el_train = torch.FloatTensor(X_el_train)\n",
    "y_train = torch.FloatTensor(y_train)\n",
    "target_class_train = torch.FloatTensor(get_ohe(y_train).reshape(-1, 21, 1, 1, 1))\n",
    "    \n",
    "X_el_test = torch.FloatTensor(X_el_test)\n",
    "y_test = torch.FloatTensor(y_test)\n",
    "target_class_test= torch.FloatTensor(get_ohe(y_test).reshape(-1, 21, 1, 1, 1))\n",
    "\n",
    "X_pac_train = torch.FloatTensor(X_pac[indx_train])\n",
    "X_pac_test = torch.FloatTensor(X_pac[indx_test])\n",
    "\n",
    "X_el_train.shape, y_train.shape, target_class_train.shape, X_pac_train.shape, X_pac_test.shape"
   ]
  },
  {
   "cell_type": "code",
   "execution_count": 88,
   "metadata": {},
   "outputs": [],
   "source": [
    "train_dataset = torch.utils.data.TensorDataset(X_el_train, X_pac_train, target_class_train, y_train)\n",
    "train_loader = torch.utils.data.DataLoader(train_dataset,shuffle=True,batch_size=8)\n",
    "\n",
    "test_dataset = torch.utils.data.TensorDataset(X_el_test, X_pac_test, target_class_test, y_test)\n",
    "test_loader = torch.utils.data.DataLoader(test_dataset,shuffle=True,batch_size=8)"
   ]
  },
  {
   "cell_type": "code",
   "execution_count": 89,
   "metadata": {},
   "outputs": [],
   "source": [
    "# define GCN"
   ]
  },
  {
   "cell_type": "code",
   "execution_count": 232,
   "metadata": {},
   "outputs": [
    {
     "data": {
      "text/plain": [
       "(19, 19)"
      ]
     },
     "execution_count": 232,
     "metadata": {},
     "output_type": "execute_result"
    }
   ],
   "source": [
    "A = np.zeros([20,20])\n",
    "A[1,[2]] = 1\n",
    "A[2,[1,3,17]] = 1\n",
    "A[3,[2,4,5]] = 1\n",
    "A[4,[3,5]] = 1\n",
    "A[5,[3,6,18]] = 1\n",
    "A[6,[5]] = 1\n",
    "A[7,[8,9]] = 1\n",
    "A[8,[7,10]] = 1\n",
    "A[9,[7,10]] = 1\n",
    "A[10,[8,9,17]] = 1\n",
    "A[11,[12]] = 1\n",
    "A[12,[11,13,17]] = 1\n",
    "A[13,[12,14,15]] = 1\n",
    "A[14,[13,15]] = 1\n",
    "A[15,[13,14,16]] = 1\n",
    "A[16,[15]] = 1\n",
    "A[17,[2,10,12]] = 1\n",
    "A[18,[5,15,19]] = 1\n",
    "A[19,[18]] = 1\n",
    "A_ = A[1:, 1:]\n",
    "A_.shape"
   ]
  },
  {
   "cell_type": "code",
   "execution_count": 241,
   "metadata": {},
   "outputs": [],
   "source": [
    "# gcn pre-computation\n",
    "A = A_ + np.eye(A_.shape[0])\n",
    "D = np.diag(np.sum(A,axis=1))\n",
    "D_inv = np.linalg.inv(D)\n",
    "D_inv_A = D_inv*A\n",
    "\n",
    "# expand into correct dimension\n",
    "D_inv_A = torch.FloatTensor(D_inv_A)\n",
    "D_inv_A = D_inv_A.unsqueeze(-1)\n",
    "D_inv_A = D_inv_A.expand(D_inv_A.shape[0], D_inv_A.shape[1], 400)\n",
    "\n",
    "A = torch.FloatTensor(A)\n",
    "A = A.unsqueeze(-1)\n",
    "A = A.expand(A.shape[0], A.shape[1], 400)"
   ]
  },
  {
   "cell_type": "code",
   "execution_count": 242,
   "metadata": {},
   "outputs": [
    {
     "data": {
      "text/plain": [
       "(torch.Size([19, 19, 400]), torch.Size([19, 19, 400]))"
      ]
     },
     "execution_count": 242,
     "metadata": {},
     "output_type": "execute_result"
    }
   ],
   "source": [
    "D_inv_A.shape, A.shape"
   ]
  },
  {
   "cell_type": "code",
   "execution_count": 243,
   "metadata": {},
   "outputs": [],
   "source": [
    "D_inv_A = D_inv_A.to(device)\n",
    "A = A.to(device)"
   ]
  },
  {
   "cell_type": "code",
   "execution_count": 244,
   "metadata": {},
   "outputs": [],
   "source": [
    "class GCNConv(torch.nn.Module):\n",
    "    def __init__(self, netParams, in_channels, out_channels, normalize=True):\n",
    "        super(GCNConv, self).__init__()\n",
    "        self.slayer = snn.layer(netParams['neuron'], netParams['simulation'])\n",
    "        self.weight_layer = self.slayer.dense(in_channels, out_channels)\n",
    "        \n",
    "        if normalize:\n",
    "            self.const = D_inv_A\n",
    "        else:\n",
    "            self.const = A\n",
    "        \n",
    "    def forward(self, x):\n",
    "        _batch_size = x.shape[0]\n",
    "        \n",
    "        # match batch size\n",
    "        DA = self.const.unsqueeze(-1)\n",
    "        DA = DA.expand(DA.shape[0], DA.shape[1],DA.shape[2], _batch_size)\n",
    "        DA = DA.permute(3,0,1,2)\n",
    "        \n",
    "        # match pspX size\n",
    "#         print(x.shape, DA.shape)\n",
    "        pspX = x.squeeze(3)\n",
    "#         print(pspX.shape, DA.shape)\n",
    "#         print(pspX.permute(0,3,2,1).shape, DA.permute(0,3,2,1).shape)\n",
    "        \n",
    "        # get full multiplication\n",
    "        DAX = torch.matmul(DA.permute(0,3,2,1),pspX.permute(0,3,2,1)) \n",
    "        DAX = DAX.permute(0,3,2,1).unsqueeze(3)\n",
    "        \n",
    "#         print('DAX', DAX.shape)\n",
    "        return self.weight_layer(DAX)"
   ]
  },
  {
   "cell_type": "code",
   "execution_count": 255,
   "metadata": {},
   "outputs": [],
   "source": [
    "class SlayerGCN(torch.nn.Module):\n",
    "    def __init__(self, params, input_size, hidden_size, output_size):\n",
    "        super(SlayerGCN, self).__init__()\n",
    "        self.output_size = output_size\n",
    "        self.slayer = snn.layer(params[\"neuron\"], params[\"simulation\"])\n",
    "        \n",
    "        self.gcn_layer1 = GCNConv(params, 1,2)\n",
    "        \n",
    "        self.fc1 = self.slayer.dense((1,19,2), hidden_size)\n",
    "        self.fc2 = self.slayer.dense(hidden_size, output_size)\n",
    "\n",
    "    def forward(self, input_el):\n",
    "        \n",
    "        # el data\n",
    "        spike1 = self.slayer.spike(self.gcn_layer1(input_el))\n",
    "#         print('GCN 1:', spike1.shape)\n",
    "        #spike2 = self.slayer.spike(self.gcn_layer2(self.slayer.psp(spike1)))\n",
    "        \n",
    "#         print('GCN 2:', spike2.shape)\n",
    "        \n",
    "        spike3 = self.slayer.spike(self.slayer.psp(self.fc1(spike1)))\n",
    "        spike3 = self.slayer.spike(self.slayer.psp(self.fc2(spike3)))\n",
    "        \n",
    "        return spike3"
   ]
  },
  {
   "cell_type": "code",
   "execution_count": 256,
   "metadata": {},
   "outputs": [],
   "source": [
    "net = SlayerGCN(params, (1,19,4), 128, 21).to(device)"
   ]
  },
  {
   "cell_type": "code",
   "execution_count": 257,
   "metadata": {},
   "outputs": [],
   "source": [
    "error = snn.loss(params).to(device)\n",
    "optimizer = torch.optim.RMSprop(net.parameters(), lr=0.001, weight_decay=0.5)"
   ]
  },
  {
   "cell_type": "code",
   "execution_count": 258,
   "metadata": {},
   "outputs": [
    {
     "name": "stdout",
     "output_type": "stream",
     "text": [
      "Epoch:  0  --------------------------\n",
      "Train loss: 129.56613894092794\n",
      "Train accuracy: 0.06938775510204082\n",
      "Test loss: 77.37267804827009\n",
      "Test accuracy: 0.10476190476190476\n",
      "Epoch:  10  --------------------------\n",
      "Train loss: 37.972993355056865\n",
      "Train accuracy: 0.6789115646258503\n",
      "Test loss: 38.27283739362444\n",
      "Test accuracy: 0.6634920634920635\n",
      "Epoch:  20  --------------------------\n",
      "Train loss: 31.695957583472843\n",
      "Train accuracy: 0.7700680272108843\n",
      "Test loss: 31.372579471648685\n",
      "Test accuracy: 0.7682539682539683\n",
      "Epoch:  30  --------------------------\n",
      "Train loss: 29.1129710502365\n",
      "Train accuracy: 0.8122448979591836\n",
      "Test loss: 29.48492421952505\n",
      "Test accuracy: 0.7936507936507936\n",
      "Epoch:  40  --------------------------\n",
      "Train loss: 27.492175002325148\n",
      "Train accuracy: 0.8285714285714286\n",
      "Test loss: 27.953928702218192\n",
      "Test accuracy: 0.8126984126984127\n",
      "Epoch:  50  --------------------------\n",
      "Train loss: 25.970005279333414\n",
      "Train accuracy: 0.854421768707483\n",
      "Test loss: 27.092615278940354\n",
      "Test accuracy: 0.8603174603174604\n",
      "Epoch:  60  --------------------------\n",
      "Train loss: 24.814317996485702\n",
      "Train accuracy: 0.8707482993197279\n",
      "Test loss: 26.28999994671534\n",
      "Test accuracy: 0.8603174603174604\n",
      "Epoch:  70  --------------------------\n",
      "Train loss: 23.840275469929182\n",
      "Train accuracy: 0.8789115646258503\n",
      "Test loss: 26.08221416170635\n",
      "Test accuracy: 0.8444444444444444\n",
      "Epoch:  80  --------------------------\n",
      "Train loss: 23.0991667663159\n",
      "Train accuracy: 0.8843537414965986\n",
      "Test loss: 25.261595371791294\n",
      "Test accuracy: 0.873015873015873\n",
      "Epoch:  90  --------------------------\n",
      "Train loss: 22.45387585698342\n",
      "Train accuracy: 0.8816326530612245\n",
      "Test loss: 24.528341141958084\n",
      "Test accuracy: 0.8603174603174604\n",
      "Epoch:  100  --------------------------\n",
      "Train loss: 21.979394479349356\n",
      "Train accuracy: 0.8938775510204081\n",
      "Test loss: 24.181964159768725\n",
      "Test accuracy: 0.873015873015873\n",
      "Epoch:  110  --------------------------\n",
      "Train loss: 21.519544370482567\n",
      "Train accuracy: 0.9034013605442177\n",
      "Test loss: 23.69933326357887\n",
      "Test accuracy: 0.9015873015873016\n",
      "Epoch:  120  --------------------------\n",
      "Train loss: 21.02287066193665\n",
      "Train accuracy: 0.8952380952380953\n",
      "Test loss: 23.337142968556236\n",
      "Test accuracy: 0.8857142857142857\n",
      "Epoch:  130  --------------------------\n",
      "Train loss: 20.509384560098454\n",
      "Train accuracy: 0.9034013605442177\n",
      "Test loss: 23.689325508238777\n",
      "Test accuracy: 0.8920634920634921\n",
      "Epoch:  140  --------------------------\n",
      "Train loss: 20.34239449014469\n",
      "Train accuracy: 0.9102040816326531\n",
      "Test loss: 22.984647236173114\n",
      "Test accuracy: 0.8666666666666667\n",
      "Epoch:  150  --------------------------\n",
      "Train loss: 20.115643019903274\n",
      "Train accuracy: 0.9034013605442177\n",
      "Test loss: 22.922043718610492\n",
      "Test accuracy: 0.9015873015873016\n",
      "Epoch:  160  --------------------------\n",
      "Train loss: 19.79555437775696\n",
      "Train accuracy: 0.8993197278911564\n",
      "Test loss: 22.612777709960938\n",
      "Test accuracy: 0.8888888888888888\n",
      "Epoch:  170  --------------------------\n",
      "Train loss: 19.570608790391155\n",
      "Train accuracy: 0.9074829931972789\n",
      "Test loss: 22.1932619851733\n",
      "Test accuracy: 0.8984126984126984\n",
      "Epoch:  180  --------------------------\n",
      "Train loss: 19.424734694292756\n",
      "Train accuracy: 0.9102040816326531\n",
      "Test loss: 21.39164297921317\n",
      "Test accuracy: 0.8984126984126984\n",
      "Epoch:  190  --------------------------\n",
      "Train loss: 19.264260417912283\n",
      "Train accuracy: 0.9156462585034013\n",
      "Test loss: 21.419801548549106\n",
      "Test accuracy: 0.9111111111111111\n",
      "Epoch:  200  --------------------------\n",
      "Train loss: 18.956494929514776\n",
      "Train accuracy: 0.9210884353741496\n",
      "Test loss: 20.89590087164016\n",
      "Test accuracy: 0.9047619047619048\n",
      "Epoch:  210  --------------------------\n",
      "Train loss: 18.72784357395302\n",
      "Train accuracy: 0.9183673469387755\n",
      "Test loss: 20.973587568979415\n",
      "Test accuracy: 0.8952380952380953\n",
      "Epoch:  220  --------------------------\n",
      "Train loss: 18.594806136565953\n",
      "Train accuracy: 0.9251700680272109\n",
      "Test loss: 21.314964827280196\n",
      "Test accuracy: 0.8984126984126984\n",
      "Epoch:  230  --------------------------\n",
      "Train loss: 18.343408151224356\n",
      "Train accuracy: 0.9292517006802721\n",
      "Test loss: 21.621876695421008\n",
      "Test accuracy: 0.8888888888888888\n",
      "Epoch:  240  --------------------------\n",
      "Train loss: 18.141243302741017\n",
      "Train accuracy: 0.927891156462585\n",
      "Test loss: 20.768015834263394\n",
      "Test accuracy: 0.9047619047619048\n",
      "Epoch:  250  --------------------------\n",
      "Train loss: 18.0466513912694\n",
      "Train accuracy: 0.9292517006802721\n",
      "Test loss: 21.08340079897926\n",
      "Test accuracy: 0.9015873015873016\n",
      "Epoch:  260  --------------------------\n",
      "Train loss: 17.827768619044296\n",
      "Train accuracy: 0.9251700680272109\n",
      "Test loss: 21.012254054962643\n",
      "Test accuracy: 0.9111111111111111\n",
      "Epoch:  270  --------------------------\n",
      "Train loss: 17.67484550216571\n",
      "Train accuracy: 0.9292517006802721\n",
      "Test loss: 20.38334503173828\n",
      "Test accuracy: 0.926984126984127\n",
      "Epoch:  280  --------------------------\n",
      "Train loss: 17.58795075708506\n",
      "Train accuracy: 0.9360544217687075\n",
      "Test loss: 21.00136910090371\n",
      "Test accuracy: 0.8984126984126984\n",
      "Epoch:  290  --------------------------\n",
      "Train loss: 17.310625981960168\n",
      "Train accuracy: 0.9333333333333333\n",
      "Test loss: 21.6612543984065\n",
      "Test accuracy: 0.9142857142857143\n",
      "Epoch:  300  --------------------------\n",
      "Train loss: 17.15492356488494\n",
      "Train accuracy: 0.9333333333333333\n",
      "Test loss: 20.346861194428943\n",
      "Test accuracy: 0.9142857142857143\n"
     ]
    }
   ],
   "source": [
    "train_losses=[]\n",
    "train_accs = []\n",
    "test_losses = []\n",
    "test_accs = []\n",
    "for epoch in range(301):\n",
    "    net.train()\n",
    "    correct = 0\n",
    "    num_samples = 0\n",
    "    loss_train = 0\n",
    "    for i, (tact_el, _, target, label) in enumerate(train_loader):\n",
    "        \n",
    "        tact_el = tact_el.to(device)\n",
    "        tact_el = tact_el.permute(0,2,1,3,4)\n",
    "        target = target.to(device)\n",
    "        \n",
    "        output = net.forward(tact_el)\n",
    "        correct += torch.sum(snn.predict.getClass(output) == label).data.item()\n",
    "        num_samples += len(label)\n",
    "        loss = error.numSpikes(output, target)\n",
    "        loss_train += loss.item()\n",
    "        optimizer.zero_grad()\n",
    "        loss.backward()\n",
    "        optimizer.step()\n",
    "                \n",
    "    if epoch%10 == 0:\n",
    "        print('Epoch: ', epoch, ' --------------------------')\n",
    "        print('Train loss:', loss_train/len(train_dataset))\n",
    "        print('Train accuracy:', correct/len(train_dataset))\n",
    "    train_accs.append(correct/len(train_dataset))\n",
    "    train_losses.append(loss_train/len(train_dataset))\n",
    "        \n",
    "    net.eval()\n",
    "    correct = 0\n",
    "    num_samples = 0\n",
    "    loss_test = 0\n",
    "    with torch.no_grad():\n",
    "        for i, (tact_el, _, target, label) in enumerate(test_loader):\n",
    "\n",
    "            tact_el = tact_el.to(device)\n",
    "            tact_el = tact_el.permute(0,2,1,3,4)\n",
    "            target = target.to(device)\n",
    "\n",
    "            output = net.forward(tact_el)\n",
    "            correct += torch.sum(snn.predict.getClass(output) == label).data.item()\n",
    "            num_samples += len(label)\n",
    "            loss = error.numSpikes(output, target)\n",
    "            loss_test += loss.item()\n",
    "            \n",
    "    if epoch%10 == 0:\n",
    "        print('Test loss:', loss_test/len(test_dataset))\n",
    "        print('Test accuracy:', correct/len(test_dataset))\n",
    "    test_accs.append(correct/len(test_dataset))\n",
    "    test_losses.append(loss_test/len(test_dataset))"
   ]
  },
  {
   "cell_type": "code",
   "execution_count": 260,
   "metadata": {},
   "outputs": [
    {
     "data": {
      "image/png": "[encoded data removed]",
      "text/plain": [
       "<Figure size 1080x504 with 2 Axes>"
      ]
     },
     "metadata": {
      "needs_background": "light"
     },
     "output_type": "display_data"
    }
   ],
   "source": [
    "fig, ax = plt.subplots(2, figsize=(15,7))\n",
    "\n",
    "ax[0].plot(train_losses)\n",
    "ax[0].plot(test_losses)\n",
    "ax[0].set_xlabel('Epoch')\n",
    "ax[0].set_ylabel('Loss')\n",
    "ax[0].legend(['Train', 'Test'])\n",
    "\n",
    "ax[1].plot(train_accs)\n",
    "ax[1].plot(test_accs)\n",
    "ax[1].set_xlabel('Epoch')\n",
    "ax[1].set_ylabel('Accuracy')\n",
    "ax[1].legend(['Train', 'Test'])\n",
    "\n",
    "plt.show()"
   ]
  },
  {
   "cell_type": "code",
   "execution_count": 261,
   "metadata": {},
   "outputs": [
    {
     "data": {
      "text/plain": [
       "(0.9333333333333333, 0.9387755102040817)"
      ]
     },
     "execution_count": 261,
     "metadata": {},
     "output_type": "execute_result"
    }
   ],
   "source": [
    "np.max(test_accs), np.max(train_accs)"
   ]
  },
  {
   "cell_type": "code",
   "execution_count": null,
   "metadata": {},
   "outputs": [],
   "source": []
  },
  {
   "cell_type": "code",
   "execution_count": null,
   "metadata": {},
   "outputs": [],
   "source": []
  }
 ],
 "metadata": {
  "kernelspec": {
   "display_name": "Python 3",
   "language": "python",
   "name": "python3"
  },
  "language_info": {
   "codemirror_mode": {
    "name": "ipython",
    "version": 3
   },
   "file_extension": ".py",
   "mimetype": "text/x-python",
   "name": "python",
   "nbconvert_exporter": "python",
   "pygments_lexer": "ipython3",
   "version": "3.5.2"
  }
 },
 "nbformat": 4,
 "nbformat_minor": 2
}
