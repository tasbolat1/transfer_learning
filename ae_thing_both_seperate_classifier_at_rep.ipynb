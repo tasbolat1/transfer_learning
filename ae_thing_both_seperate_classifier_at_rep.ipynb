{
 "cells": [
  {
   "cell_type": "code",
   "execution_count": 1,
   "metadata": {},
   "outputs": [],
   "source": [
    "import sys, os\n",
    "CURRENT_TEST_DIR = os.getcwd()\n",
    "sys.path.append(CURRENT_TEST_DIR + \"/../../../slayerPytorch/src\")"
   ]
  },
  {
   "cell_type": "code",
   "execution_count": 2,
   "metadata": {},
   "outputs": [
    {
     "data": {
      "text/plain": [
       "<torch._C.Generator at 0x7f590da296d0>"
      ]
     },
     "execution_count": 2,
     "metadata": {},
     "output_type": "execute_result"
    }
   ],
   "source": [
    "import slayerSNN as snn\n",
    "import pandas as pd\n",
    "import numpy as np\n",
    "import matplotlib.pyplot as plt\n",
    "from dtw import dtw, accelerated_dtw\n",
    "from numpy.linalg import norm\n",
    "from joblib import Parallel, delayed\n",
    "import torch\n",
    "import copy\n",
    "from torch.utils.data import Dataset\n",
    "from sklearn.model_selection import train_test_split\n",
    "\n",
    "np.random.seed(1)\n",
    "torch.manual_seed(1)"
   ]
  },
  {
   "cell_type": "code",
   "execution_count": 3,
   "metadata": {},
   "outputs": [],
   "source": [
    "#X = np.load('auxiliaries/electrodes.npy')\n",
    "X = torch.load('../BioTac_Icub_data/Bio_all.pt').permute(0,2,1).numpy()\n",
    "X_i = torch.load('../BioTac_Icub_data/ICUB_all.pt').reshape([1000, 60, 75]).numpy()\n",
    "#Y = np.load('auxiliaries/labels.npy')\n",
    "Y = np.load('../BioTac_Icub_data/ICUB_all_labels.npy')"
   ]
  },
  {
   "cell_type": "code",
   "execution_count": 4,
   "metadata": {},
   "outputs": [
    {
     "data": {
      "text/plain": [
       "((1000, 19, 150), (1000,), (1000, 60, 75))"
      ]
     },
     "execution_count": 4,
     "metadata": {},
     "output_type": "execute_result"
    }
   ],
   "source": [
    "X.shape, Y.shape, X_i.shape"
   ]
  },
  {
   "cell_type": "code",
   "execution_count": 5,
   "metadata": {},
   "outputs": [],
   "source": [
    "def get_ohe(_Y):\n",
    "    target_class = np.zeros([_Y.shape[0], 20])\n",
    "    for i in range(target_class.shape[0]):\n",
    "        target_class[i, int(_Y[i])] = 1\n",
    "    return target_class"
   ]
  },
  {
   "cell_type": "code",
   "execution_count": 6,
   "metadata": {},
   "outputs": [],
   "source": [
    "X = X.reshape(X.shape[0], X.shape[1], 1, 1, X.shape[-1])\n",
    "X_i = X_i.reshape(X_i.shape[0], X_i.shape[1], 1, 1, X_i.shape[-1])\n",
    "indices = np.arange(X.shape[0])"
   ]
  },
  {
   "cell_type": "code",
   "execution_count": 7,
   "metadata": {},
   "outputs": [],
   "source": [
    "X_train, X_test, y_train, y_test, ind_train, ind_test = train_test_split(X, Y, indices, test_size=0.30, random_state=42, stratify=Y)"
   ]
  },
  {
   "cell_type": "code",
   "execution_count": 8,
   "metadata": {},
   "outputs": [
    {
     "data": {
      "text/plain": [
       "(torch.Size([700, 19, 1, 1, 150]),\n",
       " torch.Size([700]),\n",
       " torch.Size([700, 20, 1, 1, 1]),\n",
       " torch.Size([700, 60, 1, 1, 75]))"
      ]
     },
     "execution_count": 8,
     "metadata": {},
     "output_type": "execute_result"
    }
   ],
   "source": [
    "X_train = torch.FloatTensor(X_train)\n",
    "y_train = torch.FloatTensor(y_train)\n",
    "\n",
    "target_class_train = torch.FloatTensor(get_ohe(y_train).reshape(-1, 20, 1, 1, 1))\n",
    "    \n",
    "X_test = torch.FloatTensor(X_test)\n",
    "y_test = torch.FloatTensor(y_test)\n",
    "target_class_test= torch.FloatTensor(get_ohe(y_test).reshape(-1, 20, 1, 1, 1))\n",
    "\n",
    "X_train_i= torch.FloatTensor(X_i[ind_train])\n",
    "X_test_i = torch.FloatTensor(X_i[ind_test])\n",
    "\n",
    "X_train.shape, y_train.shape, target_class_train.shape, X_train_i.shape"
   ]
  },
  {
   "cell_type": "code",
   "execution_count": 9,
   "metadata": {},
   "outputs": [],
   "source": [
    "params = {\n",
    "    \"neuron\": {\n",
    "        \"type\": \"SRMALPHA\",\n",
    "        \"theta\": 5, # 10\n",
    "        \"tauSr\": 10.0,\n",
    "        \"tauRef\": 2.0,\n",
    "        \"scaleRef\": 2,\n",
    "        \"tauRho\": 1,\n",
    "        \"scaleRho\": 1,\n",
    "    },\n",
    "    \"simulation\": {\"Ts\": 1.0, \"tSample\": 150, \"nSample\": 1},\n",
    "    \"training\": {\n",
    "        \"error\": {\n",
    "            \"type\": \"NumSpikes\",  # \"NumSpikes\" or \"ProbSpikes\"\n",
    "            \"probSlidingWin\": 20,  # only valid for ProbSpikes\n",
    "            \"tgtSpikeRegion\": {  # valid for NumSpikes and ProbSpikes\n",
    "                \"start\": 0,\n",
    "                \"stop\": 150,\n",
    "            },\n",
    "            \"tgtSpikeCount\": {True: 120, False: 20},\n",
    "        }\n",
    "    },\n",
    "}\n",
    "\n",
    "params2 = {\n",
    "    \"neuron\": {\n",
    "        \"type\": \"SRMALPHA\",\n",
    "        \"theta\": 5, # 10\n",
    "        \"tauSr\": 10.0,\n",
    "        \"tauRef\": 2.0,\n",
    "        \"scaleRef\": 2,\n",
    "        \"tauRho\": 1,\n",
    "        \"scaleRho\": 1,\n",
    "    },\n",
    "    \"simulation\": {\"Ts\": 1.0, \"tSample\": 150, \"nSample\": 1},\n",
    "    \"training\": {\n",
    "        \"error\": {\n",
    "            \"type\": \"SpikeTime\",  # \"NumSpikes\" or \"ProbSpikes\"\n",
    "            \"probSlidingWin\": 20,  # only valid for ProbSpikes\n",
    "            \"tgtSpikeRegion\": {  # valid for NumSpikes and ProbSpikes\n",
    "                \"start\": 0,\n",
    "                \"stop\": 150,\n",
    "            },\n",
    "            \"tgtSpikeCount\": {True: 120, False: 20},\n",
    "        }\n",
    "    },\n",
    "}"
   ]
  },
  {
   "cell_type": "code",
   "execution_count": 10,
   "metadata": {},
   "outputs": [],
   "source": [
    "train_dataset = torch.utils.data.TensorDataset(X_train_i, X_train, target_class_train, y_train)\n",
    "train_loader = torch.utils.data.DataLoader(train_dataset,shuffle=True,batch_size=8)\n",
    "\n",
    "test_dataset = torch.utils.data.TensorDataset(X_test_i, X_test, target_class_test, y_test)\n",
    "test_loader = torch.utils.data.DataLoader(test_dataset,shuffle=True,batch_size=8)"
   ]
  },
  {
   "cell_type": "code",
   "execution_count": 11,
   "metadata": {},
   "outputs": [],
   "source": [
    "class SimpleMLP(torch.nn.Module):\n",
    "    def __init__(self, params, input_size, hidden_size, output_size):\n",
    "        super(SimpleMLP, self).__init__()\n",
    "        self.slayer = snn.layer(params[\"neuron\"], params[\"simulation\"])\n",
    "        self.fc1 = self.slayer.dense(input_size, hidden_size)\n",
    "        self.fc2 = self.slayer.dense(hidden_size, output_size) # classifier\n",
    "    \n",
    "    def forward(self, spike_input):\n",
    "        spike_1 = self.slayer.spike(self.slayer.psp(self.fc1(spike_input)))\n",
    "        spike_2 = self.slayer.spike(self.slayer.psp(self.fc2(spike_1)))        \n",
    "        return spike_2"
   ]
  },
  {
   "cell_type": "code",
   "execution_count": 12,
   "metadata": {},
   "outputs": [],
   "source": [
    "class AE(torch.nn.Module):\n",
    "    def __init__(self, params):\n",
    "        super(AE, self).__init__()\n",
    "        self.slayer = snn.layer(params[\"neuron\"], params[\"simulation\"])\n",
    "        \n",
    "        self.encoder_i = SimpleMLP(params, 60, 50, 40)\n",
    "        self.encoder_b = SimpleMLP(params, 19, 50, 40)\n",
    "        \n",
    "        self.fc_classr_i = self.slayer.dense(40, 20)\n",
    "        self.fc_classr_b = self.slayer.dense(40, 20)\n",
    "        \n",
    "        self.fc = self.slayer.dense(80, 40)\n",
    "        self.fc_classifier = self.slayer.dense(40, 20)\n",
    "        \n",
    "        self.decoder_i = SimpleMLP(params, 40, 30, 60)\n",
    "        self.decoder_b = SimpleMLP(params, 40, 30, 19)\n",
    "        \n",
    "    def get_spike(self, inp):\n",
    "        return self.slayer.spike(inp)\n",
    "    \n",
    "    def forward(self, spike_input_i, spike_input_b):\n",
    "\n",
    "        # encoder\n",
    "        encoded_i = self.encoder_i(spike_input_i)\n",
    "        encoded_b = self.encoder_b(spike_input_b)\n",
    "        \n",
    "        # classifier\n",
    "        output_class_i = self.slayer.spike(self.slayer.psp(self.fc_classr_i(encoded_i)))\n",
    "        output_class_b = self.slayer.spike(self.slayer.psp(self.fc_classr_b(encoded_b)))\n",
    "        \n",
    "        # concat\n",
    "        merged = torch.cat([encoded_i, encoded_b], dim=1)\n",
    "        \n",
    "        # representation\n",
    "        rep = self.slayer.spike(self.slayer.psp(self.fc(merged)))\n",
    "        \n",
    "        general_class = self.slayer.spike(self.slayer.psp(self.fc_classifier(rep)))\n",
    "                        \n",
    "        # decoder\n",
    "        decoded_i = self.decoder_i(rep)\n",
    "        decoded_b = self.decoder_b(rep)\n",
    "        \n",
    "        return output_class_i, output_class_b, rep, decoded_i, decoded_b, encoded_i, encoded_b, general_class"
   ]
  },
  {
   "cell_type": "code",
   "execution_count": 15,
   "metadata": {},
   "outputs": [],
   "source": [
    "device = torch.device(\"cuda:0\")\n",
    "net = AE(params).to(device)"
   ]
  },
  {
   "cell_type": "code",
   "execution_count": 17,
   "metadata": {},
   "outputs": [],
   "source": [
    "error = snn.loss(params).to(device)\n",
    "error2 = snn.loss(params2).to(device)\n",
    "optimizer = torch.optim.RMSprop(net.parameters(), lr=0.001, weight_decay=0.5)"
   ]
  },
  {
   "cell_type": "code",
   "execution_count": 20,
   "metadata": {},
   "outputs": [
    {
     "name": "stdout",
     "output_type": "stream",
     "text": [
      "Epoch:  0  --------------------------\n",
      "Train loss (all, class_i, class_b, icub_reg, bio_reg): 489.2925162179129 0.2779095458984375 0.23496189662388392 0.08854387276785715 0.19128546875\n",
      "Train accuracy(i,b,all): 0.05714285714285714 0.08714285714285715 0.2671428571428571\n",
      "Test loss (all, class_i, class_b, icub_reg, bio_reg): 287.1169669596354 0.6467000325520833 0.6110778299967448 0.26957593750000003 0.35170265624999997\n",
      "Test accuracy(i,b,all): 0.08 0.12333333333333334 0.31\n",
      "Epoch:  10  --------------------------\n",
      "Train loss (all, class_i, class_b, icub_reg, bio_reg): 388.2728390066964 0.2476619175502232 0.16897142682756697 0.04228753069196429 0.11445607142857143\n",
      "Train accuracy(i,b,all): 0.2357142857142857 0.23142857142857143 0.8785714285714286\n",
      "Test loss (all, class_i, class_b, icub_reg, bio_reg): 194.44687337239583 0.3718999989827474 0.39487777709960936 0.20832703125 0.24612848958333336\n",
      "Test accuracy(i,b,all): 0.22666666666666666 0.26666666666666666 0.8766666666666667\n",
      "Epoch:  20  --------------------------\n",
      "Train loss (all, class_i, class_b, icub_reg, bio_reg): 353.81414899553573 0.15861903599330357 0.14305238996233258 0.0335621875 0.07566959263392857\n",
      "Train accuracy(i,b,all): 0.5328571428571428 0.4142857142857143 0.9542857142857143\n",
      "Test loss (all, class_i, class_b, icub_reg, bio_reg): 155.42739868164062 0.43531107584635415 0.3143333435058594 0.09981208333333334 0.17382743489583333\n",
      "Test accuracy(i,b,all): 0.5533333333333333 0.4533333333333333 0.9366666666666666\n",
      "Epoch:  30  --------------------------\n",
      "Train loss (all, class_i, class_b, icub_reg, bio_reg): 339.9511985560826 0.1518857138497489 0.09804761614118304 0.03408104352678572 0.09524897321428573\n",
      "Train accuracy(i,b,all): 0.6271428571428571 0.6357142857142857 0.9757142857142858\n",
      "Test loss (all, class_i, class_b, icub_reg, bio_reg): 132.01442891438802 0.3692555236816406 0.2921222178141276 0.06016793619791667 0.17034322916666667\n",
      "Test accuracy(i,b,all): 0.6233333333333333 0.63 0.9433333333333334\n",
      "Epoch:  40  --------------------------\n",
      "Train loss (all, class_i, class_b, icub_reg, bio_reg): 335.6830895996094 0.08653333391462054 0.15635714939662387 0.023828175223214287 0.04807387276785714\n",
      "Train accuracy(i,b,all): 0.72 0.7614285714285715 0.9871428571428571\n",
      "Test loss (all, class_i, class_b, icub_reg, bio_reg): 117.51490559895834 0.2934777577718099 0.3304222361246745 0.06235858072916667 0.11093430989583335\n",
      "Test accuracy(i,b,all): 0.6666666666666666 0.67 0.9566666666666667\n",
      "Epoch:  50  --------------------------\n",
      "Train loss (all, class_i, class_b, icub_reg, bio_reg): 333.24571498325895 0.12389046805245536 0.09655237470354353 0.021919468470982143 0.04915258370535714\n",
      "Train accuracy(i,b,all): 0.75 0.8014285714285714 0.9871428571428571\n",
      "Test loss (all, class_i, class_b, icub_reg, bio_reg): 107.3281036376953 0.457933349609375 0.3722222137451172 0.052184960937500004 0.10464399088541668\n",
      "Test accuracy(i,b,all): 0.6666666666666666 0.7766666666666666 0.9666666666666667\n",
      "Epoch:  60  --------------------------\n",
      "Train loss (all, class_i, class_b, icub_reg, bio_reg): 331.6302685546875 0.11034761701311384 0.07159524100167411 0.019169045758928572 0.048605055803571426\n",
      "Train accuracy(i,b,all): 0.7757142857142857 0.83 0.9957142857142857\n",
      "Test loss (all, class_i, class_b, icub_reg, bio_reg): 100.51473175048828 0.13554443359375 0.23303332010904948 0.04617865559895833 0.13348276041666668\n",
      "Test accuracy(i,b,all): 0.6833333333333333 0.7666666666666667 0.96\n",
      "Epoch:  70  --------------------------\n",
      "Train loss (all, class_i, class_b, icub_reg, bio_reg): 330.58384486607144 0.07157143184116908 0.12431429181780133 0.03209650111607143 0.03873415736607143\n",
      "Train accuracy(i,b,all): 0.7928571428571428 0.8571428571428571 0.9942857142857143\n",
      "Test loss (all, class_i, class_b, icub_reg, bio_reg): 94.66296579996745 0.16098888397216796 0.20303333282470704 0.052197727864583335 0.12507955729166667\n",
      "Test accuracy(i,b,all): 0.6966666666666667 0.84 0.9733333333333334\n",
      "Epoch:  80  --------------------------\n",
      "Train loss (all, class_i, class_b, icub_reg, bio_reg): 328.82486833844865 0.05975238255092076 0.09269524710518973 0.022362177734375002 0.03714143415178572\n",
      "Train accuracy(i,b,all): 0.8057142857142857 0.86 0.9957142857142857\n",
      "Test loss (all, class_i, class_b, icub_reg, bio_reg): 90.72711069742839 0.29496665954589846 0.18920000712076823 0.04430886067708333 0.11261182291666666\n",
      "Test accuracy(i,b,all): 0.7133333333333334 0.8266666666666667 0.9733333333333334\n",
      "Epoch:  90  --------------------------\n",
      "Train loss (all, class_i, class_b, icub_reg, bio_reg): 327.43953996930804 0.062295237949916295 0.08494761875697544 0.025201688058035715 0.04782263392857143\n",
      "Train accuracy(i,b,all): 0.7985714285714286 0.8814285714285715 0.9957142857142857\n",
      "Test loss (all, class_i, class_b, icub_reg, bio_reg): 87.27590830485026 0.166022211710612 0.25145553588867187 0.042780143229166664 0.129296796875\n",
      "Test accuracy(i,b,all): 0.7333333333333333 0.84 0.9766666666666667\n",
      "Epoch:  100  --------------------------\n",
      "Train loss (all, class_i, class_b, icub_reg, bio_reg): 325.78050118582587 0.10767619541713169 0.09258571079799108 0.017958447265625 0.05100166294642857\n",
      "Train accuracy(i,b,all): 0.8271428571428572 0.8814285714285715 0.9985714285714286\n",
      "Test loss (all, class_i, class_b, icub_reg, bio_reg): 84.42758666992188 0.36926668802897133 0.12371111551920573 0.031510078125 0.11879296875000002\n",
      "Test accuracy(i,b,all): 0.72 0.8633333333333333 0.97\n",
      "Epoch:  110  --------------------------\n",
      "Train loss (all, class_i, class_b, icub_reg, bio_reg): 325.4605057198661 0.16541429792131696 0.04470476150512695 0.014521314174107144 0.0413990625\n",
      "Train accuracy(i,b,all): 0.83 0.8828571428571429 0.9985714285714286\n",
      "Test loss (all, class_i, class_b, icub_reg, bio_reg): 81.32528503417969 0.18511110941569012 0.15076666514078776 0.037403125 0.10457354166666667\n",
      "Test accuracy(i,b,all): 0.74 0.8533333333333334 0.9766666666666667\n",
      "Epoch:  120  --------------------------\n",
      "Train loss (all, class_i, class_b, icub_reg, bio_reg): 325.3280139160156 0.037400003160749165 0.09014761243547711 0.01724719029017857 0.05714190290178571\n",
      "Train accuracy(i,b,all): 0.8328571428571429 0.9014285714285715 0.9985714285714286\n",
      "Test loss (all, class_i, class_b, icub_reg, bio_reg): 78.83532185872396 0.2865999857584635 0.2054333241780599 0.03897431315104167 0.13749192708333335\n",
      "Test accuracy(i,b,all): 0.76 0.88 0.98\n",
      "Epoch:  130  --------------------------\n",
      "Train loss (all, class_i, class_b, icub_reg, bio_reg): 324.1799543108259 0.06349999564034599 0.05714285714285714 0.015163203125 0.05445912946428572\n",
      "Train accuracy(i,b,all): 0.8428571428571429 0.8971428571428571 0.9985714285714286\n",
      "Test loss (all, class_i, class_b, icub_reg, bio_reg): 77.03388712565105 0.11876665751139323 0.11923333485921224 0.045905289713541665 0.14060026041666668\n",
      "Test accuracy(i,b,all): 0.76 0.8566666666666667 0.9866666666666667\n",
      "Epoch:  140  --------------------------\n",
      "Train loss (all, class_i, class_b, icub_reg, bio_reg): 322.1885745675223 0.11937619890485492 0.13521905081612723 0.014013426339285715 0.04823180803571428\n",
      "Train accuracy(i,b,all): 0.8485714285714285 0.9028571428571428 1.0\n",
      "Test loss (all, class_i, class_b, icub_reg, bio_reg): 75.66493850708008 0.16477776845296224 0.08929999669392903 0.03648955403645834 0.10909136067708335\n",
      "Test accuracy(i,b,all): 0.7566666666666667 0.8766666666666667 0.9833333333333333\n",
      "Epoch:  150  --------------------------\n",
      "Train loss (all, class_i, class_b, icub_reg, bio_reg): 319.7139324079241 0.014690476826259067 0.0758333260672433 0.025597371651785713 0.042655385044642856\n",
      "Train accuracy(i,b,all): 0.85 0.91 1.0\n",
      "Test loss (all, class_i, class_b, icub_reg, bio_reg): 74.34688563028972 0.20869998931884765 0.05829999923706055 0.04306945963541667 0.097359921875\n",
      "Test accuracy(i,b,all): 0.78 0.8766666666666667 0.98\n",
      "Epoch:  160  --------------------------\n",
      "Train loss (all, class_i, class_b, icub_reg, bio_reg): 316.0389053780692 0.0934857177734375 0.10318093436104911 0.016130393415178572 0.037916830357142856\n",
      "Train accuracy(i,b,all): 0.8542857142857143 0.9014285714285715 1.0\n",
      "Test loss (all, class_i, class_b, icub_reg, bio_reg): 73.05514943440755 0.30082221984863283 0.13295555114746094 0.028256907552083335 0.10065802083333333\n",
      "Test accuracy(i,b,all): 0.7866666666666666 0.87 0.9866666666666667\n"
     ]
    },
    {
     "name": "stdout",
     "output_type": "stream",
     "text": [
      "Epoch:  170  --------------------------\n",
      "Train loss (all, class_i, class_b, icub_reg, bio_reg): 312.39189749581476 0.13258094787597657 0.057895235334123885 0.015973652343750002 0.06909917410714286\n",
      "Train accuracy(i,b,all): 0.8528571428571429 0.9114285714285715 1.0\n",
      "Test loss (all, class_i, class_b, icub_reg, bio_reg): 71.09260579427084 0.1988111114501953 0.1761333211263021 0.030156858723958332 0.08152962239583333\n",
      "Test accuracy(i,b,all): 0.7866666666666666 0.88 0.9833333333333333\n",
      "Epoch:  180  --------------------------\n",
      "Train loss (all, class_i, class_b, icub_reg, bio_reg): 308.0157591029576 0.13941428048270088 0.1083047594342913 0.013838793247767859 0.03789118861607143\n",
      "Train accuracy(i,b,all): 0.8585714285714285 0.9057142857142857 1.0\n",
      "Test loss (all, class_i, class_b, icub_reg, bio_reg): 70.08316548665364 0.17794445037841797 0.2967444101969401 0.033905507812500006 0.09238360677083333\n",
      "Test accuracy(i,b,all): 0.78 0.8866666666666667 0.9866666666666667\n",
      "Epoch:  190  --------------------------\n",
      "Train loss (all, class_i, class_b, icub_reg, bio_reg): 304.391011265346 0.15986191885811943 0.09257618495396205 0.013835279017857144 0.033554916294642856\n",
      "Train accuracy(i,b,all): 0.8614285714285714 0.9285714285714286 1.0\n",
      "Test loss (all, class_i, class_b, icub_reg, bio_reg): 69.33397216796875 0.07094444274902344 0.028011112213134765 0.04783664713541667 0.17090158854166668\n",
      "Test accuracy(i,b,all): 0.7766666666666666 0.8833333333333333 0.9833333333333333\n",
      "Epoch:  200  --------------------------\n",
      "Train loss (all, class_i, class_b, icub_reg, bio_reg): 299.0564222935268 0.06593333653041294 0.06844761984688895 0.011732947823660713 0.03474755859375\n",
      "Train accuracy(i,b,all): 0.8628571428571429 0.9314285714285714 1.0\n",
      "Test loss (all, class_i, class_b, icub_reg, bio_reg): 68.43214528401693 0.09905555725097656 0.20443333943684897 0.03378763671875 0.08888719401041667\n",
      "Test accuracy(i,b,all): 0.78 0.8833333333333333 0.9866666666666667\n",
      "Epoch:  210  --------------------------\n",
      "Train loss (all, class_i, class_b, icub_reg, bio_reg): 293.74364065987726 0.05085714612688337 0.053342857360839845 0.021814670758928574 0.036697020089285715\n",
      "Train accuracy(i,b,all): 0.8714285714285714 0.9285714285714286 1.0\n",
      "Test loss (all, class_i, class_b, icub_reg, bio_reg): 67.34909993489583 0.35356664021809897 0.10650000254313151 0.031051494140625 0.10756354166666668\n",
      "Test accuracy(i,b,all): 0.79 0.9066666666666666 0.9833333333333333\n",
      "Epoch:  220  --------------------------\n",
      "Train loss (all, class_i, class_b, icub_reg, bio_reg): 289.6166291155134 0.06950476510184152 0.05394762311662946 0.012719433593750001 0.04001490513392857\n",
      "Train accuracy(i,b,all): 0.8671428571428571 0.9271428571428572 1.0\n",
      "Test loss (all, class_i, class_b, icub_reg, bio_reg): 66.30378707885743 0.15246665954589844 0.07475555419921875 0.030384593098958336 0.09171606770833333\n",
      "Test accuracy(i,b,all): 0.79 0.89 0.9833333333333333\n",
      "Epoch:  230  --------------------------\n",
      "Train loss (all, class_i, class_b, icub_reg, bio_reg): 284.455736781529 0.024547620500837055 0.048519047328404015 0.01503398158482143 0.036991395089285714\n",
      "Train accuracy(i,b,all): 0.8714285714285714 0.93 1.0\n",
      "Test loss (all, class_i, class_b, icub_reg, bio_reg): 65.27728179931641 0.11741111755371093 0.14334444681803385 0.04387261067708334 0.06987837239583335\n",
      "Test accuracy(i,b,all): 0.7866666666666666 0.8966666666666666 0.98\n",
      "Epoch:  240  --------------------------\n",
      "Train loss (all, class_i, class_b, icub_reg, bio_reg): 281.25670968191963 0.06536190577915736 0.03120952606201172 0.015527812499999998 0.03466294363839286\n",
      "Train accuracy(i,b,all): 0.8757142857142857 0.9442857142857143 1.0\n",
      "Test loss (all, class_i, class_b, icub_reg, bio_reg): 64.4897341410319 0.11356666564941406 0.08705554962158203 0.03472579427083334 0.09820145833333334\n",
      "Test accuracy(i,b,all): 0.8033333333333333 0.89 0.9833333333333333\n",
      "Epoch:  250  --------------------------\n",
      "Train loss (all, class_i, class_b, icub_reg, bio_reg): 276.9154234095982 0.04392381123134068 0.038809525626046316 0.019061243024553573 0.029878917410714283\n",
      "Train accuracy(i,b,all): 0.8857142857142857 0.9428571428571428 1.0\n",
      "Test loss (all, class_i, class_b, icub_reg, bio_reg): 63.92941426595052 0.13863333384195964 0.07289999643961588 0.032398636067708333 0.07405962239583334\n",
      "Test accuracy(i,b,all): 0.8033333333333333 0.89 0.98\n",
      "Epoch:  260  --------------------------\n",
      "Train loss (all, class_i, class_b, icub_reg, bio_reg): 274.1772532435826 0.05899047306605748 0.034890474591936387 0.013846863839285715 0.04159976004464286\n",
      "Train accuracy(i,b,all): 0.8857142857142857 0.9371428571428572 1.0\n",
      "Test loss (all, class_i, class_b, icub_reg, bio_reg): 62.67529296875 0.15905555725097656 0.13341111501057942 0.03584071614583333 0.06569833333333334\n",
      "Test accuracy(i,b,all): 0.8166666666666667 0.92 0.9833333333333333\n",
      "Epoch:  270  --------------------------\n",
      "Train loss (all, class_i, class_b, icub_reg, bio_reg): 271.5827082170759 0.04925238473074777 0.05358095441545759 0.011893286830357144 0.034676138392857145\n",
      "Train accuracy(i,b,all): 0.8914285714285715 0.9457142857142857 1.0\n",
      "Test loss (all, class_i, class_b, icub_reg, bio_reg): 62.2926606241862 0.13616666158040364 0.12509999593098958 0.045762063802083336 0.07704988281250001\n",
      "Test accuracy(i,b,all): 0.83 0.9066666666666666 0.98\n",
      "Epoch:  280  --------------------------\n",
      "Train loss (all, class_i, class_b, icub_reg, bio_reg): 268.7487635149275 0.07734761919294085 0.04132380894252232 0.012613699776785715 0.03782295200892857\n",
      "Train accuracy(i,b,all): 0.8828571428571429 0.94 1.0\n",
      "Test loss (all, class_i, class_b, icub_reg, bio_reg): 61.448493804931644 0.13526667277018228 0.05525555928548177 0.035315843098958334 0.08390102864583333\n",
      "Test accuracy(i,b,all): 0.8233333333333334 0.9133333333333333 0.9833333333333333\n",
      "Epoch:  290  --------------------------\n",
      "Train loss (all, class_i, class_b, icub_reg, bio_reg): 266.13129185267854 0.0699952370779855 0.04824761526925223 0.011635237165178572 0.031099695870535713\n",
      "Train accuracy(i,b,all): 0.89 0.9442857142857143 1.0\n",
      "Test loss (all, class_i, class_b, icub_reg, bio_reg): 61.61219248453776 0.18743334452311197 0.10968888600667318 0.028238955078125 0.13169286458333335\n",
      "Test accuracy(i,b,all): 0.8166666666666667 0.91 0.98\n",
      "Epoch:  300  --------------------------\n",
      "Train loss (all, class_i, class_b, icub_reg, bio_reg): 263.70752092633927 0.04188571657453265 0.03496666772024972 0.010374739815848215 0.03372000558035714\n",
      "Train accuracy(i,b,all): 0.8971428571428571 0.9428571428571428 1.0\n",
      "Test loss (all, class_i, class_b, icub_reg, bio_reg): 60.68612447102865 0.1495111083984375 0.07194444020589193 0.037477119140625 0.08044057291666667\n",
      "Test accuracy(i,b,all): 0.8166666666666667 0.9366666666666666 0.9766666666666667\n",
      "Epoch:  310  --------------------------\n",
      "Train loss (all, class_i, class_b, icub_reg, bio_reg): 261.6766287667411 0.0602285657610212 0.06784285409109933 0.012913337053571429 0.0356669921875\n",
      "Train accuracy(i,b,all): 0.8957142857142857 0.9471428571428572 1.0\n",
      "Test loss (all, class_i, class_b, icub_reg, bio_reg): 59.943398030598956 0.12111111958821615 0.1795888900756836 0.032486783854166666 0.110085703125\n",
      "Test accuracy(i,b,all): 0.8266666666666667 0.92 0.98\n",
      "Epoch:  320  --------------------------\n",
      "Train loss (all, class_i, class_b, icub_reg, bio_reg): 260.4314936174665 0.07048571995326451 0.030500003269740512 0.012413999720982142 0.030118409598214286\n",
      "Train accuracy(i,b,all): 0.8928571428571429 0.9457142857142857 1.0\n",
      "Test loss (all, class_i, class_b, icub_reg, bio_reg): 59.98625473022461 0.05557777404785156 0.10205555597941081 0.034527490234375 0.07588322265625\n",
      "Test accuracy(i,b,all): 0.83 0.9066666666666666 0.98\n",
      "Epoch:  330  --------------------------\n",
      "Train loss (all, class_i, class_b, icub_reg, bio_reg): 258.1845357840402 0.06645238603864398 0.07753809792654855 0.008291266741071428 0.04081381696428572\n",
      "Train accuracy(i,b,all): 0.8957142857142857 0.9528571428571428 1.0\n",
      "Test loss (all, class_i, class_b, icub_reg, bio_reg): 59.715787200927736 0.07240000406901041 0.08345555623372396 0.036621432291666665 0.09148756510416667\n",
      "Test accuracy(i,b,all): 0.8166666666666667 0.9133333333333333 0.98\n",
      "Epoch:  340  --------------------------\n",
      "Train loss (all, class_i, class_b, icub_reg, bio_reg): 256.067860281808 0.018600000653948102 0.04001428876604353 0.008756692940848215 0.03196089006696429\n",
      "Train accuracy(i,b,all): 0.8985714285714286 0.9457142857142857 1.0\n"
     ]
    },
    {
     "name": "stdout",
     "output_type": "stream",
     "text": [
      "Test loss (all, class_i, class_b, icub_reg, bio_reg): 58.51869374593099 0.11225555419921875 0.23829999287923176 0.03598986328125 0.07419688802083334\n",
      "Test accuracy(i,b,all): 0.82 0.92 0.98\n",
      "Epoch:  350  --------------------------\n",
      "Train loss (all, class_i, class_b, icub_reg, bio_reg): 254.3018083844866 0.09250952584402902 0.03322857448032924 0.01164853515625 0.03550739118303572\n",
      "Train accuracy(i,b,all): 0.9 0.9542857142857143 1.0\n",
      "Test loss (all, class_i, class_b, icub_reg, bio_reg): 58.38498077392578 0.20658889770507813 0.14195556640625 0.0681334765625 0.07810372395833333\n",
      "Test accuracy(i,b,all): 0.8266666666666667 0.9133333333333333 0.98\n",
      "Epoch:  360  --------------------------\n",
      "Train loss (all, class_i, class_b, icub_reg, bio_reg): 252.72196916852678 0.08824285234723772 0.11045237949916295 0.010312518136160714 0.031490611049107144\n",
      "Train accuracy(i,b,all): 0.8985714285714286 0.9542857142857143 1.0\n",
      "Test loss (all, class_i, class_b, icub_reg, bio_reg): 58.277604471842444 0.18587777455647786 0.16092222849527996 0.0272036328125 0.07219932291666667\n",
      "Test accuracy(i,b,all): 0.8233333333333334 0.9166666666666666 0.98\n",
      "Epoch:  370  --------------------------\n",
      "Train loss (all, class_i, class_b, icub_reg, bio_reg): 250.83886605398996 0.055923810686383926 0.03072380610874721 0.012180008370535716 0.035405574776785714\n",
      "Train accuracy(i,b,all): 0.9042857142857142 0.9528571428571428 1.0\n",
      "Test loss (all, class_i, class_b, icub_reg, bio_reg): 56.60118693033854 0.02018888791402181 0.08603333791097005 0.044831249999999996 0.08882626302083334\n",
      "Test accuracy(i,b,all): 0.83 0.9366666666666666 0.98\n",
      "Epoch:  380  --------------------------\n",
      "Train loss (all, class_i, class_b, icub_reg, bio_reg): 249.21162998744418 0.028314285278320313 0.0432952390398298 0.018549288504464287 0.02663062779017857\n",
      "Train accuracy(i,b,all): 0.9014285714285715 0.9571428571428572 1.0\n",
      "Test loss (all, class_i, class_b, icub_reg, bio_reg): 56.37881195068359 0.16949998219807944 0.055399996439615885 0.032789638671875 0.09327355468750001\n",
      "Test accuracy(i,b,all): 0.8233333333333334 0.92 0.98\n",
      "Epoch:  390  --------------------------\n",
      "Train loss (all, class_i, class_b, icub_reg, bio_reg): 247.37708339146207 0.02395238058907645 0.10879523141043526 0.016352034040178574 0.031492472098214284\n",
      "Train accuracy(i,b,all): 0.9014285714285715 0.9542857142857143 1.0\n",
      "Test loss (all, class_i, class_b, icub_reg, bio_reg): 56.68597401936849 0.19169999440511068 0.1815666707356771 0.025867389322916667 0.07362997395833333\n",
      "Test accuracy(i,b,all): 0.8366666666666667 0.9133333333333333 0.98\n",
      "Epoch:  400  --------------------------\n",
      "Train loss (all, class_i, class_b, icub_reg, bio_reg): 245.99401925223214 0.00996666635785784 0.04291428429739816 0.012699090401785715 0.030061838727678574\n",
      "Train accuracy(i,b,all): 0.9114285714285715 0.9528571428571428 1.0\n",
      "Test loss (all, class_i, class_b, icub_reg, bio_reg): 56.313819376627606 0.11557777404785156 0.046333332061767575 0.03339018229166667 0.08227666666666666\n",
      "Test accuracy(i,b,all): 0.8466666666666667 0.9166666666666666 0.98\n",
      "Epoch:  410  --------------------------\n",
      "Train loss (all, class_i, class_b, icub_reg, bio_reg): 243.66809509277343 0.05213809422084263 0.027952379499162947 0.010883523297991072 0.03033777901785714\n",
      "Train accuracy(i,b,all): 0.9028571428571428 0.9542857142857143 1.0\n",
      "Test loss (all, class_i, class_b, icub_reg, bio_reg): 56.1306494140625 0.026455554962158203 0.03728889147440592 0.03605802083333333 0.05848534505208333\n",
      "Test accuracy(i,b,all): 0.8366666666666667 0.91 0.98\n",
      "Epoch:  420  --------------------------\n",
      "Train loss (all, class_i, class_b, icub_reg, bio_reg): 242.20215410505023 0.04705238342285156 0.016195238658360072 0.014882735770089285 0.044539112723214286\n",
      "Train accuracy(i,b,all): 0.9028571428571428 0.9542857142857143 1.0\n",
      "Test loss (all, class_i, class_b, icub_reg, bio_reg): 55.1494569905599 0.054522221883138024 0.05396666208902995 0.034526546223958336 0.06083415364583333\n",
      "Test accuracy(i,b,all): 0.84 0.9366666666666666 0.98\n",
      "Epoch:  430  --------------------------\n",
      "Train loss (all, class_i, class_b, icub_reg, bio_reg): 240.9205158342634 0.05956190381731306 0.04480476106916155 0.013469001116071428 0.03960704241071429\n",
      "Train accuracy(i,b,all): 0.9042857142857142 0.9571428571428572 1.0\n",
      "Test loss (all, class_i, class_b, icub_reg, bio_reg): 54.923148752848306 0.11151111602783204 0.1306000010172526 0.035182298177083335 0.10224790364583333\n",
      "Test accuracy(i,b,all): 0.8466666666666667 0.9266666666666666 0.98\n",
      "Epoch:  440  --------------------------\n",
      "Train loss (all, class_i, class_b, icub_reg, bio_reg): 239.4572004045759 0.020942858287266324 0.04596190316336495 0.02113145228794643 0.024940655691964284\n",
      "Train accuracy(i,b,all): 0.9057142857142857 0.9614285714285714 1.0\n",
      "Test loss (all, class_i, class_b, icub_reg, bio_reg): 55.26871287027995 0.306999994913737 0.05802221934000651 0.02977318359375 0.07710671875\n",
      "Test accuracy(i,b,all): 0.8366666666666667 0.9166666666666666 0.98\n",
      "Epoch:  450  --------------------------\n",
      "Train loss (all, class_i, class_b, icub_reg, bio_reg): 238.50060651506698 0.05492857251848493 0.03474285670689174 0.012119354073660715 0.04023684709821429\n",
      "Train accuracy(i,b,all): 0.9028571428571428 0.9557142857142857 1.0\n",
      "Test loss (all, class_i, class_b, icub_reg, bio_reg): 54.310594177246095 0.34616666158040366 0.15432223002115886 0.03309336588541667 0.08183401041666666\n",
      "Test accuracy(i,b,all): 0.84 0.9266666666666666 0.9833333333333333\n",
      "Epoch:  460  --------------------------\n",
      "Train loss (all, class_i, class_b, icub_reg, bio_reg): 237.38616995675224 0.04261904852730887 0.043852378300258094 0.014012672991071428 0.038125164620535716\n",
      "Train accuracy(i,b,all): 0.9014285714285715 0.9571428571428572 1.0\n",
      "Test loss (all, class_i, class_b, icub_reg, bio_reg): 53.99177393595377 0.18726665496826173 0.06824445088704427 0.043983079427083335 0.07084741536458333\n",
      "Test accuracy(i,b,all): 0.8433333333333334 0.92 0.9766666666666667\n",
      "Epoch:  470  --------------------------\n",
      "Train loss (all, class_i, class_b, icub_reg, bio_reg): 236.45952096121653 0.08247619083949498 0.0839999989100865 0.010125226702008928 0.048091897321428566\n",
      "Train accuracy(i,b,all): 0.9042857142857142 0.9614285714285714 1.0\n",
      "Test loss (all, class_i, class_b, icub_reg, bio_reg): 53.77756144205729 0.11480000813802084 0.06013333638509115 0.04037167643229167 0.09462630208333334\n",
      "Test accuracy(i,b,all): 0.8433333333333334 0.94 0.9766666666666667\n",
      "Epoch:  480  --------------------------\n",
      "Train loss (all, class_i, class_b, icub_reg, bio_reg): 235.31038033621653 0.05057143075125558 0.057795235770089284 0.017110853794642857 0.0641174609375\n",
      "Train accuracy(i,b,all): 0.9085714285714286 0.9585714285714285 1.0\n",
      "Test loss (all, class_i, class_b, icub_reg, bio_reg): 53.92348368326823 0.14923333485921225 0.14673333485921225 0.029753567708333335 0.07152205078125\n",
      "Test accuracy(i,b,all): 0.8333333333333334 0.9233333333333333 0.9766666666666667\n",
      "Epoch:  490  --------------------------\n",
      "Train loss (all, class_i, class_b, icub_reg, bio_reg): 234.67050031389508 0.05318095070975167 0.02661904743739537 0.009001187220982143 0.03411275390625\n",
      "Train accuracy(i,b,all): 0.9085714285714286 0.9614285714285714 1.0\n",
      "Test loss (all, class_i, class_b, icub_reg, bio_reg): 53.71709503173828 0.25518890380859377 0.04253333409627279 0.03132058268229167 0.08934731770833333\n",
      "Test accuracy(i,b,all): 0.8533333333333334 0.9266666666666666 0.9766666666666667\n",
      "Epoch:  500  --------------------------\n",
      "Train loss (all, class_i, class_b, icub_reg, bio_reg): 234.10761710030692 0.01541428702218192 0.026757142203194754 0.018791650390625 0.03572663504464286\n",
      "Train accuracy(i,b,all): 0.9071428571428571 0.9571428571428572 1.0\n",
      "Test loss (all, class_i, class_b, icub_reg, bio_reg): 53.0087473042806 0.04253333409627279 0.056966667175292966 0.05003388020833333 0.08804389973958333\n",
      "Test accuracy(i,b,all): 0.85 0.9233333333333333 0.9766666666666667\n",
      "Epoch:  510  --------------------------\n",
      "Train loss (all, class_i, class_b, icub_reg, bio_reg): 232.81274004255022 0.07523809160505023 0.01756666592189244 0.009266256277901785 0.03544463169642857\n",
      "Train accuracy(i,b,all): 0.91 0.9642857142857143 1.0\n",
      "Test loss (all, class_i, class_b, icub_reg, bio_reg): 52.97909657796224 0.1484222412109375 0.038299999237060546 0.021660937499999998 0.07887658203125\n",
      "Test accuracy(i,b,all): 0.8533333333333334 0.9266666666666666 0.9833333333333333\n"
     ]
    },
    {
     "name": "stdout",
     "output_type": "stream",
     "text": [
      "Epoch:  520  --------------------------\n",
      "Train loss (all, class_i, class_b, icub_reg, bio_reg): 232.0413623046875 0.016957144056047712 0.03025238037109375 0.0140101953125 0.034201746651785714\n",
      "Train accuracy(i,b,all): 0.9057142857142857 0.9657142857142857 1.0\n",
      "Test loss (all, class_i, class_b, icub_reg, bio_reg): 53.12424270629883 0.06304444630940755 0.09646666208902994 0.023996761067708334 0.09220986979166666\n",
      "Test accuracy(i,b,all): 0.8466666666666667 0.93 0.98\n",
      "Epoch:  530  --------------------------\n",
      "Train loss (all, class_i, class_b, icub_reg, bio_reg): 231.10612601143973 0.03588095528738839 0.035619049072265624 0.012290608258928571 0.032523579799107145\n",
      "Train accuracy(i,b,all): 0.9042857142857142 0.9685714285714285 1.0\n",
      "Test loss (all, class_i, class_b, icub_reg, bio_reg): 52.06951227823893 0.05021111170450846 0.06848889668782553 0.028926243489583333 0.0779582421875\n",
      "Test accuracy(i,b,all): 0.8466666666666667 0.9266666666666666 0.98\n",
      "Epoch:  540  --------------------------\n",
      "Train loss (all, class_i, class_b, icub_reg, bio_reg): 230.67726545061385 0.02608095441545759 0.010819048200334821 0.012198828125000002 0.03094456473214286\n",
      "Train accuracy(i,b,all): 0.91 0.9728571428571429 1.0\n",
      "Test loss (all, class_i, class_b, icub_reg, bio_reg): 51.73056986490885 0.1698444366455078 0.18554444630940756 0.037514160156250004 0.0654023046875\n",
      "Test accuracy(i,b,all): 0.85 0.9233333333333333 0.9833333333333333\n",
      "Epoch:  550  --------------------------\n",
      "Train loss (all, class_i, class_b, icub_reg, bio_reg): 229.5413303920201 0.021338094983782085 0.016338094983782088 0.019795044642857144 0.03099175502232143\n",
      "Train accuracy(i,b,all): 0.9085714285714286 0.9671428571428572 1.0\n",
      "Test loss (all, class_i, class_b, icub_reg, bio_reg): 52.34564493815104 0.09789999643961589 0.08165555318196614 0.030590885416666668 0.06917827473958332\n",
      "Test accuracy(i,b,all): 0.8533333333333334 0.92 0.98\n",
      "Epoch:  560  --------------------------\n",
      "Train loss (all, class_i, class_b, icub_reg, bio_reg): 228.85758091517857 0.04460476194109236 0.015138094765799387 0.020840090680803572 0.026522237723214284\n",
      "Train accuracy(i,b,all): 0.9085714285714286 0.9671428571428572 1.0\n",
      "Test loss (all, class_i, class_b, icub_reg, bio_reg): 51.74509002685547 0.13348889668782551 0.33044443766276044 0.03411545572916667 0.08526321614583333\n",
      "Test accuracy(i,b,all): 0.8566666666666667 0.9266666666666666 0.98\n",
      "Epoch:  570  --------------------------\n",
      "Train loss (all, class_i, class_b, icub_reg, bio_reg): 228.22470380510603 0.026333334786551338 0.013633332933698382 0.012371487165178571 0.04546873325892857\n",
      "Train accuracy(i,b,all): 0.9114285714285715 0.9657142857142857 1.0\n",
      "Test loss (all, class_i, class_b, icub_reg, bio_reg): 51.25748291015625 0.058522218068440754 0.09539999643961589 0.04188502604166667 0.089726796875\n",
      "Test accuracy(i,b,all): 0.8566666666666667 0.9233333333333333 0.9766666666666667\n",
      "Epoch:  580  --------------------------\n",
      "Train loss (all, class_i, class_b, icub_reg, bio_reg): 227.24241664341517 0.04398571286882673 0.036847615923200336 0.011582869698660715 0.026369592633928574\n",
      "Train accuracy(i,b,all): 0.9157142857142857 0.9742857142857143 1.0\n",
      "Test loss (all, class_i, class_b, icub_reg, bio_reg): 51.27672154744466 0.1684222157796224 0.06428888956705729 0.0240326513671875 0.082240234375\n",
      "Test accuracy(i,b,all): 0.8566666666666667 0.93 0.9833333333333333\n",
      "Epoch:  590  --------------------------\n",
      "Train loss (all, class_i, class_b, icub_reg, bio_reg): 226.5112647356306 0.03846190861293248 0.07502856663295202 0.011789485212053571 0.03259709263392857\n",
      "Train accuracy(i,b,all): 0.91 0.9642857142857143 1.0\n",
      "Test loss (all, class_i, class_b, icub_reg, bio_reg): 51.664908192952474 0.12544443766276042 0.12047777811686199 0.03597805338541667 0.05543880208333333\n",
      "Test accuracy(i,b,all): 0.8633333333333333 0.93 0.9766666666666667\n",
      "Epoch:  600  --------------------------\n",
      "Train loss (all, class_i, class_b, icub_reg, bio_reg): 225.90792253766742 0.0091476195199149 0.026890474046979633 0.012724995814732142 0.03985172154017857\n",
      "Train accuracy(i,b,all): 0.9085714285714286 0.9657142857142857 1.0\n",
      "Test loss (all, class_i, class_b, icub_reg, bio_reg): 51.05748509724935 0.08837777455647787 0.03934444427490234 0.029597737630208336 0.0681408203125\n",
      "Test accuracy(i,b,all): 0.86 0.9266666666666666 0.98\n"
     ]
    }
   ],
   "source": [
    "train_total_losses=[]\n",
    "train_class_losses_i=[]\n",
    "train_class_losses_b=[]\n",
    "train_regres_losses_i=[]\n",
    "train_regres_losses_b=[]\n",
    "\n",
    "test_total_losses=[]\n",
    "test_class_losses_i=[]\n",
    "test_class_losses_b=[]\n",
    "test_regres_losses_i=[]\n",
    "test_regres_losses_b=[]\n",
    "\n",
    "train_accs_i = []\n",
    "train_accs_b = []\n",
    "\n",
    "test_accs_i = []\n",
    "test_accs_b = []\n",
    "\n",
    "alpha1 = alpha2 = 1\n",
    "beta1 = beta2 = 0.001\n",
    "gamma = 0.001\n",
    "psi = 1\n",
    "for epoch in range(601):\n",
    "    net.train()\n",
    "    correct = 0\n",
    "    correct_i = 0\n",
    "    correct_b = 0\n",
    "    loss_train = 0\n",
    "    loss_train = 0\n",
    "    loss_class_i = 0\n",
    "    loss_class_b = 0\n",
    "    loss_reg_i = 0\n",
    "    loss_reg_b = 0\n",
    "    for i, (tact_i, tact_b, target, label) in enumerate(train_loader):\n",
    "        \n",
    "        # prepare input data\n",
    "        target = target.to(device)\n",
    "        tact_i = tact_i.to(device)\n",
    "        tact_b = tact_b.to(device)\n",
    "        \n",
    "        tact_i = net.get_spike(tact_i)\n",
    "        tact_b = net.get_spike(tact_b)\n",
    "        \n",
    "        # impute icub\n",
    "        tact_new = torch.zeros((tact_i.shape[0],tact_i.shape[1],1,1,tact_i.shape[-1]*2)).to(device)\n",
    "        tact_new[...,::2]  = tact_i\n",
    "        tact_i = tact_new\n",
    "        \n",
    "        # forward pass\n",
    "        output_i, output_b, _, out_i, out_b ,enc_i, enc_d, gen_out = net.forward(tact_i, tact_b)\n",
    "                \n",
    "        # loss\n",
    "        correct_i += torch.sum(snn.predict.getClass(output_i) == label).data.item()\n",
    "        correct_b += torch.sum(snn.predict.getClass(output_b) == label).data.item()\n",
    "        correct += torch.sum(snn.predict.getClass(gen_out) == label).data.item()\n",
    "        \n",
    "        loss_sim = error2.spikeTime(enc_i, enc_d)\n",
    "        \n",
    "        loss_class_i = error.numSpikes(output_i, target)\n",
    "        loss_class_b = error.numSpikes(output_b, target)\n",
    "        loss_class = error.numSpikes(gen_out, target)\n",
    "        \n",
    "        loss_reg_i = error2.spikeTime(out_i, tact_i)\n",
    "        loss_reg_b = error2.spikeTime(out_b, tact_b)\n",
    "        \n",
    "        loss = alpha1*loss_class_i + alpha2*loss_class_b + beta1*loss_reg_i + beta2*loss_reg_b + gamma*loss_sim + psi*loss_class\n",
    "        \n",
    "        loss_train += loss.item()\n",
    "        loss_class_i = alpha1*loss_class_i.item()\n",
    "        loss_class_b = alpha2*loss_class_b.item()\n",
    "        loss_reg_i = beta1*loss_reg_i.item()\n",
    "        loss_reg_b = beta2*loss_reg_b.item()\n",
    "        \n",
    "        optimizer.zero_grad()\n",
    "        loss.backward()\n",
    "        optimizer.step()\n",
    "                \n",
    "    if epoch%10 == 0:\n",
    "        print('Epoch: ', epoch, ' --------------------------')\n",
    "        print('Train loss (all, class_i, class_b, icub_reg, bio_reg):', \n",
    "              loss_train/len(train_dataset),\n",
    "              loss_class_i/len(train_dataset),\n",
    "              loss_class_b/len(train_dataset),\n",
    "              loss_reg_i/len(train_dataset),\n",
    "              loss_reg_b/len(train_dataset))\n",
    "        print('Train accuracy(i,b,all):', correct_i/len(train_dataset), \n",
    "                  correct_b/len(train_dataset),\n",
    "                  correct/len(train_dataset))\n",
    "    train_accs_i.append(correct_i/len(train_dataset))\n",
    "    train_accs_b.append(correct_b/len(train_dataset))\n",
    "    train_total_losses.append(loss_train/len(train_dataset))\n",
    "    train_class_losses_i.append(loss_class_i/len(train_dataset))\n",
    "    train_class_losses_b.append(loss_class_b/len(train_dataset))\n",
    "    train_regres_losses_i.append(loss_reg_i/len(train_dataset))\n",
    "    train_regres_losses_b.append(loss_reg_b/len(train_dataset))\n",
    "        \n",
    "    net.eval()\n",
    "    correct = 0\n",
    "    correct_i = 0\n",
    "    correct_b = 0\n",
    "    loss_test = 0\n",
    "    loss_class_i = 0\n",
    "    loss_class_b = 0\n",
    "    loss_reg_i = 0\n",
    "    loss_reg_b = 0\n",
    "    with torch.no_grad():\n",
    "        for i, (tact_i,tact_b, target, label) in enumerate(test_loader):\n",
    "\n",
    "            # prepare input data\n",
    "            target = target.to(device)\n",
    "            tact_i = tact_i.to(device)\n",
    "            tact_b = tact_b.to(device)\n",
    "\n",
    "            tact_i = net.get_spike(tact_i)\n",
    "            tact_b = net.get_spike(tact_b)\n",
    "\n",
    "            # impute icub\n",
    "            tact_new = torch.zeros((tact_i.shape[0],tact_i.shape[1],1,1,tact_i.shape[-1]*2)).to(device)\n",
    "            tact_new[...,::2]  = tact_i\n",
    "            tact_i = tact_new\n",
    "\n",
    "            # forward pass\n",
    "            output_i, output_b, _, out_i, out_b ,enc_i, enc_d, gen_out = net.forward(tact_i, tact_b)\n",
    "\n",
    "            # loss\n",
    "            correct_i += torch.sum(snn.predict.getClass(output_i) == label).data.item()\n",
    "            correct_b += torch.sum(snn.predict.getClass(output_b) == label).data.item()\n",
    "            correct += torch.sum(snn.predict.getClass(gen_out) == label).data.item()\n",
    "            \n",
    "            loss_class_i = error.numSpikes(output_i, target)\n",
    "            loss_class_b = error.numSpikes(output_b, target)\n",
    "            \n",
    "\n",
    "            loss_reg_i = error2.spikeTime(out_i, tact_i)\n",
    "            loss_reg_b = error2.spikeTime(out_b, tact_b)\n",
    "\n",
    "            loss = alpha1*loss_class_i + alpha2*loss_class_b + beta1*loss_reg_i + beta2*loss_reg_b\n",
    "\n",
    "            loss_test += loss.item()\n",
    "            loss_class_i = alpha1*loss_class_i.item()\n",
    "            loss_class_b = alpha2*loss_class_b.item()\n",
    "            loss_reg_i = beta1*loss_reg_i.item()\n",
    "            loss_reg_b = beta2*loss_reg_b.item()\n",
    "\n",
    "            loss_test += loss.item()\n",
    "    \n",
    "    if epoch%10 == 0:\n",
    "        print('Test loss (all, class_i, class_b, icub_reg, bio_reg):', \n",
    "              loss_test/len(test_dataset),\n",
    "              loss_class_i/len(test_dataset),\n",
    "              loss_class_b/len(test_dataset),\n",
    "              loss_reg_i/len(test_dataset),\n",
    "              loss_reg_b/len(test_dataset))\n",
    "        print('Test accuracy(i,b,all):', correct_i/len(test_dataset), \n",
    "                  correct_b/len(test_dataset),\n",
    "                  correct/len(test_dataset))\n",
    "    test_accs_i.append(correct_i/len(test_dataset))\n",
    "    test_accs_b.append(correct_b/len(test_dataset))\n",
    "    test_total_losses.append(loss_test/len(test_dataset))\n",
    "    test_class_losses_i.append(loss_class_i/len(test_dataset))\n",
    "    test_class_losses_b.append(loss_class_b/len(test_dataset))\n",
    "    test_regres_losses_i.append(loss_reg_i/len(test_dataset))\n",
    "    test_regres_losses_b.append(loss_reg_b/len(test_dataset))"
   ]
  },
  {
   "cell_type": "code",
   "execution_count": 21,
   "metadata": {},
   "outputs": [
    {
     "data": {
      "image/png": "[encoded data removed]",
      "text/plain": [
       "<Figure size 1080x504 with 2 Axes>"
      ]
     },
     "metadata": {
      "needs_background": "light"
     },
     "output_type": "display_data"
    }
   ],
   "source": [
    "fig, ax = plt.subplots(2, figsize=(15,7))\n",
    "\n",
    "ax[0].plot(train_total_losses, 'b')\n",
    "ax[0].plot(500*np.array(train_class_losses_i), 'r')\n",
    "ax[0].plot(500*np.array(train_regres_losses_i), 'g')\n",
    "ax[0].plot(500*np.array(train_regres_losses_b), 'c')\n",
    "\n",
    "# ax[0].plot(test_losses)\n",
    "ax[0].set_xlabel('Epoch')\n",
    "ax[0].set_ylabel('Loss')\n",
    "\n",
    "ax[1].plot(train_accs_i)\n",
    "ax[1].plot(test_accs_i)\n",
    "ax[1].set_xlabel('Epoch')\n",
    "ax[1].set_ylabel('Accuracy')\n",
    "ax[1].legend(['Train', 'Test'])\n",
    "\n",
    "plt.show()"
   ]
  },
  {
   "cell_type": "code",
   "execution_count": 22,
   "metadata": {},
   "outputs": [
    {
     "data": {
      "text/plain": [
       "(0.8666666666666667, 0.94)"
      ]
     },
     "execution_count": 22,
     "metadata": {},
     "output_type": "execute_result"
    }
   ],
   "source": [
    "np.max(test_accs_i), np.max(test_accs_b)"
   ]
  },
  {
   "cell_type": "code",
   "execution_count": 23,
   "metadata": {},
   "outputs": [
    {
     "data": {
      "text/plain": [
       "(0.9171428571428571, 0.9742857142857143)"
      ]
     },
     "execution_count": 23,
     "metadata": {},
     "output_type": "execute_result"
    }
   ],
   "source": [
    "np.max(train_accs_i), np.max(train_accs_b)"
   ]
  },
  {
   "cell_type": "code",
   "execution_count": 28,
   "metadata": {},
   "outputs": [],
   "source": [
    "net.eval()\n",
    "big_list = []\n",
    "label_list=[]\n",
    "\n",
    "with torch.no_grad():\n",
    "    for i, (tact_i,tact_b, target, label) in enumerate(test_loader):\n",
    "\n",
    "        # prepare input data\n",
    "        target = target.to(device)\n",
    "        tact_i = tact_i.to(device)\n",
    "        tact_b = tact_b.to(device)\n",
    "\n",
    "        tact_i = net.get_spike(tact_i)\n",
    "        tact_b = net.get_spike(tact_b)\n",
    "\n",
    "        # impute icub\n",
    "        tact_new = torch.zeros((tact_i.shape[0],tact_i.shape[1],1,1,tact_i.shape[-1]*2)).to(device)\n",
    "        tact_new[...,::2]  = tact_i\n",
    "        tact_i = tact_new\n",
    "\n",
    "        # forward pass\n",
    "        _, _, rep, _, _, _, _, _ = net.forward(tact_i, tact_b)\n",
    "\n",
    "        big_list.append(rep)\n",
    "        label_list.append(label)"
   ]
  },
  {
   "cell_type": "code",
   "execution_count": 29,
   "metadata": {},
   "outputs": [
    {
     "data": {
      "text/plain": [
       "torch.Size([300, 40, 1, 1, 150])"
      ]
     },
     "execution_count": 29,
     "metadata": {},
     "output_type": "execute_result"
    }
   ],
   "source": [
    "test_representation = torch.cat(big_list,0)\n",
    "test_representation.shape"
   ]
  },
  {
   "cell_type": "code",
   "execution_count": 30,
   "metadata": {},
   "outputs": [],
   "source": [
    "label_all = torch.cat(label_list, 0)"
   ]
  },
  {
   "cell_type": "code",
   "execution_count": 31,
   "metadata": {},
   "outputs": [],
   "source": [
    "label_all = label_all.cpu().numpy()"
   ]
  },
  {
   "cell_type": "code",
   "execution_count": 32,
   "metadata": {},
   "outputs": [
    {
     "name": "stdout",
     "output_type": "stream",
     "text": [
      "CPU times: user 28.7 s, sys: 6.31 s, total: 35 s\n",
      "Wall time: 35 s\n"
     ]
    }
   ],
   "source": [
    "%%time\n",
    "dist_mat = torch.zeros([300,300])\n",
    "for i in range(300):\n",
    "    for j in range(300):\n",
    "        if i == j:\n",
    "            dist_mat[i, j] = 0.0\n",
    "        else:\n",
    "            dist_mat[i,j] = error2.spikeTime(test_representation[i], test_representation[j])"
   ]
  },
  {
   "cell_type": "code",
   "execution_count": 33,
   "metadata": {},
   "outputs": [],
   "source": [
    "dist_mat = dist_mat.detach().cpu().numpy()"
   ]
  },
  {
   "cell_type": "code",
   "execution_count": 34,
   "metadata": {},
   "outputs": [],
   "source": [
    "from sklearn.manifold import TSNE\n",
    "X_embedded = TSNE(n_components=2,perplexity=20, metric='precomputed').fit_transform(dist_mat)"
   ]
  },
  {
   "cell_type": "code",
   "execution_count": 35,
   "metadata": {},
   "outputs": [
    {
     "data": {
      "image/png": "[encoded data removed]",
      "text/plain": [
       "<Figure size 432x288 with 1 Axes>"
      ]
     },
     "metadata": {
      "needs_background": "light"
     },
     "output_type": "display_data"
    }
   ],
   "source": [
    "fig, ax = plt.subplots()\n",
    "ax.scatter(X_embedded[:, 0], X_embedded[:, 1], c=label_all, cmap=plt.cm.tab10)\n",
    "plt.show()"
   ]
  },
  {
   "cell_type": "code",
   "execution_count": null,
   "metadata": {},
   "outputs": [],
   "source": []
  }
 ],
 "metadata": {
  "kernelspec": {
   "display_name": "Python 3",
   "language": "python",
   "name": "python3"
  },
  "language_info": {
   "codemirror_mode": {
    "name": "ipython",
    "version": 3
   },
   "file_extension": ".py",
   "mimetype": "text/x-python",
   "name": "python",
   "nbconvert_exporter": "python",
   "pygments_lexer": "ipython3",
   "version": "3.5.2"
  }
 },
 "nbformat": 4,
 "nbformat_minor": 2
}
