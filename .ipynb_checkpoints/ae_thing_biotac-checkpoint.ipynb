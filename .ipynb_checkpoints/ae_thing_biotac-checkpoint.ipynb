{
 "cells": [
  {
   "cell_type": "code",
   "execution_count": 1,
   "metadata": {},
   "outputs": [],
   "source": [
    "import sys, os\n",
    "CURRENT_TEST_DIR = os.getcwd()\n",
    "sys.path.append(CURRENT_TEST_DIR + \"/../../../slayerPytorch/src\")"
   ]
  },
  {
   "cell_type": "code",
   "execution_count": 2,
   "metadata": {},
   "outputs": [
    {
     "data": {
      "text/plain": [
       "<torch._C.Generator at 0x7f26802266d0>"
      ]
     },
     "execution_count": 2,
     "metadata": {},
     "output_type": "execute_result"
    }
   ],
   "source": [
    "import slayerSNN as snn\n",
    "import pandas as pd\n",
    "import numpy as np\n",
    "import matplotlib.pyplot as plt\n",
    "from dtw import dtw, accelerated_dtw\n",
    "from numpy.linalg import norm\n",
    "from joblib import Parallel, delayed\n",
    "import torch\n",
    "import copy\n",
    "from torch.utils.data import Dataset\n",
    "from sklearn.model_selection import train_test_split\n",
    "\n",
    "np.random.seed(1)\n",
    "torch.manual_seed(1)"
   ]
  },
  {
   "cell_type": "code",
   "execution_count": 3,
   "metadata": {},
   "outputs": [],
   "source": [
    "#X = np.load('auxiliaries/electrodes.npy')\n",
    "X = torch.load('../BioTac_Icub_data/Bio_all.pt').permute(0,2,1).numpy()\n",
    "#Y = np.load('auxiliaries/labels.npy')\n",
    "Y = np.load('../BioTac_Icub_data/ICUB_all_labels.npy')"
   ]
  },
  {
   "cell_type": "code",
   "execution_count": 4,
   "metadata": {},
   "outputs": [
    {
     "data": {
      "text/plain": [
       "((1000, 19, 150), (1000,))"
      ]
     },
     "execution_count": 4,
     "metadata": {},
     "output_type": "execute_result"
    }
   ],
   "source": [
    "X.shape, Y.shape"
   ]
  },
  {
   "cell_type": "code",
   "execution_count": 5,
   "metadata": {},
   "outputs": [],
   "source": [
    "def get_ohe(_Y):\n",
    "    target_class = np.zeros([_Y.shape[0], 20])\n",
    "    for i in range(target_class.shape[0]):\n",
    "        target_class[i, int(_Y[i])] = 1\n",
    "    return target_class"
   ]
  },
  {
   "cell_type": "code",
   "execution_count": 6,
   "metadata": {},
   "outputs": [],
   "source": [
    "X = X.reshape(X.shape[0], X.shape[1], 1, 1, X.shape[-1])\n",
    "# Y = Y.reshape(Y.shape[0], Y.shape[1], 1, 1, Y.shape[-1])"
   ]
  },
  {
   "cell_type": "code",
   "execution_count": 7,
   "metadata": {},
   "outputs": [],
   "source": [
    "X_train, X_test, y_train, y_test = train_test_split(X, Y, test_size=0.30, random_state=42, stratify=Y)"
   ]
  },
  {
   "cell_type": "code",
   "execution_count": 8,
   "metadata": {},
   "outputs": [
    {
     "data": {
      "text/plain": [
       "(torch.Size([700, 19, 1, 1, 150]),\n",
       " torch.Size([700]),\n",
       " torch.Size([700, 20, 1, 1, 1]))"
      ]
     },
     "execution_count": 8,
     "metadata": {},
     "output_type": "execute_result"
    }
   ],
   "source": [
    "X_train = torch.FloatTensor(X_train)\n",
    "y_train = torch.FloatTensor(y_train)\n",
    "\n",
    "target_class_train = torch.FloatTensor(get_ohe(y_train).reshape(-1, 20, 1, 1, 1))\n",
    "    \n",
    "X_test = torch.FloatTensor(X_test)\n",
    "y_test = torch.FloatTensor(y_test)\n",
    "target_class_test= torch.FloatTensor(get_ohe(y_test).reshape(-1, 20, 1, 1, 1))\n",
    "\n",
    "\n",
    "X_train.shape, y_train.shape, target_class_train.shape"
   ]
  },
  {
   "cell_type": "code",
   "execution_count": 9,
   "metadata": {},
   "outputs": [],
   "source": [
    "params = {\n",
    "    \"neuron\": {\n",
    "        \"type\": \"SRMALPHA\",\n",
    "        \"theta\": 5, # 10\n",
    "        \"tauSr\": 10.0,\n",
    "        \"tauRef\": 2.0,\n",
    "        \"scaleRef\": 2,\n",
    "        \"tauRho\": 1,\n",
    "        \"scaleRho\": 1,\n",
    "    },\n",
    "    \"simulation\": {\"Ts\": 1.0, \"tSample\": 150, \"nSample\": 1},\n",
    "    \"training\": {\n",
    "        \"error\": {\n",
    "            \"type\": \"NumSpikes\",  # \"NumSpikes\" or \"ProbSpikes\"\n",
    "            \"probSlidingWin\": 20,  # only valid for ProbSpikes\n",
    "            \"tgtSpikeRegion\": {  # valid for NumSpikes and ProbSpikes\n",
    "                \"start\": 0,\n",
    "                \"stop\": 150,\n",
    "            },\n",
    "            \"tgtSpikeCount\": {True: 120, False: 20},\n",
    "        }\n",
    "    },\n",
    "}\n",
    "\n",
    "params2 = {\n",
    "    \"neuron\": {\n",
    "        \"type\": \"SRMALPHA\",\n",
    "        \"theta\": 5, # 10\n",
    "        \"tauSr\": 10.0,\n",
    "        \"tauRef\": 2.0,\n",
    "        \"scaleRef\": 2,\n",
    "        \"tauRho\": 1,\n",
    "        \"scaleRho\": 1,\n",
    "    },\n",
    "    \"simulation\": {\"Ts\": 1.0, \"tSample\": 150, \"nSample\": 1},\n",
    "    \"training\": {\n",
    "        \"error\": {\n",
    "            \"type\": \"SpikeTime\",  # \"NumSpikes\" or \"ProbSpikes\"\n",
    "            \"probSlidingWin\": 20,  # only valid for ProbSpikes\n",
    "            \"tgtSpikeRegion\": {  # valid for NumSpikes and ProbSpikes\n",
    "                \"start\": 0,\n",
    "                \"stop\": 150,\n",
    "            },\n",
    "            \"tgtSpikeCount\": {True: 120, False: 20},\n",
    "        }\n",
    "    },\n",
    "}"
   ]
  },
  {
   "cell_type": "code",
   "execution_count": 10,
   "metadata": {},
   "outputs": [],
   "source": [
    "train_dataset = torch.utils.data.TensorDataset(X_train, target_class_train, y_train)\n",
    "train_loader = torch.utils.data.DataLoader(train_dataset,shuffle=True,batch_size=8)\n",
    "\n",
    "test_dataset = torch.utils.data.TensorDataset(X_test, target_class_test, y_test)\n",
    "test_loader = torch.utils.data.DataLoader(test_dataset,shuffle=True,batch_size=8)"
   ]
  },
  {
   "cell_type": "code",
   "execution_count": 11,
   "metadata": {},
   "outputs": [],
   "source": [
    "class SlayerMLP(torch.nn.Module):\n",
    "    def __init__(self, params, input_size, hidden_size1, hidden_size2, output_size):\n",
    "        super(SlayerMLP, self).__init__()\n",
    "        self.output_size = output_size\n",
    "        self.slayer = snn.layer(params[\"neuron\"], params[\"simulation\"])\n",
    "        self.fc1 = self.slayer.dense(input_size, hidden_size1)\n",
    "        self.fc2 = self.slayer.dense(hidden_size1, hidden_size2)\n",
    "        self.fc3 = self.slayer.dense(hidden_size2, output_size)\n",
    "        \n",
    "        self.fc_decoder1 = self.slayer.dense(hidden_size2, 30)\n",
    "        self.fc_decoder2 = self.slayer.dense(30, input_size)\n",
    "\n",
    "    def get_spike(self, inp):\n",
    "        return self.slayer.spike(inp)\n",
    "    \n",
    "    def forward(self, spike_input):\n",
    "        spike_1 = self.slayer.spike(self.slayer.psp(self.fc1(spike_input)))\n",
    "        spike_2 = self.slayer.spike(self.slayer.psp(self.fc2(spike_1)))\n",
    "        spike_output = self.slayer.spike(self.slayer.psp(self.fc3(spike_2)))\n",
    "        \n",
    "        spike_hat1 = self.slayer.spike(self.slayer.psp(self.fc_decoder1(spike_2)))\n",
    "        spike_hat2 = self.slayer.spike(self.slayer.psp(self.fc_decoder2(spike_hat1)))\n",
    "        \n",
    "        return spike_output, spike_hat2, spike_2, spike_hat1"
   ]
  },
  {
   "cell_type": "code",
   "execution_count": 12,
   "metadata": {},
   "outputs": [],
   "source": [
    "device = torch.device(\"cuda:1\")\n",
    "net = SlayerMLP(params, 19, 50, 50, 20).to(device)"
   ]
  },
  {
   "cell_type": "code",
   "execution_count": 13,
   "metadata": {},
   "outputs": [],
   "source": [
    "error = snn.loss(params).to(device)\n",
    "error2 = snn.loss(params2).to(device)\n",
    "optimizer = torch.optim.RMSprop(net.parameters(), lr=0.001, weight_decay=0.5)"
   ]
  },
  {
   "cell_type": "code",
   "execution_count": 14,
   "metadata": {},
   "outputs": [
    {
     "data": {
      "text/plain": [
       "0.21142857142857144"
      ]
     },
     "execution_count": 14,
     "metadata": {},
     "output_type": "execute_result"
    }
   ],
   "source": [
    "148/len(train_dataset)"
   ]
  },
  {
   "cell_type": "code",
   "execution_count": 15,
   "metadata": {},
   "outputs": [
    {
     "name": "stdout",
     "output_type": "stream",
     "text": [
      "Epoch:  0  --------------------------\n",
      "Train loss (all, class, reg): 170.79375645228794 0.23354762486049108 0.32411513392857144\n",
      "Train accuracy: 0.08571428571428572\n",
      "Test loss (all, class, reg): 102.69784973144532 0.7054444376627604 0.6978919270833334\n",
      "Test accuracy: 0.23\n",
      "Epoch:  10  --------------------------\n",
      "Train loss (all, class, reg): 40.06904813494001 0.11539999825613839 0.077207265625\n",
      "Train accuracy: 0.5828571428571429\n",
      "Test loss (all, class, reg): 39.16887776692708 0.2728666687011719 0.18392854166666667\n",
      "Test accuracy: 0.6266666666666667\n",
      "Epoch:  20  --------------------------\n",
      "Train loss (all, class, reg): 32.87057074410575 0.14208095005580357 0.058964252232142855\n",
      "Train accuracy: 0.7171428571428572\n",
      "Test loss (all, class, reg): 33.44564465840658 0.24432220458984374 0.154351875\n",
      "Test accuracy: 0.71\n",
      "Epoch:  30  --------------------------\n",
      "Train loss (all, class, reg): 29.07142083304269 0.11075714111328125 0.05986929129464285\n",
      "Train accuracy: 0.7728571428571429\n",
      "Test loss (all, class, reg): 29.018463948567707 0.16530001322428386 0.18360755208333332\n",
      "Test accuracy: 0.78\n",
      "Epoch:  40  --------------------------\n",
      "Train loss (all, class, reg): 26.697877393450057 0.08726190294538226 0.07011712053571428\n",
      "Train accuracy: 0.7971428571428572\n",
      "Test loss (all, class, reg): 27.29790222167969 0.24856664021809896 0.14922973958333335\n",
      "Test accuracy: 0.77\n",
      "Epoch:  50  --------------------------\n",
      "Train loss (all, class, reg): 24.948621303013393 0.1075714329310826 0.04981575892857143\n",
      "Train accuracy: 0.84\n",
      "Test loss (all, class, reg): 25.32831219991048 0.3025555419921875 0.12048265624999999\n",
      "Test accuracy: 0.8333333333333334\n",
      "Epoch:  60  --------------------------\n",
      "Train loss (all, class, reg): 23.596338381086078 0.11297143118722099 0.049966484375\n",
      "Train accuracy: 0.8414285714285714\n",
      "Test loss (all, class, reg): 24.111092961629232 0.15135555267333983 0.08512492838541667\n",
      "Test accuracy: 0.8\n",
      "Epoch:  70  --------------------------\n",
      "Train loss (all, class, reg): 22.470260957990373 0.0676095199584961 0.04408937779017857\n",
      "Train accuracy: 0.8557142857142858\n",
      "Test loss (all, class, reg): 22.90086151123047 0.14795556386311848 0.13493567708333332\n",
      "Test accuracy: 0.8333333333333334\n",
      "Epoch:  80  --------------------------\n",
      "Train loss (all, class, reg): 21.61361747741699 0.10867619105747768 0.03990958147321429\n",
      "Train accuracy: 0.8771428571428571\n",
      "Test loss (all, class, reg): 22.41177998860677 0.23014444986979166 0.08306450520833333\n",
      "Test accuracy: 0.8566666666666667\n",
      "Epoch:  90  --------------------------\n",
      "Train loss (all, class, reg): 20.83325692313058 0.09948571341378348 0.04100159040178572\n",
      "Train accuracy: 0.8742857142857143\n",
      "Test loss (all, class, reg): 21.247601420084635 0.15367777506510416 0.10503207682291667\n",
      "Test accuracy: 0.8633333333333333\n",
      "Epoch:  100  --------------------------\n",
      "Train loss (all, class, reg): 20.19398303440639 0.07293809073311942 0.041635027901785714\n",
      "Train accuracy: 0.8985714285714286\n",
      "Test loss (all, class, reg): 20.8810102335612 0.16269999186197917 0.07817360677083333\n",
      "Test accuracy: 0.8466666666666667\n",
      "Epoch:  110  --------------------------\n",
      "Train loss (all, class, reg): 19.641013619559153 0.0722952379499163 0.040313203125\n",
      "Train accuracy: 0.9014285714285715\n",
      "Test loss (all, class, reg): 20.267499262491864 0.20519999186197915 0.08368171875000001\n",
      "Test accuracy: 0.8666666666666667\n",
      "Epoch:  120  --------------------------\n",
      "Train loss (all, class, reg): 19.18887937273298 0.08764761788504465 0.04577978794642857\n",
      "Train accuracy: 0.8942857142857142\n",
      "Test loss (all, class, reg): 19.756422220865886 0.22882222493489585 0.1379790104166667\n",
      "Test accuracy: 0.8933333333333333\n",
      "Epoch:  130  --------------------------\n",
      "Train loss (all, class, reg): 18.819981111798967 0.06454285757882254 0.030556054687500004\n",
      "Train accuracy: 0.9\n",
      "Test loss (all, class, reg): 19.369896087646485 0.11052221934000651 0.07923207682291666\n",
      "Test accuracy: 0.8733333333333333\n",
      "Epoch:  140  --------------------------\n",
      "Train loss (all, class, reg): 18.24104230608259 0.04140475954328265 0.03685390345982143\n",
      "Train accuracy: 0.9057142857142857\n",
      "Test loss (all, class, reg): 19.2845166015625 0.0761555544535319 0.10876673177083333\n",
      "Test accuracy: 0.8633333333333333\n",
      "Epoch:  150  --------------------------\n",
      "Train loss (all, class, reg): 17.99094192504883 0.04816666739327567 0.037233113839285716\n",
      "Train accuracy: 0.9171428571428571\n",
      "Test loss (all, class, reg): 18.97846560160319 0.2153222147623698 0.12561963541666665\n",
      "Test accuracy: 0.87\n",
      "Epoch:  160  --------------------------\n",
      "Train loss (all, class, reg): 17.681445808410643 0.050990480695452006 0.04030712053571429\n",
      "Train accuracy: 0.9028571428571428\n",
      "Test loss (all, class, reg): 18.362466634114583 0.26039998372395834 0.09938842447916667\n",
      "Test accuracy: 0.8966666666666666\n",
      "Epoch:  170  --------------------------\n",
      "Train loss (all, class, reg): 17.51144713265555 0.08313809531075614 0.06253225446428572\n",
      "Train accuracy: 0.91\n",
      "Test loss (all, class, reg): 18.070937372843424 0.11352222442626952 0.06552731119791667\n",
      "Test accuracy: 0.9\n",
      "Epoch:  180  --------------------------\n",
      "Train loss (all, class, reg): 17.07024735586984 0.056476189749581476 0.04062237165178572\n",
      "Train accuracy: 0.9114285714285715\n",
      "Test loss (all, class, reg): 17.845743662516277 0.1714222208658854 0.08456214843750001\n",
      "Test accuracy: 0.8866666666666667\n",
      "Epoch:  190  --------------------------\n",
      "Train loss (all, class, reg): 16.778255985804968 0.0791666739327567 0.038662876674107144\n",
      "Train accuracy: 0.92\n",
      "Test loss (all, class, reg): 17.621734568277994 0.10785555521647136 0.1291444010416667\n",
      "Test accuracy: 0.9\n",
      "Epoch:  200  --------------------------\n",
      "Train loss (all, class, reg): 16.572546931675504 0.07402857099260603 0.05151123325892857\n",
      "Train accuracy: 0.9285714285714286\n",
      "Test loss (all, class, reg): 17.75388053894043 0.09613332748413086 0.07024870442708334\n",
      "Test accuracy: 0.89\n",
      "Epoch:  210  --------------------------\n",
      "Train loss (all, class, reg): 16.36764916556222 0.08797619410923549 0.041929319196428574\n",
      "Train accuracy: 0.9228571428571428\n",
      "Test loss (all, class, reg): 17.728918991088868 0.19555557250976563 0.10593802734375\n",
      "Test accuracy: 0.8966666666666666\n",
      "Epoch:  220  --------------------------\n",
      "Train loss (all, class, reg): 16.17047098977225 0.025938094002859933 0.04817795758928571\n",
      "Train accuracy: 0.9285714285714286\n",
      "Test loss (all, class, reg): 17.437887573242186 0.15700000762939453 0.08423831380208334\n",
      "Test accuracy: 0.8966666666666666\n",
      "Epoch:  230  --------------------------\n",
      "Train loss (all, class, reg): 16.044118330819266 0.031147618974958147 0.044041004464285716\n",
      "Train accuracy: 0.9285714285714286\n",
      "Test loss (all, class, reg): 17.41291320800781 0.17628888448079427 0.08323154947916667\n",
      "Test accuracy: 0.9\n",
      "Epoch:  240  --------------------------\n",
      "Train loss (all, class, reg): 15.891770368303572 0.05523809705461775 0.046177098214285714\n",
      "Train accuracy: 0.9371428571428572\n",
      "Test loss (all, class, reg): 16.6638289642334 0.08920000076293945 0.06859705078125\n",
      "Test accuracy: 0.9133333333333333\n",
      "Epoch:  250  --------------------------\n",
      "Train loss (all, class, reg): 15.727262071881976 0.048295239039829796 0.05059748883928571\n",
      "Train accuracy: 0.9342857142857143\n",
      "Test loss (all, class, reg): 16.468953094482423 0.06346666971842448 0.09326448567708334\n",
      "Test accuracy: 0.9133333333333333\n",
      "Epoch:  260  --------------------------\n",
      "Train loss (all, class, reg): 15.52655409676688 0.06729047502790178 0.03606118861607143\n",
      "Train accuracy: 0.9371428571428572\n",
      "Test loss (all, class, reg): 16.3923668162028 0.054155553181966146 0.12620712239583334\n",
      "Test accuracy: 0.9133333333333333\n",
      "Epoch:  270  --------------------------\n",
      "Train loss (all, class, reg): 15.373057294573103 0.06592381068638394 0.05133380580357143\n",
      "Train accuracy: 0.9414285714285714\n",
      "Test loss (all, class, reg): 16.372017084757488 0.07570000330607096 0.10878284505208334\n",
      "Test accuracy: 0.92\n",
      "Epoch:  280  --------------------------\n",
      "Train loss (all, class, reg): 15.1765514591762 0.0217476190839495 0.035394659598214286\n",
      "Train accuracy: 0.95\n",
      "Test loss (all, class, reg): 16.189277521769206 0.2017555618286133 0.13742890625\n",
      "Test accuracy: 0.9166666666666666\n",
      "Epoch:  290  --------------------------\n",
      "Train loss (all, class, reg): 15.049021911621093 0.057585716247558594 0.033547020089285715\n",
      "Train accuracy: 0.9471428571428572\n",
      "Test loss (all, class, reg): 16.007694956461588 0.039099998474121093 0.10522356770833334\n",
      "Test accuracy: 0.9133333333333333\n"
     ]
    },
    {
     "name": "stdout",
     "output_type": "stream",
     "text": [
      "Epoch:  300  --------------------------\n",
      "Train loss (all, class, reg): 14.926673409598214 0.06392857142857143 0.05692125558035715\n",
      "Train accuracy: 0.9371428571428572\n",
      "Test loss (all, class, reg): 15.955829315185547 0.21418889363606772 0.08943447265625\n",
      "Test accuracy: 0.9266666666666666\n",
      "Epoch:  310  --------------------------\n",
      "Train loss (all, class, reg): 14.778192836216517 0.06528094700404576 0.03258657366071429\n",
      "Train accuracy: 0.9514285714285714\n",
      "Test loss (all, class, reg): 15.833977686564127 0.10151110967000325 0.11553834635416665\n",
      "Test accuracy: 0.9166666666666666\n",
      "Epoch:  320  --------------------------\n",
      "Train loss (all, class, reg): 14.679087764195033 0.0721904809134347 0.07516922433035715\n",
      "Train accuracy: 0.9485714285714286\n",
      "Test loss (all, class, reg): 15.893698450724283 0.095977783203125 0.08458434895833333\n",
      "Test accuracy: 0.92\n",
      "Epoch:  330  --------------------------\n",
      "Train loss (all, class, reg): 14.545642073495047 0.021766666684831893 0.06893265625\n",
      "Train accuracy: 0.9485714285714286\n",
      "Test loss (all, class, reg): 15.534882303873697 0.08553333282470703 0.08690983072916666\n",
      "Test accuracy: 0.93\n",
      "Epoch:  340  --------------------------\n",
      "Train loss (all, class, reg): 14.41042500087193 0.040514286586216516 0.03828742745535714\n",
      "Train accuracy: 0.9585714285714285\n",
      "Test loss (all, class, reg): 15.523452123006185 0.11513333638509114 0.08476684244791667\n",
      "Test accuracy: 0.9333333333333333\n",
      "Epoch:  350  --------------------------\n",
      "Train loss (all, class, reg): 14.231170152936663 0.022104761941092354 0.02975204799107143\n",
      "Train accuracy: 0.9571428571428572\n",
      "Test loss (all, class, reg): 15.43942980448405 0.1437000020345052 0.12768243489583334\n",
      "Test accuracy: 0.92\n",
      "Epoch:  360  --------------------------\n",
      "Train loss (all, class, reg): 14.167100023542131 0.04230952671595982 0.035664319196428575\n",
      "Train accuracy: 0.9557142857142857\n",
      "Test loss (all, class, reg): 15.422156422932943 0.10546666463216146 0.08833536458333334\n",
      "Test accuracy: 0.93\n",
      "Epoch:  370  --------------------------\n",
      "Train loss (all, class, reg): 14.02112454550607 0.02136190414428711 0.043321905691964285\n",
      "Train accuracy: 0.96\n",
      "Test loss (all, class, reg): 15.056413141886393 0.07562222798665365 0.14872919270833335\n",
      "Test accuracy: 0.9366666666666666\n",
      "Epoch:  380  --------------------------\n",
      "Train loss (all, class, reg): 13.816651894705636 0.036409525190080914 0.065666953125\n",
      "Train accuracy: 0.9557142857142857\n",
      "Test loss (all, class, reg): 15.249142862955729 0.04652222315470378 0.07403283854166666\n",
      "Test accuracy: 0.9433333333333334\n",
      "Epoch:  390  --------------------------\n",
      "Train loss (all, class, reg): 13.732549634660993 0.028999998910086495 0.044207458147321424\n",
      "Train accuracy: 0.9571428571428572\n",
      "Test loss (all, class, reg): 14.936843668619792 0.16111109415690103 0.08248001302083334\n",
      "Test accuracy: 0.9333333333333333\n",
      "Epoch:  400  --------------------------\n",
      "Train loss (all, class, reg): 13.601581399100168 0.06242857796805246 0.036854687500000004\n",
      "Train accuracy: 0.9657142857142857\n",
      "Test loss (all, class, reg): 15.077706985473633 0.0771999994913737 0.09324908854166666\n",
      "Test accuracy: 0.9333333333333333\n",
      "Epoch:  410  --------------------------\n",
      "Train loss (all, class, reg): 13.53897986820766 0.031376192910330634 0.0315576171875\n",
      "Train accuracy: 0.9614285714285714\n",
      "Test loss (all, class, reg): 14.780933278401692 0.18817776997884114 0.11669872395833333\n",
      "Test accuracy: 0.9433333333333334\n",
      "Epoch:  420  --------------------------\n",
      "Train loss (all, class, reg): 13.405149487086705 0.0347428594316755 0.03628716796875\n",
      "Train accuracy: 0.9657142857142857\n",
      "Test loss (all, class, reg): 14.896911722819011 0.16040000915527344 0.10645455729166667\n",
      "Test accuracy: 0.9333333333333333\n",
      "Epoch:  430  --------------------------\n",
      "Train loss (all, class, reg): 13.301317460196358 0.02537142889840262 0.04264671875\n",
      "Train accuracy: 0.9614285714285714\n",
      "Test loss (all, class, reg): 14.77375119527181 0.14665555318196616 0.10757874348958334\n",
      "Test accuracy: 0.9266666666666666\n",
      "Epoch:  440  --------------------------\n",
      "Train loss (all, class, reg): 13.266681344168527 0.02317143031529018 0.04143142857142857\n",
      "Train accuracy: 0.9642857142857143\n",
      "Test loss (all, class, reg): 14.481673431396484 0.07954444249471028 0.09566278645833333\n",
      "Test accuracy: 0.94\n",
      "Epoch:  450  --------------------------\n",
      "Train loss (all, class, reg): 13.169393174307688 0.04673809051513672 0.03914727120535714\n",
      "Train accuracy: 0.9657142857142857\n",
      "Test loss (all, class, reg): 14.285841903686524 0.1478555679321289 0.09165143229166667\n",
      "Test accuracy: 0.93\n",
      "Epoch:  460  --------------------------\n",
      "Train loss (all, class, reg): 13.021923114231654 0.045871429443359375 0.03256950892857143\n",
      "Train accuracy: 0.9642857142857143\n",
      "Test loss (all, class, reg): 14.304754447937011 0.06141111373901367 0.07069845052083334\n",
      "Test accuracy: 0.94\n",
      "Epoch:  470  --------------------------\n",
      "Train loss (all, class, reg): 12.97571891784668 0.016485715593610492 0.03967440848214286\n",
      "Train accuracy: 0.9657142857142857\n",
      "Test loss (all, class, reg): 14.201808268229167 0.04062222162882487 0.11638041666666667\n",
      "Test accuracy: 0.9366666666666666\n",
      "Epoch:  480  --------------------------\n",
      "Train loss (all, class, reg): 12.852333237784249 0.020333333696637836 0.03561265625\n",
      "Train accuracy: 0.9671428571428572\n",
      "Test loss (all, class, reg): 14.298435338338216 0.0510444450378418 0.12714609375\n",
      "Test accuracy: 0.93\n",
      "Epoch:  490  --------------------------\n",
      "Train loss (all, class, reg): 12.841860307965959 0.04552857262747628 0.03303790736607143\n",
      "Train accuracy: 0.9628571428571429\n",
      "Test loss (all, class, reg): 14.267137107849122 0.08767777760823568 0.11733385416666667\n",
      "Test accuracy: 0.9333333333333333\n",
      "Epoch:  500  --------------------------\n",
      "Train loss (all, class, reg): 12.700060702732632 0.022971428462437223 0.03343759486607143\n",
      "Train accuracy: 0.9657142857142857\n",
      "Test loss (all, class, reg): 14.004179763793946 0.1375777816772461 0.0903898046875\n",
      "Test accuracy: 0.9366666666666666\n",
      "Epoch:  510  --------------------------\n",
      "Train loss (all, class, reg): 12.562392937796456 0.019566666739327568 0.03455460658482143\n",
      "Train accuracy: 0.97\n",
      "Test loss (all, class, reg): 14.061291681925455 0.24278889973958334 0.086239765625\n",
      "Test accuracy: 0.93\n",
      "Epoch:  520  --------------------------\n",
      "Train loss (all, class, reg): 12.503356584821429 0.06041904994419643 0.044326043526785715\n",
      "Train accuracy: 0.97\n",
      "Test loss (all, class, reg): 13.879285380045573 0.11021110534667969 0.06051302083333334\n",
      "Test accuracy: 0.9466666666666667\n",
      "Epoch:  530  --------------------------\n",
      "Train loss (all, class, reg): 12.426361770629883 0.020719048636300225 0.06364318080357143\n",
      "Train accuracy: 0.9685714285714285\n",
      "Test loss (all, class, reg): 13.688995246887208 0.06923333485921224 0.09364262369791666\n",
      "Test accuracy: 0.9433333333333334\n",
      "Epoch:  540  --------------------------\n",
      "Train loss (all, class, reg): 12.37160706111363 0.0537857164655413 0.03140422712053571\n",
      "Train accuracy: 0.9685714285714285\n",
      "Test loss (all, class, reg): 13.934006881713866 0.13 0.06411049479166667\n",
      "Test accuracy: 0.94\n",
      "Epoch:  550  --------------------------\n",
      "Train loss (all, class, reg): 12.236781365530831 0.024852382114955357 0.04136388392857143\n",
      "Train accuracy: 0.9671428571428572\n",
      "Test loss (all, class, reg): 13.642628631591798 0.040011110305786135 0.06860921223958333\n",
      "Test accuracy: 0.94\n",
      "Epoch:  560  --------------------------\n",
      "Train loss (all, class, reg): 12.273464148385184 0.027390474591936383 0.03315922991071429\n",
      "Train accuracy: 0.97\n",
      "Test loss (all, class, reg): 13.645033264160157 0.04041110992431641 0.053080833333333334\n",
      "Test accuracy: 0.94\n",
      "Epoch:  570  --------------------------\n",
      "Train loss (all, class, reg): 12.183231795174734 0.021938095092773436 0.052916439732142856\n",
      "Train accuracy: 0.9714285714285714\n",
      "Test loss (all, class, reg): 13.58013557434082 0.08713333129882812 0.08328020833333333\n",
      "Test accuracy: 0.94\n",
      "Epoch:  580  --------------------------\n",
      "Train loss (all, class, reg): 12.029878926958357 0.02487142835344587 0.03444493861607143\n",
      "Train accuracy: 0.9728571428571429\n",
      "Test loss (all, class, reg): 13.844263254801433 0.10778889973958333 0.10033274739583334\n",
      "Test accuracy: 0.9433333333333334\n",
      "Epoch:  590  --------------------------\n",
      "Train loss (all, class, reg): 11.979482678004674 0.013547619410923549 0.04924505580357143\n",
      "Train accuracy: 0.9742857142857143\n",
      "Test loss (all, class, reg): 13.304054311116536 0.12985555013020833 0.07280810546875001\n",
      "Test accuracy: 0.94\n"
     ]
    },
    {
     "name": "stdout",
     "output_type": "stream",
     "text": [
      "Epoch:  600  --------------------------\n",
      "Train loss (all, class, reg): 11.924446819850377 0.016238095419747488 0.044045725446428576\n",
      "Train accuracy: 0.9671428571428572\n",
      "Test loss (all, class, reg): 13.403640200297037 0.05196666717529297 0.084695\n",
      "Test accuracy: 0.95\n"
     ]
    }
   ],
   "source": [
    "train_total_losses=[]\n",
    "train_class_losses=[]\n",
    "train_regres_losses=[]\n",
    "\n",
    "test_total_losses=[]\n",
    "test_class_losses=[]\n",
    "test_regres_losses=[]\n",
    "\n",
    "train_accs = []\n",
    "test_accs = []\n",
    "\n",
    "alpha = 1\n",
    "beta = 0.001\n",
    "for epoch in range(601):\n",
    "    net.train()\n",
    "    correct = 0\n",
    "    loss_train = 0\n",
    "    loss_class = 0\n",
    "    loss_reg = 0\n",
    "    for i, (tact, target, label) in enumerate(train_loader):\n",
    "        \n",
    "        tact = tact.to(device)\n",
    "        target = target.to(device)\n",
    "        tact = net.get_spike(tact)\n",
    "        output, out_input, _, _ = net.forward(tact)\n",
    "        \n",
    "        correct += torch.sum(snn.predict.getClass(output) == label).data.item()\n",
    "        loss_class = error.numSpikes(output, target)\n",
    "        \n",
    "        loss_reg = error2.spikeTime(out_input, tact)\n",
    "        \n",
    "        loss = alpha*loss_class + beta*loss_reg\n",
    "        \n",
    "        loss_train += loss.item()\n",
    "        loss_class = alpha*loss_class.item()\n",
    "        loss_reg = beta*loss_reg.item()\n",
    "        \n",
    "        optimizer.zero_grad()\n",
    "        loss.backward()\n",
    "        optimizer.step()\n",
    "                \n",
    "    if epoch%10 == 0:\n",
    "        print('Epoch: ', epoch, ' --------------------------')\n",
    "        print('Train loss (all, class, reg):', \n",
    "              loss_train/len(train_dataset),\n",
    "              loss_class/len(train_dataset),\n",
    "              loss_reg/len(train_dataset))\n",
    "        print('Train accuracy:', correct/len(train_dataset))\n",
    "    train_accs.append(correct/len(train_dataset))\n",
    "    train_total_losses.append(loss_train/len(train_dataset))\n",
    "    train_class_losses.append(loss_class/len(train_dataset))\n",
    "    train_regres_losses.append(loss_reg/len(train_dataset))\n",
    "        \n",
    "    net.eval()\n",
    "    correct = 0\n",
    "    loss_test = 0\n",
    "    loss_class = 0\n",
    "    loss_reg = 0\n",
    "    with torch.no_grad():\n",
    "        for i, (tact, target, label) in enumerate(test_loader):\n",
    "\n",
    "            tact = tact.to(device)\n",
    "            target = target.to(device)\n",
    "            tact = net.get_spike(tact)\n",
    "            output, out_input, _, _ = net.forward(tact)\n",
    "        \n",
    "            correct += torch.sum(snn.predict.getClass(output) == label).data.item()\n",
    "            loss_class = error.numSpikes(output, target)\n",
    "\n",
    "            loss_reg = error2.spikeTime(out_input, tact)\n",
    "\n",
    "            loss = alpha*loss_class + beta*loss_reg\n",
    "\n",
    "            loss_test += loss.item()\n",
    "            loss_class = alpha*loss_class.item()\n",
    "            loss_reg = beta*loss_reg.item()\n",
    "            \n",
    "#     if epoch%10 == 0:\n",
    "#         print('Test loss:', loss_test/len(test_dataset))\n",
    "#         print('Test accuracy:', correct/len(test_dataset))\n",
    "#     test_accs.append(correct/len(test_dataset))\n",
    "#     test_losses.append(loss_test/len(test_dataset))\n",
    "    \n",
    "    if epoch%10 == 0:\n",
    "        print('Test loss (all, class, reg):', \n",
    "              loss_test/len(test_dataset),\n",
    "              loss_class/len(test_dataset),\n",
    "              loss_reg/len(test_dataset))\n",
    "        print('Test accuracy:', correct/len(test_dataset))\n",
    "    test_accs.append(correct/len(test_dataset))\n",
    "    test_total_losses.append(loss_test/len(test_dataset))\n",
    "    test_class_losses.append(loss_class/len(test_dataset))\n",
    "    test_regres_losses.append(loss_reg/len(test_dataset))"
   ]
  },
  {
   "cell_type": "code",
   "execution_count": 16,
   "metadata": {},
   "outputs": [
    {
     "data": {
      "image/png": "[encoded data removed]",
      "text/plain": [
       "<Figure size 1080x504 with 2 Axes>"
      ]
     },
     "metadata": {
      "needs_background": "light"
     },
     "output_type": "display_data"
    }
   ],
   "source": [
    "fig, ax = plt.subplots(2, figsize=(15,7))\n",
    "\n",
    "ax[0].plot(train_total_losses, 'b')\n",
    "ax[0].plot(500*np.array(train_class_losses), 'r')\n",
    "ax[0].plot(500*np.array(train_regres_losses), 'g')\n",
    "\n",
    "# ax[0].plot(test_losses)\n",
    "ax[0].set_xlabel('Epoch')\n",
    "ax[0].set_ylabel('Loss')\n",
    "\n",
    "ax[1].plot(train_accs)\n",
    "ax[1].plot(test_accs)\n",
    "ax[1].set_xlabel('Epoch')\n",
    "ax[1].set_ylabel('Accuracy')\n",
    "ax[1].legend(['Train', 'Test'])\n",
    "\n",
    "plt.show()"
   ]
  },
  {
   "cell_type": "code",
   "execution_count": 17,
   "metadata": {},
   "outputs": [
    {
     "data": {
      "text/plain": [
       "0.9566666666666667"
      ]
     },
     "execution_count": 17,
     "metadata": {},
     "output_type": "execute_result"
    }
   ],
   "source": [
    "np.max(test_accs)"
   ]
  },
  {
   "cell_type": "code",
   "execution_count": 18,
   "metadata": {},
   "outputs": [
    {
     "data": {
      "text/plain": [
       "0.9771428571428571"
      ]
     },
     "execution_count": 18,
     "metadata": {},
     "output_type": "execute_result"
    }
   ],
   "source": [
    "np.max(train_accs)"
   ]
  },
  {
   "cell_type": "code",
   "execution_count": 19,
   "metadata": {},
   "outputs": [],
   "source": [
    "net.eval()\n",
    "big_list = []\n",
    "label_list=[]\n",
    "with torch.no_grad():\n",
    "    for i, (tact, target, label) in enumerate(test_loader):\n",
    "\n",
    "        tact = tact.to(device)\n",
    "        target = target.to(device)\n",
    "        tact = net.get_spike(tact)\n",
    "        _, _, rep, _ = net.forward(tact)\n",
    "        big_list.append(rep)\n",
    "        label_list.append(label)"
   ]
  },
  {
   "cell_type": "code",
   "execution_count": 20,
   "metadata": {},
   "outputs": [
    {
     "data": {
      "text/plain": [
       "torch.Size([300, 50, 1, 1, 150])"
      ]
     },
     "execution_count": 20,
     "metadata": {},
     "output_type": "execute_result"
    }
   ],
   "source": [
    "test_representation = torch.cat(big_list,0)\n",
    "test_representation.shape"
   ]
  },
  {
   "cell_type": "code",
   "execution_count": 21,
   "metadata": {},
   "outputs": [],
   "source": [
    "label_all = torch.cat(label_list, 0)"
   ]
  },
  {
   "cell_type": "code",
   "execution_count": 22,
   "metadata": {},
   "outputs": [],
   "source": [
    "label_all = label_all.cpu().numpy()"
   ]
  },
  {
   "cell_type": "code",
   "execution_count": 23,
   "metadata": {},
   "outputs": [
    {
     "name": "stdout",
     "output_type": "stream",
     "text": [
      "CPU times: user 10.9 s, sys: 148 ms, total: 11 s\n",
      "Wall time: 11 s\n"
     ]
    }
   ],
   "source": [
    "%%time\n",
    "dist_mat = torch.zeros([300,300])\n",
    "for i in range(300):\n",
    "    for j in range(300):\n",
    "        if i == j:\n",
    "            dist_mat[i, j] = 0.0\n",
    "        else:\n",
    "            dist_mat[i,j] = error2.spikeTime(test_representation[i], test_representation[j])"
   ]
  },
  {
   "cell_type": "code",
   "execution_count": 24,
   "metadata": {},
   "outputs": [],
   "source": [
    "dist_mat = dist_mat.detach().cpu().numpy()"
   ]
  },
  {
   "cell_type": "code",
   "execution_count": 25,
   "metadata": {},
   "outputs": [],
   "source": [
    "from sklearn.manifold import TSNE\n",
    "X_embedded = TSNE(n_components=2,perplexity=10, metric='precomputed').fit_transform(dist_mat)"
   ]
  },
  {
   "cell_type": "code",
   "execution_count": 26,
   "metadata": {},
   "outputs": [
    {
     "data": {
      "image/png": "[encoded data removed]",
      "text/plain": [
       "<Figure size 432x288 with 1 Axes>"
      ]
     },
     "metadata": {
      "needs_background": "light"
     },
     "output_type": "display_data"
    }
   ],
   "source": [
    "fig, ax = plt.subplots()\n",
    "ax.scatter(X_embedded[:, 0], X_embedded[:, 1], c=label_all, cmap=plt.cm.Spectral)\n",
    "plt.show()"
   ]
  }
 ],
 "metadata": {
  "kernelspec": {
   "display_name": "Python 3",
   "language": "python",
   "name": "python3"
  },
  "language_info": {
   "codemirror_mode": {
    "name": "ipython",
    "version": 3
   },
   "file_extension": ".py",
   "mimetype": "text/x-python",
   "name": "python",
   "nbconvert_exporter": "python",
   "pygments_lexer": "ipython3",
   "version": "3.5.2"
  }
 },
 "nbformat": 4,
 "nbformat_minor": 2
}
