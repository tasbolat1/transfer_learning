{
 "cells": [
  {
   "cell_type": "code",
   "execution_count": 1,
   "metadata": {},
   "outputs": [],
   "source": [
    "import sys, os\n",
    "CURRENT_TEST_DIR = os.getcwd()\n",
    "sys.path.append(CURRENT_TEST_DIR + \"/../../../slayerPytorch/src\")"
   ]
  },
  {
   "cell_type": "code",
   "execution_count": 2,
   "metadata": {},
   "outputs": [
    {
     "data": {
      "text/plain": [
       "<torch._C.Generator at 0x7fb8910c86d0>"
      ]
     },
     "execution_count": 2,
     "metadata": {},
     "output_type": "execute_result"
    }
   ],
   "source": [
    "import slayerSNN as snn\n",
    "import pandas as pd\n",
    "import numpy as np\n",
    "import matplotlib.pyplot as plt\n",
    "from dtw import dtw, accelerated_dtw\n",
    "from numpy.linalg import norm\n",
    "from joblib import Parallel, delayed\n",
    "import torch\n",
    "import copy\n",
    "from torch.utils.data import Dataset\n",
    "from sklearn.model_selection import train_test_split\n",
    "\n",
    "np.random.seed(1)\n",
    "torch.manual_seed(1)"
   ]
  },
  {
   "cell_type": "code",
   "execution_count": 3,
   "metadata": {},
   "outputs": [],
   "source": [
    "#X = np.load('auxiliaries/electrodes.npy')\n",
    "X = torch.load('../BioTac_Icub_data/Bio_all.pt').permute(0,2,1).numpy()\n",
    "X_i = torch.load('../BioTac_Icub_data/ICUB_all.pt').reshape([1000, 60, 75]).numpy()\n",
    "#Y = np.load('auxiliaries/labels.npy')\n",
    "Y = np.load('../BioTac_Icub_data/ICUB_all_labels.npy')"
   ]
  },
  {
   "cell_type": "code",
   "execution_count": 4,
   "metadata": {},
   "outputs": [
    {
     "data": {
      "text/plain": [
       "((1000, 19, 150), (1000,), (1000, 60, 75))"
      ]
     },
     "execution_count": 4,
     "metadata": {},
     "output_type": "execute_result"
    }
   ],
   "source": [
    "X.shape, Y.shape, X_i.shape"
   ]
  },
  {
   "cell_type": "code",
   "execution_count": 5,
   "metadata": {},
   "outputs": [],
   "source": [
    "def get_ohe(_Y):\n",
    "    target_class = np.zeros([_Y.shape[0], 20])\n",
    "    for i in range(target_class.shape[0]):\n",
    "        target_class[i, int(_Y[i])] = 1\n",
    "    return target_class"
   ]
  },
  {
   "cell_type": "code",
   "execution_count": 6,
   "metadata": {},
   "outputs": [],
   "source": [
    "X = X.reshape(X.shape[0], X.shape[1], 1, 1, X.shape[-1])\n",
    "X_i = X_i.reshape(X_i.shape[0], X_i.shape[1], 1, 1, X_i.shape[-1])\n",
    "indices = np.arange(X.shape[0])"
   ]
  },
  {
   "cell_type": "code",
   "execution_count": 7,
   "metadata": {},
   "outputs": [],
   "source": [
    "X_train, X_test, y_train, y_test, ind_train, ind_test = train_test_split(X, Y, indices, test_size=0.30, random_state=42, stratify=Y)"
   ]
  },
  {
   "cell_type": "code",
   "execution_count": 8,
   "metadata": {},
   "outputs": [
    {
     "data": {
      "text/plain": [
       "(torch.Size([700, 19, 1, 1, 150]),\n",
       " torch.Size([700]),\n",
       " torch.Size([700, 20, 1, 1, 1]),\n",
       " torch.Size([700, 60, 1, 1, 75]))"
      ]
     },
     "execution_count": 8,
     "metadata": {},
     "output_type": "execute_result"
    }
   ],
   "source": [
    "X_train = torch.FloatTensor(X_train)\n",
    "y_train = torch.FloatTensor(y_train)\n",
    "\n",
    "target_class_train = torch.FloatTensor(get_ohe(y_train).reshape(-1, 20, 1, 1, 1))\n",
    "    \n",
    "X_test = torch.FloatTensor(X_test)\n",
    "y_test = torch.FloatTensor(y_test)\n",
    "target_class_test= torch.FloatTensor(get_ohe(y_test).reshape(-1, 20, 1, 1, 1))\n",
    "\n",
    "X_train_i= torch.FloatTensor(X_i[ind_train])\n",
    "X_test_i = torch.FloatTensor(X_i[ind_test])\n",
    "\n",
    "X_train.shape, y_train.shape, target_class_train.shape, X_train_i.shape"
   ]
  },
  {
   "cell_type": "code",
   "execution_count": 9,
   "metadata": {},
   "outputs": [],
   "source": [
    "params = {\n",
    "    \"neuron\": {\n",
    "        \"type\": \"SRMALPHA\",\n",
    "        \"theta\": 5, # 10\n",
    "        \"tauSr\": 10.0,\n",
    "        \"tauRef\": 2.0,\n",
    "        \"scaleRef\": 2,\n",
    "        \"tauRho\": 1,\n",
    "        \"scaleRho\": 1,\n",
    "    },\n",
    "    \"simulation\": {\"Ts\": 1.0, \"tSample\": 150, \"nSample\": 1},\n",
    "    \"training\": {\n",
    "        \"error\": {\n",
    "            \"type\": \"NumSpikes\",  # \"NumSpikes\" or \"ProbSpikes\"\n",
    "            \"probSlidingWin\": 20,  # only valid for ProbSpikes\n",
    "            \"tgtSpikeRegion\": {  # valid for NumSpikes and ProbSpikes\n",
    "                \"start\": 0,\n",
    "                \"stop\": 150,\n",
    "            },\n",
    "            \"tgtSpikeCount\": {True: 120, False: 20},\n",
    "        }\n",
    "    },\n",
    "}\n",
    "\n",
    "params2 = {\n",
    "    \"neuron\": {\n",
    "        \"type\": \"SRMALPHA\",\n",
    "        \"theta\": 5, # 10\n",
    "        \"tauSr\": 10.0,\n",
    "        \"tauRef\": 2.0,\n",
    "        \"scaleRef\": 2,\n",
    "        \"tauRho\": 1,\n",
    "        \"scaleRho\": 1,\n",
    "    },\n",
    "    \"simulation\": {\"Ts\": 1.0, \"tSample\": 150, \"nSample\": 1},\n",
    "    \"training\": {\n",
    "        \"error\": {\n",
    "            \"type\": \"SpikeTime\",  # \"NumSpikes\" or \"ProbSpikes\"\n",
    "            \"probSlidingWin\": 20,  # only valid for ProbSpikes\n",
    "            \"tgtSpikeRegion\": {  # valid for NumSpikes and ProbSpikes\n",
    "                \"start\": 0,\n",
    "                \"stop\": 150,\n",
    "            },\n",
    "            \"tgtSpikeCount\": {True: 120, False: 20},\n",
    "        }\n",
    "    },\n",
    "}"
   ]
  },
  {
   "cell_type": "code",
   "execution_count": 10,
   "metadata": {},
   "outputs": [],
   "source": [
    "train_dataset = torch.utils.data.TensorDataset(X_train_i, X_train, target_class_train, y_train)\n",
    "train_loader = torch.utils.data.DataLoader(train_dataset,shuffle=True,batch_size=8)\n",
    "\n",
    "test_dataset = torch.utils.data.TensorDataset(X_test_i, X_test, target_class_test, y_test)\n",
    "test_loader = torch.utils.data.DataLoader(test_dataset,shuffle=True,batch_size=8)"
   ]
  },
  {
   "cell_type": "code",
   "execution_count": 11,
   "metadata": {},
   "outputs": [],
   "source": [
    "class SimpleMLP(torch.nn.Module):\n",
    "    def __init__(self, params, input_size, hidden_size, output_size):\n",
    "        super(SimpleMLP, self).__init__()\n",
    "        self.slayer = snn.layer(params[\"neuron\"], params[\"simulation\"])\n",
    "        self.fc1 = self.slayer.dense(input_size, hidden_size)\n",
    "        self.fc2 = self.slayer.dense(hidden_size, output_size) # classifier\n",
    "    \n",
    "    def forward(self, spike_input):\n",
    "        spike_1 = self.slayer.spike(self.slayer.psp(self.fc1(spike_input)))\n",
    "        spike_2 = self.slayer.spike(self.slayer.psp(self.fc2(spike_1)))        \n",
    "        return spike_2"
   ]
  },
  {
   "cell_type": "code",
   "execution_count": 12,
   "metadata": {},
   "outputs": [],
   "source": [
    "class AE(torch.nn.Module):\n",
    "    def __init__(self, params):\n",
    "        super(AE, self).__init__()\n",
    "        self.slayer = snn.layer(params[\"neuron\"], params[\"simulation\"])\n",
    "        \n",
    "        self.encoder_i = SimpleMLP(params, 60, 50, 40)\n",
    "        self.encoder_b = SimpleMLP(params, 19, 50, 40)\n",
    "        \n",
    "        self.fc = self.slayer.dense(80, 40)\n",
    "        \n",
    "        self.fc_classr = self.slayer.dense(40, 20)\n",
    "        \n",
    "        self.decoder_i = SimpleMLP(params, 40, 30, 60)\n",
    "        self.decoder_b = SimpleMLP(params, 40, 30, 19)\n",
    "        \n",
    "    def get_spike(self, inp):\n",
    "        return self.slayer.spike(inp)\n",
    "    \n",
    "    def forward(self, spike_input_i, spike_input_b):\n",
    "\n",
    "        # encoder\n",
    "        encoded_i = self.encoder_i(spike_input_i)\n",
    "        encoded_b = self.encoder_b(spike_input_b)\n",
    "        \n",
    "        # concat\n",
    "        merged = torch.cat([encoded_i, encoded_b], dim=1)\n",
    "        \n",
    "        # representation\n",
    "        rep = self.slayer.spike(self.slayer.psp(self.fc(merged)))\n",
    "        \n",
    "        # classifier\n",
    "        output_class = self.slayer.spike(self.slayer.psp(self.fc_classr(rep)))\n",
    "        \n",
    "        # decoder\n",
    "        decoded_i = self.decoder_i(rep)\n",
    "        decoded_b = self.decoder_b(rep)\n",
    "        \n",
    "        return output_class, rep, decoded_i, decoded_b"
   ]
  },
  {
   "cell_type": "code",
   "execution_count": 13,
   "metadata": {},
   "outputs": [],
   "source": [
    "device = torch.device(\"cuda:1\")\n",
    "net = AE(params).to(device)"
   ]
  },
  {
   "cell_type": "code",
   "execution_count": 14,
   "metadata": {},
   "outputs": [],
   "source": [
    "error = snn.loss(params).to(device)\n",
    "error2 = snn.loss(params2).to(device)\n",
    "optimizer = torch.optim.RMSprop(net.parameters(), lr=0.001, weight_decay=0.5)"
   ]
  },
  {
   "cell_type": "code",
   "execution_count": 15,
   "metadata": {},
   "outputs": [
    {
     "name": "stdout",
     "output_type": "stream",
     "text": [
      "Epoch:  0  --------------------------\n",
      "Train loss (all, class, icub_reg, bio_reg): 207.3716322544643 0.26036666870117187 0.15336339285714287 0.2503380803571429\n",
      "Train accuracy: 0.13428571428571429\n",
      "Test loss (all, class, reg): 109.56690073649088 tensor(0.6053, device='cuda:1') tensor(442.3104, device='cuda:1') tensor(578.7311, device='cuda:1')\n",
      "Test accuracy: 0.23666666666666666\n",
      "Epoch:  10  --------------------------\n",
      "Train loss (all, class, icub_reg, bio_reg): 50.66651652744838 0.07932856968470982 0.06616330915178571 0.11423858258928571\n",
      "Train accuracy: 0.8\n",
      "Test loss (all, class, reg): 50.23022349039714 tensor(0.2504, device='cuda:1') tensor(187.1779, device='cuda:1') tensor(301.7870, device='cuda:1')\n",
      "Test accuracy: 0.7866666666666666\n",
      "Epoch:  20  --------------------------\n",
      "Train loss (all, class, icub_reg, bio_reg): 35.337592228480744 0.06270476205008371 0.04192068080357143 0.08144228794642858\n",
      "Train accuracy: 0.95\n",
      "Test loss (all, class, reg): 35.25509465535482 tensor(0.2758, device='cuda:1') tensor(87.9265, device='cuda:1') tensor(179.6267, device='cuda:1')\n",
      "Test accuracy: 0.93\n",
      "Epoch:  30  --------------------------\n",
      "Train loss (all, class, icub_reg, bio_reg): 25.36069958278111 0.03767619269234793 0.028106183035714286 0.04957409598214286\n",
      "Train accuracy: 0.9757142857142858\n",
      "Test loss (all, class, reg): 26.70716901143392 tensor(0.1063, device='cuda:1') tensor(71.8613, device='cuda:1') tensor(174.7347, device='cuda:1')\n",
      "Test accuracy: 0.95\n",
      "Epoch:  40  --------------------------\n",
      "Train loss (all, class, icub_reg, bio_reg): 20.53383117675781 0.03639999662126814 0.024304151785714285 0.053283147321428574\n",
      "Train accuracy: 0.98\n",
      "Test loss (all, class, reg): 21.573687947591146 tensor(0.1214, device='cuda:1') tensor(57.4821, device='cuda:1') tensor(140.1354, device='cuda:1')\n",
      "Test accuracy: 0.9466666666666667\n",
      "Epoch:  50  --------------------------\n",
      "Train loss (all, class, icub_reg, bio_reg): 17.44690755571638 0.024233335767473493 0.025082645089285715 0.04521906529017857\n",
      "Train accuracy: 0.9857142857142858\n",
      "Test loss (all, class, reg): 18.50615608215332 tensor(0.0372, device='cuda:1') tensor(58.3938, device='cuda:1') tensor(146.0988, device='cuda:1')\n",
      "Test accuracy: 0.97\n",
      "Epoch:  60  --------------------------\n",
      "Train loss (all, class, icub_reg, bio_reg): 15.45813738141741 0.038471429007393976 0.016517911551339286 0.09344448660714286\n",
      "Train accuracy: 0.9928571428571429\n",
      "Test loss (all, class, reg): 17.087052179972332 tensor(0.0262, device='cuda:1') tensor(63.1693, device='cuda:1') tensor(105.1809, device='cuda:1')\n",
      "Test accuracy: 0.9733333333333334\n",
      "Epoch:  70  --------------------------\n",
      "Train loss (all, class, icub_reg, bio_reg): 13.918418208530971 0.008400000163487025 0.02770339285714286 0.03146830636160714\n",
      "Train accuracy: 0.9985714285714286\n",
      "Test loss (all, class, reg): 15.254882113138835 tensor(0.0326, device='cuda:1') tensor(40.6928, device='cuda:1') tensor(74.4948, device='cuda:1')\n",
      "Test accuracy: 0.9733333333333334\n",
      "Epoch:  80  --------------------------\n",
      "Train loss (all, class, icub_reg, bio_reg): 12.943142634800502 0.010171429089137487 0.020256374162946428 0.0381408984375\n",
      "Train accuracy: 0.9971428571428571\n",
      "Test loss (all, class, reg): 14.049173583984375 tensor(0.0715, device='cuda:1') tensor(32.3373, device='cuda:1') tensor(100.7091, device='cuda:1')\n",
      "Test accuracy: 0.9733333333333334\n",
      "Epoch:  90  --------------------------\n",
      "Train loss (all, class, icub_reg, bio_reg): 12.166155362810407 0.005738095555986677 0.018520917968749998 0.03406654017857143\n",
      "Train accuracy: 0.9985714285714286\n",
      "Test loss (all, class, reg): 13.545618883768718 tensor(0.0204, device='cuda:1') tensor(43.6087, device='cuda:1') tensor(98.6424, device='cuda:1')\n",
      "Test accuracy: 0.9833333333333333\n",
      "Epoch:  100  --------------------------\n",
      "Train loss (all, class, icub_reg, bio_reg): 11.44267936706543 0.0063952384676252095 0.017228981584821428 0.05077277901785714\n",
      "Train accuracy: 1.0\n",
      "Test loss (all, class, reg): 12.713148256937663 tensor(0.0549, device='cuda:1') tensor(40.7540, device='cuda:1') tensor(106.2077, device='cuda:1')\n",
      "Test accuracy: 0.9766666666666667\n",
      "Epoch:  110  --------------------------\n",
      "Train loss (all, class, icub_reg, bio_reg): 10.938455014910017 0.00449523823601859 0.017667424665178573 0.032965027901785716\n",
      "Train accuracy: 0.9985714285714286\n",
      "Test loss (all, class, reg): 12.19004847208659 tensor(0.1715, device='cuda:1') tensor(45.2236, device='cuda:1') tensor(78.1246, device='cuda:1')\n",
      "Test accuracy: 0.9766666666666667\n",
      "Epoch:  120  --------------------------\n",
      "Train loss (all, class, icub_reg, bio_reg): 10.532322017124722 0.0028000000544956753 0.022436049107142857 0.0427848828125\n",
      "Train accuracy: 0.9985714285714286\n",
      "Test loss (all, class, reg): 11.684864400227864 tensor(0.0625, device='cuda:1') tensor(73.1535, device='cuda:1') tensor(82.6020, device='cuda:1')\n",
      "Test accuracy: 0.9866666666666667\n",
      "Epoch:  130  --------------------------\n",
      "Train loss (all, class, icub_reg, bio_reg): 10.202066203526089 0.0030809525081089565 0.019115027901785715 0.04962640625\n",
      "Train accuracy: 1.0\n",
      "Test loss (all, class, reg): 11.472978731791178 tensor(0.0805, device='cuda:1') tensor(33.1714, device='cuda:1') tensor(97.6967, device='cuda:1')\n",
      "Test accuracy: 0.98\n",
      "Epoch:  140  --------------------------\n",
      "Train loss (all, class, icub_reg, bio_reg): 9.712909387860979 0.0014999999318804059 0.020737799944196427 0.02892767578125\n",
      "Train accuracy: 0.9985714285714286\n",
      "Test loss (all, class, reg): 10.822233200073242 tensor(0.0180, device='cuda:1') tensor(38.0788, device='cuda:1') tensor(65.4462, device='cuda:1')\n",
      "Test accuracy: 0.9833333333333333\n",
      "Epoch:  150  --------------------------\n",
      "Train loss (all, class, icub_reg, bio_reg): 9.438057959420341 0.0025904762744903566 0.013326157924107143 0.030727544642857145\n",
      "Train accuracy: 1.0\n",
      "Test loss (all, class, reg): 10.600215454101562 tensor(0.0083, device='cuda:1') tensor(34.4632, device='cuda:1') tensor(76.1394, device='cuda:1')\n",
      "Test accuracy: 0.9866666666666667\n",
      "Epoch:  160  --------------------------\n",
      "Train loss (all, class, icub_reg, bio_reg): 9.315018245152064 0.0020142858369009836 0.011432866908482142 0.0288823046875\n",
      "Train accuracy: 1.0\n",
      "Test loss (all, class, reg): 10.385715357462566 tensor(0.0184, device='cuda:1') tensor(36.3143, device='cuda:1') tensor(64.1122, device='cuda:1')\n",
      "Test accuracy: 0.98\n",
      "Epoch:  170  --------------------------\n",
      "Train loss (all, class, icub_reg, bio_reg): 9.12521191733224 0.0014190476281302315 0.02032011997767857 0.038149087611607145\n",
      "Train accuracy: 1.0\n",
      "Test loss (all, class, reg): 10.282785034179687 tensor(0.0048, device='cuda:1') tensor(32.0915, device='cuda:1') tensor(92.8237, device='cuda:1')\n",
      "Test accuracy: 0.9866666666666667\n",
      "Epoch:  180  --------------------------\n",
      "Train loss (all, class, icub_reg, bio_reg): 8.958598845345634 0.0010285713842936924 0.014129041573660715 0.03407996372767857\n",
      "Train accuracy: 1.0\n",
      "Test loss (all, class, reg): 10.182781448364258 tensor(0.0505, device='cuda:1') tensor(37.6459, device='cuda:1') tensor(75.8911, device='cuda:1')\n",
      "Test accuracy: 0.98\n",
      "Epoch:  190  --------------------------\n",
      "Train loss (all, class, icub_reg, bio_reg): 8.826401132856097 0.002433333396911621 0.01164983119419643 0.026956470424107145\n",
      "Train accuracy: 1.0\n",
      "Test loss (all, class, reg): 10.154685440063476 tensor(0.0743, device='cuda:1') tensor(26.1584, device='cuda:1') tensor(81.3129, device='cuda:1')\n",
      "Test accuracy: 0.9733333333333334\n",
      "Epoch:  200  --------------------------\n",
      "Train loss (all, class, icub_reg, bio_reg): 8.716612772260394 0.001509523732321603 0.01698091099330357 0.034757070312500006\n",
      "Train accuracy: 1.0\n",
      "Test loss (all, class, reg): 9.97800547281901 tensor(0.0216, device='cuda:1') tensor(27.3547, device='cuda:1') tensor(78.6797, device='cuda:1')\n",
      "Test accuracy: 0.98\n",
      "Epoch:  210  --------------------------\n",
      "Train loss (all, class, icub_reg, bio_reg): 8.626192321777344 0.0012666666507720947 0.018742536272321426 0.026456434151785717\n",
      "Train accuracy: 1.0\n",
      "Test loss (all, class, reg): 9.973399823506673 tensor(0.0987, device='cuda:1') tensor(23.6954, device='cuda:1') tensor(80.1541, device='cuda:1')\n",
      "Test accuracy: 0.9766666666666667\n",
      "Epoch:  220  --------------------------\n",
      "Train loss (all, class, icub_reg, bio_reg): 8.563665744236538 0.004247619083949498 0.018174693080357143 0.03363547433035714\n",
      "Train accuracy: 1.0\n"
     ]
    },
    {
     "name": "stdout",
     "output_type": "stream",
     "text": [
      "Test loss (all, class, reg): 9.803002573649088 tensor(0.0330, device='cuda:1') tensor(44.7397, device='cuda:1') tensor(65.3204, device='cuda:1')\n",
      "Test accuracy: 0.9866666666666667\n",
      "Epoch:  230  --------------------------\n",
      "Train loss (all, class, icub_reg, bio_reg): 8.487190039498465 0.001000000068119594 0.008926017020089286 0.023055096261160715\n",
      "Train accuracy: 1.0\n",
      "Test loss (all, class, reg): 9.72762969970703 tensor(0.0126, device='cuda:1') tensor(48.1564, device='cuda:1') tensor(102.0277, device='cuda:1')\n",
      "Test accuracy: 0.98\n",
      "Epoch:  240  --------------------------\n",
      "Train loss (all, class, icub_reg, bio_reg): 8.419539086478098 0.0006571428690637861 0.011283782784598215 0.04021864118303572\n",
      "Train accuracy: 1.0\n",
      "Test loss (all, class, reg): 9.580863227844238 tensor(0.0068, device='cuda:1') tensor(41.2050, device='cuda:1') tensor(64.5547, device='cuda:1')\n",
      "Test accuracy: 0.9833333333333333\n",
      "Epoch:  250  --------------------------\n",
      "Train loss (all, class, icub_reg, bio_reg): 8.48212928227016 0.0010904761723109654 0.012828809988839287 0.027934871651785716\n",
      "Train accuracy: 1.0\n",
      "Test loss (all, class, reg): 9.667392355600994 tensor(0.0026, device='cuda:1') tensor(36.0058, device='cuda:1') tensor(51.9407, device='cuda:1')\n",
      "Test accuracy: 0.9766666666666667\n",
      "Epoch:  260  --------------------------\n",
      "Train loss (all, class, icub_reg, bio_reg): 8.692174731663295 0.002652380977358137 0.012421731305803572 0.02969048549107143\n",
      "Train accuracy: 1.0\n",
      "Test loss (all, class, reg): 9.918660583496093 tensor(0.0125, device='cuda:1') tensor(36.5255, device='cuda:1') tensor(98.5913, device='cuda:1')\n",
      "Test accuracy: 0.9833333333333333\n",
      "Epoch:  270  --------------------------\n",
      "Train loss (all, class, icub_reg, bio_reg): 8.600102686200824 0.0049333333969116214 0.017627572544642856 0.03215193917410714\n",
      "Train accuracy: 1.0\n",
      "Test loss (all, class, reg): 9.872432594299317 tensor(0.0031, device='cuda:1') tensor(26.1113, device='cuda:1') tensor(69.8884, device='cuda:1')\n",
      "Test accuracy: 0.9866666666666667\n",
      "Epoch:  280  --------------------------\n",
      "Train loss (all, class, icub_reg, bio_reg): 8.442516501290457 0.0005809524229594639 0.01309059012276786 0.04853508928571428\n",
      "Train accuracy: 1.0\n",
      "Test loss (all, class, reg): 9.625885912577312 tensor(0.0305, device='cuda:1') tensor(44.0651, device='cuda:1') tensor(65.0714, device='cuda:1')\n",
      "Test accuracy: 0.98\n",
      "Epoch:  290  --------------------------\n",
      "Train loss (all, class, icub_reg, bio_reg): 8.336168501717705 0.0007714285169328962 0.022288956473214286 0.027842382812500004\n",
      "Train accuracy: 1.0\n",
      "Test loss (all, class, reg): 9.489219703674316 tensor(0.0046, device='cuda:1') tensor(24.0769, device='cuda:1') tensor(65.8889, device='cuda:1')\n",
      "Test accuracy: 0.9833333333333333\n",
      "Epoch:  300  --------------------------\n",
      "Train loss (all, class, icub_reg, bio_reg): 8.294117273603167 0.0007523809160505022 0.015394503348214286 0.025002273995535715\n",
      "Train accuracy: 1.0\n",
      "Test loss (all, class, reg): 9.50098793665568 tensor(0.0019, device='cuda:1') tensor(27.6043, device='cuda:1') tensor(54.3434, device='cuda:1')\n",
      "Test accuracy: 0.9833333333333333\n",
      "Epoch:  310  --------------------------\n",
      "Train loss (all, class, icub_reg, bio_reg): 8.156216447012765 0.0012904762370245797 0.02468339564732143 0.03306454520089286\n",
      "Train accuracy: 1.0\n",
      "Test loss (all, class, reg): 9.509331995646159 tensor(0.0065, device='cuda:1') tensor(40.3174, device='cuda:1') tensor(66.8454, device='cuda:1')\n",
      "Test accuracy: 0.9766666666666667\n",
      "Epoch:  320  --------------------------\n",
      "Train loss (all, class, icub_reg, bio_reg): 8.097848156520298 0.000500000034059797 0.008505855189732143 0.028665538504464284\n",
      "Train accuracy: 1.0\n",
      "Test loss (all, class, reg): 9.268315442403157 tensor(0.0169, device='cuda:1') tensor(28.2824, device='cuda:1') tensor(95.7250, device='cuda:1')\n",
      "Test accuracy: 0.9833333333333333\n"
     ]
    },
    {
     "ename": "KeyboardInterrupt",
     "evalue": "",
     "output_type": "error",
     "traceback": [
      "\u001b[0;31m---------------------------------------------------------------------------\u001b[0m",
      "\u001b[0;31mKeyboardInterrupt\u001b[0m                         Traceback (most recent call last)",
      "\u001b[0;32m<ipython-input-15-1537f43426a7>\u001b[0m in \u001b[0;36m<module>\u001b[0;34m\u001b[0m\n\u001b[1;32m     38\u001b[0m \u001b[0;34m\u001b[0m\u001b[0m\n\u001b[1;32m     39\u001b[0m         \u001b[0;31m# forward pass\u001b[0m\u001b[0;34m\u001b[0m\u001b[0;34m\u001b[0m\u001b[0m\n\u001b[0;32m---> 40\u001b[0;31m         \u001b[0moutput\u001b[0m\u001b[0;34m,\u001b[0m \u001b[0m_\u001b[0m\u001b[0;34m,\u001b[0m \u001b[0mout_i\u001b[0m\u001b[0;34m,\u001b[0m \u001b[0mout_b\u001b[0m \u001b[0;34m=\u001b[0m \u001b[0mnet\u001b[0m\u001b[0;34m.\u001b[0m\u001b[0mforward\u001b[0m\u001b[0;34m(\u001b[0m\u001b[0mtact_i\u001b[0m\u001b[0;34m,\u001b[0m \u001b[0mtact_b\u001b[0m\u001b[0;34m)\u001b[0m\u001b[0;34m\u001b[0m\u001b[0m\n\u001b[0m\u001b[1;32m     41\u001b[0m \u001b[0;34m\u001b[0m\u001b[0m\n\u001b[1;32m     42\u001b[0m         \u001b[0;31m# loss\u001b[0m\u001b[0;34m\u001b[0m\u001b[0;34m\u001b[0m\u001b[0m\n",
      "\u001b[0;32m<ipython-input-12-8d37d46b4be5>\u001b[0m in \u001b[0;36mforward\u001b[0;34m(self, spike_input_i, spike_input_b)\u001b[0m\n\u001b[1;32m     20\u001b[0m \u001b[0;34m\u001b[0m\u001b[0m\n\u001b[1;32m     21\u001b[0m         \u001b[0;31m# encoder\u001b[0m\u001b[0;34m\u001b[0m\u001b[0;34m\u001b[0m\u001b[0m\n\u001b[0;32m---> 22\u001b[0;31m         \u001b[0mencoded_i\u001b[0m \u001b[0;34m=\u001b[0m \u001b[0mself\u001b[0m\u001b[0;34m.\u001b[0m\u001b[0mencoder_i\u001b[0m\u001b[0;34m(\u001b[0m\u001b[0mspike_input_i\u001b[0m\u001b[0;34m)\u001b[0m\u001b[0;34m\u001b[0m\u001b[0m\n\u001b[0m\u001b[1;32m     23\u001b[0m         \u001b[0mencoded_b\u001b[0m \u001b[0;34m=\u001b[0m \u001b[0mself\u001b[0m\u001b[0;34m.\u001b[0m\u001b[0mencoder_b\u001b[0m\u001b[0;34m(\u001b[0m\u001b[0mspike_input_b\u001b[0m\u001b[0;34m)\u001b[0m\u001b[0;34m\u001b[0m\u001b[0m\n\u001b[1;32m     24\u001b[0m \u001b[0;34m\u001b[0m\u001b[0m\n",
      "\u001b[0;32m~/tas_python_env/lib/python3.5/site-packages/torch/nn/modules/module.py\u001b[0m in \u001b[0;36m__call__\u001b[0;34m(self, *input, **kwargs)\u001b[0m\n\u001b[1;32m    539\u001b[0m             \u001b[0mresult\u001b[0m \u001b[0;34m=\u001b[0m \u001b[0mself\u001b[0m\u001b[0;34m.\u001b[0m\u001b[0m_slow_forward\u001b[0m\u001b[0;34m(\u001b[0m\u001b[0;34m*\u001b[0m\u001b[0minput\u001b[0m\u001b[0;34m,\u001b[0m \u001b[0;34m**\u001b[0m\u001b[0mkwargs\u001b[0m\u001b[0;34m)\u001b[0m\u001b[0;34m\u001b[0m\u001b[0m\n\u001b[1;32m    540\u001b[0m         \u001b[0;32melse\u001b[0m\u001b[0;34m:\u001b[0m\u001b[0;34m\u001b[0m\u001b[0m\n\u001b[0;32m--> 541\u001b[0;31m             \u001b[0mresult\u001b[0m \u001b[0;34m=\u001b[0m \u001b[0mself\u001b[0m\u001b[0;34m.\u001b[0m\u001b[0mforward\u001b[0m\u001b[0;34m(\u001b[0m\u001b[0;34m*\u001b[0m\u001b[0minput\u001b[0m\u001b[0;34m,\u001b[0m \u001b[0;34m**\u001b[0m\u001b[0mkwargs\u001b[0m\u001b[0;34m)\u001b[0m\u001b[0;34m\u001b[0m\u001b[0m\n\u001b[0m\u001b[1;32m    542\u001b[0m         \u001b[0;32mfor\u001b[0m \u001b[0mhook\u001b[0m \u001b[0;32min\u001b[0m \u001b[0mself\u001b[0m\u001b[0;34m.\u001b[0m\u001b[0m_forward_hooks\u001b[0m\u001b[0;34m.\u001b[0m\u001b[0mvalues\u001b[0m\u001b[0;34m(\u001b[0m\u001b[0;34m)\u001b[0m\u001b[0;34m:\u001b[0m\u001b[0;34m\u001b[0m\u001b[0m\n\u001b[1;32m    543\u001b[0m             \u001b[0mhook_result\u001b[0m \u001b[0;34m=\u001b[0m \u001b[0mhook\u001b[0m\u001b[0;34m(\u001b[0m\u001b[0mself\u001b[0m\u001b[0;34m,\u001b[0m \u001b[0minput\u001b[0m\u001b[0;34m,\u001b[0m \u001b[0mresult\u001b[0m\u001b[0;34m)\u001b[0m\u001b[0;34m\u001b[0m\u001b[0m\n",
      "\u001b[0;32m<ipython-input-11-2a9cf23c7184>\u001b[0m in \u001b[0;36mforward\u001b[0;34m(self, spike_input)\u001b[0m\n\u001b[1;32m      8\u001b[0m     \u001b[0;32mdef\u001b[0m \u001b[0mforward\u001b[0m\u001b[0;34m(\u001b[0m\u001b[0mself\u001b[0m\u001b[0;34m,\u001b[0m \u001b[0mspike_input\u001b[0m\u001b[0;34m)\u001b[0m\u001b[0;34m:\u001b[0m\u001b[0;34m\u001b[0m\u001b[0m\n\u001b[1;32m      9\u001b[0m         \u001b[0mspike_1\u001b[0m \u001b[0;34m=\u001b[0m \u001b[0mself\u001b[0m\u001b[0;34m.\u001b[0m\u001b[0mslayer\u001b[0m\u001b[0;34m.\u001b[0m\u001b[0mspike\u001b[0m\u001b[0;34m(\u001b[0m\u001b[0mself\u001b[0m\u001b[0;34m.\u001b[0m\u001b[0mslayer\u001b[0m\u001b[0;34m.\u001b[0m\u001b[0mpsp\u001b[0m\u001b[0;34m(\u001b[0m\u001b[0mself\u001b[0m\u001b[0;34m.\u001b[0m\u001b[0mfc1\u001b[0m\u001b[0;34m(\u001b[0m\u001b[0mspike_input\u001b[0m\u001b[0;34m)\u001b[0m\u001b[0;34m)\u001b[0m\u001b[0;34m)\u001b[0m\u001b[0;34m\u001b[0m\u001b[0m\n\u001b[0;32m---> 10\u001b[0;31m         \u001b[0mspike_2\u001b[0m \u001b[0;34m=\u001b[0m \u001b[0mself\u001b[0m\u001b[0;34m.\u001b[0m\u001b[0mslayer\u001b[0m\u001b[0;34m.\u001b[0m\u001b[0mspike\u001b[0m\u001b[0;34m(\u001b[0m\u001b[0mself\u001b[0m\u001b[0;34m.\u001b[0m\u001b[0mslayer\u001b[0m\u001b[0;34m.\u001b[0m\u001b[0mpsp\u001b[0m\u001b[0;34m(\u001b[0m\u001b[0mself\u001b[0m\u001b[0;34m.\u001b[0m\u001b[0mfc2\u001b[0m\u001b[0;34m(\u001b[0m\u001b[0mspike_1\u001b[0m\u001b[0;34m)\u001b[0m\u001b[0;34m)\u001b[0m\u001b[0;34m)\u001b[0m\u001b[0;34m\u001b[0m\u001b[0m\n\u001b[0m\u001b[1;32m     11\u001b[0m         \u001b[0;32mreturn\u001b[0m \u001b[0mspike_2\u001b[0m\u001b[0;34m\u001b[0m\u001b[0m\n",
      "\u001b[0;32m~/tas_python_env/lib/python3.5/site-packages/slayerSNN-0.0.0-py3.5.egg/slayerSNN/slayer.py\u001b[0m in \u001b[0;36mpsp\u001b[0;34m(self, spike)\u001b[0m\n\u001b[1;32m    140\u001b[0m         \u001b[0;34m>>\u001b[0m\u001b[0;34m>\u001b[0m \u001b[0mfilteredSpike\u001b[0m \u001b[0;34m=\u001b[0m \u001b[0msnnLayer\u001b[0m\u001b[0;34m.\u001b[0m\u001b[0mpsp\u001b[0m\u001b[0;34m(\u001b[0m\u001b[0mspike\u001b[0m\u001b[0;34m)\u001b[0m\u001b[0;34m\u001b[0m\u001b[0m\n\u001b[1;32m    141\u001b[0m         '''\n\u001b[0;32m--> 142\u001b[0;31m         \u001b[0;32mreturn\u001b[0m \u001b[0m_pspFunction\u001b[0m\u001b[0;34m.\u001b[0m\u001b[0mapply\u001b[0m\u001b[0;34m(\u001b[0m\u001b[0mspike\u001b[0m\u001b[0;34m,\u001b[0m \u001b[0mself\u001b[0m\u001b[0;34m.\u001b[0m\u001b[0msrmKernel\u001b[0m\u001b[0;34m,\u001b[0m \u001b[0mself\u001b[0m\u001b[0;34m.\u001b[0m\u001b[0msimulation\u001b[0m\u001b[0;34m[\u001b[0m\u001b[0;34m'Ts'\u001b[0m\u001b[0;34m]\u001b[0m\u001b[0;34m)\u001b[0m\u001b[0;34m\u001b[0m\u001b[0m\n\u001b[0m\u001b[1;32m    143\u001b[0m \u001b[0;34m\u001b[0m\u001b[0m\n\u001b[1;32m    144\u001b[0m     \u001b[0;32mdef\u001b[0m \u001b[0mpspLayer\u001b[0m\u001b[0;34m(\u001b[0m\u001b[0mself\u001b[0m\u001b[0;34m)\u001b[0m\u001b[0;34m:\u001b[0m\u001b[0;34m\u001b[0m\u001b[0m\n",
      "\u001b[0;32m~/tas_python_env/lib/python3.5/site-packages/slayerSNN-0.0.0-py3.5.egg/slayerSNN/slayer.py\u001b[0m in \u001b[0;36mforward\u001b[0;34m(ctx, spike, filter, Ts)\u001b[0m\n\u001b[1;32m    780\u001b[0m     '''\n\u001b[1;32m    781\u001b[0m     '''\n\u001b[0;32m--> 782\u001b[0;31m     \u001b[0;34m@\u001b[0m\u001b[0mstaticmethod\u001b[0m\u001b[0;34m\u001b[0m\u001b[0m\n\u001b[0m\u001b[1;32m    783\u001b[0m     \u001b[0;32mdef\u001b[0m \u001b[0mforward\u001b[0m\u001b[0;34m(\u001b[0m\u001b[0mctx\u001b[0m\u001b[0;34m,\u001b[0m \u001b[0mspike\u001b[0m\u001b[0;34m,\u001b[0m \u001b[0mfilter\u001b[0m\u001b[0;34m,\u001b[0m \u001b[0mTs\u001b[0m\u001b[0;34m)\u001b[0m\u001b[0;34m:\u001b[0m\u001b[0;34m\u001b[0m\u001b[0m\n\u001b[1;32m    784\u001b[0m         \u001b[0mdevice\u001b[0m \u001b[0;34m=\u001b[0m \u001b[0mspike\u001b[0m\u001b[0;34m.\u001b[0m\u001b[0mdevice\u001b[0m\u001b[0;34m\u001b[0m\u001b[0m\n",
      "\u001b[0;31mKeyboardInterrupt\u001b[0m: "
     ]
    }
   ],
   "source": [
    "train_total_losses=[]\n",
    "train_class_losses=[]\n",
    "train_regres_losses_i=[]\n",
    "train_regres_losses_b=[]\n",
    "\n",
    "test_total_losses=[]\n",
    "test_class_losses=[]\n",
    "test_regres_losses_i=[]\n",
    "test_regres_losses_b=[]\n",
    "\n",
    "train_accs = []\n",
    "test_accs = []\n",
    "\n",
    "alpha = 1\n",
    "beta1 = beta2 = 0.001\n",
    "for epoch in range(601):\n",
    "    net.train()\n",
    "    correct = 0\n",
    "    loss_train = 0\n",
    "    loss_train = 0\n",
    "    loss_class = 0\n",
    "    loss_reg_i = 0\n",
    "    loss_reg_b = 0\n",
    "    for i, (tact_i, tact_b, target, label) in enumerate(train_loader):\n",
    "        \n",
    "        # prepare input data\n",
    "        target = target.to(device)\n",
    "        tact_i = tact_i.to(device)\n",
    "        tact_b = tact_b.to(device)\n",
    "        \n",
    "        tact_i = net.get_spike(tact_i)\n",
    "        tact_b = net.get_spike(tact_b)\n",
    "        \n",
    "        # impute icub\n",
    "        tact_new = torch.zeros((tact_i.shape[0],tact_i.shape[1],1,1,tact_i.shape[-1]*2)).to(device)\n",
    "        tact_new[...,::2]  = tact_i\n",
    "        tact_i = tact_new\n",
    "        \n",
    "        # forward pass\n",
    "        output, _, out_i, out_b = net.forward(tact_i, tact_b)\n",
    "                \n",
    "        # loss\n",
    "        correct += torch.sum(snn.predict.getClass(output) == label).data.item()\n",
    "        loss_class = error.numSpikes(output, target)\n",
    "        \n",
    "        loss_reg_i = error2.spikeTime(out_i, tact_i)\n",
    "        loss_reg_b = error2.spikeTime(out_b, tact_b)\n",
    "        \n",
    "        loss = alpha*loss_class + beta1*loss_reg_i + beta2*loss_reg_b\n",
    "        \n",
    "        loss_train += loss.item()\n",
    "        loss_class = alpha*loss_class.item()\n",
    "        loss_reg_i = beta1*loss_reg_i.item()\n",
    "        loss_reg_b = beta2*loss_reg_b.item()\n",
    "        \n",
    "        optimizer.zero_grad()\n",
    "        loss.backward()\n",
    "        optimizer.step()\n",
    "                \n",
    "    if epoch%10 == 0:\n",
    "        print('Epoch: ', epoch, ' --------------------------')\n",
    "        print('Train loss (all, class, icub_reg, bio_reg):', \n",
    "              loss_train/len(train_dataset),\n",
    "              loss_class/len(train_dataset),\n",
    "              loss_reg_i/len(train_dataset),\n",
    "              loss_reg_b/len(train_dataset))\n",
    "        print('Train accuracy:', correct/len(train_dataset))\n",
    "    train_accs.append(correct/len(train_dataset))\n",
    "    train_total_losses.append(loss_train/len(train_dataset))\n",
    "    train_class_losses.append(loss_class/len(train_dataset))\n",
    "    train_regres_losses_i.append(loss_reg_i/len(train_dataset))\n",
    "    train_regres_losses_b.append(loss_reg_b/len(train_dataset))\n",
    "        \n",
    "    net.eval()\n",
    "    correct = 0\n",
    "    loss_test = 0\n",
    "    loss_class = 0\n",
    "    loss_reg_i = 0\n",
    "    loss_reg_b = 0\n",
    "    with torch.no_grad():\n",
    "        for i, (tact_i,tact_b, target, label) in enumerate(test_loader):\n",
    "\n",
    "            # prepare input data\n",
    "            target = target.to(device)\n",
    "            tact_i = tact_i.to(device)\n",
    "            tact_b = tact_b.to(device)\n",
    "\n",
    "            tact_i = net.get_spike(tact_i)\n",
    "            tact_b = net.get_spike(tact_b)\n",
    "\n",
    "            # impute icub\n",
    "            tact_new = torch.zeros((tact_i.shape[0],tact_i.shape[1],1,1,tact_i.shape[-1]*2)).to(device)\n",
    "            tact_new[...,::2]  = tact_i\n",
    "            tact_i = tact_new\n",
    "\n",
    "            # forward pass\n",
    "            output, _, out_i, out_b = net.forward(tact_i, tact_b)\n",
    "\n",
    "            # loss\n",
    "            correct += torch.sum(snn.predict.getClass(output) == label).data.item()\n",
    "            loss_class = error.numSpikes(output, target)\n",
    "\n",
    "            loss_reg_i = error2.spikeTime(out_i, tact_i)\n",
    "            loss_reg_b = error2.spikeTime(out_b, tact_b)\n",
    "\n",
    "            loss = alpha*loss_class + beta1*loss_reg_i + beta2*loss_reg_b\n",
    "\n",
    "            loss_test += loss.item()\n",
    "    \n",
    "    if epoch%10 == 0:\n",
    "        print('Test loss (all, class, reg):', \n",
    "              loss_test/len(test_dataset),\n",
    "              loss_class/len(test_dataset),\n",
    "              loss_reg_i/len(test_dataset),\n",
    "              loss_reg_b/len(test_dataset))\n",
    "        print('Test accuracy:', correct/len(test_dataset))\n",
    "    test_accs.append(correct/len(test_dataset))\n",
    "    test_total_losses.append(loss_test/len(test_dataset))\n",
    "    test_class_losses.append(loss_class/len(test_dataset))\n",
    "    test_regres_losses_i.append(loss_reg_i/len(test_dataset))\n",
    "    test_regres_losses_b.append(loss_reg_b/len(test_dataset))"
   ]
  },
  {
   "cell_type": "code",
   "execution_count": 16,
   "metadata": {},
   "outputs": [
    {
     "data": {
      "image/png": "[encoded data removed]",
      "text/plain": [
       "<Figure size 1080x504 with 2 Axes>"
      ]
     },
     "metadata": {
      "needs_background": "light"
     },
     "output_type": "display_data"
    }
   ],
   "source": [
    "fig, ax = plt.subplots(2, figsize=(15,7))\n",
    "\n",
    "ax[0].plot(train_total_losses, 'b')\n",
    "ax[0].plot(500*np.array(train_class_losses), 'r')\n",
    "ax[0].plot(500*np.array(train_regres_losses_i), 'g')\n",
    "ax[0].plot(500*np.array(train_regres_losses_b), 'c')\n",
    "\n",
    "# ax[0].plot(test_losses)\n",
    "ax[0].set_xlabel('Epoch')\n",
    "ax[0].set_ylabel('Loss')\n",
    "\n",
    "ax[1].plot(train_accs)\n",
    "ax[1].plot(test_accs)\n",
    "ax[1].set_xlabel('Epoch')\n",
    "ax[1].set_ylabel('Accuracy')\n",
    "ax[1].legend(['Train', 'Test'])\n",
    "\n",
    "plt.show()"
   ]
  },
  {
   "cell_type": "code",
   "execution_count": 17,
   "metadata": {},
   "outputs": [
    {
     "data": {
      "text/plain": [
       "0.99"
      ]
     },
     "execution_count": 17,
     "metadata": {},
     "output_type": "execute_result"
    }
   ],
   "source": [
    "np.max(test_accs)"
   ]
  },
  {
   "cell_type": "code",
   "execution_count": 18,
   "metadata": {},
   "outputs": [
    {
     "data": {
      "text/plain": [
       "1.0"
      ]
     },
     "execution_count": 18,
     "metadata": {},
     "output_type": "execute_result"
    }
   ],
   "source": [
    "np.max(train_accs)"
   ]
  },
  {
   "cell_type": "code",
   "execution_count": 19,
   "metadata": {},
   "outputs": [],
   "source": [
    "net.eval()\n",
    "big_list = []\n",
    "label_list=[]\n",
    "\n",
    "with torch.no_grad():\n",
    "    for i, (tact_i,tact_b, target, label) in enumerate(test_loader):\n",
    "\n",
    "        # prepare input data\n",
    "        target = target.to(device)\n",
    "        tact_i = tact_i.to(device)\n",
    "        tact_b = tact_b.to(device)\n",
    "\n",
    "        tact_i = net.get_spike(tact_i)\n",
    "        tact_b = net.get_spike(tact_b)\n",
    "\n",
    "        # impute icub\n",
    "        tact_new = torch.zeros((tact_i.shape[0],tact_i.shape[1],1,1,tact_i.shape[-1]*2)).to(device)\n",
    "        tact_new[...,::2]  = tact_i\n",
    "        tact_i = tact_new\n",
    "\n",
    "        # forward pass\n",
    "        _, rep, _, _ = net.forward(tact_i, tact_b)\n",
    "\n",
    "        big_list.append(rep)\n",
    "        label_list.append(label)"
   ]
  },
  {
   "cell_type": "code",
   "execution_count": 20,
   "metadata": {},
   "outputs": [
    {
     "data": {
      "text/plain": [
       "torch.Size([300, 40, 1, 1, 150])"
      ]
     },
     "execution_count": 20,
     "metadata": {},
     "output_type": "execute_result"
    }
   ],
   "source": [
    "test_representation = torch.cat(big_list,0)\n",
    "test_representation.shape"
   ]
  },
  {
   "cell_type": "code",
   "execution_count": 21,
   "metadata": {},
   "outputs": [],
   "source": [
    "label_all = torch.cat(label_list, 0)"
   ]
  },
  {
   "cell_type": "code",
   "execution_count": 22,
   "metadata": {},
   "outputs": [],
   "source": [
    "label_all = label_all.cpu().numpy()"
   ]
  },
  {
   "cell_type": "code",
   "execution_count": 23,
   "metadata": {},
   "outputs": [
    {
     "name": "stdout",
     "output_type": "stream",
     "text": [
      "CPU times: user 10.9 s, sys: 188 ms, total: 11.1 s\n",
      "Wall time: 11.1 s\n"
     ]
    }
   ],
   "source": [
    "%%time\n",
    "dist_mat = torch.zeros([300,300])\n",
    "for i in range(300):\n",
    "    for j in range(300):\n",
    "        if i == j:\n",
    "            dist_mat[i, j] = 0.0\n",
    "        else:\n",
    "            dist_mat[i,j] = error2.spikeTime(test_representation[i], test_representation[j])"
   ]
  },
  {
   "cell_type": "code",
   "execution_count": 24,
   "metadata": {},
   "outputs": [],
   "source": [
    "dist_mat = dist_mat.detach().cpu().numpy()"
   ]
  },
  {
   "cell_type": "code",
   "execution_count": 25,
   "metadata": {},
   "outputs": [],
   "source": [
    "from sklearn.manifold import TSNE\n",
    "X_embedded = TSNE(n_components=2,perplexity=10, metric='precomputed').fit_transform(dist_mat)"
   ]
  },
  {
   "cell_type": "code",
   "execution_count": 26,
   "metadata": {},
   "outputs": [
    {
     "data": {
      "image/png": "[encoded data removed]",
      "text/plain": [
       "<Figure size 432x288 with 1 Axes>"
      ]
     },
     "metadata": {
      "needs_background": "light"
     },
     "output_type": "display_data"
    }
   ],
   "source": [
    "fig, ax = plt.subplots()\n",
    "ax.scatter(X_embedded[:, 0], X_embedded[:, 1], c=label_all, cmap=plt.cm.Spectral)\n",
    "plt.show()"
   ]
  },
  {
   "cell_type": "code",
   "execution_count": null,
   "metadata": {},
   "outputs": [],
   "source": []
  }
 ],
 "metadata": {
  "kernelspec": {
   "display_name": "Python 3",
   "language": "python",
   "name": "python3"
  },
  "language_info": {
   "codemirror_mode": {
    "name": "ipython",
    "version": 3
   },
   "file_extension": ".py",
   "mimetype": "text/x-python",
   "name": "python",
   "nbconvert_exporter": "python",
   "pygments_lexer": "ipython3",
   "version": "3.5.2"
  }
 },
 "nbformat": 4,
 "nbformat_minor": 2
}
