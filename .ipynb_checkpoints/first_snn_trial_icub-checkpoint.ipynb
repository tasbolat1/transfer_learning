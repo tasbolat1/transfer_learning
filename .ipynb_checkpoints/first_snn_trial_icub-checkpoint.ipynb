{
 "cells": [
  {
   "cell_type": "code",
   "execution_count": 1,
   "metadata": {},
   "outputs": [],
   "source": [
    "import sys, os\n",
    "CURRENT_TEST_DIR = os.getcwd()\n",
    "sys.path.append(CURRENT_TEST_DIR + \"/../../../slayerPytorch/src\")"
   ]
  },
  {
   "cell_type": "code",
   "execution_count": 2,
   "metadata": {},
   "outputs": [
    {
     "data": {
      "text/plain": [
       "<torch._C.Generator at 0x7f1ccc97c6d0>"
      ]
     },
     "execution_count": 2,
     "metadata": {},
     "output_type": "execute_result"
    }
   ],
   "source": [
    "import slayerSNN as snn\n",
    "import pandas as pd\n",
    "import numpy as np\n",
    "import matplotlib.pyplot as plt\n",
    "from dtw import dtw, accelerated_dtw\n",
    "from numpy.linalg import norm\n",
    "from joblib import Parallel, delayed\n",
    "import torch\n",
    "import copy\n",
    "from torch.utils.data import Dataset\n",
    "from sklearn.model_selection import train_test_split\n",
    "\n",
    "np.random.seed(1)\n",
    "torch.manual_seed(1)"
   ]
  },
  {
   "cell_type": "code",
   "execution_count": 3,
   "metadata": {},
   "outputs": [],
   "source": [
    "X = torch.load('../BioTac_Icub_data/ICUB_all.pt').numpy()\n",
    "X = X.reshape([1000, 60, 75])\n",
    "Y = np.load('../BioTac_Icub_data/ICUB_all_labels.npy')"
   ]
  },
  {
   "cell_type": "code",
   "execution_count": 4,
   "metadata": {},
   "outputs": [
    {
     "data": {
      "text/plain": [
       "((1000, 60, 75), (1000,))"
      ]
     },
     "execution_count": 4,
     "metadata": {},
     "output_type": "execute_result"
    }
   ],
   "source": [
    "X.shape, Y.shape"
   ]
  },
  {
   "cell_type": "code",
   "execution_count": 5,
   "metadata": {},
   "outputs": [],
   "source": [
    "# X_ = np.zeros((X.shape[0],X.shape[1],X.shape[-1]*2))\n",
    "# X_[...,::2] = X"
   ]
  },
  {
   "cell_type": "code",
   "execution_count": 6,
   "metadata": {},
   "outputs": [],
   "source": [
    "# X = X_"
   ]
  },
  {
   "cell_type": "code",
   "execution_count": 7,
   "metadata": {},
   "outputs": [
    {
     "data": {
      "text/plain": [
       "((1000, 60, 75), (1000,))"
      ]
     },
     "execution_count": 7,
     "metadata": {},
     "output_type": "execute_result"
    }
   ],
   "source": [
    "X.shape, Y.shape"
   ]
  },
  {
   "cell_type": "code",
   "execution_count": 8,
   "metadata": {},
   "outputs": [],
   "source": [
    "def get_ohe(_Y):\n",
    "    target_class = np.zeros([_Y.shape[0], 20])\n",
    "    for i in range(target_class.shape[0]):\n",
    "        target_class[i, int(_Y[i])] = 1\n",
    "    return target_class"
   ]
  },
  {
   "cell_type": "code",
   "execution_count": 9,
   "metadata": {},
   "outputs": [],
   "source": [
    "X = X.reshape(X.shape[0], X.shape[1], 1, 1, X.shape[-1])\n",
    "# Y = Y.reshape(Y.shape[0], Y.shape[1], 1, 1, Y.shape[-1])"
   ]
  },
  {
   "cell_type": "code",
   "execution_count": 10,
   "metadata": {},
   "outputs": [],
   "source": [
    "X_train, X_test, y_train, y_test = train_test_split(X, Y, test_size=0.30, random_state=42, stratify=Y)"
   ]
  },
  {
   "cell_type": "code",
   "execution_count": 11,
   "metadata": {},
   "outputs": [
    {
     "data": {
      "text/plain": [
       "(torch.Size([700, 60, 1, 1, 75]),\n",
       " torch.Size([700]),\n",
       " torch.Size([700, 20, 1, 1, 1]))"
      ]
     },
     "execution_count": 11,
     "metadata": {},
     "output_type": "execute_result"
    }
   ],
   "source": [
    "X_train = torch.FloatTensor(X_train)\n",
    "y_train = torch.FloatTensor(y_train)\n",
    "\n",
    "target_class_train = torch.FloatTensor(get_ohe(y_train).reshape(-1, 20, 1, 1, 1))\n",
    "    \n",
    "X_test = torch.FloatTensor(X_test)\n",
    "y_test = torch.FloatTensor(y_test)\n",
    "target_class_test= torch.FloatTensor(get_ohe(y_test).reshape(-1, 20, 1, 1, 1))\n",
    "\n",
    "\n",
    "X_train.shape, y_train.shape, target_class_train.shape"
   ]
  },
  {
   "cell_type": "code",
   "execution_count": 21,
   "metadata": {},
   "outputs": [],
   "source": [
    "params = {\n",
    "    \"neuron\": {\n",
    "        \"type\": \"SRMALPHA\",\n",
    "        \"theta\": 5, # 10, 5(best)\n",
    "        \"tauSr\": 10.0,\n",
    "        \"tauRef\": 2.0,\n",
    "        \"scaleRef\": 2,\n",
    "        \"tauRho\": 1,\n",
    "        \"scaleRho\": 1,\n",
    "    },\n",
    "    \"simulation\": {\"Ts\": 1.0, \"tSample\": 150, \"nSample\": 1},\n",
    "    \"training\": {\n",
    "        \"error\": {\n",
    "            \"type\": \"NumSpikes\",  # \"NumSpikes\" or \"ProbSpikes\"\n",
    "            \"probSlidingWin\": 20,  # only valid for ProbSpikes\n",
    "            \"tgtSpikeRegion\": {  # valid for NumSpikes and ProbSpikes\n",
    "                \"start\": 0,\n",
    "                \"stop\": 150,\n",
    "            },\n",
    "            \"tgtSpikeCount\": {True: 125, False: 20},\n",
    "        }\n",
    "    },\n",
    "}\n"
   ]
  },
  {
   "cell_type": "code",
   "execution_count": 22,
   "metadata": {},
   "outputs": [],
   "source": [
    "train_dataset = torch.utils.data.TensorDataset(X_train, target_class_train, y_train)\n",
    "train_loader = torch.utils.data.DataLoader(train_dataset,shuffle=True,batch_size=8)\n",
    "\n",
    "test_dataset = torch.utils.data.TensorDataset(X_test, target_class_test, y_test)\n",
    "test_loader = torch.utils.data.DataLoader(test_dataset,shuffle=True,batch_size=8)"
   ]
  },
  {
   "cell_type": "code",
   "execution_count": 23,
   "metadata": {},
   "outputs": [],
   "source": [
    "class SlayerMLP(torch.nn.Module):\n",
    "    def __init__(self, params, input_size, hidden_size1,hidden_size2 output_size):\n",
    "        super(SlayerMLP, self).__init__()\n",
    "        self.output_size = output_size\n",
    "        self.slayer = snn.layer(params[\"neuron\"], params[\"simulation\"])\n",
    "        self.fc1 = self.slayer.dense(60, hidden_size1)\n",
    "        self.fc2 = self.slayer.dense(hidden_size1, hidden_size2)\n",
    "        self.fc3 = self.slayer.dense(hidden_size2, output_size)\n",
    "\n",
    "    def get_spike(self, inp):\n",
    "        return self.slayer.spike(inp)\n",
    "    def forward(self, spike_input):\n",
    "        spike_1 = self.slayer.spike(self.slayer.psp(self.fc1(spike_input)))\n",
    "        spike_2 = self.slayer.spike(self.slayer.psp(self.fc2(spike_1)))\n",
    "        spike_output = self.slayer.spike(self.slayer.psp(self.fc3(spike_2)))\n",
    "        return spike_output"
   ]
  },
  {
   "cell_type": "code",
   "execution_count": 24,
   "metadata": {},
   "outputs": [],
   "source": [
    "# class SlayerMLP(torch.nn.Module):\n",
    "#     def __init__(self, params, input_size, hidden_size, output_size):\n",
    "#         super(SlayerMLP, self).__init__()\n",
    "#         self.output_size = output_size\n",
    "#         self.slayer = snn.layer(params[\"neuron\"], params[\"simulation\"])\n",
    "# #         self.fc1 = self.slayer.dense((1,10,6), hidden_size)\n",
    "#         self.fc = self.slayer.dense((9,5,3), output_size)\n",
    "#         self.conv1 = self.slayer.conv(1, 3, 2)\n",
    "\n",
    "#     def forward(self, spike_input):\n",
    "#         spike1 = self.slayer.spike(self.conv1(spike_input))\n",
    "# #         print(spike1.shape)\n",
    "#         spike3 = self.slayer.spike(self.fc(self.slayer.psp(spike1)))\n",
    "# #         print(spike3.shape)\n",
    "# #         spike_1 = self.slayer.spike(self.fc1(spike_input))\n",
    "# #         spike_output = self.slayer.spike(self.slayer.psp(self.fc2(spike_1)))\n",
    "#         return spike3"
   ]
  },
  {
   "cell_type": "code",
   "execution_count": 25,
   "metadata": {},
   "outputs": [],
   "source": [
    "device = torch.device(\"cuda:1\")\n",
    "net = SlayerMLP(params, 19, 256, 20).to(device)"
   ]
  },
  {
   "cell_type": "code",
   "execution_count": 26,
   "metadata": {},
   "outputs": [],
   "source": [
    "error = snn.loss(params).to(device)\n",
    "optimizer = torch.optim.RMSprop(net.parameters(), lr=0.001, weight_decay=0.5)"
   ]
  },
  {
   "cell_type": "code",
   "execution_count": 27,
   "metadata": {},
   "outputs": [
    {
     "data": {
      "text/plain": [
       "0.21142857142857144"
      ]
     },
     "execution_count": 27,
     "metadata": {},
     "output_type": "execute_result"
    }
   ],
   "source": [
    "148/len(train_dataset)"
   ]
  },
  {
   "cell_type": "code",
   "execution_count": 36,
   "metadata": {},
   "outputs": [
    {
     "name": "stdout",
     "output_type": "stream",
     "text": [
      "Epoch:  0  --------------------------\n",
      "Train loss: 35.696942945207866\n",
      "Train accuracy: 0.37714285714285717\n",
      "Test loss: 34.22198933919271\n",
      "Test accuracy: 0.4766666666666667\n",
      "Epoch:  10  --------------------------\n",
      "Train loss: 21.670795070103235\n",
      "Train accuracy: 0.7014285714285714\n",
      "Test loss: 23.085610961914064\n",
      "Test accuracy: 0.66\n",
      "Epoch:  20  --------------------------\n",
      "Train loss: 17.69509987967355\n",
      "Train accuracy: 0.7742857142857142\n",
      "Test loss: 19.898177706400553\n",
      "Test accuracy: 0.7233333333333334\n",
      "Epoch:  30  --------------------------\n",
      "Train loss: 15.624399969918388\n",
      "Train accuracy: 0.8014285714285714\n",
      "Test loss: 18.207466532389322\n",
      "Test accuracy: 0.7333333333333333\n",
      "Epoch:  40  --------------------------\n",
      "Train loss: 14.201818978445871\n",
      "Train accuracy: 0.8242857142857143\n",
      "Test loss: 16.783144518534343\n",
      "Test accuracy: 0.7533333333333333\n",
      "Epoch:  50  --------------------------\n",
      "Train loss: 13.066452178955078\n",
      "Train accuracy: 0.8485714285714285\n",
      "Test loss: 15.849244321187337\n",
      "Test accuracy: 0.77\n",
      "Epoch:  60  --------------------------\n",
      "Train loss: 12.26911425454276\n",
      "Train accuracy: 0.8585714285714285\n",
      "Test loss: 15.142633412679036\n",
      "Test accuracy: 0.77\n",
      "Epoch:  70  --------------------------\n",
      "Train loss: 11.59379515511649\n",
      "Train accuracy: 0.8528571428571429\n",
      "Test loss: 14.850555413564047\n",
      "Test accuracy: 0.7766666666666666\n",
      "Epoch:  80  --------------------------\n",
      "Train loss: 11.079414362226213\n",
      "Train accuracy: 0.8628571428571429\n",
      "Test loss: 14.145433387756349\n",
      "Test accuracy: 0.79\n",
      "Epoch:  90  --------------------------\n",
      "Train loss: 10.605304854256767\n",
      "Train accuracy: 0.8714285714285714\n",
      "Test loss: 13.602433102925618\n",
      "Test accuracy: 0.7966666666666666\n",
      "Epoch:  100  --------------------------\n",
      "Train loss: 10.20640956878662\n",
      "Train accuracy: 0.8828571428571429\n",
      "Test loss: 13.158466688791911\n",
      "Test accuracy: 0.81\n",
      "Epoch:  110  --------------------------\n",
      "Train loss: 9.833481024333409\n",
      "Train accuracy: 0.8842857142857142\n",
      "Test loss: 12.920133247375489\n",
      "Test accuracy: 0.8233333333333334\n",
      "Epoch:  120  --------------------------\n",
      "Train loss: 9.483652351924352\n",
      "Train accuracy: 0.8942857142857142\n",
      "Test loss: 12.40775536855062\n",
      "Test accuracy: 0.8266666666666667\n",
      "Epoch:  130  --------------------------\n",
      "Train loss: 9.11243807383946\n",
      "Train accuracy: 0.8885714285714286\n",
      "Test loss: 12.257588583628337\n",
      "Test accuracy: 0.8233333333333334\n",
      "Epoch:  140  --------------------------\n",
      "Train loss: 8.776857115881784\n",
      "Train accuracy: 0.9014285714285715\n",
      "Test loss: 11.925077679951986\n",
      "Test accuracy: 0.82\n",
      "Epoch:  150  --------------------------\n",
      "Train loss: 8.423057203292847\n",
      "Train accuracy: 0.9028571428571428\n",
      "Test loss: 11.739677747090658\n",
      "Test accuracy: 0.8366666666666667\n",
      "Epoch:  160  --------------------------\n",
      "Train loss: 8.210547597067697\n",
      "Train accuracy: 0.9057142857142857\n",
      "Test loss: 11.317477912902833\n",
      "Test accuracy: 0.8433333333333334\n",
      "Epoch:  170  --------------------------\n",
      "Train loss: 7.987042865753174\n",
      "Train accuracy: 0.8957142857142857\n",
      "Test loss: 11.068877716064453\n",
      "Test accuracy: 0.83\n",
      "Epoch:  180  --------------------------\n",
      "Train loss: 7.679871372495379\n",
      "Train accuracy: 0.9057142857142857\n",
      "Test loss: 10.936377798716228\n",
      "Test accuracy: 0.8466666666666667\n",
      "Epoch:  190  --------------------------\n",
      "Train loss: 7.459500004904611\n",
      "Train accuracy: 0.9\n",
      "Test loss: 10.740733210245768\n",
      "Test accuracy: 0.8366666666666667\n",
      "Epoch:  200  --------------------------\n",
      "Train loss: 7.264861907958984\n",
      "Train accuracy: 0.9028571428571428\n",
      "Test loss: 10.457333183288574\n",
      "Test accuracy: 0.8366666666666667\n",
      "Epoch:  210  --------------------------\n",
      "Train loss: 7.106523715427944\n",
      "Train accuracy: 0.8971428571428571\n",
      "Test loss: 10.528855597178142\n",
      "Test accuracy: 0.8433333333333334\n",
      "Epoch:  220  --------------------------\n",
      "Train loss: 6.96980950491769\n",
      "Train accuracy: 0.9114285714285715\n",
      "Test loss: 10.490011024475098\n",
      "Test accuracy: 0.85\n",
      "Epoch:  230  --------------------------\n",
      "Train loss: 6.804014216831752\n",
      "Train accuracy: 0.9128571428571428\n",
      "Test loss: 10.382877674102783\n",
      "Test accuracy: 0.8433333333333334\n",
      "Epoch:  240  --------------------------\n",
      "Train loss: 6.714185686792646\n",
      "Train accuracy: 0.91\n",
      "Test loss: 10.051822236378987\n",
      "Test accuracy: 0.85\n",
      "Epoch:  250  --------------------------\n",
      "Train loss: 6.603519015993391\n",
      "Train accuracy: 0.9128571428571428\n",
      "Test loss: 10.046622276306152\n",
      "Test accuracy: 0.8566666666666667\n",
      "Epoch:  260  --------------------------\n",
      "Train loss: 6.5413523851122175\n",
      "Train accuracy: 0.9142857142857143\n",
      "Test loss: 9.948310966491698\n",
      "Test accuracy: 0.86\n",
      "Epoch:  270  --------------------------\n",
      "Train loss: 6.417495190756662\n",
      "Train accuracy: 0.9157142857142857\n",
      "Test loss: 10.015977849960327\n",
      "Test accuracy: 0.8533333333333334\n",
      "Epoch:  280  --------------------------\n",
      "Train loss: 6.318976177488055\n",
      "Train accuracy: 0.9114285714285715\n",
      "Test loss: 9.988466593424478\n",
      "Test accuracy: 0.8566666666666667\n",
      "Epoch:  290  --------------------------\n",
      "Train loss: 6.229495218821934\n",
      "Train accuracy: 0.9114285714285715\n",
      "Test loss: 9.728088989257813\n",
      "Test accuracy: 0.8566666666666667\n",
      "Epoch:  300  --------------------------\n",
      "Train loss: 6.116919020244054\n",
      "Train accuracy: 0.9185714285714286\n",
      "Test loss: 9.690866540273031\n",
      "Test accuracy: 0.86\n",
      "Epoch:  310  --------------------------\n",
      "Train loss: 6.068795151029314\n",
      "Train accuracy: 0.9157142857142857\n",
      "Test loss: 9.814933344523112\n",
      "Test accuracy: 0.8666666666666667\n",
      "Epoch:  320  --------------------------\n",
      "Train loss: 6.02485705784389\n",
      "Train accuracy: 0.9142857142857143\n",
      "Test loss: 9.39718879699707\n",
      "Test accuracy: 0.86\n",
      "Epoch:  330  --------------------------\n",
      "Train loss: 5.962695185116359\n",
      "Train accuracy: 0.9114285714285715\n",
      "Test loss: 9.381799882253011\n",
      "Test accuracy: 0.8633333333333333\n",
      "Epoch:  340  --------------------------\n",
      "Train loss: 5.91822852066585\n",
      "Train accuracy: 0.9228571428571428\n",
      "Test loss: 9.398122088114421\n",
      "Test accuracy: 0.8666666666666667\n",
      "Epoch:  350  --------------------------\n",
      "Train loss: 5.820847529002599\n",
      "Train accuracy: 0.92\n",
      "Test loss: 9.374999752044678\n",
      "Test accuracy: 0.8633333333333333\n",
      "Epoch:  360  --------------------------\n",
      "Train loss: 5.802647559302193\n",
      "Train accuracy: 0.9257142857142857\n",
      "Test loss: 9.473788992563884\n",
      "Test accuracy: 0.8566666666666667\n",
      "Epoch:  370  --------------------------\n",
      "Train loss: 5.726414237703596\n",
      "Train accuracy: 0.9271428571428572\n",
      "Test loss: 9.35869993209839\n",
      "Test accuracy: 0.8566666666666667\n",
      "Epoch:  380  --------------------------\n",
      "Train loss: 5.713414244651794\n",
      "Train accuracy: 0.9185714285714286\n",
      "Test loss: 9.206133400599162\n",
      "Test accuracy: 0.8633333333333333\n",
      "Epoch:  390  --------------------------\n",
      "Train loss: 5.623704746791295\n",
      "Train accuracy: 0.9185714285714286\n",
      "Test loss: 9.202955497105917\n",
      "Test accuracy: 0.8633333333333333\n",
      "Epoch:  400  --------------------------\n",
      "Train loss: 5.57319046156747\n",
      "Train accuracy: 0.9214285714285714\n",
      "Test loss: 9.10287782351176\n",
      "Test accuracy: 0.86\n",
      "Epoch:  410  --------------------------\n",
      "Train loss: 5.540014187949044\n",
      "Train accuracy: 0.9242857142857143\n",
      "Test loss: 9.205777746836345\n",
      "Test accuracy: 0.8733333333333333\n",
      "Epoch:  420  --------------------------\n",
      "Train loss: 5.4785047585623605\n",
      "Train accuracy: 0.93\n",
      "Test loss: 9.153177795410157\n",
      "Test accuracy: 0.8766666666666667\n",
      "Epoch:  430  --------------------------\n",
      "Train loss: 5.44983802659171\n",
      "Train accuracy: 0.93\n",
      "Test loss: 9.076544510523478\n",
      "Test accuracy: 0.8633333333333333\n",
      "Epoch:  440  --------------------------\n",
      "Train loss: 5.4174095065253125\n",
      "Train accuracy: 0.9228571428571428\n",
      "Test loss: 9.025400145848591\n",
      "Test accuracy: 0.8733333333333333\n",
      "Epoch:  450  --------------------------\n",
      "Train loss: 5.373561889784677\n",
      "Train accuracy: 0.9271428571428572\n",
      "Test loss: 9.14663322766622\n",
      "Test accuracy: 0.8733333333333333\n",
      "Epoch:  460  --------------------------\n",
      "Train loss: 5.3225094454629085\n",
      "Train accuracy: 0.93\n",
      "Test loss: 9.090944608052572\n",
      "Test accuracy: 0.8766666666666667\n",
      "Epoch:  470  --------------------------\n",
      "Train loss: 5.255018960407802\n",
      "Train accuracy: 0.9357142857142857\n",
      "Test loss: 8.949466514587403\n",
      "Test accuracy: 0.8766666666666667\n",
      "Epoch:  480  --------------------------\n",
      "Train loss: 5.225861826624189\n",
      "Train accuracy: 0.9328571428571428\n",
      "Test loss: 8.972155679066976\n",
      "Test accuracy: 0.87\n",
      "Epoch:  490  --------------------------\n",
      "Train loss: 5.190890449115209\n",
      "Train accuracy: 0.9314285714285714\n",
      "Test loss: 9.00982217947642\n",
      "Test accuracy: 0.8666666666666667\n",
      "Epoch:  500  --------------------------\n",
      "Train loss: 5.2015095138549805\n",
      "Train accuracy: 0.9328571428571428\n",
      "Test loss: 8.914355532328289\n",
      "Test accuracy: 0.87\n"
     ]
    },
    {
     "name": "stdout",
     "output_type": "stream",
     "text": [
      "Epoch:  510  --------------------------\n",
      "Train loss: 5.155009505408151\n",
      "Train accuracy: 0.9357142857142857\n",
      "Test loss: 8.813688933054607\n",
      "Test accuracy: 0.8733333333333333\n",
      "Epoch:  520  --------------------------\n",
      "Train loss: 5.1541189834049765\n",
      "Train accuracy: 0.9357142857142857\n",
      "Test loss: 8.805799942016602\n",
      "Test accuracy: 0.8766666666666667\n",
      "Epoch:  530  --------------------------\n",
      "Train loss: 5.082285702569144\n",
      "Train accuracy: 0.9285714285714286\n",
      "Test loss: 8.948344685236613\n",
      "Test accuracy: 0.8666666666666667\n",
      "Epoch:  540  --------------------------\n",
      "Train loss: 5.046433332306998\n",
      "Train accuracy: 0.9342857142857143\n",
      "Test loss: 8.84204423268636\n",
      "Test accuracy: 0.87\n",
      "Epoch:  550  --------------------------\n",
      "Train loss: 5.028823753084455\n",
      "Train accuracy: 0.9385714285714286\n",
      "Test loss: 8.760433286031088\n",
      "Test accuracy: 0.87\n",
      "Epoch:  560  --------------------------\n",
      "Train loss: 5.023295258113317\n",
      "Train accuracy: 0.9342857142857143\n",
      "Test loss: 9.079966824849446\n",
      "Test accuracy: 0.8733333333333333\n",
      "Epoch:  570  --------------------------\n",
      "Train loss: 4.95950950895037\n",
      "Train accuracy: 0.9314285714285714\n",
      "Test loss: 8.824522123336791\n",
      "Test accuracy: 0.8733333333333333\n",
      "Epoch:  580  --------------------------\n",
      "Train loss: 4.952480947630746\n",
      "Train accuracy: 0.9357142857142857\n",
      "Test loss: 8.841977717081706\n",
      "Test accuracy: 0.88\n",
      "Epoch:  590  --------------------------\n",
      "Train loss: 4.9319380787440705\n",
      "Train accuracy: 0.9385714285714286\n",
      "Test loss: 9.147199929555256\n",
      "Test accuracy: 0.8733333333333333\n",
      "Epoch:  600  --------------------------\n",
      "Train loss: 4.932714187077114\n",
      "Train accuracy: 0.9385714285714286\n",
      "Test loss: 8.751744289398193\n",
      "Test accuracy: 0.8766666666666667\n"
     ]
    }
   ],
   "source": [
    "train_losses=[]\n",
    "train_accs = []\n",
    "test_losses = []\n",
    "test_accs = []\n",
    "for epoch in range(601):\n",
    "    net.train()\n",
    "    correct = 0\n",
    "    num_samples = 0\n",
    "    loss_train = 0\n",
    "    for i, (tact, target, label) in enumerate(train_loader):\n",
    "        \n",
    "        tact = tact.to(device)\n",
    "        target = target.to(device)\n",
    "        #print(tact.shape)\n",
    "        #tact = tact.permute(0, 3, 1, 2, 4)\n",
    "#         print(tact.shape)\n",
    "        tact = net.get_spike(tact)\n",
    "        tact_new = torch.zeros((tact.shape[0],tact.shape[1],1,1,tact.shape[-1]*2)).to(device)\n",
    "        tact_new[...,::2]  = tact\n",
    "        \n",
    "        output = net.forward(tact_new)\n",
    "        correct += torch.sum(snn.predict.getClass(output) == label).data.item()\n",
    "        num_samples += len(label)\n",
    "        loss = error.numSpikes(output, target)\n",
    "        loss_train += loss.item()\n",
    "        optimizer.zero_grad()\n",
    "        loss.backward()\n",
    "        optimizer.step()\n",
    "                \n",
    "    if epoch%10 == 0:\n",
    "        print('Epoch: ', epoch, ' --------------------------')\n",
    "        print('Train loss:', loss_train/len(train_dataset))\n",
    "        print('Train accuracy:', correct/len(train_dataset))\n",
    "    train_accs.append(correct/len(train_dataset))\n",
    "    train_losses.append(loss_train/len(train_dataset))\n",
    "        \n",
    "    net.eval()\n",
    "    correct = 0\n",
    "    num_samples = 0\n",
    "    loss_test = 0\n",
    "    with torch.no_grad():\n",
    "        for i, (tact, target, label) in enumerate(test_loader):\n",
    "\n",
    "            tact = tact.to(device)\n",
    "            #tact = tact.permute(0, 3, 1, 2, 4)\n",
    "            target = target.to(device)\n",
    "            tact = net.get_spike(tact)\n",
    "            tact_new = torch.zeros((tact.shape[0],tact.shape[1],1,1,tact.shape[-1]*2)).to(device)\n",
    "            tact_new[...,::2]  = tact\n",
    "        \n",
    "            output = net.forward(tact_new)\n",
    "            correct += torch.sum(snn.predict.getClass(output) == label).data.item()\n",
    "            num_samples += len(label)\n",
    "            loss = error.numSpikes(output, target)\n",
    "            loss_test += loss.item()\n",
    "            \n",
    "    if epoch%10 == 0:\n",
    "        print('Test loss:', loss_test/len(test_dataset))\n",
    "        print('Test accuracy:', correct/len(test_dataset))\n",
    "    test_accs.append(correct/len(test_dataset))\n",
    "    test_losses.append(loss_test/len(test_dataset))"
   ]
  },
  {
   "cell_type": "code",
   "execution_count": 40,
   "metadata": {},
   "outputs": [
    {
     "data": {
      "image/png": "[encoded data removed]",
      "text/plain": [
       "<Figure size 1080x504 with 2 Axes>"
      ]
     },
     "metadata": {
      "needs_background": "light"
     },
     "output_type": "display_data"
    }
   ],
   "source": [
    "fig, ax = plt.subplots(2, figsize=(15,7))\n",
    "\n",
    "ax[0].plot(train_losses)\n",
    "ax[0].plot(test_losses)\n",
    "ax[0].set_xlabel('Epoch')\n",
    "ax[0].set_ylabel('Loss')\n",
    "ax[0].legend(['Train', 'Test'])\n",
    "\n",
    "ax[1].plot(train_accs)\n",
    "ax[1].plot(test_accs)\n",
    "ax[1].set_xlabel('Epoch')\n",
    "ax[1].set_ylabel('Accuracy')\n",
    "ax[1].legend(['Train', 'Test'])\n",
    "\n",
    "plt.show()"
   ]
  },
  {
   "cell_type": "code",
   "execution_count": 41,
   "metadata": {},
   "outputs": [
    {
     "data": {
      "text/plain": [
       "0.8933333333333333"
      ]
     },
     "execution_count": 41,
     "metadata": {},
     "output_type": "execute_result"
    }
   ],
   "source": [
    "np.max(test_accs)"
   ]
  },
  {
   "cell_type": "code",
   "execution_count": 42,
   "metadata": {},
   "outputs": [
    {
     "data": {
      "text/plain": [
       "0.9414285714285714"
      ]
     },
     "execution_count": 42,
     "metadata": {},
     "output_type": "execute_result"
    }
   ],
   "source": [
    "np.max(train_accs)"
   ]
  },
  {
   "cell_type": "code",
   "execution_count": null,
   "metadata": {},
   "outputs": [],
   "source": []
  },
  {
   "cell_type": "code",
   "execution_count": null,
   "metadata": {},
   "outputs": [],
   "source": []
  }
 ],
 "metadata": {
  "kernelspec": {
   "display_name": "Python 3",
   "language": "python",
   "name": "python3"
  },
  "language_info": {
   "codemirror_mode": {
    "name": "ipython",
    "version": 3
   },
   "file_extension": ".py",
   "mimetype": "text/x-python",
   "name": "python",
   "nbconvert_exporter": "python",
   "pygments_lexer": "ipython3",
   "version": "3.5.2"
  }
 },
 "nbformat": 4,
 "nbformat_minor": 2
}
