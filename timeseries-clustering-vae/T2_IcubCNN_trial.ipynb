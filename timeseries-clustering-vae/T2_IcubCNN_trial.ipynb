{
 "cells": [
  {
   "cell_type": "code",
   "execution_count": 1,
   "metadata": {},
   "outputs": [],
   "source": [
    "# Import\n",
    "\n",
    "import os,sys\n",
    "CURRENT_TEST_DIR = os.getcwd()\n",
    "sys.path.append(CURRENT_TEST_DIR + \"/../new_iteration/\")\n",
    "import pickle\n",
    "import argparse\n",
    "from sklearn.metrics import confusion_matrix\n",
    "from datetime import datetime\n",
    "\n",
    "from vrae.vrae import VRAEC\n",
    "from vrae.utils import *\n",
    "import numpy as np\n",
    "import torch\n",
    "import torch.nn as nn\n",
    "import torchvision\n",
    "import torchvision.transforms as transforms\n",
    "import torch.nn.functional as F\n",
    "import torch.optim as optim\n",
    "from torch.utils import data as data2\n",
    "from torch.utils.data.dataset import random_split\n",
    "from torch.utils.data import DataLoader, TensorDataset\n",
    "from datetime import datetime\n",
    "from tas_utils_bs import get_trainValLoader, get_testLoader\n",
    "import plotly\n"
   ]
  },
  {
   "cell_type": "code",
   "execution_count": 2,
   "metadata": {},
   "outputs": [
    {
     "data": {
      "text/plain": [
       "<torch._C.Generator at 0x7f14eb39f530>"
      ]
     },
     "execution_count": 2,
     "metadata": {},
     "output_type": "execute_result"
    }
   ],
   "source": [
    "# Set hyper params\n",
    "num_class = 20\n",
    "sequence_length = 75\n",
    "number_of_features = 60\n",
    "hidden_size = 90\n",
    "hidden_layer_depth = 1\n",
    "latent_length = 40\n",
    "batch_size = 32\n",
    "learning_rate = 0.0005\n",
    "n_epochs = 20\n",
    "dropout_rate = 0.2\n",
    "cuda = True # options: True, False\n",
    "print_every=30\n",
    "clip = True # options: True, False\n",
    "max_grad_norm=5\n",
    "header = \"CNN\"\n",
    "w_r = 0.0001\n",
    "w_k = 1\n",
    "w_c = 1\n",
    "np.random.seed(1)\n",
    "torch.manual_seed(1)"
   ]
  },
  {
   "cell_type": "code",
   "execution_count": 3,
   "metadata": {},
   "outputs": [],
   "source": [
    "# Load data\n",
    "data_dir = '../../new_data_folder/'\n",
    "kfold_number = 0\n",
    "\n",
    "logDir = 'models_and_stat/'\n",
    "model_name = 'IcubCNN_hs_{}_ll_{}_hl{}_lr_{}_wr_{}_wk_{}_wc_{}_{}'.format(hidden_size, latent_length, hidden_layer_depth, learning_rate, w_r,w_k, w_c, str(kfold_number))\n",
    "device = torch.device(\"cuda:1\")\n",
    "\n",
    "train_loader, val_loader, train_dataset, val_dataset = get_trainValLoader(data_dir, k=kfold_number, spike_ready=False, batch_size=batch_size)\n",
    "test_loader, test_dataset = get_testLoader(data_dir, spike_ready=False, batch_size=batch_size)\n"
   ]
  },
  {
   "cell_type": "code",
   "execution_count": 4,
   "metadata": {},
   "outputs": [
    {
     "name": "stdout",
     "output_type": "stream",
     "text": [
      "loss weights for vraec w_r: 0.0001, w_k: 1, w_c: 1\n"
     ]
    },
    {
     "name": "stderr",
     "output_type": "stream",
     "text": [
      "/home/students/student6_16/anaconda3/lib/python3.7/site-packages/torch/nn/modules/rnn.py:51: UserWarning:\n",
      "\n",
      "dropout option adds dropout after all but last recurrent layer, so non-zero dropout expects num_layers greater than 1, but got dropout=0.2 and num_layers=1\n",
      "\n"
     ]
    },
    {
     "data": {
      "text/plain": [
       "VRAE(n_epochs=20,batch_size=32,cuda=True)"
      ]
     },
     "execution_count": 4,
     "metadata": {},
     "output_type": "execute_result"
    }
   ],
   "source": [
    "# Create model\n",
    "\n",
    "# Create model\n",
    "model = VRAEC(num_class=num_class,\n",
    "            sequence_length=sequence_length,\n",
    "            number_of_features = number_of_features,\n",
    "            hidden_size = hidden_size, \n",
    "            hidden_layer_depth = hidden_layer_depth,\n",
    "            latent_length = latent_length,\n",
    "            batch_size = batch_size,\n",
    "            learning_rate = learning_rate,\n",
    "            n_epochs = n_epochs,\n",
    "            dropout_rate = dropout_rate,\n",
    "            cuda = cuda,\n",
    "            print_every=print_every, \n",
    "            clip=clip, \n",
    "            max_grad_norm=max_grad_norm,\n",
    "            dload = logDir,\n",
    "            model_name=model_name,\n",
    "            header=header,\n",
    "            w_r = w_r, \n",
    "            w_k = w_k, \n",
    "            w_c = w_c,\n",
    "            device = device)\n",
    "\n",
    "model.to(device)"
   ]
  },
  {
   "cell_type": "code",
   "execution_count": 5,
   "metadata": {},
   "outputs": [],
   "source": [
    "criterion = nn.CrossEntropyLoss()\n",
    "optimizer = optim.Adam(model.parameters(), lr=learning_rate)\n",
    "cl_loss_fn = nn.NLLLoss()\n",
    "recon_loss_fn = nn.MSELoss()"
   ]
  },
  {
   "cell_type": "code",
   "execution_count": 6,
   "metadata": {},
   "outputs": [
    {
     "name": "stdout",
     "output_type": "stream",
     "text": [
      "train last batch: recon_loss 227.67889404296875, kl_loss 0.048235274851322174, cl_loss 2.935081958770752\n",
      "Epoch: 0 Loss: train 0.09283693838450643, valid 0.09338268886009853. Accuracy: train: 0.0642361111111111, valid 0.13020833333333334\n",
      "Saving model at  0  epoch\n",
      "train last batch: recon_loss 188.7493896484375, kl_loss 0.06841085106134415, cl_loss 2.7903664112091064\n",
      "Epoch: 1 Loss: train 0.08934203742278947, valid 0.09115312496821086. Accuracy: train: 0.16145833333333334, valid 0.2604166666666667\n",
      "Saving model at  1  epoch\n",
      "train last batch: recon_loss 210.40838623046875, kl_loss 0.10310997068881989, cl_loss 2.757532835006714\n",
      "Epoch: 2 Loss: train 0.08494830545451906, valid 0.08730938533941905. Accuracy: train: 0.3107638888888889, valid 0.3489583333333333\n",
      "Saving model at  2  epoch\n",
      "train last batch: recon_loss 212.3280487060547, kl_loss 0.2943575978279114, cl_loss 2.1975960731506348\n",
      "Epoch: 3 Loss: train 0.07683055392569965, valid 0.08221599087119102. Accuracy: train: 0.4322916666666667, valid 0.390625\n",
      "Saving model at  3  epoch\n",
      "train last batch: recon_loss 261.39434814453125, kl_loss 0.4579600989818573, cl_loss 2.0282845497131348\n",
      "Epoch: 4 Loss: train 0.06553043735524018, valid 0.07822106157739957. Accuracy: train: 0.4913194444444444, valid 0.484375\n",
      "Saving model at  4  epoch\n",
      "train last batch: recon_loss 235.31182861328125, kl_loss 0.6762604713439941, cl_loss 1.5175341367721558\n",
      "Epoch: 5 Loss: train 0.06004085060622957, valid 0.0753092182179292. Accuracy: train: 0.53125, valid 0.5416666666666666\n",
      "Saving model at  5  epoch\n",
      "train last batch: recon_loss 195.6007080078125, kl_loss 0.7320592403411865, cl_loss 1.608234167098999\n",
      "Epoch: 6 Loss: train 0.04858294605380959, valid 0.07169907664259274. Accuracy: train: 0.6006944444444444, valid 0.5885416666666666\n",
      "Saving model at  6  epoch\n",
      "train last batch: recon_loss 216.56582641601562, kl_loss 1.0299228429794312, cl_loss 1.0556056499481201\n",
      "Epoch: 7 Loss: train 0.0393897851722108, valid 0.06916102766990662. Accuracy: train: 0.6857638888888888, valid 0.6822916666666666\n",
      "Saving model at  7  epoch\n",
      "train last batch: recon_loss 233.9788360595703, kl_loss 1.1832351684570312, cl_loss 0.9057120680809021\n",
      "Epoch: 8 Loss: train 0.0333087228031622, valid 0.07381974657376607. Accuracy: train: 0.7065972222222222, valid 0.6510416666666666\n",
      "train last batch: recon_loss 244.81642150878906, kl_loss 1.2678062915802002, cl_loss 1.1958391666412354\n",
      "Epoch: 9 Loss: train 0.031070742859608598, valid 0.07135922213395436. Accuracy: train: 0.7135416666666666, valid 0.7135416666666666\n",
      "Saving model at  9  epoch\n",
      "train last batch: recon_loss 181.4812469482422, kl_loss 1.3877315521240234, cl_loss 1.0794733762741089\n",
      "Epoch: 10 Loss: train 0.029087566667132907, valid 0.07495986794432004. Accuracy: train: 0.7256944444444444, valid 0.703125\n",
      "train last batch: recon_loss 253.76824951171875, kl_loss 1.4623008966445923, cl_loss 0.6373780369758606\n",
      "Epoch: 11 Loss: train 0.025113822581867378, valid 0.073872076968352. Accuracy: train: 0.796875, valid 0.7239583333333334\n",
      "Saving model at  11  epoch\n",
      "train last batch: recon_loss 213.08619689941406, kl_loss 1.423828363418579, cl_loss 0.6613925695419312\n",
      "Epoch: 12 Loss: train 0.02107701554066605, valid 0.07432026043534279. Accuracy: train: 0.8142361111111112, valid 0.7604166666666666\n",
      "Saving model at  12  epoch\n",
      "train last batch: recon_loss 282.6480407714844, kl_loss 1.6829582452774048, cl_loss 0.5583409667015076\n",
      "Epoch: 13 Loss: train 0.018498723602129355, valid 0.0772098737458388. Accuracy: train: 0.8489583333333334, valid 0.7864583333333334\n",
      "Saving model at  13  epoch\n",
      "train last batch: recon_loss 318.01995849609375, kl_loss 1.8928518295288086, cl_loss 0.3244999051094055\n",
      "Epoch: 14 Loss: train 0.017060946724894974, valid 0.07844336703419685. Accuracy: train: 0.8541666666666666, valid 0.7864583333333334\n",
      "Saving model at  14  epoch\n",
      "train last batch: recon_loss 245.5118408203125, kl_loss 1.9299030303955078, cl_loss 0.4372931122779846\n",
      "Epoch: 15 Loss: train 0.015289358794689178, valid 0.08005573600530624. Accuracy: train: 0.8784722222222222, valid 0.78125\n",
      "train last batch: recon_loss 228.3975830078125, kl_loss 1.8248752355575562, cl_loss 0.5532695055007935\n",
      "Epoch: 16 Loss: train 0.018440336661620274, valid 0.07865223288536072. Accuracy: train: 0.8229166666666666, valid 0.78125\n",
      "train last batch: recon_loss 185.1131591796875, kl_loss 1.8317793607711792, cl_loss 0.5098472833633423\n",
      "Epoch: 17 Loss: train 0.01723102666437626, valid 0.07618759448329608. Accuracy: train: 0.8385416666666666, valid 0.796875\n",
      "Saving model at  17  epoch\n",
      "train last batch: recon_loss 222.1090087890625, kl_loss 1.877606749534607, cl_loss 0.5054769515991211\n",
      "Epoch: 18 Loss: train 0.014730725437402725, valid 0.07911678651968639. Accuracy: train: 0.8715277777777778, valid 0.8072916666666666\n",
      "Saving model at  18  epoch\n",
      "train last batch: recon_loss 247.5687713623047, kl_loss 2.1974902153015137, cl_loss 0.42316317558288574\n",
      "Epoch: 19 Loss: train 0.012520963791757822, valid 0.08273023863633473. Accuracy: train: 0.8940972222222222, valid 0.8020833333333334\n",
      "training takes time 0:00:21.948598\n"
     ]
    }
   ],
   "source": [
    "# Train\n",
    "\n",
    "training_start=datetime.now()\n",
    "#split fit\n",
    "epoch_train_loss = []\n",
    "epoch_train_acc = []\n",
    "epoch_val_loss = []\n",
    "epoch_val_acc = []\n",
    "max_val_acc = 0\n",
    "\n",
    "for epoch in range(n_epochs):\n",
    "    \n",
    "    # TRAIN\n",
    "    model.train()\n",
    "    correct = 0\n",
    "    train_loss = 0\n",
    "    train_num = 0\n",
    "    for i, (XI, XB,  y) in enumerate(train_loader):\n",
    "        if model.header == 'CNN':\n",
    "            x = XI\n",
    "        else:\n",
    "            x = XB\n",
    "        x, y = x.to(device), y.long().to(device)\n",
    "        if x.size()[0] != batch_size:\n",
    "#             print(\"batch {} size {} < {}, skip\".format(i, x.size()[0], batch_size))\n",
    "            break\n",
    "        train_num += x.size(0)\n",
    "        optimizer.zero_grad()\n",
    "  \n",
    "        x_decoded, latent, output = model(x)\n",
    "\n",
    "        # construct loss function\n",
    "        cl_loss = cl_loss_fn(output, y)\n",
    "        latent_mean, latent_logvar = model.lmbd.latent_mean, model.lmbd.latent_logvar\n",
    "        kl_loss = -0.5 * torch.mean(1 + latent_logvar - latent_mean.pow(2) - latent_logvar.exp())\n",
    "        recon_loss = recon_loss_fn(x_decoded, x)\n",
    "        loss = w_r*recon_loss + w_k*kl_loss + w_c*cl_loss\n",
    "#         loss=w_c*cl_loss\n",
    "        loss.backward()\n",
    "#         if model.clip:\n",
    "#             torch.nn.utils.clip_grad_norm_(model.parameters(), max_norm = model.max_grad_norm)\n",
    "        optimizer.step()\n",
    "        # compute classification acc\n",
    "        pred = output.data.max(1, keepdim=True)[1]  # get the index of the max log-probability\n",
    "        correct += pred.eq(y.data.view_as(pred)).long().cpu().sum().item()\n",
    "\n",
    "        # accumulator\n",
    "        train_loss += loss.item()\n",
    "\n",
    "    # fill stats\n",
    "    print(\"train last batch: recon_loss {}, kl_loss {}, cl_loss {}\".format(recon_loss, kl_loss, cl_loss))\n",
    "    train_accuracy = correct / train_num # len(train_loader.dataset)\n",
    "    train_loss /= train_num #len(train_loader.dataset)\n",
    "    epoch_train_loss.append(train_loss)\n",
    "    epoch_train_acc.append(train_accuracy) \n",
    "    \n",
    "    # VALIDATION\n",
    "    model.eval()\n",
    "    correct = 0\n",
    "    val_loss = 0\n",
    "    val_num = 0\n",
    "    for i, (XI, XB,  y) in enumerate(val_loader):\n",
    "        if model.header == 'CNN':\n",
    "            x = XI\n",
    "        else:\n",
    "            x = XB\n",
    "        x, y = x.to(device), y.long().to(device)\n",
    "        if x.size()[0] != batch_size:\n",
    "#             print(\"batch {} size {} < {}, skip\".format(i, x.size()[0], batch_size))\n",
    "            break\n",
    "        val_num += x.size(0)\n",
    "        x_decoded, latent, output = model(x)\n",
    "\n",
    "        # construct loss function\n",
    "        cl_loss = cl_loss_fn(output, y)\n",
    "        latent_mean, latent_logvar = model.lmbd.latent_mean, model.lmbd.latent_logvar\n",
    "        kl_loss = -0.5 * torch.mean(1 + latent_logvar - latent_mean.pow(2) - latent_logvar.exp())\n",
    "        recon_loss = recon_loss_fn(x_decoded, x)\n",
    "        loss = w_r*recon_loss + w_k*kl_loss + w_c*cl_loss\n",
    "    \n",
    "        # compute classification acc\n",
    "        pred = output.data.max(1, keepdim=True)[1]  # get the index of the max log-probability\n",
    "        correct += pred.eq(y.data.view_as(pred)).long().cpu().sum().item()\n",
    "        \n",
    "        # accumulator\n",
    "        val_loss += loss.item()\n",
    "    \n",
    "#     print(\"test last batch: recon_loss {}, kl_loss {}, cl_loss {}\".format(recon_loss, kl_loss, cl_loss))\n",
    "    # fill stats\n",
    "    val_accuracy = correct / val_num# / len(val_loader.dataset)\n",
    "    val_loss /= val_num #len(val_loader.dataset)\n",
    "\n",
    "    epoch_val_loss.append(val_loss)  # only save the last batch\n",
    "    epoch_val_acc.append(val_accuracy)\n",
    "\n",
    "    print('Epoch: {} Loss: train {}, valid {}. Accuracy: train: {}, valid {}'.format(epoch, train_loss, val_loss, train_accuracy, val_accuracy))\n",
    "    \n",
    "    # choose model\n",
    "    if max_val_acc <= val_accuracy:\n",
    "        print('Saving model at ', epoch, ' epoch')\n",
    "        max_val_acc = val_accuracy\n",
    "        torch.save(model.state_dict(), logDir + model_name + '.pt')\n",
    "\n",
    "training_end =  datetime.now()\n",
    "training_time = training_end -training_start \n",
    "print(\"training takes time {}\".format(training_time))"
   ]
  },
  {
   "cell_type": "code",
   "execution_count": 7,
   "metadata": {},
   "outputs": [],
   "source": [
    "model.is_fitted = True"
   ]
  },
  {
   "cell_type": "code",
   "execution_count": 8,
   "metadata": {},
   "outputs": [
    {
     "name": "stdout",
     "output_type": "stream",
     "text": [
      "loss weights for vraec w_r: 0.0001, w_k: 1, w_c: 1\n"
     ]
    },
    {
     "data": {
      "text/plain": [
       "VRAE(n_epochs=20,batch_size=32,cuda=True)"
      ]
     },
     "execution_count": 8,
     "metadata": {},
     "output_type": "execute_result"
    }
   ],
   "source": [
    "# testing set check\n",
    "net_trained = VRAEC(num_class=num_class,\n",
    "            sequence_length=sequence_length,\n",
    "            number_of_features = number_of_features,\n",
    "            hidden_size = hidden_size, \n",
    "            hidden_layer_depth = hidden_layer_depth,\n",
    "            latent_length = latent_length,\n",
    "            batch_size = batch_size,\n",
    "            learning_rate = learning_rate,\n",
    "            n_epochs = n_epochs,\n",
    "            dropout_rate = dropout_rate,\n",
    "            cuda = cuda,\n",
    "            print_every=print_every, \n",
    "            clip=clip, \n",
    "            max_grad_norm=max_grad_norm,\n",
    "            dload = logDir,\n",
    "            model_name=model_name,\n",
    "            header=header,\n",
    "            w_r = w_r, \n",
    "            w_k = w_k, \n",
    "            w_c = w_c,\n",
    "            device = device)\n",
    "\n",
    "net_trained.load_state_dict(torch.load(logDir + model_name + '.pt'))\n",
    "net_trained.eval()"
   ]
  },
  {
   "cell_type": "code",
   "execution_count": 9,
   "metadata": {},
   "outputs": [
    {
     "name": "stdout",
     "output_type": "stream",
     "text": [
      " test batch 6 size 8 < 32, skip\n",
      "Test accuracy for 0  fold :  0.7708333333333334\n"
     ]
    }
   ],
   "source": [
    "correct = 0\n",
    "test_num = 0\n",
    "for i, (XI, XB,  y) in enumerate(test_loader):\n",
    "    if model.header == 'CNN':\n",
    "        x = XI\n",
    "    else:\n",
    "        x = XB\n",
    "    x, y = x.to(device), y.long().to(device)\n",
    "    \n",
    "    if x.size(0) != batch_size:\n",
    "        print(\" test batch {} size {} < {}, skip\".format(i, x.size()[0], batch_size))\n",
    "        break\n",
    "    test_num += x.size(0)\n",
    "    x_decoded, latent, output = model(x)\n",
    "\n",
    "    # compute classification acc\n",
    "    pred = output.data.max(1, keepdim=True)[1]  # get the index of the max log-probability\n",
    "    correct += pred.eq(y.data.view_as(pred)).long().cpu().sum().item()\n",
    "    \n",
    "test_acc = correct / test_num #len(test_loader.dataset)\n",
    "\n",
    "print('Test accuracy for', str(kfold_number), ' fold : ', test_acc)"
   ]
  },
  {
   "cell_type": "code",
   "execution_count": 10,
   "metadata": {},
   "outputs": [
    {
     "data": {
      "image/png": "[encoded data removed]",
      "text/plain": [
       "<Figure size 1080x504 with 1 Axes>"
      ]
     },
     "metadata": {
      "needs_background": "light"
     },
     "output_type": "display_data"
    }
   ],
   "source": [
    "# save stats\n",
    "all_stats = [\n",
    "    epoch_train_loss,\n",
    "    epoch_train_acc,\n",
    "    epoch_val_loss,\n",
    "    epoch_val_acc,\n",
    "    test_acc\n",
    "]\n",
    "\n",
    "pickle.dump(all_stats, open(logDir + model_name + '_stats.pkl', 'wb'))\n",
    "\n",
    "assert n_epochs == len(epoch_train_acc), \"different epoch length {} {}\".format(n_epochs, len(epoch_train_acc))\n",
    "fig, ax = plt.subplots(figsize=(15, 7))\n",
    "ax.plot(np.arange(n_epochs), epoch_train_acc, label=\"train acc\")\n",
    "ax.set_xlabel('epoch')\n",
    "ax.set_ylabel('acc')\n",
    "ax.grid(True)\n",
    "plt.legend(loc='upper right')\n",
    "plt.show()\n",
    "\n"
   ]
  },
  {
   "cell_type": "code",
   "execution_count": null,
   "metadata": {},
   "outputs": [],
   "source": []
  },
  {
   "cell_type": "code",
   "execution_count": null,
   "metadata": {},
   "outputs": [],
   "source": []
  }
 ],
 "metadata": {
  "kernelspec": {
   "display_name": "Python 3",
   "language": "python",
   "name": "python3"
  },
  "language_info": {
   "codemirror_mode": {
    "name": "ipython",
    "version": 3
   },
   "file_extension": ".py",
   "mimetype": "text/x-python",
   "name": "python",
   "nbconvert_exporter": "python",
   "pygments_lexer": "ipython3",
   "version": "3.7.6"
  }
 },
 "nbformat": 4,
 "nbformat_minor": 2
}
