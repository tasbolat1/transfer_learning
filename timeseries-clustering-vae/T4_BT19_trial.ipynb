{
 "cells": [
  {
   "cell_type": "code",
   "execution_count": 1,
   "metadata": {},
   "outputs": [],
   "source": [
    "# Import\n",
    "\n",
    "import os,sys\n",
    "CURRENT_TEST_DIR = os.getcwd()\n",
    "sys.path.append(CURRENT_TEST_DIR + \"/../new_iteration/\")\n",
    "import pickle\n",
    "import argparse\n",
    "from sklearn.metrics import confusion_matrix\n",
    "from datetime import datetime\n",
    "\n",
    "from vrae.vrae import VRAEC\n",
    "from vrae.utils import *\n",
    "import numpy as np\n",
    "import torch\n",
    "import torch.nn as nn\n",
    "import torchvision\n",
    "import torchvision.transforms as transforms\n",
    "import torch.nn.functional as F\n",
    "import torch.optim as optim\n",
    "from torch.utils import data as data2\n",
    "from torch.utils.data.dataset import random_split\n",
    "from torch.utils.data import DataLoader, TensorDataset\n",
    "from datetime import datetime\n",
    "from tas_utils_bs import get_trainValLoader, get_testLoader\n",
    "import plotly\n"
   ]
  },
  {
   "cell_type": "code",
   "execution_count": 2,
   "metadata": {},
   "outputs": [
    {
     "data": {
      "text/plain": [
       "<torch._C.Generator at 0x7fa79c8b2570>"
      ]
     },
     "execution_count": 2,
     "metadata": {},
     "output_type": "execute_result"
    }
   ],
   "source": [
    "# Set hyper params\n",
    "num_class = 20\n",
    "sequence_length = 400\n",
    "number_of_features = 19\n",
    "hidden_size = 90\n",
    "hidden_layer_depth = 1\n",
    "latent_length = 40\n",
    "batch_size = 32\n",
    "learning_rate = 0.0005\n",
    "n_epochs = 20\n",
    "dropout_rate = 0.2\n",
    "cuda = True # options: True, False\n",
    "print_every=30\n",
    "clip = True # options: True, False\n",
    "max_grad_norm=5\n",
    "header = None\n",
    "w_r = 0.0001\n",
    "w_k = 1\n",
    "w_c = 1\n",
    "np.random.seed(1)\n",
    "torch.manual_seed(1)"
   ]
  },
  {
   "cell_type": "code",
   "execution_count": 3,
   "metadata": {},
   "outputs": [],
   "source": [
    "# Load data\n",
    "data_dir = '../../new_data_folder/'\n",
    "kfold_number = 0\n",
    "\n",
    "logDir = 'models_and_stat/'\n",
    "model_name = 'BT19_hs_{}_ll_{}_hl{}_lr_{}_wr_{}_wk_{}_wc_{}_{}'.format(hidden_size, latent_length, hidden_layer_depth, learning_rate, w_r,w_k, w_c, str(kfold_number))\n",
    "device = torch.device(\"cuda:2\")\n",
    "\n",
    "train_loader, val_loader, train_dataset, val_dataset = get_trainValLoader(data_dir, k=kfold_number, spike_ready=False, batch_size=batch_size)\n",
    "test_loader, test_dataset = get_testLoader(data_dir, spike_ready=False, batch_size=batch_size)\n"
   ]
  },
  {
   "cell_type": "code",
   "execution_count": 4,
   "metadata": {},
   "outputs": [
    {
     "name": "stdout",
     "output_type": "stream",
     "text": [
      "loss weights for vraec w_r: 0.0001, w_k: 1, w_c: 1\n"
     ]
    },
    {
     "name": "stderr",
     "output_type": "stream",
     "text": [
      "/home/students/student6_16/anaconda3/lib/python3.7/site-packages/torch/nn/modules/rnn.py:51: UserWarning:\n",
      "\n",
      "dropout option adds dropout after all but last recurrent layer, so non-zero dropout expects num_layers greater than 1, but got dropout=0.2 and num_layers=1\n",
      "\n"
     ]
    },
    {
     "data": {
      "text/plain": [
       "VRAE(n_epochs=20,batch_size=32,cuda=True)"
      ]
     },
     "execution_count": 4,
     "metadata": {},
     "output_type": "execute_result"
    }
   ],
   "source": [
    "# Create model\n",
    "model = VRAEC(num_class=num_class,\n",
    "            sequence_length=sequence_length,\n",
    "            number_of_features = number_of_features,\n",
    "            hidden_size = hidden_size, \n",
    "            hidden_layer_depth = hidden_layer_depth,\n",
    "            latent_length = latent_length,\n",
    "            batch_size = batch_size,\n",
    "            learning_rate = learning_rate,\n",
    "            n_epochs = n_epochs,\n",
    "            dropout_rate = dropout_rate,\n",
    "            cuda = cuda,\n",
    "            print_every=print_every, \n",
    "            clip=clip, \n",
    "            max_grad_norm=max_grad_norm,\n",
    "            dload = logDir,\n",
    "            model_name=model_name,\n",
    "            header=header,\n",
    "            w_r = w_r, \n",
    "            w_k = w_k, \n",
    "            w_c = w_c,\n",
    "            device = device)\n",
    "\n",
    "model.to(device)"
   ]
  },
  {
   "cell_type": "code",
   "execution_count": 5,
   "metadata": {},
   "outputs": [],
   "source": [
    "criterion = nn.CrossEntropyLoss()\n",
    "optimizer = optim.Adam(model.parameters(), lr=learning_rate)\n",
    "cl_loss_fn = nn.NLLLoss()\n",
    "recon_loss_fn = nn.MSELoss()"
   ]
  },
  {
   "cell_type": "code",
   "execution_count": 6,
   "metadata": {},
   "outputs": [
    {
     "name": "stdout",
     "output_type": "stream",
     "text": [
      "train last batch: recon_loss 408.4847412109375, kl_loss 0.2106439620256424, cl_loss 2.8284661769866943\n",
      "Epoch: 0 Loss: train 0.09272484853863716, valid 0.09680197884639104. Accuracy: train: 0.0642361111111111, valid 0.171875\n",
      "Saving model at  0  epoch\n",
      "train last batch: recon_loss 454.43646240234375, kl_loss 0.26160988211631775, cl_loss 2.5104825496673584\n",
      "Epoch: 1 Loss: train 0.08571023245652516, valid 0.08960363144675891. Accuracy: train: 0.2725694444444444, valid 0.390625\n",
      "Saving model at  1  epoch\n",
      "train last batch: recon_loss 437.27520751953125, kl_loss 0.3415049612522125, cl_loss 2.311164379119873\n",
      "Epoch: 2 Loss: train 0.07657385990023613, valid 0.08309275284409523. Accuracy: train: 0.4652777777777778, valid 0.4739583333333333\n",
      "Saving model at  2  epoch\n",
      "train last batch: recon_loss 402.4406433105469, kl_loss 0.4631255567073822, cl_loss 1.8955893516540527\n",
      "Epoch: 3 Loss: train 0.06662007172902425, valid 0.07817031443119049. Accuracy: train: 0.5243055555555556, valid 0.515625\n",
      "Saving model at  3  epoch\n",
      "train last batch: recon_loss 377.056396484375, kl_loss 0.6056644320487976, cl_loss 1.8470299243927002\n",
      "Epoch: 4 Loss: train 0.057291407965951495, valid 0.07374490797519684. Accuracy: train: 0.5486111111111112, valid 0.609375\n",
      "Saving model at  4  epoch\n",
      "train last batch: recon_loss 436.0726013183594, kl_loss 0.7633511424064636, cl_loss 1.3421920537948608\n",
      "Epoch: 5 Loss: train 0.048531858457459345, valid 0.07147400329510371. Accuracy: train: 0.6666666666666666, valid 0.6302083333333334\n",
      "Saving model at  5  epoch\n",
      "train last batch: recon_loss 467.2345275878906, kl_loss 0.9233234524726868, cl_loss 1.3965680599212646\n",
      "Epoch: 6 Loss: train 0.04176642745733261, valid 0.07169963791966438. Accuracy: train: 0.7239583333333334, valid 0.6822916666666666\n",
      "Saving model at  6  epoch\n",
      "train last batch: recon_loss 354.7538757324219, kl_loss 0.9854467511177063, cl_loss 1.3136059045791626\n",
      "Epoch: 7 Loss: train 0.03675878027247058, valid 0.07332897062102954. Accuracy: train: 0.7430555555555556, valid 0.671875\n",
      "train last batch: recon_loss 369.1064453125, kl_loss 1.2090532779693604, cl_loss 1.0988644361495972\n",
      "Epoch: 8 Loss: train 0.033955405776699386, valid 0.07084037487705548. Accuracy: train: 0.7708333333333334, valid 0.7083333333333334\n",
      "Saving model at  8  epoch\n",
      "train last batch: recon_loss 382.0178527832031, kl_loss 1.3461894989013672, cl_loss 1.0900537967681885\n",
      "Epoch: 9 Loss: train 0.030803683110409312, valid 0.07229896138111751. Accuracy: train: 0.7673611111111112, valid 0.7552083333333334\n",
      "Saving model at  9  epoch\n",
      "train last batch: recon_loss 395.8521728515625, kl_loss 1.3780298233032227, cl_loss 0.9102409482002258\n",
      "Epoch: 10 Loss: train 0.027522056880924437, valid 0.07020435978968938. Accuracy: train: 0.8072916666666666, valid 0.7916666666666666\n",
      "Saving model at  10  epoch\n",
      "train last batch: recon_loss 352.832763671875, kl_loss 1.3825706243515015, cl_loss 0.9878357648849487\n",
      "Epoch: 11 Loss: train 0.02471447725676828, valid 0.07154945035775502. Accuracy: train: 0.84375, valid 0.8020833333333334\n",
      "Saving model at  11  epoch\n",
      "train last batch: recon_loss 365.3023681640625, kl_loss 1.6552822589874268, cl_loss 0.8767983913421631\n",
      "Epoch: 12 Loss: train 0.023181727363003626, valid 0.07209709162513415. Accuracy: train: 0.8298611111111112, valid 0.796875\n",
      "train last batch: recon_loss 361.30194091796875, kl_loss 1.4678555727005005, cl_loss 0.5764073729515076\n",
      "Epoch: 13 Loss: train 0.02187604612360398, valid 0.0718979500234127. Accuracy: train: 0.8333333333333334, valid 0.8072916666666666\n",
      "Saving model at  13  epoch\n",
      "train last batch: recon_loss 405.3621826171875, kl_loss 1.6176824569702148, cl_loss 0.5931649208068848\n",
      "Epoch: 14 Loss: train 0.019351471939848527, valid 0.07238358755906422. Accuracy: train: 0.8454861111111112, valid 0.828125\n",
      "Saving model at  14  epoch\n",
      "train last batch: recon_loss 450.3971862792969, kl_loss 1.618085503578186, cl_loss 0.6635377407073975\n",
      "Epoch: 15 Loss: train 0.01970459350074331, valid 0.07129509622852008. Accuracy: train: 0.8524305555555556, valid 0.8020833333333334\n",
      "train last batch: recon_loss 384.73541259765625, kl_loss 1.6081470251083374, cl_loss 0.7349097728729248\n",
      "Epoch: 16 Loss: train 0.018034575558784936, valid 0.07413143788774808. Accuracy: train: 0.8524305555555556, valid 0.828125\n",
      "Saving model at  16  epoch\n",
      "train last batch: recon_loss 389.93902587890625, kl_loss 1.7459205389022827, cl_loss 0.43750709295272827\n",
      "Epoch: 17 Loss: train 0.017522566589630313, valid 0.07284637788931529. Accuracy: train: 0.8680555555555556, valid 0.8489583333333334\n",
      "Saving model at  17  epoch\n",
      "train last batch: recon_loss 434.602783203125, kl_loss 1.7269645929336548, cl_loss 0.5509983897209167\n",
      "Epoch: 18 Loss: train 0.016851729713380337, valid 0.07671402518947919. Accuracy: train: 0.8767361111111112, valid 0.8020833333333334\n",
      "train last batch: recon_loss 343.9823913574219, kl_loss 1.8921085596084595, cl_loss 0.6401262283325195\n",
      "Epoch: 19 Loss: train 0.018233189100606575, valid 0.07669221982359886. Accuracy: train: 0.8506944444444444, valid 0.828125\n",
      "training takes time 0:00:13.943047\n"
     ]
    }
   ],
   "source": [
    "# Train\n",
    "\n",
    "training_start=datetime.now()\n",
    "#split fit\n",
    "epoch_train_loss = []\n",
    "epoch_train_acc = []\n",
    "epoch_val_loss = []\n",
    "epoch_val_acc = []\n",
    "max_val_acc = 0\n",
    "\n",
    "for epoch in range(n_epochs):\n",
    "    \n",
    "    # TRAIN\n",
    "    model.train()\n",
    "    correct = 0\n",
    "    train_loss = 0\n",
    "    train_num = 0\n",
    "    for i, (XI, XB,  y) in enumerate(train_loader):\n",
    "        if model.header == 'CNN':\n",
    "            x = XI\n",
    "        else:\n",
    "            x = XB\n",
    "        x, y = x.to(device), y.long().to(device)\n",
    "        if x.size()[0] != batch_size:\n",
    "#             print(\"batch {} size {} < {}, skip\".format(i, x.size()[0], batch_size))\n",
    "            break\n",
    "        train_num += x.size(0)\n",
    "        optimizer.zero_grad()\n",
    "  \n",
    "        x_decoded, latent, output = model(x)\n",
    "\n",
    "        # construct loss function\n",
    "        cl_loss = cl_loss_fn(output, y)\n",
    "        latent_mean, latent_logvar = model.lmbd.latent_mean, model.lmbd.latent_logvar\n",
    "        kl_loss = -0.5 * torch.mean(1 + latent_logvar - latent_mean.pow(2) - latent_logvar.exp())\n",
    "        recon_loss = recon_loss_fn(x_decoded, x)\n",
    "        loss = w_r*recon_loss + w_k*kl_loss + w_c*cl_loss\n",
    "#         loss=w_c*cl_loss\n",
    "        loss.backward()\n",
    "#         if model.clip:\n",
    "#             torch.nn.utils.clip_grad_norm_(model.parameters(), max_norm = model.max_grad_norm)\n",
    "        optimizer.step()\n",
    "        # compute classification acc\n",
    "        pred = output.data.max(1, keepdim=True)[1]  # get the index of the max log-probability\n",
    "        correct += pred.eq(y.data.view_as(pred)).long().cpu().sum().item()\n",
    "\n",
    "        # accumulator\n",
    "        train_loss += loss.item()\n",
    "\n",
    "    # fill stats\n",
    "    print(\"train last batch: recon_loss {}, kl_loss {}, cl_loss {}\".format(recon_loss, kl_loss, cl_loss))\n",
    "    train_accuracy = correct / train_num # len(train_loader.dataset)\n",
    "    train_loss /= train_num #len(train_loader.dataset)\n",
    "    epoch_train_loss.append(train_loss)\n",
    "    epoch_train_acc.append(train_accuracy) \n",
    "    \n",
    "    # VALIDATION\n",
    "    model.eval()\n",
    "    correct = 0\n",
    "    val_loss = 0\n",
    "    val_num = 0\n",
    "    for i, (XI, XB,  y) in enumerate(val_loader):\n",
    "        if model.header == 'CNN':\n",
    "            x = XI\n",
    "        else:\n",
    "            x = XB\n",
    "        x, y = x.to(device), y.long().to(device)\n",
    "        if x.size()[0] != batch_size:\n",
    "#             print(\"batch {} size {} < {}, skip\".format(i, x.size()[0], batch_size))\n",
    "            break\n",
    "        val_num += x.size(0)\n",
    "        x_decoded, latent, output = model(x)\n",
    "\n",
    "        # construct loss function\n",
    "        cl_loss = cl_loss_fn(output, y)\n",
    "        latent_mean, latent_logvar = model.lmbd.latent_mean, model.lmbd.latent_logvar\n",
    "        kl_loss = -0.5 * torch.mean(1 + latent_logvar - latent_mean.pow(2) - latent_logvar.exp())\n",
    "        recon_loss = recon_loss_fn(x_decoded, x)\n",
    "        loss = w_r*recon_loss + w_k*kl_loss + w_c*cl_loss\n",
    "    \n",
    "        # compute classification acc\n",
    "        pred = output.data.max(1, keepdim=True)[1]  # get the index of the max log-probability\n",
    "        correct += pred.eq(y.data.view_as(pred)).long().cpu().sum().item()\n",
    "        \n",
    "        # accumulator\n",
    "        val_loss += loss.item()\n",
    "    \n",
    "#     print(\"test last batch: recon_loss {}, kl_loss {}, cl_loss {}\".format(recon_loss, kl_loss, cl_loss))\n",
    "    # fill stats\n",
    "    val_accuracy = correct / val_num# / len(val_loader.dataset)\n",
    "    val_loss /= val_num #len(val_loader.dataset)\n",
    "\n",
    "    epoch_val_loss.append(val_loss)  # only save the last batch\n",
    "    epoch_val_acc.append(val_accuracy)\n",
    "\n",
    "    print('Epoch: {} Loss: train {}, valid {}. Accuracy: train: {}, valid {}'.format(epoch, train_loss, val_loss, train_accuracy, val_accuracy))\n",
    "    \n",
    "    # choose model\n",
    "    if max_val_acc <= val_accuracy:\n",
    "        print('Saving model at ', epoch, ' epoch')\n",
    "        max_val_acc = val_accuracy\n",
    "        torch.save(model.state_dict(), logDir + model_name + '.pt')\n",
    "\n",
    "training_end =  datetime.now()\n",
    "training_time = training_end -training_start \n",
    "print(\"training takes time {}\".format(training_time))"
   ]
  },
  {
   "cell_type": "code",
   "execution_count": 7,
   "metadata": {},
   "outputs": [],
   "source": [
    "model.is_fitted = True"
   ]
  },
  {
   "cell_type": "code",
   "execution_count": 8,
   "metadata": {},
   "outputs": [
    {
     "name": "stdout",
     "output_type": "stream",
     "text": [
      "loss weights for vraec w_r: 0.0001, w_k: 1, w_c: 1\n"
     ]
    },
    {
     "data": {
      "text/plain": [
       "VRAE(n_epochs=20,batch_size=32,cuda=True)"
      ]
     },
     "execution_count": 8,
     "metadata": {},
     "output_type": "execute_result"
    }
   ],
   "source": [
    "# testing set check\n",
    "net_trained = VRAEC(num_class=num_class,\n",
    "            sequence_length=sequence_length,\n",
    "            number_of_features = number_of_features,\n",
    "            hidden_size = hidden_size, \n",
    "            hidden_layer_depth = hidden_layer_depth,\n",
    "            latent_length = latent_length,\n",
    "            batch_size = batch_size,\n",
    "            learning_rate = learning_rate,\n",
    "            n_epochs = n_epochs,\n",
    "            dropout_rate = dropout_rate,\n",
    "            cuda = cuda,\n",
    "            print_every=print_every, \n",
    "            clip=clip, \n",
    "            max_grad_norm=max_grad_norm,\n",
    "            dload = logDir,\n",
    "            model_name=model_name,\n",
    "            header=header,\n",
    "            w_r = w_r, \n",
    "            w_k = w_k, \n",
    "            w_c = w_c,\n",
    "            device = device)\n",
    "\n",
    "net_trained.load_state_dict(torch.load(logDir + model_name + '.pt'))\n",
    "net_trained.eval()"
   ]
  },
  {
   "cell_type": "code",
   "execution_count": 14,
   "metadata": {},
   "outputs": [
    {
     "name": "stdout",
     "output_type": "stream",
     "text": [
      " test batch 6 size 8 < 32, skip\n",
      "164 192 6 200\n",
      "Test accuracy for 0  fold :  0.8541666666666666\n"
     ]
    }
   ],
   "source": [
    "correct = 0\n",
    "test_num = 0\n",
    "for i, (XI, XB,  y) in enumerate(test_loader):\n",
    "    if model.header == 'CNN':\n",
    "        x = XI\n",
    "    else:\n",
    "        x = XB\n",
    "    x, y = x.to(device), y.long().to(device)\n",
    "    \n",
    "    if x.size(0) != batch_size:\n",
    "        print(\" test batch {} size {} < {}, skip\".format(i, x.size()[0], batch_size))\n",
    "        break\n",
    "    test_num += x.size(0)\n",
    "    x_decoded, latent, output = model(x)\n",
    "\n",
    "    # compute classification acc\n",
    "    pred = output.data.max(1, keepdim=True)[1]  # get the index of the max log-probability\n",
    "    correct += pred.eq(y.data.view_as(pred)).long().cpu().sum().item()\n",
    "    \n",
    "test_acc = correct / test_num #len(test_loader.dataset)\n",
    "\n",
    "print('Test accuracy for', str(kfold_number), ' fold : ', test_acc)"
   ]
  },
  {
   "cell_type": "code",
   "execution_count": 16,
   "metadata": {},
   "outputs": [
    {
     "data": {
      "image/png": "[encoded data removed]",
      "text/plain": [
       "<Figure size 1080x504 with 1 Axes>"
      ]
     },
     "metadata": {
      "needs_background": "light"
     },
     "output_type": "display_data"
    }
   ],
   "source": [
    "# save stats\n",
    "all_stats = [\n",
    "    epoch_train_loss,\n",
    "    epoch_train_acc,\n",
    "    epoch_val_loss,\n",
    "    epoch_val_acc,\n",
    "    test_acc\n",
    "]\n",
    "\n",
    "pickle.dump(all_stats, open(logDir + model_name + '_stats.pkl', 'wb'))\n",
    "\n",
    "assert n_epochs == len(epoch_train_acc), \"different epoch length {} {}\".format(n_epochs, len(epoch_train_acc))\n",
    "fig, ax = plt.subplots(figsize=(15, 7))\n",
    "ax.plot(np.arange(n_epochs), epoch_train_acc, label=\"train acc\")\n",
    "ax.set_xlabel('epoch')\n",
    "ax.set_ylabel('acc')\n",
    "ax.grid(True)\n",
    "plt.legend(loc='upper right')\n",
    "plt.show()\n",
    "\n"
   ]
  },
  {
   "cell_type": "code",
   "execution_count": null,
   "metadata": {},
   "outputs": [],
   "source": []
  },
  {
   "cell_type": "code",
   "execution_count": null,
   "metadata": {},
   "outputs": [],
   "source": []
  }
 ],
 "metadata": {
  "kernelspec": {
   "display_name": "Python 3",
   "language": "python",
   "name": "python3"
  },
  "language_info": {
   "codemirror_mode": {
    "name": "ipython",
    "version": 3
   },
   "file_extension": ".py",
   "mimetype": "text/x-python",
   "name": "python",
   "nbconvert_exporter": "python",
   "pygments_lexer": "ipython3",
   "version": "3.7.4"
  }
 },
 "nbformat": 4,
 "nbformat_minor": 2
}
