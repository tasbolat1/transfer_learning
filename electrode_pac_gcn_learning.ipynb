{
 "cells": [
  {
   "cell_type": "code",
   "execution_count": 1,
   "metadata": {},
   "outputs": [],
   "source": [
    "import sys, os\n",
    "CURRENT_TEST_DIR = os.getcwd()\n",
    "sys.path.append(CURRENT_TEST_DIR + \"/../../../slayerPytorch/src\")"
   ]
  },
  {
   "cell_type": "code",
   "execution_count": 2,
   "metadata": {},
   "outputs": [
    {
     "data": {
      "text/plain": [
       "<torch._C.Generator at 0x7fa2d5a2d6d0>"
      ]
     },
     "execution_count": 2,
     "metadata": {},
     "output_type": "execute_result"
    }
   ],
   "source": [
    "import slayerSNN as snn\n",
    "import pandas as pd\n",
    "import numpy as np\n",
    "import matplotlib.pyplot as plt\n",
    "from dtw import dtw, accelerated_dtw\n",
    "from numpy.linalg import norm\n",
    "from joblib import Parallel, delayed\n",
    "import torch\n",
    "import copy\n",
    "from torch.utils.data import Dataset\n",
    "from sklearn.model_selection import train_test_split\n",
    "\n",
    "np.random.seed(1)\n",
    "torch.manual_seed(1)"
   ]
  },
  {
   "cell_type": "code",
   "execution_count": 3,
   "metadata": {},
   "outputs": [],
   "source": [
    "params_el = {\n",
    "    \"neuron\": {\n",
    "        \"type\": \"SRMALPHA\",\n",
    "        \"theta\": 10, # 10\n",
    "        \"tauSr\": 10.0,\n",
    "        \"tauRef\": 1.0,\n",
    "        \"scaleRef\": 2,\n",
    "        \"tauRho\": 1,\n",
    "        \"scaleRho\": 1,\n",
    "    },\n",
    "    \"simulation\": {\"Ts\": 1.0, \"tSample\": 400, \"nSample\": 1}\n",
    "}\n",
    "device = torch.device(\"cuda:1\")\n",
    "\n",
    "params = {\n",
    "    \"neuron\": {\n",
    "        \"type\": \"SRMALPHA\",\n",
    "        \"theta\": 10, # 10\n",
    "        \"tauSr\": 10.0,\n",
    "        \"tauRef\": 1.0,\n",
    "        \"scaleRef\": 2,\n",
    "        \"tauRho\": 1,\n",
    "        \"scaleRho\": 1,\n",
    "    },\n",
    "    \"simulation\": {\"Ts\": 1.0, \"tSample\": 8800, \"nSample\": 1},\n",
    "    \"training\": {\n",
    "        \"error\": {\n",
    "            \"type\": \"NumSpikes\",  # \"NumSpikes\" or \"ProbSpikes\"\n",
    "            \"probSlidingWin\": 20,  # only valid for ProbSpikes\n",
    "            \"tgtSpikeRegion\": {  # valid for NumSpikes and ProbSpikes\n",
    "                \"start\": 0,\n",
    "                \"stop\": 8800,\n",
    "            },\n",
    "            \"tgtSpikeCount\": {True: 5000, False: 200},\n",
    "        }\n",
    "    },\n",
    "}\n",
    "device = torch.device(\"cuda:1\")"
   ]
  },
  {
   "cell_type": "code",
   "execution_count": 4,
   "metadata": {},
   "outputs": [],
   "source": [
    "X_el = np.load('auxiliaries/electrodes.npy')\n",
    "X_pac = np.load('auxiliaries/pac.npy')\n",
    "Y = np.load('auxiliaries/labels.npy')\n",
    "indices = np.arange(X_el.shape[0])"
   ]
  },
  {
   "cell_type": "code",
   "execution_count": 5,
   "metadata": {},
   "outputs": [],
   "source": [
    "X_el = X_el.reshape(X_el.shape[0], X_el.shape[1], 1, 1, X_el.shape[-1])\n",
    "X_pac = X_pac.reshape(X_pac.shape[0], 1, 1, 1, X_pac.shape[-1])\n",
    "# Y = Y.reshape(Y.shape[0], Y.shape[1], 1, 1, Y.shape[-1])"
   ]
  },
  {
   "cell_type": "code",
   "execution_count": 6,
   "metadata": {},
   "outputs": [],
   "source": [
    "def get_ohe(_Y):\n",
    "    target_class = np.zeros([_Y.shape[0], 21])\n",
    "    for i in range(target_class.shape[0]):\n",
    "        target_class[i, int(_Y[i])] = 1\n",
    "    return target_class"
   ]
  },
  {
   "cell_type": "code",
   "execution_count": 7,
   "metadata": {},
   "outputs": [],
   "source": [
    "X_el_train, X_el_test, y_train, y_test, indx_train, indx_test = train_test_split(X_el, Y, indices, test_size=0.30, random_state=42, stratify=Y)"
   ]
  },
  {
   "cell_type": "code",
   "execution_count": 8,
   "metadata": {},
   "outputs": [
    {
     "data": {
      "text/plain": [
       "(torch.Size([735, 19, 1, 1, 400]),\n",
       " torch.Size([735]),\n",
       " torch.Size([735, 21, 1, 1, 1]),\n",
       " torch.Size([735, 1, 1, 1, 8800]),\n",
       " torch.Size([315, 1, 1, 1, 8800]))"
      ]
     },
     "execution_count": 8,
     "metadata": {},
     "output_type": "execute_result"
    }
   ],
   "source": [
    "X_el_train = torch.FloatTensor(X_el_train)\n",
    "y_train = torch.FloatTensor(y_train)\n",
    "target_class_train = torch.FloatTensor(get_ohe(y_train).reshape(-1, 21, 1, 1, 1))\n",
    "    \n",
    "X_el_test = torch.FloatTensor(X_el_test)\n",
    "y_test = torch.FloatTensor(y_test)\n",
    "target_class_test= torch.FloatTensor(get_ohe(y_test).reshape(-1, 21, 1, 1, 1))\n",
    "\n",
    "X_pac_train = torch.FloatTensor(X_pac[indx_train])\n",
    "X_pac_test = torch.FloatTensor(X_pac[indx_test])\n",
    "\n",
    "X_el_train.shape, y_train.shape, target_class_train.shape, X_pac_train.shape, X_pac_test.shape"
   ]
  },
  {
   "cell_type": "code",
   "execution_count": 9,
   "metadata": {},
   "outputs": [],
   "source": [
    "train_dataset = torch.utils.data.TensorDataset(X_el_train, X_pac_train, target_class_train, y_train)\n",
    "train_loader = torch.utils.data.DataLoader(train_dataset,shuffle=True,batch_size=8)\n",
    "\n",
    "test_dataset = torch.utils.data.TensorDataset(X_el_test, X_pac_test, target_class_test, y_test)\n",
    "test_loader = torch.utils.data.DataLoader(test_dataset,shuffle=True,batch_size=8)"
   ]
  },
  {
   "cell_type": "code",
   "execution_count": 10,
   "metadata": {},
   "outputs": [],
   "source": [
    "# define GCN"
   ]
  },
  {
   "cell_type": "code",
   "execution_count": 11,
   "metadata": {},
   "outputs": [
    {
     "data": {
      "text/plain": [
       "(19, 19)"
      ]
     },
     "execution_count": 11,
     "metadata": {},
     "output_type": "execute_result"
    }
   ],
   "source": [
    "A = np.zeros([20,20])\n",
    "A[1,[2]] = 1\n",
    "A[2,[1,3,17]] = 1\n",
    "A[3,[2,4,5]] = 1\n",
    "A[4,[3,5]] = 1\n",
    "A[5,[3,6,18]] = 1\n",
    "A[6,[5]] = 1\n",
    "A[7,[8,9]] = 1\n",
    "A[8,[7,10]] = 1\n",
    "A[9,[7,10]] = 1\n",
    "A[10,[8,9,17]] = 1\n",
    "A[11,[12]] = 1\n",
    "A[12,[11,13,17]] = 1\n",
    "A[13,[12,14,15]] = 1\n",
    "A[14,[13,15]] = 1\n",
    "A[15,[13,14,16]] = 1\n",
    "A[16,[15]] = 1\n",
    "A[17,[2,10,12]] = 1\n",
    "A[18,[5,15,19]] = 1\n",
    "A[19,[18]] = 1\n",
    "A_ = A[1:, 1:]\n",
    "A_.shape"
   ]
  },
  {
   "cell_type": "code",
   "execution_count": 12,
   "metadata": {},
   "outputs": [],
   "source": [
    "# gcn pre-computation\n",
    "A = A_ + np.eye(A_.shape[0])\n",
    "D = np.diag(np.sum(A,axis=1))\n",
    "D_inv = np.linalg.inv(D)\n",
    "D_inv_A = D_inv*A\n",
    "\n",
    "# expand into correct dimension\n",
    "D_inv_A = torch.FloatTensor(D_inv_A)\n",
    "D_inv_A = D_inv_A.unsqueeze(-1)\n",
    "D_inv_A = D_inv_A.expand(D_inv_A.shape[0], D_inv_A.shape[1], 400)\n",
    "\n",
    "A = torch.FloatTensor(A)\n",
    "A = A.unsqueeze(-1)\n",
    "A = A.expand(A.shape[0], A.shape[1], 400)"
   ]
  },
  {
   "cell_type": "code",
   "execution_count": 13,
   "metadata": {},
   "outputs": [
    {
     "data": {
      "text/plain": [
       "(torch.Size([19, 19, 400]), torch.Size([19, 19, 400]))"
      ]
     },
     "execution_count": 13,
     "metadata": {},
     "output_type": "execute_result"
    }
   ],
   "source": [
    "D_inv_A.shape, A.shape"
   ]
  },
  {
   "cell_type": "code",
   "execution_count": 14,
   "metadata": {},
   "outputs": [],
   "source": [
    "D_inv_A = D_inv_A.to(device)\n",
    "A = A.to(device)"
   ]
  },
  {
   "cell_type": "code",
   "execution_count": 15,
   "metadata": {},
   "outputs": [],
   "source": [
    "class GCNConv(torch.nn.Module):\n",
    "    def __init__(self, netParams, in_channels, out_channels, normalize=True):\n",
    "        super(GCNConv, self).__init__()\n",
    "        self.slayer = snn.layer(netParams['neuron'], netParams['simulation'])\n",
    "        self.weight_layer = self.slayer.dense(in_channels, out_channels)\n",
    "        \n",
    "        if normalize:\n",
    "            self.const = D_inv_A\n",
    "        else:\n",
    "            self.const = A\n",
    "        \n",
    "    def forward(self, x):\n",
    "        _batch_size = x.shape[0]\n",
    "        \n",
    "        # match batch size\n",
    "        DA = self.const.unsqueeze(-1)\n",
    "        DA = DA.expand(DA.shape[0], DA.shape[1],DA.shape[2], _batch_size)\n",
    "        DA = DA.permute(3,0,1,2)\n",
    "        \n",
    "        # match pspX size\n",
    "#         print(x.shape, DA.shape)\n",
    "        pspX = x.squeeze(3)\n",
    "#         print(pspX.shape, DA.shape)\n",
    "#         print(pspX.permute(0,3,2,1).shape, DA.permute(0,3,2,1).shape)\n",
    "        \n",
    "        # get full multiplication\n",
    "        DAX = torch.matmul(DA.permute(0,3,2,1),pspX.permute(0,3,2,1)) \n",
    "        DAX = DAX.permute(0,3,2,1).unsqueeze(3)\n",
    "        \n",
    "#         print('DAX', DAX.shape)\n",
    "        return self.weight_layer(DAX)"
   ]
  },
  {
   "cell_type": "code",
   "execution_count": 20,
   "metadata": {},
   "outputs": [],
   "source": [
    "class SlayerGCN(torch.nn.Module):\n",
    "    def __init__(self, params, params_el, hidden_size1,hidden_size2, output_size):\n",
    "        super(SlayerGCN, self).__init__()\n",
    "        self.output_size = output_size\n",
    "        self.slayer1 = snn.layer(params_el[\"neuron\"], params_el[\"simulation\"])\n",
    "        self.slayer2 = snn.layer(params[\"neuron\"], params[\"simulation\"])\n",
    "        \n",
    "        self.gcn_layer1 = GCNConv(params_el, 1,2)\n",
    "        \n",
    "        self.fc1 = self.slayer1.dense((1,19,2), hidden_size1)\n",
    "        self.fc2 = self.slayer1.dense(hidden_size1, hidden_size2)\n",
    "        self.fc3 = self.slayer2.dense(hidden_size2+1, output_size)\n",
    "\n",
    "    def forward(self, input_el, input_pac):\n",
    "        \n",
    "        # el data\n",
    "        spike_el1 = self.slayer1.spike(self.gcn_layer1(input_el))\n",
    "        spike_el1 = self.slayer1.spike(self.slayer1.psp(self.fc1(spike_el1)))\n",
    "        spike_el2 = self.slayer1.spike(self.slayer1.psp(self.fc2(spike_el1)))\n",
    "    \n",
    "        # impute with zero\n",
    "        imputed_el = torch.zeros((spike_el2.shape[0],spike_el2.shape[1], 1,1,spike_el2.shape[-1]*22))\n",
    "        imputed_el[...,::22] = spike_el2\n",
    "        imputed_el = imputed_el.to(device)\n",
    "        \n",
    "        \n",
    "        # pac to spike\n",
    "        spike_pac = self.slayer2.spike(input_pac)\n",
    "        # merge with pac\n",
    "        merged_data = torch.cat([imputed_el, spike_pac], 1)\n",
    "\n",
    "        spike3 = self.slayer2.spike(self.slayer2.psp( self.fc3(merged_data)) )        \n",
    "        return spike3"
   ]
  },
  {
   "cell_type": "code",
   "execution_count": 21,
   "metadata": {},
   "outputs": [],
   "source": [
    "net = SlayerGCN(params, params_el, 64, 32, 21).to(device)"
   ]
  },
  {
   "cell_type": "code",
   "execution_count": 22,
   "metadata": {},
   "outputs": [],
   "source": [
    "error = snn.loss(params).to(device)\n",
    "optimizer = torch.optim.RMSprop(net.parameters(), lr=0.001, weight_decay=0.5)"
   ]
  },
  {
   "cell_type": "code",
   "execution_count": 23,
   "metadata": {},
   "outputs": [
    {
     "name": "stdout",
     "output_type": "stream",
     "text": [
      "Epoch:  0  --------------------------\n",
      "Train loss: 2148.555612244898\n",
      "Train accuracy: 0.047619047619047616\n",
      "Test loss: 1706.9752247643848\n",
      "Test accuracy: 0.047619047619047616\n",
      "Epoch:  10  --------------------------\n",
      "Train loss: 1184.1306228741496\n",
      "Train accuracy: 0.2108843537414966\n",
      "Test loss: 1176.1664442274305\n",
      "Test accuracy: 0.23492063492063492\n",
      "Epoch:  20  --------------------------\n",
      "Train loss: 1100.0070292570153\n",
      "Train accuracy: 0.36054421768707484\n",
      "Test loss: 1094.563949342758\n",
      "Test accuracy: 0.3968253968253968\n",
      "Epoch:  30  --------------------------\n",
      "Train loss: 1030.5120967527637\n",
      "Train accuracy: 0.4884353741496599\n",
      "Test loss: 1027.3993404327878\n",
      "Test accuracy: 0.4984126984126984\n",
      "Epoch:  40  --------------------------\n",
      "Train loss: 983.3781641953657\n",
      "Train accuracy: 0.5863945578231292\n",
      "Test loss: 981.5853159102182\n",
      "Test accuracy: 0.5904761904761905\n",
      "Epoch:  50  --------------------------\n",
      "Train loss: 944.9470895780187\n",
      "Train accuracy: 0.6598639455782312\n",
      "Test loss: 943.5255440848214\n",
      "Test accuracy: 0.6412698412698413\n",
      "Epoch:  60  --------------------------\n",
      "Train loss: 905.7413132440477\n",
      "Train accuracy: 0.689795918367347\n",
      "Test loss: 906.1049758184524\n",
      "Test accuracy: 0.692063492063492\n",
      "Epoch:  70  --------------------------\n",
      "Train loss: 871.343144132653\n",
      "Train accuracy: 0.7401360544217687\n",
      "Test loss: 869.9326063368055\n",
      "Test accuracy: 0.7047619047619048\n",
      "Epoch:  80  --------------------------\n",
      "Train loss: 841.5411338754252\n",
      "Train accuracy: 0.7387755102040816\n",
      "Test loss: 842.2388609871032\n",
      "Test accuracy: 0.7301587301587301\n",
      "Epoch:  90  --------------------------\n",
      "Train loss: 809.4235564147534\n",
      "Train accuracy: 0.7795918367346939\n",
      "Test loss: 809.5579675099207\n",
      "Test accuracy: 0.8\n",
      "Epoch:  100  --------------------------\n",
      "Train loss: 780.0719075520833\n",
      "Train accuracy: 0.7755102040816326\n",
      "Test loss: 782.4341027638269\n",
      "Test accuracy: 0.8063492063492064\n",
      "Epoch:  110  --------------------------\n",
      "Train loss: 755.4382852359694\n",
      "Train accuracy: 0.7986394557823129\n",
      "Test loss: 759.1641512431796\n",
      "Test accuracy: 0.8158730158730159\n",
      "Epoch:  120  --------------------------\n",
      "Train loss: 733.1391588275935\n",
      "Train accuracy: 0.7863945578231293\n",
      "Test loss: 740.1969048878503\n",
      "Test accuracy: 0.780952380952381\n",
      "Epoch:  130  --------------------------\n",
      "Train loss: 711.6361118861607\n",
      "Train accuracy: 0.8\n",
      "Test loss: 718.4248705667163\n",
      "Test accuracy: 0.8253968253968254\n",
      "Epoch:  140  --------------------------\n",
      "Train loss: 694.7581014827806\n",
      "Train accuracy: 0.8122448979591836\n",
      "Test loss: 701.4351554749504\n",
      "Test accuracy: 0.8444444444444444\n",
      "Epoch:  150  --------------------------\n",
      "Train loss: 678.7828274473852\n",
      "Train accuracy: 0.8136054421768707\n",
      "Test loss: 689.0682787698413\n",
      "Test accuracy: 0.8285714285714286\n",
      "Epoch:  160  --------------------------\n",
      "Train loss: 664.9004567256591\n",
      "Train accuracy: 0.8326530612244898\n",
      "Test loss: 672.2749302455358\n",
      "Test accuracy: 0.8666666666666667\n",
      "Epoch:  170  --------------------------\n",
      "Train loss: 650.4559108604379\n",
      "Train accuracy: 0.8408163265306122\n",
      "Test loss: 656.3231515066964\n",
      "Test accuracy: 0.8603174603174604\n",
      "Epoch:  180  --------------------------\n",
      "Train loss: 637.8891405585672\n",
      "Train accuracy: 0.8448979591836735\n",
      "Test loss: 644.6656877790178\n",
      "Test accuracy: 0.873015873015873\n",
      "Epoch:  190  --------------------------\n",
      "Train loss: 626.9260715614371\n",
      "Train accuracy: 0.8448979591836735\n",
      "Test loss: 638.837111312624\n",
      "Test accuracy: 0.8571428571428571\n",
      "Epoch:  200  --------------------------\n",
      "Train loss: 612.1580340534651\n",
      "Train accuracy: 0.8421768707482993\n",
      "Test loss: 617.8248372395833\n",
      "Test accuracy: 0.8666666666666667\n",
      "Epoch:  210  --------------------------\n",
      "Train loss: 598.78018142804\n",
      "Train accuracy: 0.8448979591836735\n",
      "Test loss: 606.7148763020833\n",
      "Test accuracy: 0.8666666666666667\n",
      "Epoch:  220  --------------------------\n",
      "Train loss: 586.6160807291667\n",
      "Train accuracy: 0.8585034013605443\n",
      "Test loss: 597.0488482762897\n",
      "Test accuracy: 0.8666666666666667\n",
      "Epoch:  230  --------------------------\n",
      "Train loss: 576.58916015625\n",
      "Train accuracy: 0.8639455782312925\n",
      "Test loss: 587.6762338789682\n",
      "Test accuracy: 0.8825396825396825\n",
      "Epoch:  240  --------------------------\n",
      "Train loss: 562.690895049426\n",
      "Train accuracy: 0.8585034013605443\n",
      "Test loss: 571.8382083953373\n",
      "Test accuracy: 0.8761904761904762\n",
      "Epoch:  250  --------------------------\n",
      "Train loss: 549.2169891980229\n",
      "Train accuracy: 0.8653061224489796\n",
      "Test loss: 559.873767671131\n",
      "Test accuracy: 0.8888888888888888\n",
      "Epoch:  260  --------------------------\n",
      "Train loss: 538.9619585724915\n",
      "Train accuracy: 0.8693877551020408\n",
      "Test loss: 548.4091161334326\n",
      "Test accuracy: 0.8793650793650793\n",
      "Epoch:  270  --------------------------\n",
      "Train loss: 530.8648397640306\n",
      "Train accuracy: 0.8680272108843538\n",
      "Test loss: 539.8280416821676\n",
      "Test accuracy: 0.8920634920634921\n",
      "Epoch:  280  --------------------------\n",
      "Train loss: 522.8001358551232\n",
      "Train accuracy: 0.8693877551020408\n",
      "Test loss: 535.2116536458333\n",
      "Test accuracy: 0.8888888888888888\n",
      "Epoch:  290  --------------------------\n",
      "Train loss: 510.37314702248085\n",
      "Train accuracy: 0.8802721088435375\n",
      "Test loss: 523.1560558500744\n",
      "Test accuracy: 0.8984126984126984\n",
      "Epoch:  300  --------------------------\n",
      "Train loss: 494.5522587159864\n",
      "Train accuracy: 0.8761904761904762\n",
      "Test loss: 508.0270015656002\n",
      "Test accuracy: 0.8888888888888888\n"
     ]
    }
   ],
   "source": [
    "train_losses=[]\n",
    "train_accs = []\n",
    "test_losses = []\n",
    "test_accs = []\n",
    "for epoch in range(301):\n",
    "    net.train()\n",
    "    correct = 0\n",
    "    num_samples = 0\n",
    "    loss_train = 0\n",
    "    for i, (tact_el, tact_pac, target, label) in enumerate(train_loader):\n",
    "        \n",
    "        tact_el = tact_el.to(device)\n",
    "        tact_pac = tact_pac.to(device)\n",
    "        tact_el = tact_el.permute(0,2,1,3,4)\n",
    "        target = target.to(device)\n",
    "        \n",
    "        output = net.forward(tact_el, tact_pac)\n",
    "        correct += torch.sum(snn.predict.getClass(output) == label).data.item()\n",
    "        num_samples += len(label)\n",
    "        loss = error.numSpikes(output, target)\n",
    "        loss_train += loss.item()\n",
    "        optimizer.zero_grad()\n",
    "        loss.backward()\n",
    "        optimizer.step()\n",
    "                \n",
    "    if epoch%10 == 0:\n",
    "        print('Epoch: ', epoch, ' --------------------------')\n",
    "        print('Train loss:', loss_train/len(train_dataset))\n",
    "        print('Train accuracy:', correct/len(train_dataset))\n",
    "    train_accs.append(correct/len(train_dataset))\n",
    "    train_losses.append(loss_train/len(train_dataset))\n",
    "        \n",
    "    net.eval()\n",
    "    correct = 0\n",
    "    num_samples = 0\n",
    "    loss_test = 0\n",
    "    with torch.no_grad():\n",
    "        for i, (tact_el, tact_pac, target, label) in enumerate(test_loader):\n",
    "\n",
    "            tact_el = tact_el.to(device)\n",
    "            tact_el = tact_el.permute(0,2,1,3,4)\n",
    "            target = target.to(device)\n",
    "            tact_pac = tact_pac.to(device)\n",
    "            output = net.forward(tact_el, tact_pac)\n",
    "            correct += torch.sum(snn.predict.getClass(output) == label).data.item()\n",
    "            num_samples += len(label)\n",
    "            loss = error.numSpikes(output, target)\n",
    "            loss_test += loss.item()\n",
    "            \n",
    "    if epoch%1 == 0:\n",
    "        print('Test loss:', loss_test/len(test_dataset))\n",
    "        print('Test accuracy:', correct/len(test_dataset))\n",
    "    test_accs.append(correct/len(test_dataset))\n",
    "    test_losses.append(loss_test/len(test_dataset))"
   ]
  },
  {
   "cell_type": "code",
   "execution_count": 24,
   "metadata": {},
   "outputs": [
    {
     "data": {
      "image/png": "[encoded data removed]",
      "text/plain": [
       "<Figure size 1080x504 with 2 Axes>"
      ]
     },
     "metadata": {
      "needs_background": "light"
     },
     "output_type": "display_data"
    }
   ],
   "source": [
    "fig, ax = plt.subplots(2, figsize=(15,7))\n",
    "\n",
    "ax[0].plot(train_losses)\n",
    "ax[0].plot(test_losses)\n",
    "ax[0].set_xlabel('Epoch')\n",
    "ax[0].set_ylabel('Loss')\n",
    "ax[0].legend(['Train', 'Test'])\n",
    "\n",
    "ax[1].plot(train_accs)\n",
    "ax[1].plot(test_accs)\n",
    "ax[1].set_xlabel('Epoch')\n",
    "ax[1].set_ylabel('Accuracy')\n",
    "ax[1].legend(['Train', 'Test'])\n",
    "\n",
    "plt.show()"
   ]
  },
  {
   "cell_type": "code",
   "execution_count": 25,
   "metadata": {},
   "outputs": [
    {
     "data": {
      "text/plain": [
       "(0.9015873015873016, 0.8816326530612245)"
      ]
     },
     "execution_count": 25,
     "metadata": {},
     "output_type": "execute_result"
    }
   ],
   "source": [
    "np.max(test_accs), np.max(train_accs)"
   ]
  },
  {
   "cell_type": "code",
   "execution_count": null,
   "metadata": {},
   "outputs": [],
   "source": []
  },
  {
   "cell_type": "code",
   "execution_count": null,
   "metadata": {},
   "outputs": [],
   "source": []
  }
 ],
 "metadata": {
  "kernelspec": {
   "display_name": "Python 3",
   "language": "python",
   "name": "python3"
  },
  "language_info": {
   "codemirror_mode": {
    "name": "ipython",
    "version": 3
   },
   "file_extension": ".py",
   "mimetype": "text/x-python",
   "name": "python",
   "nbconvert_exporter": "python",
   "pygments_lexer": "ipython3",
   "version": "3.5.2"
  }
 },
 "nbformat": 4,
 "nbformat_minor": 2
}
