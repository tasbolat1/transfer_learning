{
 "cells": [
  {
   "cell_type": "code",
   "execution_count": 1,
   "metadata": {},
   "outputs": [
    {
     "data": {
      "text/plain": [
       "<torch._C.Generator at 0x7f8b01086a30>"
      ]
     },
     "execution_count": 1,
     "metadata": {},
     "output_type": "execute_result"
    }
   ],
   "source": [
    "'''\n",
    "Sample command to run:\n",
    "python mlp_lstm_bio_trial -k 0 -c 0\n",
    "'''\n",
    "\n",
    "import sys, os\n",
    "CURRENT_TEST_DIR = os.getcwd()\n",
    "sys.path.append(CURRENT_TEST_DIR + \"/../new_iteration/\")\n",
    "import torch\n",
    "import torch.nn as nn\n",
    "import torchvision\n",
    "import torchvision.transforms as transforms\n",
    "import pickle\n",
    "from torch.utils import data as data2\n",
    "from torch.utils.data.dataset import random_split\n",
    "import torch.nn.functional as F\n",
    "import torch.optim as optim\n",
    "import numpy as np\n",
    "from torch.autograd import Variable\n",
    "import os\n",
    "import argparse\n",
    "from sklearn.metrics import confusion_matrix\n",
    "from datetime import datetime\n",
    "from tas_utils_bs import get_trainValLoader, get_testLoader\n",
    "\n",
    "np.random.seed(1)\n",
    "torch.manual_seed(1)"
   ]
  },
  {
   "cell_type": "code",
   "execution_count": 2,
   "metadata": {},
   "outputs": [],
   "source": [
    "# Parse argument\n",
    "parser = argparse.ArgumentParser()\n",
    "parser.add_argument(\"-k\", \"--kfold\", type=int, default=0, help=\"kfold_number for loading data\")\n",
    "parser.add_argument(\"-c\", \"--cuda\", default=0, help=\"index of cuda gpu to use\")\n",
    "args = parser.parse_args()"
   ]
  },
  {
   "cell_type": "code",
   "execution_count": 3,
   "metadata": {},
   "outputs": [],
   "source": [
    "# # For notebook args parser\n",
    "# class Args:\n",
    "#   kfold = 0\n",
    "#   reduction = 1\n",
    "#   cuda = '1'\n",
    "\n",
    "# args=Args()"
   ]
  },
  {
   "cell_type": "code",
   "execution_count": 4,
   "metadata": {},
   "outputs": [],
   "source": [
    "data_dir = '../../new_data_folder/'\n",
    "kfold_number = args.kfold\n",
    "\n",
    "num_class = 20\n",
    "learning_rate = 0.0001\n",
    "num_epochs = 5000\n",
    "hidden_size = 40\n",
    "num_layers = 1\n",
    "dropout = 0.2\n",
    "\n",
    "logDir = 'models_and_stat/'\n",
    "model_name = 'mlp18_lstm_bio_hs_{}_layer_{}_{}'.format(hidden_size, num_layers, str(kfold_number))\n",
    "device = torch.device(\"cuda:{}\".format(args.cuda))\n",
    "\n",
    "train_loader, val_loader, train_dataset, val_dataset = get_trainValLoader(data_dir, k=kfold_number, spike_ready=False)\n",
    "test_loader, test_dataset = get_testLoader(data_dir, spike_ready=False)\n",
    "\n",
    "\n",
    "\n"
   ]
  },
  {
   "cell_type": "markdown",
   "metadata": {},
   "source": [
    "### set module"
   ]
  },
  {
   "cell_type": "code",
   "execution_count": 9,
   "metadata": {},
   "outputs": [],
   "source": [
    "class BIO_LSTM(nn.Module):\n",
    "    def __init__(self, num_class, input_size=19, hidden_size=50, num_layers=2, dropout=0.5, latent_length=18, freeze_lstm=False):\n",
    "        super(BIO_LSTM, self).__init__()\n",
    "        lstm_input = input_size\n",
    "        self.lstm = nn.LSTM(\n",
    "            input_size=lstm_input, \n",
    "            hidden_size=hidden_size, \n",
    "            num_layers=num_layers,\n",
    "            batch_first=True,\n",
    "           dropout=dropout)\n",
    "\n",
    "        self.linear = nn.Linear(hidden_size,num_class)\n",
    "\n",
    "    def forward(self, x, device):\n",
    "        batch_size, H, sequence_size = x.size()\n",
    "        \n",
    "        # create CNN embedding\n",
    "        cnn_embed_seq = []\n",
    "        for t in range(sequence_size):\n",
    "            cnn_out = x[...,t]\n",
    "            cnn_embed_seq.append(cnn_out)\n",
    "        cnn_embed_seq = torch.stack(cnn_embed_seq, dim=0).transpose_(0, 1)\n",
    "#         print('cnn_embed_seq: ', cnn_embed_seq.shape)\n",
    "        \n",
    "        # forward on LSTM\n",
    "        self.lstm.flatten_parameters()\n",
    "        r_out, (h_n, h_c) = self.lstm(cnn_embed_seq)\n",
    "#         print('lstm out: ', r_out.shape)\n",
    "        \n",
    "        # decision making layer\n",
    "        r_out2 = self.linear(r_out[:, -1, :])\n",
    "        output = F.log_softmax(r_out2, dim=1)\n",
    "        return output\n",
    "\n",
    "# In[19]:\n",
    "\n",
    "\n",
    "class BIO_MLP_LSTM(nn.Module):\n",
    "    # TODO: add linear layer from hidden_size to latent\n",
    "    def __init__(self, num_class, input_size=19, lstm_input=18, hidden_size=50, num_layers=num_layers, dropout=dropout, latent_length=18, freeze_lstm=False):\n",
    "        super(BIO_MLP_LSTM, self).__init__()\n",
    "        self.lstm = nn.LSTM(\n",
    "            input_size=lstm_input, \n",
    "            hidden_size=hidden_size, \n",
    "            num_layers=num_layers,\n",
    "            batch_first=True,\n",
    "           dropout=dropout)\n",
    "\n",
    "        self.mlp = nn.Linear(input_size,lstm_input)\n",
    "        self.linear = nn.Linear(hidden_size,num_class)\n",
    "\n",
    "    def forward(self, x, device):\n",
    "        batch_size, H, sequence_size = x.size()\n",
    "        \n",
    "        # create CNN embedding\n",
    "        cnn_embed_seq = []\n",
    "        for t in range(sequence_size):\n",
    "            x_t = x[...,t]\n",
    "            cnn_out = self.mlp(x_t)\n",
    "            cnn_embed_seq.append(cnn_out)\n",
    "        cnn_embed_seq = torch.stack(cnn_embed_seq, dim=0).transpose_(0, 1)\n",
    "#         print('cnn_embed_seq: ', cnn_embed_seq.shape)\n",
    "        \n",
    "        # forward on LSTM\n",
    "        self.lstm.flatten_parameters()\n",
    "        r_out, (h_n, h_c) = self.lstm(cnn_embed_seq)\n",
    "#         print('lstm out: ', r_out.shape)\n",
    "        \n",
    "        # decision making layer\n",
    "        r_out2 = self.linear(r_out[:, -1, :])\n",
    "        output = F.log_softmax(r_out2, dim=1)\n",
    "        return output\n",
    "\n"
   ]
  },
  {
   "cell_type": "code",
   "execution_count": 10,
   "metadata": {},
   "outputs": [],
   "source": [
    "model = BIO_MLP_LSTM(num_class, input_size=19, lstm_input=18, hidden_size=hidden_size, num_layers=2, dropout=0.2).to(device)\n",
    "criterion = nn.CrossEntropyLoss()\n",
    "optimizer = optim.Adam(model.parameters(), lr=learning_rate)"
   ]
  },
  {
   "cell_type": "code",
   "execution_count": 12,
   "metadata": {},
   "outputs": [
    {
     "name": "stdout",
     "output_type": "stream",
     "text": [
      "Saving model at  1  epoch\n",
      "Epoch: 1 Loss: train 0.354, valid 0.351. Accuracy: train: 0.283, valid 0.290\n",
      "--------------------\n",
      "Saving model at  2  epoch\n",
      "Epoch: 2 Loss: train 0.342, valid 0.328. Accuracy: train: 0.315, valid 0.410\n",
      "--------------------\n",
      "Epoch: 3 Loss: train 0.318, valid 0.313. Accuracy: train: 0.370, valid 0.350\n",
      "--------------------\n",
      "Epoch: 4 Loss: train 0.305, valid 0.293. Accuracy: train: 0.367, valid 0.340\n",
      "--------------------\n",
      "Saving model at  5  epoch\n",
      "Epoch: 5 Loss: train 0.287, valid 0.282. Accuracy: train: 0.395, valid 0.425\n",
      "--------------------\n"
     ]
    }
   ],
   "source": [
    "epoch_train_loss = []\n",
    "epoch_train_acc = []\n",
    "epoch_val_loss = []\n",
    "epoch_val_acc = []\n",
    "model.train()\n",
    "max_val_acc = 0\n",
    "for epoch in range(1, num_epochs + 1):\n",
    "    \n",
    "    # TRAIN\n",
    "    model.train()\n",
    "    correct = 0\n",
    "    train_loss = 0\n",
    "    for i, (_, tact_bio,  label) in enumerate(train_loader):\n",
    "        tact_bio = tact_bio.to(device)\n",
    "        label = label.to(device)\n",
    "        label = label.long()\n",
    "        optimizer.zero_grad()\n",
    "        \n",
    "        #print(tact_bio.shape)\n",
    "        output = model(tact_bio, device)\n",
    "        \n",
    "        \n",
    "        loss = F.nll_loss(output, label)\n",
    "        loss.backward()\n",
    "        optimizer.step()\n",
    "        \n",
    "        # Obtain classification accuracy\n",
    "        pred = output.data.max(1, keepdim=True)[1]  # get the index of the max log-probability\n",
    "        correct += pred.eq(label.data.view_as(pred)).long().cpu().sum().item()\n",
    "        \n",
    "        # loss\n",
    "        train_loss += loss.item() #criterion(output, target).item()  # sum up batch loss\n",
    "        \n",
    "    # fill stats\n",
    "    train_accuracy = correct / len(train_loader.dataset)\n",
    "    train_loss /= len(train_loader.dataset)\n",
    "    epoch_train_loss.append(train_loss)  # only save the last batch\n",
    "    epoch_train_acc.append(train_accuracy) \n",
    "\n",
    "    # VALIDATION\n",
    "    model.eval()\n",
    "    correct = 0\n",
    "    val_loss = 0\n",
    "    for i, (_, tact_bio,  label) in enumerate(val_loader):\n",
    "        tact_bio = tact_bio.to(device)\n",
    "        label = label.to(device)\n",
    "        label = label.long()\n",
    "\n",
    "        output = model(tact_bio, device)\n",
    "        loss = F.nll_loss(output, label)\n",
    "        \n",
    "        # Obtain classification accuracy\n",
    "        pred = output.data.max(1, keepdim=True)[1]  # get the index of the max log-probability\n",
    "        correct += pred.eq(label.data.view_as(pred)).long().cpu().sum().item()\n",
    "        \n",
    "        # loss\n",
    "        val_loss += loss.item() #criterion(output, target).item()  # sum up batch loss\n",
    "        \n",
    "    # fill stats\n",
    "    val_accuracy = correct / len(val_loader.dataset)\n",
    "    val_loss /= len(val_loader.dataset)\n",
    "    epoch_val_loss.append(val_loss)  # only save the last batch\n",
    "    epoch_val_acc.append(val_accuracy)\n",
    "    \n",
    "    # choose model\n",
    "    if max_val_acc <= val_accuracy:\n",
    "        print('Saving model at ', epoch, ' epoch')\n",
    "        max_val_acc = val_accuracy\n",
    "        torch.save(model.state_dict(), logDir + model_name + '.pt')\n",
    "        \n",
    "    if epoch < 20 or epoch % 200 == 0:\n",
    "        print('Epoch: {} Loss: train {:.3f}, valid {:.3f}. Accuracy: train: {:.3f}, valid {:.3f}'.format(epoch, train_loss, val_loss, train_accuracy, val_accuracy))\n",
    "        print('-'*20)"
   ]
  },
  {
   "cell_type": "code",
   "execution_count": 13,
   "metadata": {},
   "outputs": [],
   "source": [
    "# save stats\n",
    "import pickle\n",
    "all_stats = [\n",
    "    epoch_train_loss,\n",
    "    epoch_train_acc,\n",
    "    epoch_val_loss,\n",
    "    epoch_val_acc\n",
    "]\n",
    "\n",
    "pickle.dump(all_stats, open(logDir + model_name + '_stats.pkl', 'wb'))"
   ]
  },
  {
   "cell_type": "code",
   "execution_count": 15,
   "metadata": {},
   "outputs": [
    {
     "data": {
      "text/plain": [
       "BIO_MLP_LSTM(\n",
       "  (lstm): LSTM(18, 40, num_layers=2, batch_first=True, dropout=0.2)\n",
       "  (mlp): Linear(in_features=19, out_features=18, bias=True)\n",
       "  (linear): Linear(in_features=40, out_features=20, bias=True)\n",
       ")"
      ]
     },
     "execution_count": 15,
     "metadata": {},
     "output_type": "execute_result"
    }
   ],
   "source": [
    "# testing set check\n",
    "net_trained = BIO_MLP_LSTM(num_class, input_size=19, lstm_input=18, hidden_size=hidden_size, num_layers=2, dropout=0.2).to(device)\n",
    "net_trained.load_state_dict(torch.load(logDir + model_name + '.pt'))\n",
    "net_trained.eval()"
   ]
  },
  {
   "cell_type": "code",
   "execution_count": 16,
   "metadata": {},
   "outputs": [],
   "source": [
    "# VALIDATION\n",
    "correct = 0\n",
    "for i, (_, tact_bio,  label) in enumerate(test_loader):\n",
    "    tact_bio = tact_bio.to(device)\n",
    "    label = label.to(device)\n",
    "    label = label.long()\n",
    "\n",
    "    output = model(tact_bio, device)\n",
    "\n",
    "    # Obtain classification accuracy\n",
    "    pred = output.data.max(1, keepdim=True)[1]  # get the index of the max log-probability\n",
    "    correct += pred.eq(label.data.view_as(pred)).long().cpu().sum().item()\n",
    "\n",
    "# fill stats\n",
    "test_accuracy = correct / len(test_loader.dataset)"
   ]
  },
  {
   "cell_type": "code",
   "execution_count": 17,
   "metadata": {},
   "outputs": [
    {
     "name": "stdout",
     "output_type": "stream",
     "text": [
      "Test accuracy for 0  fold :  0.47\n"
     ]
    }
   ],
   "source": [
    "print('Test accuracy for', str(kfold_number), ' fold : ', test_accuracy)"
   ]
  },
  {
   "cell_type": "code",
   "execution_count": null,
   "metadata": {},
   "outputs": [],
   "source": []
  }
 ],
 "metadata": {
  "kernelspec": {
   "display_name": "Python 3",
   "language": "python",
   "name": "python3"
  },
  "language_info": {
   "codemirror_mode": {
    "name": "ipython",
    "version": 3
   },
   "file_extension": ".py",
   "mimetype": "text/x-python",
   "name": "python",
   "nbconvert_exporter": "python",
   "pygments_lexer": "ipython3",
   "version": "3.7.4"
  }
 },
 "nbformat": 4,
 "nbformat_minor": 2
}
