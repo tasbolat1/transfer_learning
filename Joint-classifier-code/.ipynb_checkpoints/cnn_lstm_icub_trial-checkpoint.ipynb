{
 "cells": [
  {
   "cell_type": "code",
   "execution_count": 1,
   "metadata": {},
   "outputs": [
    {
     "data": {
      "text/plain": [
       "<torch._C.Generator at 0x7fd0bd114a30>"
      ]
     },
     "execution_count": 1,
     "metadata": {},
     "output_type": "execute_result"
    }
   ],
   "source": [
    "'''\n",
    "Sample command to run:\n",
    "python cnn_lstm_icub_trial -k 0 -c 0\n",
    "'''\n",
    "\n",
    "import sys, os\n",
    "CURRENT_TEST_DIR = os.getcwd()\n",
    "sys.path.append(CURRENT_TEST_DIR + \"/../new_iteration/\")\n",
    "import torch\n",
    "import torch.nn as nn\n",
    "import torchvision\n",
    "import torchvision.transforms as transforms\n",
    "import pickle\n",
    "from torch.utils import data as data2\n",
    "from torch.utils.data.dataset import random_split\n",
    "import torch.nn.functional as F\n",
    "import torch.optim as optim\n",
    "import numpy as np\n",
    "from torch.autograd import Variable\n",
    "import os\n",
    "import argparse\n",
    "from sklearn.metrics import confusion_matrix\n",
    "from datetime import datetime\n",
    "from tas_utils_bs import get_trainValLoader, get_testLoader\n",
    "\n",
    "np.random.seed(1)\n",
    "torch.manual_seed(1)"
   ]
  },
  {
   "cell_type": "code",
   "execution_count": 2,
   "metadata": {},
   "outputs": [],
   "source": [
    "# Parse argument\n",
    "parser = argparse.ArgumentParser()\n",
    "parser.add_argument(\"-k\", \"--kfold\", type=int, default=0, help=\"kfold_number for loading data\")\n",
    "parser.add_argument(\"-c\", \"--cuda\", default=0, help=\"index of cuda gpu to use\")\n",
    "args = parser.parse_args()"
   ]
  },
  {
   "cell_type": "code",
   "execution_count": 3,
   "metadata": {},
   "outputs": [],
   "source": [
    "# # For notebook args parser\n",
    "# class Args:\n",
    "#   kfold = 0\n",
    "#   reduction = 1\n",
    "#   cuda = '1'\n",
    "\n",
    "# args=Args()"
   ]
  },
  {
   "cell_type": "code",
   "execution_count": 4,
   "metadata": {},
   "outputs": [],
   "source": [
    "data_dir = '../../new_data_folder/'\n",
    "kfold_number = args.kfold\n",
    "\n",
    "num_class = 20\n",
    "learning_rate = 0.0001\n",
    "num_epochs = 5000\n",
    "hidden_size = 40\n",
    "num_layers = 1\n",
    "dropout = 0.2\n",
    "\n",
    "logDir = 'models_and_stat/'\n",
    "model_name = 'cnn_lstm_icub_' + str(kfold_number)\n",
    "device = torch.device(\"cuda:{}\".format(args.cuda))\n",
    "\n",
    "train_loader, val_loader, train_dataset, val_dataset = get_trainValLoader(data_dir, k=kfold_number, spike_ready=False)\n",
    "test_loader, test_dataset = get_testLoader(data_dir, spike_ready=False)"
   ]
  },
  {
   "cell_type": "markdown",
   "metadata": {},
   "source": [
    "### set module"
   ]
  },
  {
   "cell_type": "code",
   "execution_count": 5,
   "metadata": {},
   "outputs": [],
   "source": [
    "# define NN models\n",
    "class CNN(nn.Module):\n",
    "    def __init__(self):\n",
    "        super(CNN, self).__init__()\n",
    "        self.conv1 = nn.Conv2d(in_channels=1, out_channels=3, kernel_size=(3,5))\n",
    "\n",
    "    def forward(self, x):\n",
    "#         print('CNN input:', x.shape)\n",
    "        x = self.conv1(x)\n",
    "        # print('Conv', x.size())\n",
    "        \n",
    "        x = F.max_pool2d(x, 2)\n",
    "        # print('Pool', x.size())\n",
    "        x = x.view(-1, 3*2*3)\n",
    "        return x\n",
    "    \n",
    "\n",
    "class CNN_LSTM(nn.Module):\n",
    "     \n",
    "    def __init__(self, num_class, lstm_input=18, hidden_size=50, num_layers=num_layers, dropout=dropout, latent_length=18, freeze_lstm=False):\n",
    "        super(CNN_LSTM, self).__init__()\n",
    "        self.cnn = CNN()\n",
    "        self.lstm = nn.LSTM(\n",
    "            input_size=lstm_input, \n",
    "            hidden_size=hidden_size, \n",
    "            num_layers=num_layers,\n",
    "            batch_first=True,\n",
    "           dropout=dropout)\n",
    "\n",
    "        self.linear = nn.Linear(hidden_size,num_class)\n",
    "\n",
    "    def forward(self, x, device):\n",
    "#         print('Model input ', x.size())\n",
    "        x = x.unsqueeze(1)\n",
    "        batch_size, C, H, W, sequence_size = x.size()\n",
    "        \n",
    "        # create CNN embedding\n",
    "        cnn_embed_seq = []\n",
    "        for t in range(sequence_size):\n",
    "            cnn_out = self.cnn(x[...,t])\n",
    "            cnn_embed_seq.append(cnn_out)\n",
    "            \n",
    "        cnn_embed_seq = torch.stack(cnn_embed_seq, dim=0).transpose_(0, 1)\n",
    "#         print('cnn_embed_seq: ', cnn_embed_seq.shape)\n",
    "        \n",
    "        # forward on LSTM\n",
    "        self.lstm.flatten_parameters()\n",
    "        r_out, (h_n, h_c) = self.lstm(cnn_embed_seq)\n",
    "#         print('lstm out: ', r_out.shape)\n",
    "        \n",
    "        # decision making layer\n",
    "        r_out2 = self.linear(r_out[:, -1, :])\n",
    "        output = F.log_softmax(r_out2, dim=1)\n",
    "        return output"
   ]
  },
  {
   "cell_type": "code",
   "execution_count": 6,
   "metadata": {},
   "outputs": [],
   "source": [
    "# # define NN models\n",
    "# class CNN(nn.Module):\n",
    "#     def __init__(self):\n",
    "#         super(CNN, self).__init__()\n",
    "#         self.conv1 = nn.Conv2d(in_channels=1, out_channels=3, kernel_size=(3,5))\n",
    "#         self.conv1_drop = nn.Dropout2d(p=0.8)\n",
    "\n",
    "#     def forward(self, x):\n",
    "#         #print('Conv:', x.size())\n",
    "#         x = self.conv1(x)\n",
    "#         # print('Conv', x.size())\n",
    "        \n",
    "#         x = F.relu(F.max_pool2d(x, 2))\n",
    "#         # print('Pool', x.size())\n",
    "#         x = x.view(-1, 3*2*3)\n",
    "#         return x\n",
    "    \n",
    "\n",
    "# class CNN_LSTM(nn.Module):\n",
    "#     def __init__(self, num_class, load_lstm=False, freeze_lstm=False):\n",
    "#         super(CNN_LSTM, self).__init__()\n",
    "#         self.cnn = CNN()\n",
    "#         self.lstm = nn.LSTM(\n",
    "#             input_size=3*2*3, \n",
    "#             hidden_size=50, \n",
    "#             num_layers=2,\n",
    "#             batch_first=True,\n",
    "#            dropout=0.8)\n",
    "        \n",
    "#         if load_lstm:\n",
    "#             pretrained_dict = torch.load(\"BioTac_info_400/model_epoch_200_slide.ckpt\")\n",
    "#             lstm_dict = self.lstm.state_dict()\n",
    "\n",
    "#             # 1. filter out unnecessary keys\n",
    "#             pretrained_dict = {k: v for k, v in pretrained_dict.items() if k in lstm_dict}\n",
    "#             # 2. overwrite entries in the existing state dict\n",
    "#             lstm_dict.update(pretrained_dict)\n",
    "#             # 3. load the new state dict\n",
    "#             self.lstm.load_state_dict(lstm_dict)\n",
    "#             # Freeze model weights\n",
    "#             if freeze_lstm:\n",
    "#                 for param in self.lstm.parameters():\n",
    "#                     param.requires_grad = False\n",
    "\n",
    "#         self.linear = nn.Linear(50,num_class)\n",
    "#         self.hidden = []\n",
    "        \n",
    "        \n",
    "#     def init_hidden(self, h, c):\n",
    "#         self.hidden = (h, c)\n",
    "\n",
    "\n",
    "#     def forward(self, x, device):\n",
    "#         #print(x.size())\n",
    "#         batch_size, H, W, sequence_size = x.size()\n",
    "#         # init hidden states\n",
    "#         (h, c) = (torch.zeros(2, batch_size, 50).to(device) , torch.zeros(2, batch_size, 50).to(device))\n",
    "#         self.hidden = (h.contiguous(), c.contiguous())\n",
    "#         #print(batch_size*timesteps,C, H, W, sequence_size)\n",
    "#         c_in = x.view(batch_size *sequence_size, 1, H, W)\n",
    "#         #print(c_in.size())\n",
    "#         c_out = self.cnn(c_in)\n",
    "#         #print(c_out.size())\n",
    "        \n",
    "#         r_in = c_out.view(batch_size,sequence_size,-1)\n",
    "#         self.lstm.flatten_parameters()\n",
    "#         r_out, (h_n, h_c) = self.lstm(r_in, self.hidden)#(self.hidden[0][:,:batch_size,:], self.hidden[1][:,:batch_size,:] ))\n",
    "#         r_out2 = self.linear(r_out[:, -1, :])\n",
    "\n",
    "#         output = F.log_softmax(r_out2, dim=1)\n",
    "#         # # check num of GPU\n",
    "#         # print(\"\\tIn Model: input size\", x.size(), \"output size\", output.size())\n",
    "#         return output"
   ]
  },
  {
   "cell_type": "code",
   "execution_count": 7,
   "metadata": {},
   "outputs": [
    {
     "name": "stderr",
     "output_type": "stream",
     "text": [
      "/home/students/student6_16/anaconda3/lib/python3.7/site-packages/torch/nn/modules/rnn.py:51: UserWarning: dropout option adds dropout after all but last recurrent layer, so non-zero dropout expects num_layers greater than 1, but got dropout=0.2 and num_layers=1\n",
      "  \"num_layers={}\".format(dropout, num_layers))\n"
     ]
    }
   ],
   "source": [
    "model = CNN_LSTM(num_class,hidden_size=hidden_size, num_layers=num_layers, dropout=dropout).to(device)\n",
    "criterion = nn.CrossEntropyLoss()\n",
    "optimizer = optim.Adam(model.parameters(), lr=learning_rate)"
   ]
  },
  {
   "cell_type": "code",
   "execution_count": 8,
   "metadata": {},
   "outputs": [
    {
     "name": "stdout",
     "output_type": "stream",
     "text": [
      "Saving model at  1  epoch\n",
      "Epoch: 1 Loss: train 0.375893706480662, valid 0.3752688694000244. Accuracy: train: 0.056666666666666664, valid 0.065\n",
      "--------------------\n",
      "Saving model at  2  epoch\n",
      "Epoch: 2 Loss: train 0.37276050488154094, valid 0.37271318793296815. Accuracy: train: 0.07, valid 0.065\n",
      "--------------------\n",
      "Saving model at  3  epoch\n",
      "Epoch: 3 Loss: train 0.3698153336842855, valid 0.37003508329391477. Accuracy: train: 0.1, valid 0.095\n",
      "--------------------\n",
      "Saving model at  4  epoch\n",
      "Epoch: 4 Loss: train 0.36676244219144183, valid 0.3672503972053528. Accuracy: train: 0.145, valid 0.14\n",
      "--------------------\n",
      "Saving model at  5  epoch\n",
      "Epoch: 5 Loss: train 0.363581063747406, valid 0.3642861771583557. Accuracy: train: 0.17833333333333334, valid 0.155\n",
      "--------------------\n"
     ]
    }
   ],
   "source": [
    "epoch_train_loss = []\n",
    "epoch_train_acc = []\n",
    "epoch_val_loss = []\n",
    "epoch_val_acc = []\n",
    "model.train()\n",
    "max_val_acc = 0\n",
    "for epoch in range(1, num_epochs + 1):\n",
    "    \n",
    "    # TRAIN\n",
    "    model.train()\n",
    "    correct = 0\n",
    "    train_loss = 0\n",
    "    for i, (tact_icub, _,  label) in enumerate(train_loader):\n",
    "        tact_icub = tact_icub.to(device)\n",
    "        label = label.to(device)\n",
    "        label = label.long()\n",
    "        optimizer.zero_grad()\n",
    "        \n",
    "        #print(tact_icub.shape)\n",
    "        output = model(tact_icub, device)\n",
    "        \n",
    "        \n",
    "        loss = F.nll_loss(output, label)\n",
    "        loss.backward()\n",
    "        optimizer.step()\n",
    "        \n",
    "        # Obtain classification accuracy\n",
    "        pred = output.data.max(1, keepdim=True)[1]  # get the index of the max log-probability\n",
    "        correct += pred.eq(label.data.view_as(pred)).long().cpu().sum().item()\n",
    "        \n",
    "        # loss\n",
    "        train_loss += loss.item() #criterion(output, target).item()  # sum up batch loss\n",
    "        \n",
    "    # fill stats\n",
    "    train_accuracy = correct / len(train_loader.dataset)\n",
    "    train_loss /= len(train_loader.dataset)\n",
    "    epoch_train_loss.append(train_loss)  # only save the last batch\n",
    "    epoch_train_acc.append(train_accuracy) \n",
    "\n",
    "    # VALIDATION\n",
    "    model.eval()\n",
    "    correct = 0\n",
    "    val_loss = 0\n",
    "    for i, (tact_icub, _,  label) in enumerate(val_loader):\n",
    "        tact_icub = tact_icub.to(device)\n",
    "        label = label.to(device)\n",
    "        label = label.long()\n",
    "\n",
    "        output = model(tact_icub, device)\n",
    "        loss = F.nll_loss(output, label)\n",
    "        \n",
    "        # Obtain classification accuracy\n",
    "        pred = output.data.max(1, keepdim=True)[1]  # get the index of the max log-probability\n",
    "        correct += pred.eq(label.data.view_as(pred)).long().cpu().sum().item()\n",
    "        \n",
    "        # loss\n",
    "        val_loss += loss.item() #criterion(output, target).item()  # sum up batch loss\n",
    "        \n",
    "    # fill stats\n",
    "    val_accuracy = correct / len(val_loader.dataset)\n",
    "    val_loss /= len(val_loader.dataset)\n",
    "    epoch_val_loss.append(val_loss)  # only save the last batch\n",
    "    epoch_val_acc.append(val_accuracy)\n",
    "    \n",
    "    # choose model\n",
    "    if max_val_acc <= val_accuracy:\n",
    "        print('Saving model at ', epoch, ' epoch')\n",
    "        max_val_acc = val_accuracy\n",
    "        torch.save(model.state_dict(), logDir + model_name + '.pt')\n",
    "        \n",
    "    if epoch < 20 or epoch % 200 == 0:\n",
    "        print('Epoch: {} Loss: train {}, valid {}. Accuracy: train: {}, valid {}'.format(epoch, train_loss, val_loss, train_accuracy, val_accuracy))\n",
    "        print('-'*20)"
   ]
  },
  {
   "cell_type": "code",
   "execution_count": 9,
   "metadata": {},
   "outputs": [],
   "source": [
    "# save stats\n",
    "import pickle\n",
    "all_stats = [\n",
    "    epoch_train_loss,\n",
    "    epoch_train_acc,\n",
    "    epoch_val_loss,\n",
    "    epoch_val_acc\n",
    "]\n",
    "\n",
    "pickle.dump(all_stats, open(logDir + model_name + '_stats.pkl', 'wb'))"
   ]
  },
  {
   "cell_type": "code",
   "execution_count": 10,
   "metadata": {},
   "outputs": [
    {
     "data": {
      "text/plain": [
       "CNN_LSTM(\n",
       "  (cnn): CNN(\n",
       "    (conv1): Conv2d(1, 3, kernel_size=(3, 5), stride=(1, 1))\n",
       "  )\n",
       "  (lstm): LSTM(18, 40, batch_first=True, dropout=0.2)\n",
       "  (linear): Linear(in_features=40, out_features=20, bias=True)\n",
       ")"
      ]
     },
     "execution_count": 10,
     "metadata": {},
     "output_type": "execute_result"
    }
   ],
   "source": [
    "# testing set check\n",
    "net_trained = CNN_LSTM(num_class,hidden_size=hidden_size, num_layers=num_layers, dropout=dropout).to(device)\n",
    "net_trained.load_state_dict(torch.load(logDir + model_name + '.pt'))\n",
    "net_trained.eval()"
   ]
  },
  {
   "cell_type": "code",
   "execution_count": 11,
   "metadata": {},
   "outputs": [],
   "source": [
    "# VALIDATION\n",
    "correct = 0\n",
    "for i, (tact_icub, _,  label) in enumerate(test_loader):\n",
    "    tact_icub = tact_icub.to(device)\n",
    "    label = label.to(device)\n",
    "    label = label.long()\n",
    "\n",
    "    output = model(tact_icub, device)\n",
    "\n",
    "    # Obtain classification accuracy\n",
    "    pred = output.data.max(1, keepdim=True)[1]  # get the index of the max log-probability\n",
    "    correct += pred.eq(label.data.view_as(pred)).long().cpu().sum().item()\n",
    "\n",
    "# fill stats\n",
    "test_accuracy = correct / len(test_loader.dataset)"
   ]
  },
  {
   "cell_type": "code",
   "execution_count": 12,
   "metadata": {},
   "outputs": [
    {
     "name": "stdout",
     "output_type": "stream",
     "text": [
      "Test accuracy for  0  fold :  0.15\n"
     ]
    }
   ],
   "source": [
    "print('Test accuracy for ', str(kfold_number), ' fold : ', test_accuracy)"
   ]
  },
  {
   "cell_type": "code",
   "execution_count": null,
   "metadata": {},
   "outputs": [],
   "source": []
  }
 ],
 "metadata": {
  "kernelspec": {
   "display_name": "Python 3",
   "language": "python",
   "name": "python3"
  },
  "language_info": {
   "codemirror_mode": {
    "name": "ipython",
    "version": 3
   },
   "file_extension": ".py",
   "mimetype": "text/x-python",
   "name": "python",
   "nbconvert_exporter": "python",
   "pygments_lexer": "ipython3",
   "version": "3.7.4"
  }
 },
 "nbformat": 4,
 "nbformat_minor": 2
}
