{
 "cells": [
  {
   "cell_type": "code",
   "execution_count": 297,
   "metadata": {},
   "outputs": [],
   "source": [
    "import sys, os\n",
    "CURRENT_TEST_DIR = os.getcwd()\n",
    "sys.path.append(CURRENT_TEST_DIR + \"/../../../slayerPytorch/src\")"
   ]
  },
  {
   "cell_type": "code",
   "execution_count": 340,
   "metadata": {},
   "outputs": [],
   "source": [
    "import slayerSNN as snn\n",
    "import pandas as pd\n",
    "import numpy as np\n",
    "import matplotlib.pyplot as plt\n",
    "from dtw import dtw, accelerated_dtw\n",
    "from numpy.linalg import norm\n",
    "from joblib import Parallel, delayed\n",
    "import torch\n",
    "import copy"
   ]
  },
  {
   "cell_type": "code",
   "execution_count": 341,
   "metadata": {},
   "outputs": [],
   "source": [
    "class ProcessData:\n",
    "    def __init__(self, path, obj_name, obj_number):\n",
    "        self.path = path\n",
    "        self.obj_name = obj_name\n",
    "        self.obj_number = obj_number\n",
    "        self.WINDOW_SIZE = 4\n",
    "        \n",
    "        # prepare file names\n",
    "        fpath_bio  = self.path + self.obj_name + '/' + self.obj_name + '_' + str(self.obj_number) + '_bio.csv'\n",
    "        # read files\n",
    "        df_bio = pd.read_csv(fpath_bio, index_col=False)\n",
    "        df_bio.timestamp = df_bio.timestamp - df_bio.timestamp[0]\n",
    "        df_bio_temp = df_bio[ (df_bio.timestamp >= 1) & (df_bio.timestamp <= 1+self.WINDOW_SIZE) ]\n",
    "        # impute if small data\n",
    "        if df_bio_temp.shape[0] == 399:\n",
    "            df_bio_temp = df_bio_temp.append(df_bio.iloc[df_bio_temp.index[-1] + 1])\n",
    "        self.df_bio = df_bio_temp\n",
    "    def get_electrode_data(self):\n",
    "        elctrd_cols = []\n",
    "        for i in range(1,20):\n",
    "            elctrd_cols.append('ele' + str(i))\n",
    "        return self.df_bio[elctrd_cols].values\n",
    "    def get_pac_data(self):\n",
    "        pac_vals = []\n",
    "        for i in range(1,23):\n",
    "            pac_vals.append('pac' + str(i))\n",
    "            \n",
    "        count = 0\n",
    "        pac_values = np.zeros(self.WINDOW_SIZE*100*22)\n",
    "        for ind in self.df_bio[pac_vals].index:\n",
    "            pac_values[count:count+22] = self.df_bio.loc[ind, pac_vals].values\n",
    "            count += 22\n",
    "        return pac_values\n",
    "    def get_timestamp(self):\n",
    "        return self.df_bio.timestamp.values"
   ]
  },
  {
   "cell_type": "code",
   "execution_count": 386,
   "metadata": {},
   "outputs": [],
   "source": [
    "params = {\n",
    "    \"neuron\": {\n",
    "        \"type\": \"SRMALPHA\",\n",
    "        \"theta\": 100, # 10\n",
    "        \"tauSr\": 10.0,\n",
    "        \"tauRef\": 1.0,\n",
    "        \"scaleRef\": 2,\n",
    "        \"tauRho\": 1,\n",
    "        \"scaleRho\": 1,\n",
    "    },\n",
    "    \"simulation\": {\"Ts\": 1.0, \"tSample\": 8800, \"nSample\": 1},\n",
    "    \"training\": {\n",
    "        \"error\": {\n",
    "            \"type\": \"NumSpikes\",  # \"NumSpikes\" or \"ProbSpikes\"\n",
    "            \"probSlidingWin\": 20,  # only valid for ProbSpikes\n",
    "            \"tgtSpikeRegion\": {  # valid for NumSpikes and ProbSpikes\n",
    "                \"start\": 0,\n",
    "                \"stop\": 8800,\n",
    "            },\n",
    "            \"tgtSpikeCount\": {True: 5000, False: 200},\n",
    "        }\n",
    "    },\n",
    "}\n"
   ]
  },
  {
   "cell_type": "code",
   "execution_count": 387,
   "metadata": {},
   "outputs": [],
   "source": [
    "device = torch.device('cuda:1')\n",
    "slayer = snn.layer(params['neuron'], params['simulation'])\n",
    "slayer = slayer.to(device)"
   ]
  },
  {
   "cell_type": "code",
   "execution_count": 388,
   "metadata": {},
   "outputs": [],
   "source": [
    "# model_parameters = filter(lambda p: p.requires_grad, net.parameters())\n",
    "# params = sum([np.prod(p.size()) for p in model_parameters])"
   ]
  },
  {
   "cell_type": "code",
   "execution_count": 389,
   "metadata": {},
   "outputs": [],
   "source": [
    "fpath = '../material_data_Feb/'\n",
    "mat_obj1 = ProcessData(fpath ,'mat15', 1)\n",
    "sample = torch.FloatTensor(mat_obj1.get_pac_data().astype(float)).to(device)"
   ]
  },
  {
   "cell_type": "code",
   "execution_count": 390,
   "metadata": {},
   "outputs": [],
   "source": [
    "sample = sample.reshape([1,1,1,1,8800])"
   ]
  },
  {
   "cell_type": "code",
   "execution_count": 391,
   "metadata": {},
   "outputs": [],
   "source": [
    "sample_event = slayer.spike(sample)"
   ]
  },
  {
   "cell_type": "code",
   "execution_count": 392,
   "metadata": {},
   "outputs": [
    {
     "data": {
      "text/plain": [
       "tensor([0., 1.], device='cuda:1')"
      ]
     },
     "execution_count": 392,
     "metadata": {},
     "output_type": "execute_result"
    }
   ],
   "source": [
    "torch.unique(sample_event)"
   ]
  },
  {
   "cell_type": "code",
   "execution_count": 393,
   "metadata": {},
   "outputs": [],
   "source": [
    "def plot_spike_train(spt,ax):\n",
    "    st = copy.deepcopy(spt)\n",
    "    st = st.reshape(st.shape[1], st.shape[4])\n",
    "    for i, neuron in enumerate(st):\n",
    "        for j, ts in enumerate(neuron):\n",
    "            if st[i,j] == 1:\n",
    "                st[i,j] = j\n",
    "    st = st.tolist()\n",
    "    for i, neuron in enumerate(st):\n",
    "        st[i] = list(filter(lambda v: v != 0, neuron))\n",
    "    ax.eventplot(st)\n",
    "    ax.set_xlabel('Time Bin')\n",
    "    ax.set_ylabel('Neuron')"
   ]
  },
  {
   "cell_type": "code",
   "execution_count": 394,
   "metadata": {},
   "outputs": [
    {
     "data": {
      "image/png": "[encoded data removed]",
      "text/plain": [
       "<Figure size 1080x216 with 2 Axes>"
      ]
     },
     "metadata": {
      "needs_background": "light"
     },
     "output_type": "display_data"
    }
   ],
   "source": [
    "fig, ax = plt.subplots(2, figsize=(15,3))\n",
    "ax[0].plot(mat_obj1.get_pac_data())\n",
    "ax[1].set_title('event plot')\n",
    "plot_spike_train(sample_event, ax[1])\n",
    "plt.show()"
   ]
  },
  {
   "cell_type": "code",
   "execution_count": 395,
   "metadata": {},
   "outputs": [
    {
     "data": {
      "text/plain": [
       "tensor([0., 1.], device='cuda:1')"
      ]
     },
     "execution_count": 395,
     "metadata": {},
     "output_type": "execute_result"
    }
   ],
   "source": [
    "torch.unique(sample_event)"
   ]
  },
  {
   "cell_type": "code",
   "execution_count": 396,
   "metadata": {},
   "outputs": [
    {
     "data": {
      "text/plain": [
       "1537"
      ]
     },
     "execution_count": 396,
     "metadata": {},
     "output_type": "execute_result"
    }
   ],
   "source": [
    "np.sum(sample_event.cpu().numpy().squeeze().astype(int))"
   ]
  },
  {
   "cell_type": "code",
   "execution_count": null,
   "metadata": {},
   "outputs": [],
   "source": []
  }
 ],
 "metadata": {
  "kernelspec": {
   "display_name": "Python 3",
   "language": "python",
   "name": "python3"
  },
  "language_info": {
   "codemirror_mode": {
    "name": "ipython",
    "version": 3
   },
   "file_extension": ".py",
   "mimetype": "text/x-python",
   "name": "python",
   "nbconvert_exporter": "python",
   "pygments_lexer": "ipython3",
   "version": "3.8.3"
  }
 },
 "nbformat": 4,
 "nbformat_minor": 2
}
