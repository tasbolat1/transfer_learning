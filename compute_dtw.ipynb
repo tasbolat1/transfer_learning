{
 "cells": [
  {
   "cell_type": "code",
   "execution_count": null,
   "metadata": {},
   "outputs": [],
   "source": [
    "# This scripts runs more than 8 hours"
   ]
  },
  {
   "cell_type": "code",
   "execution_count": 16,
   "metadata": {},
   "outputs": [],
   "source": [
    "%matplotlib inline\n",
    "import pandas as pd\n",
    "import numpy as np\n",
    "import matplotlib.pyplot as plt\n",
    "from dtw import dtw, accelerated_dtw\n",
    "from numpy.linalg import norm\n",
    "from joblib import Parallel, delayed\n",
    "import pickle"
   ]
  },
  {
   "cell_type": "code",
   "execution_count": 17,
   "metadata": {},
   "outputs": [],
   "source": [
    "class ProcessData:\n",
    "    def __init__(self, path, obj_name, obj_number):\n",
    "        self.path = path\n",
    "        self.obj_name = obj_name\n",
    "        self.obj_number = obj_number\n",
    "        self.WINDOW_SIZE = 4\n",
    "        \n",
    "        # prepare file names\n",
    "        fpath_bio  = self.path + self.obj_name + '/' + self.obj_name + '_' + str(self.obj_number) + '_bio.csv'\n",
    "\n",
    "        \n",
    "        # read files\n",
    "        df_bio = pd.read_csv(fpath_bio, index_col=False)\n",
    "        df_bio.timestamp = df_bio.timestamp - df_bio.timestamp[0]\n",
    "        df_bio_temp = df_bio[ (df_bio.timestamp >= 1) & (df_bio.timestamp <= 1+self.WINDOW_SIZE) ]\n",
    "        # impute if small data\n",
    "        if df_bio_temp.shape[0] == 399:\n",
    "            df_bio_temp = df_bio_temp.append(df_bio.iloc[df_bio_temp.index[-1] + 1])\n",
    "        self.df_bio = df_bio_temp\n",
    "    def get_electrode_data(self):\n",
    "        elctrd_cols = []\n",
    "        for i in range(1,20):\n",
    "            elctrd_cols.append('ele' + str(i))\n",
    "        return self.df_bio[elctrd_cols].values\n",
    "    def get_pac_data(self):\n",
    "        pac_vals = []\n",
    "        for i in range(1,23):\n",
    "            pac_vals.append('pac' + str(i))\n",
    "            \n",
    "        count = 0\n",
    "        pac_values = np.zeros(self.WINDOW_SIZE*100*22)\n",
    "        for ind in self.df_bio[pac_vals].index:\n",
    "            pac_values[count:count+22] = self.df_bio.loc[ind, pac_vals].values\n",
    "            count += 22\n",
    "        return pac_values\n",
    "    def get_timestamp(self):\n",
    "        return self.df_bio.timestamp.values"
   ]
  },
  {
   "cell_type": "code",
   "execution_count": 18,
   "metadata": {},
   "outputs": [],
   "source": [
    "fpath = '../material_data_Feb/'\n",
    "mat_obj1 = ProcessData(fpath ,'mat15', 1)\n",
    "mat_obj2 = ProcessData(fpath ,'mat5', 2)"
   ]
  },
  {
   "cell_type": "code",
   "execution_count": 26,
   "metadata": {},
   "outputs": [
    {
     "data": {
      "text/plain": [
       "(8800,)"
      ]
     },
     "execution_count": 26,
     "metadata": {},
     "output_type": "execute_result"
    }
   ],
   "source": [
    "mat_obj1.get_pac_data().shape"
   ]
  },
  {
   "cell_type": "code",
   "execution_count": 136,
   "metadata": {},
   "outputs": [],
   "source": [
    "a = mat_obj1.get_pac_data()[:1000]\n",
    "b = mat_obj2.get_pac_data()[:1000]"
   ]
  },
  {
   "cell_type": "code",
   "execution_count": 137,
   "metadata": {},
   "outputs": [
    {
     "name": "stdout",
     "output_type": "stream",
     "text": [
      "CPU times: user 943 ms, sys: 0 ns, total: 943 ms\n",
      "Wall time: 941 ms\n"
     ]
    }
   ],
   "source": [
    "%%time\n",
    "# precomputed distance based on DWT\n",
    "normalized_dist = lambda x, y: norm(x - y, ord=1)\n",
    "manhattan_distance = lambda x, y: np.abs(x - y)\n",
    "d, cost_matrix, acc_cost_matrix, path = dtw(a, b, dist=manhattan_distance, w=100)"
   ]
  },
  {
   "cell_type": "code",
   "execution_count": 49,
   "metadata": {},
   "outputs": [
    {
     "data": {
      "text/plain": [
       "0.0"
      ]
     },
     "execution_count": 49,
     "metadata": {},
     "output_type": "execute_result"
    }
   ],
   "source": [
    "d"
   ]
  },
  {
   "cell_type": "code",
   "execution_count": 34,
   "metadata": {},
   "outputs": [
    {
     "name": "stdout",
     "output_type": "stream",
     "text": [
      "mat1\n",
      "mat2\n",
      "mat3\n",
      "mat4\n",
      "mat5\n",
      "mat6\n",
      "mat7\n",
      "mat8\n",
      "mat9\n",
      "mat10\n",
      "mat11\n",
      "mat12\n",
      "mat13\n",
      "mat14\n",
      "mat15\n",
      "mat16\n",
      "mat17\n",
      "mat18\n",
      "mat19\n",
      "mat20\n",
      "mat21\n",
      "CPU times: user 4min 9s, sys: 1.77 s, total: 4min 11s\n",
      "Wall time: 4min 12s\n"
     ]
    }
   ],
   "source": [
    "%%time\n",
    "big_pac_data = np.zeros([21*50, 8800])\n",
    "labels = []\n",
    "count = 0\n",
    "current_label = -1\n",
    "for i in range(1,22):\n",
    "    current_label += 1\n",
    "    mat_name='mat'+str(i)\n",
    "    print(mat_name)\n",
    "    for j in range(1,51):\n",
    "        mat_obj = ProcessData(fpath ,mat_name, j)\n",
    "        big_pac_data[count,:] = mat_obj.get_pac_data()\n",
    "        labels.append(current_label)\n",
    "        count += 1"
   ]
  },
  {
   "cell_type": "code",
   "execution_count": 171,
   "metadata": {},
   "outputs": [],
   "source": [
    "labels = np.array(labels)"
   ]
  },
  {
   "cell_type": "code",
   "execution_count": 174,
   "metadata": {},
   "outputs": [],
   "source": [
    "np.save('auxiliaries/labels.npy', labels)"
   ]
  },
  {
   "cell_type": "code",
   "execution_count": 41,
   "metadata": {},
   "outputs": [
    {
     "data": {
      "text/plain": [
       "(1050, 8800)"
      ]
     },
     "execution_count": 41,
     "metadata": {},
     "output_type": "execute_result"
    }
   ],
   "source": [
    "big_pac_data.shape"
   ]
  },
  {
   "cell_type": "code",
   "execution_count": null,
   "metadata": {},
   "outputs": [],
   "source": [
    "import itertools\n",
    "list(itertools.permutations([1, 2, 3]))"
   ]
  },
  {
   "cell_type": "code",
   "execution_count": 143,
   "metadata": {},
   "outputs": [],
   "source": [
    "big_list_tact = []\n",
    "for i in range(big_pac_data.shape[0]):\n",
    "    for j in range(i,big_pac_data.shape[0]):\n",
    "        big_list_tact.append([i,j])"
   ]
  },
  {
   "cell_type": "code",
   "execution_count": 144,
   "metadata": {},
   "outputs": [],
   "source": [
    "def tact_calc_dtw(_iii, _jjj):\n",
    "    if _iii==_jjj:\n",
    "        return 0.0\n",
    "    _d, _, _, _ = dtw(big_pac_data[_iii,:1000], big_pac_data[_jjj,:1000], dist=manhattan_distance, w=100)\n",
    "    return _d"
   ]
  },
  {
   "cell_type": "code",
   "execution_count": 145,
   "metadata": {},
   "outputs": [],
   "source": [
    "res = Parallel(n_jobs=25)(delayed(tact_calc_dtw)(*zz) for zz in big_list_tact)"
   ]
  },
  {
   "cell_type": "code",
   "execution_count": 165,
   "metadata": {},
   "outputs": [],
   "source": [
    "pickle.dump(res, open('auxiliaries/dwt_distance_ut.pk', 'wb'))"
   ]
  },
  {
   "cell_type": "code",
   "execution_count": 148,
   "metadata": {},
   "outputs": [
    {
     "data": {
      "text/plain": [
       "551775"
      ]
     },
     "execution_count": 148,
     "metadata": {},
     "output_type": "execute_result"
    }
   ],
   "source": [
    "len(res)"
   ]
  },
  {
   "cell_type": "code",
   "execution_count": 160,
   "metadata": {},
   "outputs": [],
   "source": [
    "tri = np.zeros((21*50, 21*50))\n",
    "tri[np.triu_indices(21*50)] = res"
   ]
  },
  {
   "cell_type": "code",
   "execution_count": 163,
   "metadata": {},
   "outputs": [],
   "source": [
    "tri = tri + tri.transpose()"
   ]
  },
  {
   "cell_type": "code",
   "execution_count": 164,
   "metadata": {},
   "outputs": [
    {
     "data": {
      "text/plain": [
       "array([[    0., 22277., 26341., ..., 43323., 38516., 37782.],\n",
       "       [22277.,     0., 22852., ..., 43643., 54142., 45221.],\n",
       "       [26341., 22852.,     0., ..., 62587., 56986., 50774.],\n",
       "       ...,\n",
       "       [43323., 43643., 62587., ...,     0., 45945., 37834.],\n",
       "       [38516., 54142., 56986., ..., 45945.,     0., 22143.],\n",
       "       [37782., 45221., 50774., ..., 37834., 22143.,     0.]])"
      ]
     },
     "execution_count": 164,
     "metadata": {},
     "output_type": "execute_result"
    }
   ],
   "source": [
    "tri"
   ]
  },
  {
   "cell_type": "code",
   "execution_count": 166,
   "metadata": {},
   "outputs": [],
   "source": [
    "pickle.dump(tri, open('auxiliaries/dwt_distance_full.pk', 'wb'))"
   ]
  },
  {
   "cell_type": "code",
   "execution_count": null,
   "metadata": {},
   "outputs": [],
   "source": []
  }
 ],
 "metadata": {
  "kernelspec": {
   "display_name": "Python 3",
   "language": "python",
   "name": "python3"
  },
  "language_info": {
   "codemirror_mode": {
    "name": "ipython",
    "version": 3
   },
   "file_extension": ".py",
   "mimetype": "text/x-python",
   "name": "python",
   "nbconvert_exporter": "python",
   "pygments_lexer": "ipython3",
   "version": "3.8.3"
  }
 },
 "nbformat": 4,
 "nbformat_minor": 2
}
